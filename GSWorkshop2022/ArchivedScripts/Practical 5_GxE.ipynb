{
 "cells": [
  {
   "cell_type": "markdown",
   "id": "cubic-shaft",
   "metadata": {},
   "source": [
    "---\n",
    "### **Data Bootcamp for Genomic Prediction in Plant Breeding** ###\n",
    "### **University of Minnesota Plant Breeding Center** ###\n",
    "#### **June 20 - 22, 2022** ####\n",
    "---"
   ]
  },
  {
   "cell_type": "markdown",
   "id": "becoming-arlington",
   "metadata": {},
   "source": [
    "### **Practical 5:  Modeling Genotype-Environment Interactions (GxE)** ###"
   ]
  },
  {
   "cell_type": "markdown",
   "id": "048efe48-b9cb-404d-b2d9-db1789b6ffe8",
   "metadata": {},
   "source": [
    "<br />\n",
    "<br />"
   ]
  },
  {
   "cell_type": "markdown",
   "id": "otherwise-beach",
   "metadata": {},
   "source": [
    "#### **Source Scripts and Load Data**\n"
   ]
  },
  {
   "cell_type": "code",
   "execution_count": 1,
   "id": "subjective-aluminum",
   "metadata": {},
   "outputs": [
    {
     "name": "stderr",
     "output_type": "stream",
     "text": [
      "\n",
      "Attaching package: ‘dplyr’\n",
      "\n",
      "\n",
      "The following objects are masked from ‘package:stats’:\n",
      "\n",
      "    filter, lag\n",
      "\n",
      "\n",
      "The following objects are masked from ‘package:base’:\n",
      "\n",
      "    intersect, setdiff, setequal, union\n",
      "\n",
      "\n",
      "\n",
      "   *****       ***   vcfR   ***       *****\n",
      "   This is vcfR 1.12.0 \n",
      "     browseVignettes('vcfR') # Documentation\n",
      "     citation('vcfR') # Citation\n",
      "   *****       *****      *****       *****\n",
      "\n",
      "\n",
      "\n",
      "Attaching package: ‘bWGR’\n",
      "\n",
      "\n",
      "The following objects are masked from ‘package:NAM’:\n",
      "\n",
      "    CNT, emBA, emBB, emBC, emBL, emCV, emDE, emEN, emGWA, emML, emML2,\n",
      "    emRR, GAU, GRM, IMP, KMUP, KMUP2, markov, mkr, mkr2X, mrr, mrr2X,\n",
      "    SPC, SPM, wgr\n",
      "\n",
      "\n",
      "\n",
      "Attaching package: ‘emoa’\n",
      "\n",
      "\n",
      "The following object is masked from ‘package:dplyr’:\n",
      "\n",
      "    coalesce\n",
      "\n",
      "\n",
      "Installing package into ‘/srv/rlibs’\n",
      "(as ‘lib’ is unspecified)\n",
      "\n",
      "also installing the dependencies ‘RcppArmadillo’, ‘RcppProgress’\n",
      "\n",
      "\n",
      "Loading required package: Matrix\n",
      "\n",
      "Loading required package: MASS\n",
      "\n",
      "\n",
      "Attaching package: ‘MASS’\n",
      "\n",
      "\n",
      "The following object is masked from ‘package:dplyr’:\n",
      "\n",
      "    select\n",
      "\n",
      "\n",
      "Loading required package: lattice\n",
      "\n",
      "Loading required package: crayon\n",
      "\n",
      "\n",
      "Attaching package: ‘sommer’\n",
      "\n",
      "\n",
      "The following objects are masked from ‘package:rrBLUP’:\n",
      "\n",
      "    A.mat, GWAS\n",
      "\n",
      "\n",
      "Bioconductor version '3.14' is out-of-date; the current release version '3.15'\n",
      "  is available with R version '4.2'; see https://bioconductor.org/install\n",
      "\n",
      "'getOption(\"repos\")' replaces Bioconductor standard repositories, see\n",
      "'?repositories' for details\n",
      "\n",
      "replacement repositories:\n",
      "    CRAN: https://packagemanager.rstudio.com/all/__linux__/bionic/2022-05-01+Y3JhbjoyMDIyLTA0LTI5LDI6NDUyNjIxNTs2NUYyNkFDNQ\n",
      "\n",
      "\n",
      "Bioconductor version 3.14 (BiocManager 1.30.17), R 4.1.2 (2021-11-01)\n",
      "\n",
      "Old packages: 'brew', 'clipr', 'commonmark', 'desc', 'evaluate', 'gert',\n",
      "  'httpuv', 'IRdisplay', 'jsonlite', 'knitr', 'openssl', 'pbdZMQ', 'processx',\n",
      "  'ps', 'repr', 'rprojroot', 'sass', 'testthat', 'uuid', 'waldo', 'yaml'\n",
      "\n",
      "'getOption(\"repos\")' replaces Bioconductor standard repositories, see\n",
      "'?repositories' for details\n",
      "\n",
      "replacement repositories:\n",
      "    CRAN: https://packagemanager.rstudio.com/all/__linux__/bionic/2022-05-01+Y3JhbjoyMDIyLTA0LTI5LDI6NDUyNjIxNTs2NUYyNkFDNQ\n",
      "\n",
      "\n",
      "\n",
      "Attaching package: ‘devtools’\n",
      "\n",
      "\n",
      "The following object is masked from ‘package:BiocManager’:\n",
      "\n",
      "    install\n",
      "\n",
      "\n",
      "Welcome to rTASSEL (version 0.9.26)\n",
      " • Consider starting a TASSEL log file (see ?startLogger())\n",
      "\n",
      "\n"
     ]
    },
    {
     "data": {
      "text/html": [
       "<table class=\"dataframe\">\n",
       "<caption>A matrix: 2 × 6 of type dbl</caption>\n",
       "<thead>\n",
       "\t<tr><th></th><th scope=col>used</th><th scope=col>(Mb)</th><th scope=col>gc trigger</th><th scope=col>(Mb)</th><th scope=col>max used</th><th scope=col>(Mb)</th></tr>\n",
       "</thead>\n",
       "<tbody>\n",
       "\t<tr><th scope=row>Ncells</th><td> 5775666</td><td>308.5</td><td>11408738</td><td>609.3</td><td> 6529186</td><td>348.7</td></tr>\n",
       "\t<tr><th scope=row>Vcells</th><td>10050671</td><td> 76.7</td><td>14786712</td><td>112.9</td><td>12255578</td><td> 93.6</td></tr>\n",
       "</tbody>\n",
       "</table>\n"
      ],
      "text/latex": [
       "A matrix: 2 × 6 of type dbl\n",
       "\\begin{tabular}{r|llllll}\n",
       "  & used & (Mb) & gc trigger & (Mb) & max used & (Mb)\\\\\n",
       "\\hline\n",
       "\tNcells &  5775666 & 308.5 & 11408738 & 609.3 &  6529186 & 348.7\\\\\n",
       "\tVcells & 10050671 &  76.7 & 14786712 & 112.9 & 12255578 &  93.6\\\\\n",
       "\\end{tabular}\n"
      ],
      "text/markdown": [
       "\n",
       "A matrix: 2 × 6 of type dbl\n",
       "\n",
       "| <!--/--> | used | (Mb) | gc trigger | (Mb) | max used | (Mb) |\n",
       "|---|---|---|---|---|---|---|\n",
       "| Ncells |  5775666 | 308.5 | 11408738 | 609.3 |  6529186 | 348.7 |\n",
       "| Vcells | 10050671 |  76.7 | 14786712 | 112.9 | 12255578 |  93.6 |\n",
       "\n"
      ],
      "text/plain": [
       "       used     (Mb)  gc trigger (Mb)  max used (Mb) \n",
       "Ncells  5775666 308.5 11408738   609.3  6529186 348.7\n",
       "Vcells 10050671  76.7 14786712   112.9 12255578  93.6"
      ]
     },
     "metadata": {},
     "output_type": "display_data"
    }
   ],
   "source": [
    "WorkDir <- getwd()\n",
    "setwd(WorkDir)\n",
    "\n",
    "##Source in functions to be used\n",
    "source(\"R_Functions/GS_Pipeline_Jan_2022_FnsApp.R\")\n",
    "source(\"R_Functions/bootcamp_functions.R\")\n",
    "\n",
    "gc()\n"
   ]
  },
  {
   "cell_type": "markdown",
   "id": "studied-mills",
   "metadata": {},
   "source": [
    "#### **Read Genotype File using vcfR** ####"
   ]
  },
  {
   "cell_type": "code",
   "execution_count": 2,
   "id": "english-substitute",
   "metadata": {},
   "outputs": [
    {
     "data": {
      "text/plain": [
       "***** Object of Class vcfR *****\n",
       "5189 samples\n",
       "20 CHROMs\n",
       "4,292 variants\n",
       "Object size: 171.1 Mb\n",
       "25.41 percent missing data\n",
       "*****        *****         *****"
      ]
     },
     "metadata": {},
     "output_type": "display_data"
    }
   ],
   "source": [
    "\n",
    "##Load in genotype data. Use package vcfR to read in and work with vcf file.\n",
    "infileVCF <- \"Data/SoyNAM_Geno.vcf\"\n",
    "genotypes_VCF <- read.table(infileVCF)\n",
    "vcf <- read.vcfR(infileVCF, verbose = FALSE)\n",
    "vcf"
   ]
  },
  {
   "cell_type": "markdown",
   "id": "electrical-compiler",
   "metadata": {},
   "source": [
    "\n",
    "#### **Convert VCF file format to numerical matrix format.**\n",
    "#### Final genotype matrix is geno_num"
   ]
  },
  {
   "cell_type": "code",
   "execution_count": 3,
   "id": "second-decade",
   "metadata": {},
   "outputs": [
    {
     "data": {
      "text/html": [
       "<style>\n",
       ".list-inline {list-style: none; margin:0; padding: 0}\n",
       ".list-inline>li {display: inline-block}\n",
       ".list-inline>li:not(:last-child)::after {content: \"\\00b7\"; padding: 0 .5ex}\n",
       "</style>\n",
       "<ol class=list-inline><li>5189</li><li>4292</li></ol>\n"
      ],
      "text/latex": [
       "\\begin{enumerate*}\n",
       "\\item 5189\n",
       "\\item 4292\n",
       "\\end{enumerate*}\n"
      ],
      "text/markdown": [
       "1. 5189\n",
       "2. 4292\n",
       "\n",
       "\n"
      ],
      "text/plain": [
       "[1] 5189 4292"
      ]
     },
     "metadata": {},
     "output_type": "display_data"
    }
   ],
   "source": [
    "gt <- extract.gt(vcf, element = \"GT\", as.numeric = F)\n",
    "fix_T <- as_tibble(getFIX(vcf))\n",
    "gt2 <- matrix(0, ncol = ncol(gt), nrow = nrow(gt))\n",
    "colnames(gt2) <- colnames(gt)\n",
    "rownames(gt2) <- rownames(gt)\n",
    "gt2a <- apply(gt,2, function(x) gsub(\"1/1\",\"1\",x))\n",
    "gt2b <- gsub(\"0[/|]0\",\"0\",gt2a)\n",
    "gt2c <- gsub(\"[10][/|][10]\",\"0.5\",gt2b)\n",
    "gt2d <- gsub(\"\\\\.[/|]\\\\.\",\"NA\",gt2c)\n",
    "\n",
    "gt2d_num<- apply(gt2d,2,as.numeric)\n",
    "rownames(gt2d_num)<- rownames(gt2d)\n",
    "geno_num <- t(gt2d_num)\n",
    "dim(geno_num)\n",
    "rm(list=grep(\"gt2\",ls(),value=TRUE))\n"
   ]
  },
  {
   "cell_type": "markdown",
   "id": "right-norman",
   "metadata": {},
   "source": [
    "#### **Filter Genotypic Data**"
   ]
  },
  {
   "cell_type": "code",
   "execution_count": 4,
   "id": "welsh-chess",
   "metadata": {},
   "outputs": [
    {
     "data": {
      "text/html": [
       "<style>\n",
       ".list-inline {list-style: none; margin:0; padding: 0}\n",
       ".list-inline>li {display: inline-block}\n",
       ".list-inline>li:not(:last-child)::after {content: \"\\00b7\"; padding: 0 .5ex}\n",
       "</style>\n",
       "<ol class=list-inline><li>5189</li><li>1428</li></ol>\n"
      ],
      "text/latex": [
       "\\begin{enumerate*}\n",
       "\\item 5189\n",
       "\\item 1428\n",
       "\\end{enumerate*}\n"
      ],
      "text/markdown": [
       "1. 5189\n",
       "2. 1428\n",
       "\n",
       "\n"
      ],
      "text/plain": [
       "[1] 5189 1428"
      ]
     },
     "metadata": {},
     "output_type": "display_data"
    }
   ],
   "source": [
    "##Filter markers on % missing\n",
    "miss <- function(x){length(which(is.na(x)))}\n",
    "mrkNA <- (apply(geno_num, MARGIN=2, FUN=miss))/dim(geno_num)[1]\n",
    "ndx <- which(mrkNA > 0.2)\n",
    "\n",
    "if (length(ndx)>0) geno_num2 <- geno_num[, -ndx] else geno_num2 <- geno_num\n",
    "\n",
    "##Filter individuals on % missing\n",
    "indNA <- (apply(geno_num2, MARGIN=1, FUN=miss))/dim(geno_num2)[2]\n",
    "ndx2 <- which(indNA > 0.5)\n",
    "\n",
    " if(length(ndx2)>0) geno_num3 <- geno_num2[-ndx2, ] else geno_num3 <- geno_num2\n",
    "\n",
    "\n",
    "##Filter markers based on MAF\n",
    "maf <- apply(geno_num3, MARGIN=2, FUN=mean, na.rm=T)\n",
    "ndx3 <- which(maf<0.05 | maf>0.95) \n",
    "\n",
    "if (length(ndx3)>0) geno_num4 <- geno_num2[, -ndx3] else geno_num4 <- geno_num3\n",
    "  \n",
    "dim(geno_num4)"
   ]
  },
  {
   "cell_type": "markdown",
   "id": "exclusive-logic",
   "metadata": {},
   "source": [
    "#### **Import Phenotypic Data and Merge Geno-Pheno Data**"
   ]
  },
  {
   "cell_type": "code",
   "execution_count": 5,
   "id": "moved-steps",
   "metadata": {},
   "outputs": [
    {
     "data": {
      "text/html": [
       "55981"
      ],
      "text/latex": [
       "55981"
      ],
      "text/markdown": [
       "55981"
      ],
      "text/plain": [
       "[1] 55981"
      ]
     },
     "metadata": {},
     "output_type": "display_data"
    },
    {
     "data": {
      "text/html": [
       "<style>\n",
       ".list-inline {list-style: none; margin:0; padding: 0}\n",
       ".list-inline>li {display: inline-block}\n",
       ".list-inline>li:not(:last-child)::after {content: \"\\00b7\"; padding: 0 .5ex}\n",
       "</style>\n",
       "<ol class=list-inline><li>5148</li><li>1429</li></ol>\n"
      ],
      "text/latex": [
       "\\begin{enumerate*}\n",
       "\\item 5148\n",
       "\\item 1429\n",
       "\\end{enumerate*}\n"
      ],
      "text/markdown": [
       "1. 5148\n",
       "2. 1429\n",
       "\n",
       "\n"
      ],
      "text/plain": [
       "[1] 5148 1429"
      ]
     },
     "metadata": {},
     "output_type": "display_data"
    }
   ],
   "source": [
    "\n",
    "pheno <- read.csv(\"Data/SoyNAM_Pheno.csv\")\n",
    "\n",
    "geno_num4_x <- cbind(rownames(geno_num4),geno_num4)\n",
    "colnames(geno_num4_x)[1]<- \"strain\"\n",
    "\n",
    "### Check strain names have same format in pheno and geno \n",
    "pheno[,1] <- gsub(\"[-.]\",\"\",pheno[,1])\n",
    "geno_num4_x[,1] <- gsub(\"[-.]\",\"\",geno_num4_x[,1])\n",
    "\n",
    "## Merge Geno and Pheno Data\n",
    "Data <- merge(geno_num4_x,pheno,by=\"strain\",all=TRUE)\n",
    "\n",
    "## Remove with missing yiled_blup values \n",
    "\n",
    "YldNA_Indices <- which(is.na(Data$yield))\n",
    "if(length(YldNA_Indices) >0){Data_Sub <- Data[-YldNA_Indices,]}else{Data_Sub <- Data}\n",
    "\n",
    "\n",
    "genoStrain <- unique(as.character(geno_num4_x[,\"strain\"]))\n",
    "\n",
    "genoStrainIndices <- which(Data_Sub[,\"strain\"] %in% genoStrain)\n",
    "length(genoStrainIndices)\n",
    "genoIndices <- grep(\"ss\",colnames(geno_num4_x))\n",
    "initGenoIndx <- genoIndices[1]\n",
    "finalGenoIndx <- genoIndices[length(genoIndices)]\n",
    "phenoIndices <- c(1,c((finalGenoIndx+1):ncol(Data_Sub)))\n",
    "\n",
    "pheno_sub <- Data_Sub[genoStrainIndices,phenoIndices]\n",
    "geno_num4b <- Data_Sub[genoStrainIndices,c(1,genoIndices)]\n",
    "\n",
    "\n",
    "uniqueStrainIndices<- which(!duplicated(geno_num4b[,\"strain\"]))\n",
    "\n",
    "if(length(uniqueStrainIndices)>0) {geno_num5 <- geno_num4b[uniqueStrainIndices,]}else{geno_num5 <- geno_num4b}\n",
    "\n",
    "dim(geno_num5)\n",
    "\n",
    "rm(geno_num4b)\n",
    "rm(geno_num4)\n",
    "rm(geno_num3)\n",
    "rm(geno_num2)\n",
    "\n",
    "### set 'yield' colname to 'Yield_blup'\n",
    "\n",
    "yldCol <- which(colnames(pheno_sub) %in% \"yield\")\n",
    "colnames(pheno_sub)[yldCol] <- \"Yield_blup\" \n",
    "\n"
   ]
  },
  {
   "cell_type": "markdown",
   "id": "expressed-punishment",
   "metadata": {},
   "source": [
    "#### **Subset Environments** "
   ]
  },
  {
   "cell_type": "code",
   "execution_count": 6,
   "id": "effective-diamond",
   "metadata": {},
   "outputs": [
    {
     "data": {
      "text/html": [
       "<style>\n",
       ".list-inline {list-style: none; margin:0; padding: 0}\n",
       ".list-inline>li {display: inline-block}\n",
       ".list-inline>li:not(:last-child)::after {content: \"\\00b7\"; padding: 0 .5ex}\n",
       "</style>\n",
       "<ol class=list-inline><li>15355</li><li>16</li></ol>\n"
      ],
      "text/latex": [
       "\\begin{enumerate*}\n",
       "\\item 15355\n",
       "\\item 16\n",
       "\\end{enumerate*}\n"
      ],
      "text/markdown": [
       "1. 15355\n",
       "2. 16\n",
       "\n",
       "\n"
      ],
      "text/plain": [
       "[1] 15355    16"
      ]
     },
     "metadata": {},
     "output_type": "display_data"
    }
   ],
   "source": [
    "### Select 3 environs with largest number of evaluations (lines)  \n",
    "\n",
    "env_sub <-  names(which(table(pheno_sub[,\"environ\"])>5100)[1:3])\n",
    "\n",
    "env_sub_indices <- which(pheno_sub[,\"environ\"] %in% env_sub)\n",
    "\n",
    "## Subset Data and Geno tables \n",
    "DT <- pheno_sub[env_sub_indices,]\n",
    "\n",
    "DT$environ <- as.factor(DT$environ)\n",
    "\n",
    "dim(DT)"
   ]
  },
  {
   "cell_type": "markdown",
   "id": "musical-eating",
   "metadata": {},
   "source": [
    "#### **Impute Genotype Table** ###"
   ]
  },
  {
   "cell_type": "code",
   "execution_count": 7,
   "id": "assured-documentary",
   "metadata": {},
   "outputs": [
    {
     "data": {
      "text/html": [
       "<style>\n",
       ".list-inline {list-style: none; margin:0; padding: 0}\n",
       ".list-inline>li {display: inline-block}\n",
       ".list-inline>li:not(:last-child)::after {content: \"\\00b7\"; padding: 0 .5ex}\n",
       "</style>\n",
       "<ol class=list-inline><li>5148</li><li>1428</li></ol>\n"
      ],
      "text/latex": [
       "\\begin{enumerate*}\n",
       "\\item 5148\n",
       "\\item 1428\n",
       "\\end{enumerate*}\n"
      ],
      "text/markdown": [
       "1. 5148\n",
       "2. 1428\n",
       "\n",
       "\n"
      ],
      "text/plain": [
       "[1] 5148 1428"
      ]
     },
     "metadata": {},
     "output_type": "display_data"
    }
   ],
   "source": [
    "#### Impute genotable using markov function from 'NAM' package \n",
    "\n",
    "geno_imp <- markov(apply(geno_num5[,-1],2,as.numeric))\n",
    "rownames(geno_imp) <- geno_num5[,\"strain\"]\n",
    "dim(geno_imp)"
   ]
  },
  {
   "cell_type": "code",
   "execution_count": 8,
   "id": "blessed-marble",
   "metadata": {},
   "outputs": [
    {
     "data": {
      "text/html": [
       "<style>\n",
       ".list-inline {list-style: none; margin:0; padding: 0}\n",
       ".list-inline>li {display: inline-block}\n",
       ".list-inline>li:not(:last-child)::after {content: \"\\00b7\"; padding: 0 .5ex}\n",
       "</style>\n",
       "<ol class=list-inline><li>5145</li><li>1428</li></ol>\n"
      ],
      "text/latex": [
       "\\begin{enumerate*}\n",
       "\\item 5145\n",
       "\\item 1428\n",
       "\\end{enumerate*}\n"
      ],
      "text/markdown": [
       "1. 5145\n",
       "2. 1428\n",
       "\n",
       "\n"
      ],
      "text/plain": [
       "[1] 5145 1428"
      ]
     },
     "metadata": {},
     "output_type": "display_data"
    }
   ],
   "source": [
    "### \n",
    "env_geno_sub_indices <- which(rownames(geno_imp) %in% unique(DT[,\"strain\"]))\n",
    "geno_imp_sub <- geno_imp[env_geno_sub_indices,]\n",
    "\n",
    "dim(geno_imp_sub)"
   ]
  },
  {
   "cell_type": "markdown",
   "id": "neutral-transition",
   "metadata": {},
   "source": [
    "#### **Relationship Matrix Using A.mat** "
   ]
  },
  {
   "cell_type": "code",
   "execution_count": 9,
   "id": "exempt-military",
   "metadata": {},
   "outputs": [
    {
     "data": {
      "text/html": [
       "<style>\n",
       ".list-inline {list-style: none; margin:0; padding: 0}\n",
       ".list-inline>li {display: inline-block}\n",
       ".list-inline>li:not(:last-child)::after {content: \"\\00b7\"; padding: 0 .5ex}\n",
       "</style>\n",
       "<ol class=list-inline><li>5145</li><li>5145</li></ol>\n"
      ],
      "text/latex": [
       "\\begin{enumerate*}\n",
       "\\item 5145\n",
       "\\item 5145\n",
       "\\end{enumerate*}\n"
      ],
      "text/markdown": [
       "1. 5145\n",
       "2. 5145\n",
       "\n",
       "\n"
      ],
      "text/plain": [
       "[1] 5145 5145"
      ]
     },
     "metadata": {},
     "output_type": "display_data"
    }
   ],
   "source": [
    "K_rr <- A.mat(geno_imp_sub)\n",
    "colnames(K_rr) <-rownames(geno_imp_sub)\n",
    "rownames(K_rr) <- rownames(geno_imp_sub)\n",
    "A <- K_rr\n",
    "dim(A)\n",
    "\n"
   ]
  },
  {
   "cell_type": "markdown",
   "id": "relevant-walter",
   "metadata": {},
   "source": [
    "#### **Subset Genotypes for Computation Demo** "
   ]
  },
  {
   "cell_type": "code",
   "execution_count": 10,
   "id": "mighty-analyst",
   "metadata": {},
   "outputs": [
    {
     "data": {
      "text/html": [
       "<style>\n",
       ".list-inline {list-style: none; margin:0; padding: 0}\n",
       ".list-inline>li {display: inline-block}\n",
       ".list-inline>li:not(:last-child)::after {content: \"\\00b7\"; padding: 0 .5ex}\n",
       "</style>\n",
       "<ol class=list-inline><li>3</li><li>3</li></ol>\n"
      ],
      "text/latex": [
       "\\begin{enumerate*}\n",
       "\\item 3\n",
       "\\item 3\n",
       "\\end{enumerate*}\n"
      ],
      "text/markdown": [
       "1. 3\n",
       "2. 3\n",
       "\n",
       "\n"
      ],
      "text/plain": [
       "[1] 3 3"
      ]
     },
     "metadata": {},
     "output_type": "display_data"
    },
    {
     "data": {
      "text/html": [
       "<style>\n",
       ".list-inline {list-style: none; margin:0; padding: 0}\n",
       ".list-inline>li {display: inline-block}\n",
       ".list-inline>li:not(:last-child)::after {content: \"\\00b7\"; padding: 0 .5ex}\n",
       "</style>\n",
       "<ol class=list-inline><li>494</li><li>494</li></ol>\n"
      ],
      "text/latex": [
       "\\begin{enumerate*}\n",
       "\\item 494\n",
       "\\item 494\n",
       "\\end{enumerate*}\n"
      ],
      "text/markdown": [
       "1. 494\n",
       "2. 494\n",
       "\n",
       "\n"
      ],
      "text/plain": [
       "[1] 494 494"
      ]
     },
     "metadata": {},
     "output_type": "display_data"
    }
   ],
   "source": [
    "  \n",
    "A_Sub <- A[1:500,1:500]\n",
    "DT_Sub <- DT[which(DT[,\"strain\"] %in% rownames(A_Sub)),]\n",
    "\n",
    "E <- diag(length(unique(DT$environ)))\n",
    "rownames(E) <- colnames(E) <- unique(DT$environ)\n",
    "dim(E)\n",
    "\n",
    "### Same set of strains in each of the environments \n",
    "\n",
    "rmStrains <- names(which(table(DT_Sub[,\"strain\"]) <3))\n",
    "DT_Sub1 <- DT_Sub[-which(DT_Sub[,\"strain\"] %in% rmStrains),]\n",
    "\n",
    "A_Sub1 <- A_Sub[-which(rownames(A_Sub) %in% rmStrains),-which(rownames(A_Sub) %in% rmStrains)]\n",
    "dim(A_Sub1)"
   ]
  },
  {
   "cell_type": "raw",
   "id": "amended-footwear",
   "metadata": {},
   "source": []
  },
  {
   "cell_type": "markdown",
   "id": "mounted-passport",
   "metadata": {},
   "source": [
    "<br />\n",
    "<br />\n",
    "\n",
    "### **Exercise 1 - Compare a few Var-Covar structures in SOMMER package**\n"
   ]
  },
  {
   "cell_type": "markdown",
   "id": "surgical-fence",
   "metadata": {},
   "source": [
    "<br />\n",
    "\n",
    "#### **1a -Model with Main Effect** #### \n",
    "##### Model environment as fixed effect (estimate population mean for each of the environments) and estimate random effects for genotypes \n"
   ]
  },
  {
   "cell_type": "code",
   "execution_count": 11,
   "id": "wired-whale",
   "metadata": {},
   "outputs": [
    {
     "data": {
      "text/html": [
       "<dl>\n",
       "\t<dt>$groups</dt>\n",
       "\t\t<dd><table class=\"dataframe\">\n",
       "<caption>A matrix: 1 × 1 of type int</caption>\n",
       "<thead>\n",
       "\t<tr><th></th><th scope=col>Yield_blup</th></tr>\n",
       "</thead>\n",
       "<tbody>\n",
       "\t<tr><th scope=row>u:strain</th><td>494</td></tr>\n",
       "</tbody>\n",
       "</table>\n",
       "</dd>\n",
       "\t<dt>$varcomp</dt>\n",
       "\t\t<dd><table class=\"dataframe\">\n",
       "<caption>A data.frame: 2 × 4</caption>\n",
       "<thead>\n",
       "\t<tr><th></th><th scope=col>VarComp</th><th scope=col>VarCompSE</th><th scope=col>Zratio</th><th scope=col>Constraint</th></tr>\n",
       "\t<tr><th></th><th scope=col>&lt;dbl&gt;</th><th scope=col>&lt;dbl&gt;</th><th scope=col>&lt;dbl&gt;</th><th scope=col>&lt;chr&gt;</th></tr>\n",
       "</thead>\n",
       "<tbody>\n",
       "\t<tr><th scope=row>u:strain.Yield_blup-Yield_blup</th><td>  8583.317</td><td> 5945.864</td><td> 1.443578</td><td>Positive</td></tr>\n",
       "\t<tr><th scope=row>units.Yield_blup-Yield_blup</th><td>375176.598</td><td>13971.321</td><td>26.853337</td><td>Positive</td></tr>\n",
       "</tbody>\n",
       "</table>\n",
       "</dd>\n",
       "\t<dt>$betas</dt>\n",
       "\t\t<dd><table class=\"dataframe\">\n",
       "<caption>A data.frame: 3 × 5</caption>\n",
       "<thead>\n",
       "\t<tr><th scope=col>Trait</th><th scope=col>Effect</th><th scope=col>Estimate</th><th scope=col>Std.Error</th><th scope=col>t.value</th></tr>\n",
       "\t<tr><th scope=col>&lt;fct&gt;</th><th scope=col>&lt;fct&gt;</th><th scope=col>&lt;dbl&gt;</th><th scope=col>&lt;dbl&gt;</th><th scope=col>&lt;dbl&gt;</th></tr>\n",
       "</thead>\n",
       "<tbody>\n",
       "\t<tr><td>Yield_blup</td><td>environIA_2012</td><td>3127.902</td><td>27.73914</td><td>112.7613</td></tr>\n",
       "\t<tr><td>Yield_blup</td><td>environIA_2013</td><td>2794.875</td><td>27.73914</td><td>100.7557</td></tr>\n",
       "\t<tr><td>Yield_blup</td><td>environIL_2012</td><td>3611.410</td><td>27.73914</td><td>130.1918</td></tr>\n",
       "</tbody>\n",
       "</table>\n",
       "</dd>\n",
       "\t<dt>$method</dt>\n",
       "\t\t<dd>'NR'</dd>\n",
       "\t<dt>$logo</dt>\n",
       "\t\t<dd><table class=\"dataframe\">\n",
       "<caption>A data.frame: 1 × 5</caption>\n",
       "<thead>\n",
       "\t<tr><th></th><th scope=col>logLik</th><th scope=col>AIC</th><th scope=col>BIC</th><th scope=col>Method</th><th scope=col>Converge</th></tr>\n",
       "\t<tr><th></th><th scope=col>&lt;dbl&gt;</th><th scope=col>&lt;dbl&gt;</th><th scope=col>&lt;dbl&gt;</th><th scope=col>&lt;chr&gt;</th><th scope=col>&lt;lgl&gt;</th></tr>\n",
       "</thead>\n",
       "<tbody>\n",
       "\t<tr><th scope=row>Value</th><td>-546.3708</td><td>1098.742</td><td>1114.645</td><td>NR</td><td>TRUE</td></tr>\n",
       "</tbody>\n",
       "</table>\n",
       "</dd>\n",
       "</dl>\n"
      ],
      "text/latex": [
       "\\begin{description}\n",
       "\\item[\\$groups] A matrix: 1 × 1 of type int\n",
       "\\begin{tabular}{r|l}\n",
       "  & Yield\\_blup\\\\\n",
       "\\hline\n",
       "\tu:strain & 494\\\\\n",
       "\\end{tabular}\n",
       "\n",
       "\\item[\\$varcomp] A data.frame: 2 × 4\n",
       "\\begin{tabular}{r|llll}\n",
       "  & VarComp & VarCompSE & Zratio & Constraint\\\\\n",
       "  & <dbl> & <dbl> & <dbl> & <chr>\\\\\n",
       "\\hline\n",
       "\tu:strain.Yield\\_blup-Yield\\_blup &   8583.317 &  5945.864 &  1.443578 & Positive\\\\\n",
       "\tunits.Yield\\_blup-Yield\\_blup & 375176.598 & 13971.321 & 26.853337 & Positive\\\\\n",
       "\\end{tabular}\n",
       "\n",
       "\\item[\\$betas] A data.frame: 3 × 5\n",
       "\\begin{tabular}{lllll}\n",
       " Trait & Effect & Estimate & Std.Error & t.value\\\\\n",
       " <fct> & <fct> & <dbl> & <dbl> & <dbl>\\\\\n",
       "\\hline\n",
       "\t Yield\\_blup & environIA\\_2012 & 3127.902 & 27.73914 & 112.7613\\\\\n",
       "\t Yield\\_blup & environIA\\_2013 & 2794.875 & 27.73914 & 100.7557\\\\\n",
       "\t Yield\\_blup & environIL\\_2012 & 3611.410 & 27.73914 & 130.1918\\\\\n",
       "\\end{tabular}\n",
       "\n",
       "\\item[\\$method] 'NR'\n",
       "\\item[\\$logo] A data.frame: 1 × 5\n",
       "\\begin{tabular}{r|lllll}\n",
       "  & logLik & AIC & BIC & Method & Converge\\\\\n",
       "  & <dbl> & <dbl> & <dbl> & <chr> & <lgl>\\\\\n",
       "\\hline\n",
       "\tValue & -546.3708 & 1098.742 & 1114.645 & NR & TRUE\\\\\n",
       "\\end{tabular}\n",
       "\n",
       "\\end{description}\n"
      ],
      "text/markdown": [
       "$groups\n",
       ":   \n",
       "A matrix: 1 × 1 of type int\n",
       "\n",
       "| <!--/--> | Yield_blup |\n",
       "|---|---|\n",
       "| u:strain | 494 |\n",
       "\n",
       "\n",
       "$varcomp\n",
       ":   \n",
       "A data.frame: 2 × 4\n",
       "\n",
       "| <!--/--> | VarComp &lt;dbl&gt; | VarCompSE &lt;dbl&gt; | Zratio &lt;dbl&gt; | Constraint &lt;chr&gt; |\n",
       "|---|---|---|---|---|\n",
       "| u:strain.Yield_blup-Yield_blup |   8583.317 |  5945.864 |  1.443578 | Positive |\n",
       "| units.Yield_blup-Yield_blup | 375176.598 | 13971.321 | 26.853337 | Positive |\n",
       "\n",
       "\n",
       "$betas\n",
       ":   \n",
       "A data.frame: 3 × 5\n",
       "\n",
       "| Trait &lt;fct&gt; | Effect &lt;fct&gt; | Estimate &lt;dbl&gt; | Std.Error &lt;dbl&gt; | t.value &lt;dbl&gt; |\n",
       "|---|---|---|---|---|\n",
       "| Yield_blup | environIA_2012 | 3127.902 | 27.73914 | 112.7613 |\n",
       "| Yield_blup | environIA_2013 | 2794.875 | 27.73914 | 100.7557 |\n",
       "| Yield_blup | environIL_2012 | 3611.410 | 27.73914 | 130.1918 |\n",
       "\n",
       "\n",
       "$method\n",
       ":   'NR'\n",
       "$logo\n",
       ":   \n",
       "A data.frame: 1 × 5\n",
       "\n",
       "| <!--/--> | logLik &lt;dbl&gt; | AIC &lt;dbl&gt; | BIC &lt;dbl&gt; | Method &lt;chr&gt; | Converge &lt;lgl&gt; |\n",
       "|---|---|---|---|---|---|\n",
       "| Value | -546.3708 | 1098.742 | 1114.645 | NR | TRUE |\n",
       "\n",
       "\n",
       "\n",
       "\n"
      ],
      "text/plain": [
       "================================================================\n",
       "           Multivariate Linear Mixed Model fit by REML           \n",
       "************************  sommer 4.1  ************************ \n",
       "================================================================\n",
       "         logLik      AIC      BIC Method Converge\n",
       "Value -546.3708 1098.742 1114.645     NR     TRUE\n",
       "================================================================\n",
       "Variance-Covariance components:\n",
       "                               VarComp VarCompSE Zratio Constraint\n",
       "u:strain.Yield_blup-Yield_blup    8583      5946  1.444   Positive\n",
       "units.Yield_blup-Yield_blup     375177     13971 26.853   Positive\n",
       "================================================================\n",
       "Fixed effects:\n",
       "       Trait         Effect Estimate Std.Error t.value\n",
       "1 Yield_blup environIA_2012     3128     27.74   112.8\n",
       "2 Yield_blup environIA_2013     2795     27.74   100.8\n",
       "3 Yield_blup environIL_2012     3611     27.74   130.2\n",
       "================================================================\n",
       "Groups and observations:\n",
       "         Yield_blup\n",
       "u:strain        494\n",
       "================================================================\n",
       "Use the '$' sign to access results and parameters"
      ]
     },
     "metadata": {},
     "output_type": "display_data"
    }
   ],
   "source": [
    "\n",
    "fitMain <- mmer(Yield_blup~environ-1,\n",
    "                random=~vs(strain,Gu=A_Sub1),\n",
    "                rcov=~units,\n",
    "                data=DT_Sub1,verbose=FALSE)\n",
    "summary(fitMain)\n"
   ]
  },
  {
   "cell_type": "code",
   "execution_count": 12,
   "id": "automated-sending",
   "metadata": {},
   "outputs": [
    {
     "data": {
      "text/html": [
       "<table class=\"dataframe\">\n",
       "<caption>A matrix: 1 × 1 of type dbl</caption>\n",
       "<tbody>\n",
       "\t<tr><td>0.4772414</td></tr>\n",
       "</tbody>\n",
       "</table>\n"
      ],
      "text/latex": [
       "A matrix: 1 × 1 of type dbl\n",
       "\\begin{tabular}{l}\n",
       "\t 0.4772414\\\\\n",
       "\\end{tabular}\n"
      ],
      "text/markdown": [
       "\n",
       "A matrix: 1 × 1 of type dbl\n",
       "\n",
       "| 0.4772414 |\n",
       "\n"
      ],
      "text/plain": [
       "     [,1]     \n",
       "[1,] 0.4772414"
      ]
     },
     "metadata": {},
     "output_type": "display_data"
    }
   ],
   "source": [
    "\n",
    "m <- model.matrix(~ environ-1 ,data=DT_Sub1)\n",
    "m_beta <- m %*% as.numeric(fitMain$Beta[,3]) \n",
    "PredMain <- m_beta+fitMain$U$`u:strain`$Yield_blup\n",
    "cor(PredMain,DT_Sub1[,\"Yield_blup\"]) \n",
    "plot(PredMain,DT_Sub1[,\"Yield_blup\"])"
   ]
  },
  {
   "cell_type": "markdown",
   "id": "corresponding-audio",
   "metadata": {},
   "source": [
    "<br />\n",
    "\n",
    "#### **1b -Model with Compound Symmetry var-covar structure** ####\n",
    "##### Compound symmetry assumes GxE effects and also assumes constant correlation among environments"
   ]
  },
  {
   "cell_type": "code",
   "execution_count": 13,
   "id": "developing-inside",
   "metadata": {},
   "outputs": [
    {
     "data": {
      "text/html": [
       "<dl>\n",
       "\t<dt>$groups</dt>\n",
       "\t\t<dd><table class=\"dataframe\">\n",
       "<caption>A matrix: 2 × 1 of type int</caption>\n",
       "<thead>\n",
       "\t<tr><th></th><th scope=col>Yield_blup</th></tr>\n",
       "</thead>\n",
       "<tbody>\n",
       "\t<tr><th scope=row>u:strain</th><td> 494</td></tr>\n",
       "\t<tr><th scope=row>u:environ:strain</th><td>1482</td></tr>\n",
       "</tbody>\n",
       "</table>\n",
       "</dd>\n",
       "\t<dt>$varcomp</dt>\n",
       "\t\t<dd><table class=\"dataframe\">\n",
       "<caption>A data.frame: 3 × 4</caption>\n",
       "<thead>\n",
       "\t<tr><th></th><th scope=col>VarComp</th><th scope=col>VarCompSE</th><th scope=col>Zratio</th><th scope=col>Constraint</th></tr>\n",
       "\t<tr><th></th><th scope=col>&lt;dbl&gt;</th><th scope=col>&lt;dbl&gt;</th><th scope=col>&lt;dbl&gt;</th><th scope=col>&lt;chr&gt;</th></tr>\n",
       "</thead>\n",
       "<tbody>\n",
       "\t<tr><th scope=row>u:strain.Yield_blup-Yield_blup</th><td>     0.00</td><td> 7976.67</td><td> 0.000000</td><td>Positive</td></tr>\n",
       "\t<tr><th scope=row>u:environ:strain.Yield_blup-Yield_blup</th><td> 33142.11</td><td>13968.56</td><td> 2.372622</td><td>Positive</td></tr>\n",
       "\t<tr><th scope=row>units.Yield_blup-Yield_blup</th><td>360760.54</td><td>13832.11</td><td>26.081388</td><td>Positive</td></tr>\n",
       "</tbody>\n",
       "</table>\n",
       "</dd>\n",
       "\t<dt>$betas</dt>\n",
       "\t\t<dd><table class=\"dataframe\">\n",
       "<caption>A data.frame: 3 × 5</caption>\n",
       "<thead>\n",
       "\t<tr><th scope=col>Trait</th><th scope=col>Effect</th><th scope=col>Estimate</th><th scope=col>Std.Error</th><th scope=col>t.value</th></tr>\n",
       "\t<tr><th scope=col>&lt;fct&gt;</th><th scope=col>&lt;fct&gt;</th><th scope=col>&lt;dbl&gt;</th><th scope=col>&lt;dbl&gt;</th><th scope=col>&lt;dbl&gt;</th></tr>\n",
       "</thead>\n",
       "<tbody>\n",
       "\t<tr><td>Yield_blup</td><td>environIA_2012</td><td>3131.253</td><td>27.67495</td><td>113.1439</td></tr>\n",
       "\t<tr><td>Yield_blup</td><td>environIA_2013</td><td>2789.801</td><td>27.67495</td><td>100.8060</td></tr>\n",
       "\t<tr><td>Yield_blup</td><td>environIL_2012</td><td>3612.428</td><td>27.67495</td><td>130.5306</td></tr>\n",
       "</tbody>\n",
       "</table>\n",
       "</dd>\n",
       "\t<dt>$method</dt>\n",
       "\t\t<dd>'NR'</dd>\n",
       "\t<dt>$logo</dt>\n",
       "\t\t<dd><table class=\"dataframe\">\n",
       "<caption>A data.frame: 1 × 5</caption>\n",
       "<thead>\n",
       "\t<tr><th></th><th scope=col>logLik</th><th scope=col>AIC</th><th scope=col>BIC</th><th scope=col>Method</th><th scope=col>Converge</th></tr>\n",
       "\t<tr><th></th><th scope=col>&lt;dbl&gt;</th><th scope=col>&lt;dbl&gt;</th><th scope=col>&lt;dbl&gt;</th><th scope=col>&lt;chr&gt;</th><th scope=col>&lt;lgl&gt;</th></tr>\n",
       "</thead>\n",
       "<tbody>\n",
       "\t<tr><th scope=row>Value</th><td>-539.1218</td><td>1084.244</td><td>1100.147</td><td>NR</td><td>TRUE</td></tr>\n",
       "</tbody>\n",
       "</table>\n",
       "</dd>\n",
       "</dl>\n"
      ],
      "text/latex": [
       "\\begin{description}\n",
       "\\item[\\$groups] A matrix: 2 × 1 of type int\n",
       "\\begin{tabular}{r|l}\n",
       "  & Yield\\_blup\\\\\n",
       "\\hline\n",
       "\tu:strain &  494\\\\\n",
       "\tu:environ:strain & 1482\\\\\n",
       "\\end{tabular}\n",
       "\n",
       "\\item[\\$varcomp] A data.frame: 3 × 4\n",
       "\\begin{tabular}{r|llll}\n",
       "  & VarComp & VarCompSE & Zratio & Constraint\\\\\n",
       "  & <dbl> & <dbl> & <dbl> & <chr>\\\\\n",
       "\\hline\n",
       "\tu:strain.Yield\\_blup-Yield\\_blup &      0.00 &  7976.67 &  0.000000 & Positive\\\\\n",
       "\tu:environ:strain.Yield\\_blup-Yield\\_blup &  33142.11 & 13968.56 &  2.372622 & Positive\\\\\n",
       "\tunits.Yield\\_blup-Yield\\_blup & 360760.54 & 13832.11 & 26.081388 & Positive\\\\\n",
       "\\end{tabular}\n",
       "\n",
       "\\item[\\$betas] A data.frame: 3 × 5\n",
       "\\begin{tabular}{lllll}\n",
       " Trait & Effect & Estimate & Std.Error & t.value\\\\\n",
       " <fct> & <fct> & <dbl> & <dbl> & <dbl>\\\\\n",
       "\\hline\n",
       "\t Yield\\_blup & environIA\\_2012 & 3131.253 & 27.67495 & 113.1439\\\\\n",
       "\t Yield\\_blup & environIA\\_2013 & 2789.801 & 27.67495 & 100.8060\\\\\n",
       "\t Yield\\_blup & environIL\\_2012 & 3612.428 & 27.67495 & 130.5306\\\\\n",
       "\\end{tabular}\n",
       "\n",
       "\\item[\\$method] 'NR'\n",
       "\\item[\\$logo] A data.frame: 1 × 5\n",
       "\\begin{tabular}{r|lllll}\n",
       "  & logLik & AIC & BIC & Method & Converge\\\\\n",
       "  & <dbl> & <dbl> & <dbl> & <chr> & <lgl>\\\\\n",
       "\\hline\n",
       "\tValue & -539.1218 & 1084.244 & 1100.147 & NR & TRUE\\\\\n",
       "\\end{tabular}\n",
       "\n",
       "\\end{description}\n"
      ],
      "text/markdown": [
       "$groups\n",
       ":   \n",
       "A matrix: 2 × 1 of type int\n",
       "\n",
       "| <!--/--> | Yield_blup |\n",
       "|---|---|\n",
       "| u:strain |  494 |\n",
       "| u:environ:strain | 1482 |\n",
       "\n",
       "\n",
       "$varcomp\n",
       ":   \n",
       "A data.frame: 3 × 4\n",
       "\n",
       "| <!--/--> | VarComp &lt;dbl&gt; | VarCompSE &lt;dbl&gt; | Zratio &lt;dbl&gt; | Constraint &lt;chr&gt; |\n",
       "|---|---|---|---|---|\n",
       "| u:strain.Yield_blup-Yield_blup |      0.00 |  7976.67 |  0.000000 | Positive |\n",
       "| u:environ:strain.Yield_blup-Yield_blup |  33142.11 | 13968.56 |  2.372622 | Positive |\n",
       "| units.Yield_blup-Yield_blup | 360760.54 | 13832.11 | 26.081388 | Positive |\n",
       "\n",
       "\n",
       "$betas\n",
       ":   \n",
       "A data.frame: 3 × 5\n",
       "\n",
       "| Trait &lt;fct&gt; | Effect &lt;fct&gt; | Estimate &lt;dbl&gt; | Std.Error &lt;dbl&gt; | t.value &lt;dbl&gt; |\n",
       "|---|---|---|---|---|\n",
       "| Yield_blup | environIA_2012 | 3131.253 | 27.67495 | 113.1439 |\n",
       "| Yield_blup | environIA_2013 | 2789.801 | 27.67495 | 100.8060 |\n",
       "| Yield_blup | environIL_2012 | 3612.428 | 27.67495 | 130.5306 |\n",
       "\n",
       "\n",
       "$method\n",
       ":   'NR'\n",
       "$logo\n",
       ":   \n",
       "A data.frame: 1 × 5\n",
       "\n",
       "| <!--/--> | logLik &lt;dbl&gt; | AIC &lt;dbl&gt; | BIC &lt;dbl&gt; | Method &lt;chr&gt; | Converge &lt;lgl&gt; |\n",
       "|---|---|---|---|---|---|\n",
       "| Value | -539.1218 | 1084.244 | 1100.147 | NR | TRUE |\n",
       "\n",
       "\n",
       "\n",
       "\n"
      ],
      "text/plain": [
       "========================================================================\n",
       "               Multivariate Linear Mixed Model fit by REML               \n",
       "****************************  sommer 4.1  **************************** \n",
       "========================================================================\n",
       "         logLik      AIC      BIC Method Converge\n",
       "Value -539.1218 1084.244 1100.147     NR     TRUE\n",
       "========================================================================\n",
       "Variance-Covariance components:\n",
       "                                       VarComp VarCompSE Zratio Constraint\n",
       "u:strain.Yield_blup-Yield_blup               0      7977  0.000   Positive\n",
       "u:environ:strain.Yield_blup-Yield_blup   33142     13969  2.373   Positive\n",
       "units.Yield_blup-Yield_blup             360761     13832 26.081   Positive\n",
       "========================================================================\n",
       "Fixed effects:\n",
       "       Trait         Effect Estimate Std.Error t.value\n",
       "1 Yield_blup environIA_2012     3131     27.67   113.1\n",
       "2 Yield_blup environIA_2013     2790     27.67   100.8\n",
       "3 Yield_blup environIL_2012     3612     27.67   130.5\n",
       "========================================================================\n",
       "Groups and observations:\n",
       "                 Yield_blup\n",
       "u:strain                494\n",
       "u:environ:strain       1482\n",
       "========================================================================\n",
       "Use the '$' sign to access results and parameters"
      ]
     },
     "metadata": {},
     "output_type": "display_data"
    }
   ],
   "source": [
    "\n",
    "E <- diag(length(unique(DT_Sub1$environ)))\n",
    "rownames(E) <- colnames(E) <- unique(DT_Sub1$environ)\n",
    "\n",
    "EA <- kronecker(E,A_Sub1, make.dimnames = TRUE)\n",
    "DT_Sub1$environ <- as.factor(DT_Sub1$environ)\n",
    "DT_Sub1$strain <- as.factor(DT_Sub1$strain)\n",
    "\n",
    "fitCS <- mmer(Yield_blup~environ-1,\n",
    "              random= ~ vs(strain, Gu=A_Sub1) + vs(environ:strain, Gu=EA),\n",
    "              rcov= ~ units,\n",
    "              data=DT_Sub1, verbose = FALSE)\n",
    "summary(fitCS)"
   ]
  },
  {
   "cell_type": "code",
   "execution_count": 14,
   "id": "loose-jackson",
   "metadata": {},
   "outputs": [
    {
     "data": {
      "text/html": [
       "<table class=\"dataframe\">\n",
       "<caption>A matrix: 1 × 1 of type dbl</caption>\n",
       "<tbody>\n",
       "\t<tr><td>0.4686045</td></tr>\n",
       "</tbody>\n",
       "</table>\n"
      ],
      "text/latex": [
       "A matrix: 1 × 1 of type dbl\n",
       "\\begin{tabular}{l}\n",
       "\t 0.4686045\\\\\n",
       "\\end{tabular}\n"
      ],
      "text/markdown": [
       "\n",
       "A matrix: 1 × 1 of type dbl\n",
       "\n",
       "| 0.4686045 |\n",
       "\n"
      ],
      "text/plain": [
       "     [,1]     \n",
       "[1,] 0.4686045"
      ]
     },
     "metadata": {},
     "output_type": "display_data"
    }
   ],
   "source": [
    "\n",
    "m <- model.matrix(~ environ-1 ,data=DT_Sub1)\n",
    "m_beta <- m %*% as.numeric(fitCS$Beta[,3]) \n",
    "PredCS <- m_beta+fitCS$U$`u:environ:strain`$Yield_blup\n",
    "cor(PredCS,DT_Sub1[,\"Yield_blup\"]) \n",
    "plot(PredCS,DT_Sub1[,\"Yield_blup\"])"
   ]
  },
  {
   "cell_type": "markdown",
   "id": "treated-neutral",
   "metadata": {},
   "source": [
    "<br /> \n",
    "\n",
    "#### **1c -Model with Compound Symmetry + Diagonal Structure** ####\n",
    "##### Heterogeneous gxe variance among environments and constant genetic co-variance among environments "
   ]
  },
  {
   "cell_type": "code",
   "execution_count": 15,
   "id": "nervous-recovery",
   "metadata": {},
   "outputs": [
    {
     "data": {
      "text/html": [
       "<dl>\n",
       "\t<dt>$groups</dt>\n",
       "\t\t<dd><table class=\"dataframe\">\n",
       "<caption>A matrix: 4 × 1 of type int</caption>\n",
       "<thead>\n",
       "\t<tr><th></th><th scope=col>Yield_blup</th></tr>\n",
       "</thead>\n",
       "<tbody>\n",
       "\t<tr><th scope=row>u:strain</th><td>494</td></tr>\n",
       "\t<tr><th scope=row>IA_2012:strain</th><td>494</td></tr>\n",
       "\t<tr><th scope=row>IA_2013:strain</th><td>494</td></tr>\n",
       "\t<tr><th scope=row>IL_2012:strain</th><td>494</td></tr>\n",
       "</tbody>\n",
       "</table>\n",
       "</dd>\n",
       "\t<dt>$varcomp</dt>\n",
       "\t\t<dd><table class=\"dataframe\">\n",
       "<caption>A data.frame: 5 × 4</caption>\n",
       "<thead>\n",
       "\t<tr><th></th><th scope=col>VarComp</th><th scope=col>VarCompSE</th><th scope=col>Zratio</th><th scope=col>Constraint</th></tr>\n",
       "\t<tr><th></th><th scope=col>&lt;dbl&gt;</th><th scope=col>&lt;dbl&gt;</th><th scope=col>&lt;dbl&gt;</th><th scope=col>&lt;chr&gt;</th></tr>\n",
       "</thead>\n",
       "<tbody>\n",
       "\t<tr><th scope=row>u:strain.Yield_blup-Yield_blup</th><td>  1108.983</td><td> 7976.429</td><td> 0.1390325</td><td>Positive</td></tr>\n",
       "\t<tr><th scope=row>IA_2012:strain.Yield_blup-Yield_blup</th><td> 11202.649</td><td>14990.660</td><td> 0.7473086</td><td>Positive</td></tr>\n",
       "\t<tr><th scope=row>IA_2013:strain.Yield_blup-Yield_blup</th><td> 38446.633</td><td>22793.832</td><td> 1.6867122</td><td>Positive</td></tr>\n",
       "\t<tr><th scope=row>IL_2012:strain.Yield_blup-Yield_blup</th><td> 56959.820</td><td>27643.322</td><td> 2.0605273</td><td>Positive</td></tr>\n",
       "\t<tr><th scope=row>units.Yield_blup-Yield_blup</th><td>359480.998</td><td>13783.392</td><td>26.0807347</td><td>Positive</td></tr>\n",
       "</tbody>\n",
       "</table>\n",
       "</dd>\n",
       "\t<dt>$betas</dt>\n",
       "\t\t<dd><table class=\"dataframe\">\n",
       "<caption>A data.frame: 3 × 5</caption>\n",
       "<thead>\n",
       "\t<tr><th scope=col>Trait</th><th scope=col>Effect</th><th scope=col>Estimate</th><th scope=col>Std.Error</th><th scope=col>t.value</th></tr>\n",
       "\t<tr><th scope=col>&lt;fct&gt;</th><th scope=col>&lt;fct&gt;</th><th scope=col>&lt;dbl&gt;</th><th scope=col>&lt;dbl&gt;</th><th scope=col>&lt;dbl&gt;</th></tr>\n",
       "</thead>\n",
       "<tbody>\n",
       "\t<tr><td>Yield_blup</td><td>environIA_2012</td><td>3130.223</td><td>27.28389</td><td>114.7279</td></tr>\n",
       "\t<tr><td>Yield_blup</td><td>environIA_2013</td><td>2789.228</td><td>27.71231</td><td>100.6494</td></tr>\n",
       "\t<tr><td>Yield_blup</td><td>environIL_2012</td><td>3612.461</td><td>27.92732</td><td>129.3522</td></tr>\n",
       "</tbody>\n",
       "</table>\n",
       "</dd>\n",
       "\t<dt>$method</dt>\n",
       "\t\t<dd>'NR'</dd>\n",
       "\t<dt>$logo</dt>\n",
       "\t\t<dd><table class=\"dataframe\">\n",
       "<caption>A data.frame: 1 × 5</caption>\n",
       "<thead>\n",
       "\t<tr><th></th><th scope=col>logLik</th><th scope=col>AIC</th><th scope=col>BIC</th><th scope=col>Method</th><th scope=col>Converge</th></tr>\n",
       "\t<tr><th></th><th scope=col>&lt;dbl&gt;</th><th scope=col>&lt;dbl&gt;</th><th scope=col>&lt;dbl&gt;</th><th scope=col>&lt;chr&gt;</th><th scope=col>&lt;lgl&gt;</th></tr>\n",
       "</thead>\n",
       "<tbody>\n",
       "\t<tr><th scope=row>Value</th><td>-537.5147</td><td>1081.029</td><td>1096.933</td><td>NR</td><td>TRUE</td></tr>\n",
       "</tbody>\n",
       "</table>\n",
       "</dd>\n",
       "</dl>\n"
      ],
      "text/latex": [
       "\\begin{description}\n",
       "\\item[\\$groups] A matrix: 4 × 1 of type int\n",
       "\\begin{tabular}{r|l}\n",
       "  & Yield\\_blup\\\\\n",
       "\\hline\n",
       "\tu:strain & 494\\\\\n",
       "\tIA\\_2012:strain & 494\\\\\n",
       "\tIA\\_2013:strain & 494\\\\\n",
       "\tIL\\_2012:strain & 494\\\\\n",
       "\\end{tabular}\n",
       "\n",
       "\\item[\\$varcomp] A data.frame: 5 × 4\n",
       "\\begin{tabular}{r|llll}\n",
       "  & VarComp & VarCompSE & Zratio & Constraint\\\\\n",
       "  & <dbl> & <dbl> & <dbl> & <chr>\\\\\n",
       "\\hline\n",
       "\tu:strain.Yield\\_blup-Yield\\_blup &   1108.983 &  7976.429 &  0.1390325 & Positive\\\\\n",
       "\tIA\\_2012:strain.Yield\\_blup-Yield\\_blup &  11202.649 & 14990.660 &  0.7473086 & Positive\\\\\n",
       "\tIA\\_2013:strain.Yield\\_blup-Yield\\_blup &  38446.633 & 22793.832 &  1.6867122 & Positive\\\\\n",
       "\tIL\\_2012:strain.Yield\\_blup-Yield\\_blup &  56959.820 & 27643.322 &  2.0605273 & Positive\\\\\n",
       "\tunits.Yield\\_blup-Yield\\_blup & 359480.998 & 13783.392 & 26.0807347 & Positive\\\\\n",
       "\\end{tabular}\n",
       "\n",
       "\\item[\\$betas] A data.frame: 3 × 5\n",
       "\\begin{tabular}{lllll}\n",
       " Trait & Effect & Estimate & Std.Error & t.value\\\\\n",
       " <fct> & <fct> & <dbl> & <dbl> & <dbl>\\\\\n",
       "\\hline\n",
       "\t Yield\\_blup & environIA\\_2012 & 3130.223 & 27.28389 & 114.7279\\\\\n",
       "\t Yield\\_blup & environIA\\_2013 & 2789.228 & 27.71231 & 100.6494\\\\\n",
       "\t Yield\\_blup & environIL\\_2012 & 3612.461 & 27.92732 & 129.3522\\\\\n",
       "\\end{tabular}\n",
       "\n",
       "\\item[\\$method] 'NR'\n",
       "\\item[\\$logo] A data.frame: 1 × 5\n",
       "\\begin{tabular}{r|lllll}\n",
       "  & logLik & AIC & BIC & Method & Converge\\\\\n",
       "  & <dbl> & <dbl> & <dbl> & <chr> & <lgl>\\\\\n",
       "\\hline\n",
       "\tValue & -537.5147 & 1081.029 & 1096.933 & NR & TRUE\\\\\n",
       "\\end{tabular}\n",
       "\n",
       "\\end{description}\n"
      ],
      "text/markdown": [
       "$groups\n",
       ":   \n",
       "A matrix: 4 × 1 of type int\n",
       "\n",
       "| <!--/--> | Yield_blup |\n",
       "|---|---|\n",
       "| u:strain | 494 |\n",
       "| IA_2012:strain | 494 |\n",
       "| IA_2013:strain | 494 |\n",
       "| IL_2012:strain | 494 |\n",
       "\n",
       "\n",
       "$varcomp\n",
       ":   \n",
       "A data.frame: 5 × 4\n",
       "\n",
       "| <!--/--> | VarComp &lt;dbl&gt; | VarCompSE &lt;dbl&gt; | Zratio &lt;dbl&gt; | Constraint &lt;chr&gt; |\n",
       "|---|---|---|---|---|\n",
       "| u:strain.Yield_blup-Yield_blup |   1108.983 |  7976.429 |  0.1390325 | Positive |\n",
       "| IA_2012:strain.Yield_blup-Yield_blup |  11202.649 | 14990.660 |  0.7473086 | Positive |\n",
       "| IA_2013:strain.Yield_blup-Yield_blup |  38446.633 | 22793.832 |  1.6867122 | Positive |\n",
       "| IL_2012:strain.Yield_blup-Yield_blup |  56959.820 | 27643.322 |  2.0605273 | Positive |\n",
       "| units.Yield_blup-Yield_blup | 359480.998 | 13783.392 | 26.0807347 | Positive |\n",
       "\n",
       "\n",
       "$betas\n",
       ":   \n",
       "A data.frame: 3 × 5\n",
       "\n",
       "| Trait &lt;fct&gt; | Effect &lt;fct&gt; | Estimate &lt;dbl&gt; | Std.Error &lt;dbl&gt; | t.value &lt;dbl&gt; |\n",
       "|---|---|---|---|---|\n",
       "| Yield_blup | environIA_2012 | 3130.223 | 27.28389 | 114.7279 |\n",
       "| Yield_blup | environIA_2013 | 2789.228 | 27.71231 | 100.6494 |\n",
       "| Yield_blup | environIL_2012 | 3612.461 | 27.92732 | 129.3522 |\n",
       "\n",
       "\n",
       "$method\n",
       ":   'NR'\n",
       "$logo\n",
       ":   \n",
       "A data.frame: 1 × 5\n",
       "\n",
       "| <!--/--> | logLik &lt;dbl&gt; | AIC &lt;dbl&gt; | BIC &lt;dbl&gt; | Method &lt;chr&gt; | Converge &lt;lgl&gt; |\n",
       "|---|---|---|---|---|---|\n",
       "| Value | -537.5147 | 1081.029 | 1096.933 | NR | TRUE |\n",
       "\n",
       "\n",
       "\n",
       "\n"
      ],
      "text/plain": [
       "======================================================================\n",
       "              Multivariate Linear Mixed Model fit by REML              \n",
       "***************************  sommer 4.1  *************************** \n",
       "======================================================================\n",
       "         logLik      AIC      BIC Method Converge\n",
       "Value -537.5147 1081.029 1096.933     NR     TRUE\n",
       "======================================================================\n",
       "Variance-Covariance components:\n",
       "                                     VarComp VarCompSE  Zratio Constraint\n",
       "u:strain.Yield_blup-Yield_blup          1109      7976  0.1390   Positive\n",
       "IA_2012:strain.Yield_blup-Yield_blup   11203     14991  0.7473   Positive\n",
       "IA_2013:strain.Yield_blup-Yield_blup   38447     22794  1.6867   Positive\n",
       "IL_2012:strain.Yield_blup-Yield_blup   56960     27643  2.0605   Positive\n",
       "units.Yield_blup-Yield_blup           359481     13783 26.0807   Positive\n",
       "======================================================================\n",
       "Fixed effects:\n",
       "       Trait         Effect Estimate Std.Error t.value\n",
       "1 Yield_blup environIA_2012     3130     27.28   114.7\n",
       "2 Yield_blup environIA_2013     2789     27.71   100.6\n",
       "3 Yield_blup environIL_2012     3612     27.93   129.4\n",
       "======================================================================\n",
       "Groups and observations:\n",
       "               Yield_blup\n",
       "u:strain              494\n",
       "IA_2012:strain        494\n",
       "IA_2013:strain        494\n",
       "IL_2012:strain        494\n",
       "======================================================================\n",
       "Use the '$' sign to access results and parameters"
      ]
     },
     "metadata": {},
     "output_type": "display_data"
    }
   ],
   "source": [
    "fitCSDG <- mmer(Yield_blup~environ-1,\n",
    "                random=~vs(strain,Gu=A_Sub1) +vs(ds(environ),strain,Gu=A_Sub1),\n",
    "                rcov=~units,\n",
    "                data=DT_Sub1,verbose=FALSE) \n",
    "\n",
    "summary(fitCSDG)"
   ]
  },
  {
   "cell_type": "code",
   "execution_count": 16,
   "id": "virgin-violation",
   "metadata": {},
   "outputs": [
    {
     "data": {
      "text/html": [
       "1482"
      ],
      "text/latex": [
       "1482"
      ],
      "text/markdown": [
       "1482"
      ],
      "text/plain": [
       "[1] 1482"
      ]
     },
     "metadata": {},
     "output_type": "display_data"
    },
    {
     "data": {
      "text/html": [
       "<style>\n",
       ".list-inline {list-style: none; margin:0; padding: 0}\n",
       ".list-inline>li {display: inline-block}\n",
       ".list-inline>li:not(:last-child)::after {content: \"\\00b7\"; padding: 0 .5ex}\n",
       "</style>\n",
       "<ol class=list-inline><li>494</li><li>4</li></ol>\n"
      ],
      "text/latex": [
       "\\begin{enumerate*}\n",
       "\\item 494\n",
       "\\item 4\n",
       "\\end{enumerate*}\n"
      ],
      "text/markdown": [
       "1. 494\n",
       "2. 4\n",
       "\n",
       "\n"
      ],
      "text/plain": [
       "[1] 494   4"
      ]
     },
     "metadata": {},
     "output_type": "display_data"
    },
    {
     "data": {
      "text/html": [
       "1482"
      ],
      "text/latex": [
       "1482"
      ],
      "text/markdown": [
       "1482"
      ],
      "text/plain": [
       "[1] 1482"
      ]
     },
     "metadata": {},
     "output_type": "display_data"
    }
   ],
   "source": [
    "\n",
    "m2 <- cbind(c(rep(1,nrow(DT_Sub1)/3),rep(0,2*nrow(DT_Sub1)/3)),c(rep(0,nrow(DT_Sub1)/3),rep(1,nrow(DT_Sub1)/3),rep(0,nrow(DT_Sub1)/3)),\n",
    "c(rep(0,nrow(DT_Sub1)/3),rep(0,nrow(DT_Sub1)/3),rep(1,nrow(DT_Sub1)/3)))\n",
    "\n",
    "m_beta <- m2 %*% as.numeric(fitCSDG$Beta[,3]) \n",
    "length(m_beta)\n",
    "m_env_strain <- do.call(cbind,lapply(fitCSDG$U,function(x) x$Yield_blup))\n",
    "dim(m_env_strain)\n",
    "envStrain_blup <-c(m_env_strain[,2:4])                              \n",
    "                  \n",
    "strain_blup <- rep(fitCSDG$U$`u:strain`$Yield_blup,3)\n",
    "length(strain_blup)"
   ]
  },
  {
   "cell_type": "code",
   "execution_count": 17,
   "id": "forced-neutral",
   "metadata": {},
   "outputs": [
    {
     "data": {
      "text/html": [
       "<table class=\"dataframe\">\n",
       "<caption>A matrix: 1 × 1 of type dbl</caption>\n",
       "<tbody>\n",
       "\t<tr><td>0.543284</td></tr>\n",
       "</tbody>\n",
       "</table>\n"
      ],
      "text/latex": [
       "A matrix: 1 × 1 of type dbl\n",
       "\\begin{tabular}{l}\n",
       "\t 0.543284\\\\\n",
       "\\end{tabular}\n"
      ],
      "text/markdown": [
       "\n",
       "A matrix: 1 × 1 of type dbl\n",
       "\n",
       "| 0.543284 |\n",
       "\n"
      ],
      "text/plain": [
       "     [,1]    \n",
       "[1,] 0.543284"
      ]
     },
     "metadata": {},
     "output_type": "display_data"
    }
   ],
   "source": [
    "PredCSDG <- m_beta+strain_blup+envStrain_blup\n",
    "\n",
    "indES <-  sort.int(as.numeric(DT_Sub1[,\"environ\"]),decreasing=FALSE,index.return=TRUE)[[2]]\n",
    "\n",
    "cor(PredCSDG,DT_Sub1[indES,\"Yield_blup\"]) \n",
    "plot(PredCSDG,DT_Sub1[indES,\"Yield_blup\"])\n"
   ]
  },
  {
   "cell_type": "markdown",
   "id": "bored-cache",
   "metadata": {},
   "source": [
    "<br />\n",
    "\n",
    "#### **1d- Model with US - Unstructured Variance-Covariance** ####\n",
    "Model with heterogeneous variance for each of the environments and heterogeneous covariance for every combination of environments"
   ]
  },
  {
   "cell_type": "code",
   "execution_count": 18,
   "id": "distant-portfolio",
   "metadata": {},
   "outputs": [
    {
     "data": {
      "text/html": [
       "<dl>\n",
       "\t<dt>$groups</dt>\n",
       "\t\t<dd><table class=\"dataframe\">\n",
       "<caption>A matrix: 6 × 1 of type int</caption>\n",
       "<thead>\n",
       "\t<tr><th></th><th scope=col>Yield_blup</th></tr>\n",
       "</thead>\n",
       "<tbody>\n",
       "\t<tr><th scope=row>IA_2012:strain</th><td>494</td></tr>\n",
       "\t<tr><th scope=row>IA_2013:IA_2012:strain</th><td>988</td></tr>\n",
       "\t<tr><th scope=row>IA_2013:strain</th><td>494</td></tr>\n",
       "\t<tr><th scope=row>IL_2012:IA_2012:strain</th><td>988</td></tr>\n",
       "\t<tr><th scope=row>IL_2012:IA_2013:strain</th><td>988</td></tr>\n",
       "\t<tr><th scope=row>IL_2012:strain</th><td>494</td></tr>\n",
       "</tbody>\n",
       "</table>\n",
       "</dd>\n",
       "\t<dt>$varcomp</dt>\n",
       "\t\t<dd><table class=\"dataframe\">\n",
       "<caption>A data.frame: 7 × 4</caption>\n",
       "<thead>\n",
       "\t<tr><th></th><th scope=col>VarComp</th><th scope=col>VarCompSE</th><th scope=col>Zratio</th><th scope=col>Constraint</th></tr>\n",
       "\t<tr><th></th><th scope=col>&lt;dbl&gt;</th><th scope=col>&lt;dbl&gt;</th><th scope=col>&lt;dbl&gt;</th><th scope=col>&lt;chr&gt;</th></tr>\n",
       "</thead>\n",
       "<tbody>\n",
       "\t<tr><th scope=row>IA_2012:strain.Yield_blup-Yield_blup</th><td> 13999.8931</td><td>13343.98</td><td> 1.04915433</td><td>Positive</td></tr>\n",
       "\t<tr><th scope=row>IA_2013:IA_2012:strain.Yield_blup-Yield_blup</th><td>  -378.4475</td><td>11900.65</td><td>-0.03180059</td><td>Unconstr</td></tr>\n",
       "\t<tr><th scope=row>IA_2013:strain.Yield_blup-Yield_blup</th><td> 40023.9472</td><td>21164.99</td><td> 1.89104488</td><td>Positive</td></tr>\n",
       "\t<tr><th scope=row>IL_2012:IA_2012:strain.Yield_blup-Yield_blup</th><td> 16497.5831</td><td>14083.02</td><td> 1.17145220</td><td>Unconstr</td></tr>\n",
       "\t<tr><th scope=row>IL_2012:IA_2013:strain.Yield_blup-Yield_blup</th><td>-36052.1154</td><td>18347.46</td><td>-1.96496513</td><td>Unconstr</td></tr>\n",
       "\t<tr><th scope=row>IL_2012:strain.Yield_blup-Yield_blup</th><td> 63232.4178</td><td>27475.82</td><td> 2.30138399</td><td>Positive</td></tr>\n",
       "\t<tr><th scope=row>units.Yield_blup-Yield_blup</th><td>358944.8349</td><td>13740.50</td><td>26.12313270</td><td>Positive</td></tr>\n",
       "</tbody>\n",
       "</table>\n",
       "</dd>\n",
       "\t<dt>$betas</dt>\n",
       "\t\t<dd><table class=\"dataframe\">\n",
       "<caption>A data.frame: 3 × 5</caption>\n",
       "<thead>\n",
       "\t<tr><th scope=col>Trait</th><th scope=col>Effect</th><th scope=col>Estimate</th><th scope=col>Std.Error</th><th scope=col>t.value</th></tr>\n",
       "\t<tr><th scope=col>&lt;fct&gt;</th><th scope=col>&lt;fct&gt;</th><th scope=col>&lt;dbl&gt;</th><th scope=col>&lt;dbl&gt;</th><th scope=col>&lt;dbl&gt;</th></tr>\n",
       "</thead>\n",
       "<tbody>\n",
       "\t<tr><td>Yield_blup</td><td>environIA_2012</td><td>3129.223</td><td>27.25633</td><td>114.8072</td></tr>\n",
       "\t<tr><td>Yield_blup</td><td>environIA_2013</td><td>2790.704</td><td>27.60819</td><td>101.0825</td></tr>\n",
       "\t<tr><td>Yield_blup</td><td>environIL_2012</td><td>3616.559</td><td>27.86794</td><td>129.7749</td></tr>\n",
       "</tbody>\n",
       "</table>\n",
       "</dd>\n",
       "\t<dt>$method</dt>\n",
       "\t\t<dd>'NR'</dd>\n",
       "\t<dt>$logo</dt>\n",
       "\t\t<dd><table class=\"dataframe\">\n",
       "<caption>A data.frame: 1 × 5</caption>\n",
       "<thead>\n",
       "\t<tr><th></th><th scope=col>logLik</th><th scope=col>AIC</th><th scope=col>BIC</th><th scope=col>Method</th><th scope=col>Converge</th></tr>\n",
       "\t<tr><th></th><th scope=col>&lt;dbl&gt;</th><th scope=col>&lt;dbl&gt;</th><th scope=col>&lt;dbl&gt;</th><th scope=col>&lt;chr&gt;</th><th scope=col>&lt;lgl&gt;</th></tr>\n",
       "</thead>\n",
       "<tbody>\n",
       "\t<tr><th scope=row>Value</th><td>-534.6765</td><td>1075.353</td><td>1091.256</td><td>NR</td><td>TRUE</td></tr>\n",
       "</tbody>\n",
       "</table>\n",
       "</dd>\n",
       "</dl>\n"
      ],
      "text/latex": [
       "\\begin{description}\n",
       "\\item[\\$groups] A matrix: 6 × 1 of type int\n",
       "\\begin{tabular}{r|l}\n",
       "  & Yield\\_blup\\\\\n",
       "\\hline\n",
       "\tIA\\_2012:strain & 494\\\\\n",
       "\tIA\\_2013:IA\\_2012:strain & 988\\\\\n",
       "\tIA\\_2013:strain & 494\\\\\n",
       "\tIL\\_2012:IA\\_2012:strain & 988\\\\\n",
       "\tIL\\_2012:IA\\_2013:strain & 988\\\\\n",
       "\tIL\\_2012:strain & 494\\\\\n",
       "\\end{tabular}\n",
       "\n",
       "\\item[\\$varcomp] A data.frame: 7 × 4\n",
       "\\begin{tabular}{r|llll}\n",
       "  & VarComp & VarCompSE & Zratio & Constraint\\\\\n",
       "  & <dbl> & <dbl> & <dbl> & <chr>\\\\\n",
       "\\hline\n",
       "\tIA\\_2012:strain.Yield\\_blup-Yield\\_blup &  13999.8931 & 13343.98 &  1.04915433 & Positive\\\\\n",
       "\tIA\\_2013:IA\\_2012:strain.Yield\\_blup-Yield\\_blup &   -378.4475 & 11900.65 & -0.03180059 & Unconstr\\\\\n",
       "\tIA\\_2013:strain.Yield\\_blup-Yield\\_blup &  40023.9472 & 21164.99 &  1.89104488 & Positive\\\\\n",
       "\tIL\\_2012:IA\\_2012:strain.Yield\\_blup-Yield\\_blup &  16497.5831 & 14083.02 &  1.17145220 & Unconstr\\\\\n",
       "\tIL\\_2012:IA\\_2013:strain.Yield\\_blup-Yield\\_blup & -36052.1154 & 18347.46 & -1.96496513 & Unconstr\\\\\n",
       "\tIL\\_2012:strain.Yield\\_blup-Yield\\_blup &  63232.4178 & 27475.82 &  2.30138399 & Positive\\\\\n",
       "\tunits.Yield\\_blup-Yield\\_blup & 358944.8349 & 13740.50 & 26.12313270 & Positive\\\\\n",
       "\\end{tabular}\n",
       "\n",
       "\\item[\\$betas] A data.frame: 3 × 5\n",
       "\\begin{tabular}{lllll}\n",
       " Trait & Effect & Estimate & Std.Error & t.value\\\\\n",
       " <fct> & <fct> & <dbl> & <dbl> & <dbl>\\\\\n",
       "\\hline\n",
       "\t Yield\\_blup & environIA\\_2012 & 3129.223 & 27.25633 & 114.8072\\\\\n",
       "\t Yield\\_blup & environIA\\_2013 & 2790.704 & 27.60819 & 101.0825\\\\\n",
       "\t Yield\\_blup & environIL\\_2012 & 3616.559 & 27.86794 & 129.7749\\\\\n",
       "\\end{tabular}\n",
       "\n",
       "\\item[\\$method] 'NR'\n",
       "\\item[\\$logo] A data.frame: 1 × 5\n",
       "\\begin{tabular}{r|lllll}\n",
       "  & logLik & AIC & BIC & Method & Converge\\\\\n",
       "  & <dbl> & <dbl> & <dbl> & <chr> & <lgl>\\\\\n",
       "\\hline\n",
       "\tValue & -534.6765 & 1075.353 & 1091.256 & NR & TRUE\\\\\n",
       "\\end{tabular}\n",
       "\n",
       "\\end{description}\n"
      ],
      "text/markdown": [
       "$groups\n",
       ":   \n",
       "A matrix: 6 × 1 of type int\n",
       "\n",
       "| <!--/--> | Yield_blup |\n",
       "|---|---|\n",
       "| IA_2012:strain | 494 |\n",
       "| IA_2013:IA_2012:strain | 988 |\n",
       "| IA_2013:strain | 494 |\n",
       "| IL_2012:IA_2012:strain | 988 |\n",
       "| IL_2012:IA_2013:strain | 988 |\n",
       "| IL_2012:strain | 494 |\n",
       "\n",
       "\n",
       "$varcomp\n",
       ":   \n",
       "A data.frame: 7 × 4\n",
       "\n",
       "| <!--/--> | VarComp &lt;dbl&gt; | VarCompSE &lt;dbl&gt; | Zratio &lt;dbl&gt; | Constraint &lt;chr&gt; |\n",
       "|---|---|---|---|---|\n",
       "| IA_2012:strain.Yield_blup-Yield_blup |  13999.8931 | 13343.98 |  1.04915433 | Positive |\n",
       "| IA_2013:IA_2012:strain.Yield_blup-Yield_blup |   -378.4475 | 11900.65 | -0.03180059 | Unconstr |\n",
       "| IA_2013:strain.Yield_blup-Yield_blup |  40023.9472 | 21164.99 |  1.89104488 | Positive |\n",
       "| IL_2012:IA_2012:strain.Yield_blup-Yield_blup |  16497.5831 | 14083.02 |  1.17145220 | Unconstr |\n",
       "| IL_2012:IA_2013:strain.Yield_blup-Yield_blup | -36052.1154 | 18347.46 | -1.96496513 | Unconstr |\n",
       "| IL_2012:strain.Yield_blup-Yield_blup |  63232.4178 | 27475.82 |  2.30138399 | Positive |\n",
       "| units.Yield_blup-Yield_blup | 358944.8349 | 13740.50 | 26.12313270 | Positive |\n",
       "\n",
       "\n",
       "$betas\n",
       ":   \n",
       "A data.frame: 3 × 5\n",
       "\n",
       "| Trait &lt;fct&gt; | Effect &lt;fct&gt; | Estimate &lt;dbl&gt; | Std.Error &lt;dbl&gt; | t.value &lt;dbl&gt; |\n",
       "|---|---|---|---|---|\n",
       "| Yield_blup | environIA_2012 | 3129.223 | 27.25633 | 114.8072 |\n",
       "| Yield_blup | environIA_2013 | 2790.704 | 27.60819 | 101.0825 |\n",
       "| Yield_blup | environIL_2012 | 3616.559 | 27.86794 | 129.7749 |\n",
       "\n",
       "\n",
       "$method\n",
       ":   'NR'\n",
       "$logo\n",
       ":   \n",
       "A data.frame: 1 × 5\n",
       "\n",
       "| <!--/--> | logLik &lt;dbl&gt; | AIC &lt;dbl&gt; | BIC &lt;dbl&gt; | Method &lt;chr&gt; | Converge &lt;lgl&gt; |\n",
       "|---|---|---|---|---|---|\n",
       "| Value | -534.6765 | 1075.353 | 1091.256 | NR | TRUE |\n",
       "\n",
       "\n",
       "\n",
       "\n"
      ],
      "text/plain": [
       "==============================================================================\n",
       "                  Multivariate Linear Mixed Model fit by REML                  \n",
       "*******************************  sommer 4.1  ******************************* \n",
       "==============================================================================\n",
       "         logLik      AIC      BIC Method Converge\n",
       "Value -534.6765 1075.353 1091.256     NR     TRUE\n",
       "==============================================================================\n",
       "Variance-Covariance components:\n",
       "                                              VarComp VarCompSE  Zratio\n",
       "IA_2012:strain.Yield_blup-Yield_blup          13999.9     13344  1.0492\n",
       "IA_2013:IA_2012:strain.Yield_blup-Yield_blup   -378.4     11901 -0.0318\n",
       "IA_2013:strain.Yield_blup-Yield_blup          40023.9     21165  1.8910\n",
       "IL_2012:IA_2012:strain.Yield_blup-Yield_blup  16497.6     14083  1.1715\n",
       "IL_2012:IA_2013:strain.Yield_blup-Yield_blup -36052.1     18347 -1.9650\n",
       "IL_2012:strain.Yield_blup-Yield_blup          63232.4     27476  2.3014\n",
       "units.Yield_blup-Yield_blup                  358944.8     13740 26.1231\n",
       "                                             Constraint\n",
       "IA_2012:strain.Yield_blup-Yield_blup           Positive\n",
       "IA_2013:IA_2012:strain.Yield_blup-Yield_blup   Unconstr\n",
       "IA_2013:strain.Yield_blup-Yield_blup           Positive\n",
       "IL_2012:IA_2012:strain.Yield_blup-Yield_blup   Unconstr\n",
       "IL_2012:IA_2013:strain.Yield_blup-Yield_blup   Unconstr\n",
       "IL_2012:strain.Yield_blup-Yield_blup           Positive\n",
       "units.Yield_blup-Yield_blup                    Positive\n",
       "==============================================================================\n",
       "Fixed effects:\n",
       "       Trait         Effect Estimate Std.Error t.value\n",
       "1 Yield_blup environIA_2012     3129     27.26   114.8\n",
       "2 Yield_blup environIA_2013     2791     27.61   101.1\n",
       "3 Yield_blup environIL_2012     3617     27.87   129.8\n",
       "==============================================================================\n",
       "Groups and observations:\n",
       "                       Yield_blup\n",
       "IA_2012:strain                494\n",
       "IA_2013:IA_2012:strain        988\n",
       "IA_2013:strain                494\n",
       "IL_2012:IA_2012:strain        988\n",
       "IL_2012:IA_2013:strain        988\n",
       "IL_2012:strain                494\n",
       "==============================================================================\n",
       "Use the '$' sign to access results and parameters"
      ]
     },
     "metadata": {},
     "output_type": "display_data"
    }
   ],
   "source": [
    "fitUS <- mmer(Yield_blup~environ-1,\n",
    "                random=~vs(us(environ),strain,Gu=A_Sub1),\n",
    "                rcov=~units,\n",
    "                data=DT_Sub1,verbose=FALSE) \n",
    "summary(fitUS)"
   ]
  },
  {
   "cell_type": "code",
   "execution_count": 23,
   "id": "russian-glasgow",
   "metadata": {},
   "outputs": [
    {
     "name": "stdout",
     "output_type": "stream",
     "text": [
      "[1] \"IA_2012\" \"IA_2013\" \"IL_2012\"\n",
      "[1] \"IA_2012:strain\"         \"IA_2013:IA_2012:strain\" \"IA_2013:strain\"        \n",
      "[4] \"IL_2012:IA_2012:strain\" \"IL_2012:IA_2013:strain\" \"IL_2012:strain\"        \n"
     ]
    },
    {
     "data": {
      "text/html": [
       "0.553248715687564"
      ],
      "text/latex": [
       "0.553248715687564"
      ],
      "text/markdown": [
       "0.553248715687564"
      ],
      "text/plain": [
       "[1] 0.5532487"
      ]
     },
     "metadata": {},
     "output_type": "display_data"
    }
   ],
   "source": [
    "envNames <- levels(factor(DT_Sub1$environ))\n",
    "print(envNames)\n",
    "print(names(fitUS$U))\n",
    "env1Ind <- c(1,3,6)\n",
    "U_envStrain <- list()\n",
    "PredUS <- list()\n",
    "  for(i in 1:length(envNames)){\n",
    "       envInd <-  grep(envNames[i],names(fitUS$U))\n",
    "       envIndNames <-  grep(envNames[i],names(fitUS$U),value=TRUE)\n",
    "       U_envStrain[[i]] <-  as.numeric(fitUS$U[[env1Ind[i]]]$Yield_blup)\n",
    "       for(j  in 2:length(envInd)){ \n",
    "         indJ <- envInd[j]\n",
    "         b <- cbind(names(fitUS$U[[indJ]]$Yield_blup),fitUS$U[[indJ]]$Yield_blup)\n",
    "         colnames(b) <- c(\"strain\",\"Yield_blup\")\n",
    "         b_group <- as_tibble(b) %>% group_by(strain)\n",
    "         YldBlup_group <- b_group %>% summarise(Yield_blup = sum(as.numeric(Yield_blup)))\n",
    "         U_envStrain[[i]] <- U_envStrain[[i]] +YldBlup_group[,2]\n",
    "       }\n",
    "      \n",
    "      PredUS[[i]] <- c(U_envStrain[[i]] + fitUS$Beta[i,3])\n",
    "     }\n",
    "\n",
    "indES <-  sort.int(as.numeric(DT_Sub1[,\"environ\"]),decreasing=FALSE,index.return=TRUE)[[2]]  \n",
    "cor(unlist(PredUS),DT_Sub1[indES,\"Yield_blup\"]) \n",
    "plot(unlist(PredUS),DT_Sub1[indES,\"Yield_blup\"]) "
   ]
  },
  {
   "cell_type": "raw",
   "id": "remarkable-court",
   "metadata": {},
   "source": []
  },
  {
   "cell_type": "markdown",
   "id": "exposed-sullivan",
   "metadata": {},
   "source": [
    "<br />\n",
    "<br />\n",
    "\n",
    "### **Exercise 2 - Predict performance of tested and untested genotypes in tested and untested environments** ###"
   ]
  },
  {
   "cell_type": "markdown",
   "id": "typical-microwave",
   "metadata": {},
   "source": [
    "#### **2a - Tested Genotypes in Untested Environment**"
   ]
  },
  {
   "cell_type": "code",
   "execution_count": 20,
   "id": "behavioral-london",
   "metadata": {},
   "outputs": [
    {
     "data": {
      "text/html": [
       "<style>\n",
       ".list-inline {list-style: none; margin:0; padding: 0}\n",
       ".list-inline>li {display: inline-block}\n",
       ".list-inline>li:not(:last-child)::after {content: \"\\00b7\"; padding: 0 .5ex}\n",
       "</style>\n",
       "<ol class=list-inline><li>1482</li><li>17</li></ol>\n"
      ],
      "text/latex": [
       "\\begin{enumerate*}\n",
       "\\item 1482\n",
       "\\item 17\n",
       "\\end{enumerate*}\n"
      ],
      "text/markdown": [
       "1. 1482\n",
       "2. 17\n",
       "\n",
       "\n"
      ],
      "text/plain": [
       "[1] 1482   17"
      ]
     },
     "metadata": {},
     "output_type": "display_data"
    }
   ],
   "source": [
    "### Remove lines from IA2013 and train the model using IA2012 and IL2013 only and predict \n",
    "### performance of lines for IA2013 (untested environ) and compare accuracy with model \n",
    "### incorporating data from IA2013 in the training model \n",
    "\n",
    "tstIndices1 <- which(DT_Sub1[,\"environ\"] %in% \"IA_2013\") \n",
    "\n",
    "DT_Sub1A <- DT_Sub1\n",
    "DT_Sub1A[tstIndices1 ,\"Yield_blup\"] <- NA\n",
    "#DT_Sub1A[tstIndices1 ,\"environ\"] <- NA\n",
    "\n",
    "dim(DT_Sub1A)"
   ]
  },
  {
   "cell_type": "markdown",
   "id": "afraid-bottom",
   "metadata": {},
   "source": [
    "#### **Unstructured Var-Covar for Untested Environment**"
   ]
  },
  {
   "cell_type": "code",
   "execution_count": 24,
   "id": "bigger-basement",
   "metadata": {},
   "outputs": [
    {
     "data": {
      "text/html": [
       "<dl>\n",
       "\t<dt>$groups</dt>\n",
       "\t\t<dd><table class=\"dataframe\">\n",
       "<caption>A matrix: 6 × 1 of type int</caption>\n",
       "<thead>\n",
       "\t<tr><th></th><th scope=col>Yield_blup</th></tr>\n",
       "</thead>\n",
       "<tbody>\n",
       "\t<tr><th scope=row>IA_2012:strain</th><td>494</td></tr>\n",
       "\t<tr><th scope=row>IA_2013:IA_2012:strain</th><td>988</td></tr>\n",
       "\t<tr><th scope=row>IA_2013:strain</th><td>494</td></tr>\n",
       "\t<tr><th scope=row>IL_2012:IA_2012:strain</th><td>988</td></tr>\n",
       "\t<tr><th scope=row>IL_2012:IA_2013:strain</th><td>988</td></tr>\n",
       "\t<tr><th scope=row>IL_2012:strain</th><td>494</td></tr>\n",
       "</tbody>\n",
       "</table>\n",
       "</dd>\n",
       "\t<dt>$varcomp</dt>\n",
       "\t\t<dd><table class=\"dataframe\">\n",
       "<caption>A data.frame: 7 × 4</caption>\n",
       "<thead>\n",
       "\t<tr><th></th><th scope=col>VarComp</th><th scope=col>VarCompSE</th><th scope=col>Zratio</th><th scope=col>Constraint</th></tr>\n",
       "\t<tr><th></th><th scope=col>&lt;dbl&gt;</th><th scope=col>&lt;dbl&gt;</th><th scope=col>&lt;dbl&gt;</th><th scope=col>&lt;chr&gt;</th></tr>\n",
       "</thead>\n",
       "<tbody>\n",
       "\t<tr><th scope=row>IA_2012:strain.Yield_blup-Yield_blup</th><td> 13999.8931</td><td>13343.98</td><td> 1.04915433</td><td>Positive</td></tr>\n",
       "\t<tr><th scope=row>IA_2013:IA_2012:strain.Yield_blup-Yield_blup</th><td>  -378.4475</td><td>11900.65</td><td>-0.03180059</td><td>Unconstr</td></tr>\n",
       "\t<tr><th scope=row>IA_2013:strain.Yield_blup-Yield_blup</th><td> 40023.9472</td><td>21164.99</td><td> 1.89104488</td><td>Positive</td></tr>\n",
       "\t<tr><th scope=row>IL_2012:IA_2012:strain.Yield_blup-Yield_blup</th><td> 16497.5831</td><td>14083.02</td><td> 1.17145220</td><td>Unconstr</td></tr>\n",
       "\t<tr><th scope=row>IL_2012:IA_2013:strain.Yield_blup-Yield_blup</th><td>-36052.1154</td><td>18347.46</td><td>-1.96496513</td><td>Unconstr</td></tr>\n",
       "\t<tr><th scope=row>IL_2012:strain.Yield_blup-Yield_blup</th><td> 63232.4178</td><td>27475.82</td><td> 2.30138399</td><td>Positive</td></tr>\n",
       "\t<tr><th scope=row>units.Yield_blup-Yield_blup</th><td>358944.8349</td><td>13740.50</td><td>26.12313270</td><td>Positive</td></tr>\n",
       "</tbody>\n",
       "</table>\n",
       "</dd>\n",
       "\t<dt>$betas</dt>\n",
       "\t\t<dd><table class=\"dataframe\">\n",
       "<caption>A data.frame: 3 × 5</caption>\n",
       "<thead>\n",
       "\t<tr><th scope=col>Trait</th><th scope=col>Effect</th><th scope=col>Estimate</th><th scope=col>Std.Error</th><th scope=col>t.value</th></tr>\n",
       "\t<tr><th scope=col>&lt;fct&gt;</th><th scope=col>&lt;fct&gt;</th><th scope=col>&lt;dbl&gt;</th><th scope=col>&lt;dbl&gt;</th><th scope=col>&lt;dbl&gt;</th></tr>\n",
       "</thead>\n",
       "<tbody>\n",
       "\t<tr><td>Yield_blup</td><td>environIA_2012</td><td>3129.223</td><td>27.25633</td><td>114.8072</td></tr>\n",
       "\t<tr><td>Yield_blup</td><td>environIA_2013</td><td>2790.704</td><td>27.60819</td><td>101.0825</td></tr>\n",
       "\t<tr><td>Yield_blup</td><td>environIL_2012</td><td>3616.559</td><td>27.86794</td><td>129.7749</td></tr>\n",
       "</tbody>\n",
       "</table>\n",
       "</dd>\n",
       "\t<dt>$method</dt>\n",
       "\t\t<dd>'NR'</dd>\n",
       "\t<dt>$logo</dt>\n",
       "\t\t<dd><table class=\"dataframe\">\n",
       "<caption>A data.frame: 1 × 5</caption>\n",
       "<thead>\n",
       "\t<tr><th></th><th scope=col>logLik</th><th scope=col>AIC</th><th scope=col>BIC</th><th scope=col>Method</th><th scope=col>Converge</th></tr>\n",
       "\t<tr><th></th><th scope=col>&lt;dbl&gt;</th><th scope=col>&lt;dbl&gt;</th><th scope=col>&lt;dbl&gt;</th><th scope=col>&lt;chr&gt;</th><th scope=col>&lt;lgl&gt;</th></tr>\n",
       "</thead>\n",
       "<tbody>\n",
       "\t<tr><th scope=row>Value</th><td>-534.6765</td><td>1075.353</td><td>1091.256</td><td>NR</td><td>TRUE</td></tr>\n",
       "</tbody>\n",
       "</table>\n",
       "</dd>\n",
       "</dl>\n"
      ],
      "text/latex": [
       "\\begin{description}\n",
       "\\item[\\$groups] A matrix: 6 × 1 of type int\n",
       "\\begin{tabular}{r|l}\n",
       "  & Yield\\_blup\\\\\n",
       "\\hline\n",
       "\tIA\\_2012:strain & 494\\\\\n",
       "\tIA\\_2013:IA\\_2012:strain & 988\\\\\n",
       "\tIA\\_2013:strain & 494\\\\\n",
       "\tIL\\_2012:IA\\_2012:strain & 988\\\\\n",
       "\tIL\\_2012:IA\\_2013:strain & 988\\\\\n",
       "\tIL\\_2012:strain & 494\\\\\n",
       "\\end{tabular}\n",
       "\n",
       "\\item[\\$varcomp] A data.frame: 7 × 4\n",
       "\\begin{tabular}{r|llll}\n",
       "  & VarComp & VarCompSE & Zratio & Constraint\\\\\n",
       "  & <dbl> & <dbl> & <dbl> & <chr>\\\\\n",
       "\\hline\n",
       "\tIA\\_2012:strain.Yield\\_blup-Yield\\_blup &  13999.8931 & 13343.98 &  1.04915433 & Positive\\\\\n",
       "\tIA\\_2013:IA\\_2012:strain.Yield\\_blup-Yield\\_blup &   -378.4475 & 11900.65 & -0.03180059 & Unconstr\\\\\n",
       "\tIA\\_2013:strain.Yield\\_blup-Yield\\_blup &  40023.9472 & 21164.99 &  1.89104488 & Positive\\\\\n",
       "\tIL\\_2012:IA\\_2012:strain.Yield\\_blup-Yield\\_blup &  16497.5831 & 14083.02 &  1.17145220 & Unconstr\\\\\n",
       "\tIL\\_2012:IA\\_2013:strain.Yield\\_blup-Yield\\_blup & -36052.1154 & 18347.46 & -1.96496513 & Unconstr\\\\\n",
       "\tIL\\_2012:strain.Yield\\_blup-Yield\\_blup &  63232.4178 & 27475.82 &  2.30138399 & Positive\\\\\n",
       "\tunits.Yield\\_blup-Yield\\_blup & 358944.8349 & 13740.50 & 26.12313270 & Positive\\\\\n",
       "\\end{tabular}\n",
       "\n",
       "\\item[\\$betas] A data.frame: 3 × 5\n",
       "\\begin{tabular}{lllll}\n",
       " Trait & Effect & Estimate & Std.Error & t.value\\\\\n",
       " <fct> & <fct> & <dbl> & <dbl> & <dbl>\\\\\n",
       "\\hline\n",
       "\t Yield\\_blup & environIA\\_2012 & 3129.223 & 27.25633 & 114.8072\\\\\n",
       "\t Yield\\_blup & environIA\\_2013 & 2790.704 & 27.60819 & 101.0825\\\\\n",
       "\t Yield\\_blup & environIL\\_2012 & 3616.559 & 27.86794 & 129.7749\\\\\n",
       "\\end{tabular}\n",
       "\n",
       "\\item[\\$method] 'NR'\n",
       "\\item[\\$logo] A data.frame: 1 × 5\n",
       "\\begin{tabular}{r|lllll}\n",
       "  & logLik & AIC & BIC & Method & Converge\\\\\n",
       "  & <dbl> & <dbl> & <dbl> & <chr> & <lgl>\\\\\n",
       "\\hline\n",
       "\tValue & -534.6765 & 1075.353 & 1091.256 & NR & TRUE\\\\\n",
       "\\end{tabular}\n",
       "\n",
       "\\end{description}\n"
      ],
      "text/markdown": [
       "$groups\n",
       ":   \n",
       "A matrix: 6 × 1 of type int\n",
       "\n",
       "| <!--/--> | Yield_blup |\n",
       "|---|---|\n",
       "| IA_2012:strain | 494 |\n",
       "| IA_2013:IA_2012:strain | 988 |\n",
       "| IA_2013:strain | 494 |\n",
       "| IL_2012:IA_2012:strain | 988 |\n",
       "| IL_2012:IA_2013:strain | 988 |\n",
       "| IL_2012:strain | 494 |\n",
       "\n",
       "\n",
       "$varcomp\n",
       ":   \n",
       "A data.frame: 7 × 4\n",
       "\n",
       "| <!--/--> | VarComp &lt;dbl&gt; | VarCompSE &lt;dbl&gt; | Zratio &lt;dbl&gt; | Constraint &lt;chr&gt; |\n",
       "|---|---|---|---|---|\n",
       "| IA_2012:strain.Yield_blup-Yield_blup |  13999.8931 | 13343.98 |  1.04915433 | Positive |\n",
       "| IA_2013:IA_2012:strain.Yield_blup-Yield_blup |   -378.4475 | 11900.65 | -0.03180059 | Unconstr |\n",
       "| IA_2013:strain.Yield_blup-Yield_blup |  40023.9472 | 21164.99 |  1.89104488 | Positive |\n",
       "| IL_2012:IA_2012:strain.Yield_blup-Yield_blup |  16497.5831 | 14083.02 |  1.17145220 | Unconstr |\n",
       "| IL_2012:IA_2013:strain.Yield_blup-Yield_blup | -36052.1154 | 18347.46 | -1.96496513 | Unconstr |\n",
       "| IL_2012:strain.Yield_blup-Yield_blup |  63232.4178 | 27475.82 |  2.30138399 | Positive |\n",
       "| units.Yield_blup-Yield_blup | 358944.8349 | 13740.50 | 26.12313270 | Positive |\n",
       "\n",
       "\n",
       "$betas\n",
       ":   \n",
       "A data.frame: 3 × 5\n",
       "\n",
       "| Trait &lt;fct&gt; | Effect &lt;fct&gt; | Estimate &lt;dbl&gt; | Std.Error &lt;dbl&gt; | t.value &lt;dbl&gt; |\n",
       "|---|---|---|---|---|\n",
       "| Yield_blup | environIA_2012 | 3129.223 | 27.25633 | 114.8072 |\n",
       "| Yield_blup | environIA_2013 | 2790.704 | 27.60819 | 101.0825 |\n",
       "| Yield_blup | environIL_2012 | 3616.559 | 27.86794 | 129.7749 |\n",
       "\n",
       "\n",
       "$method\n",
       ":   'NR'\n",
       "$logo\n",
       ":   \n",
       "A data.frame: 1 × 5\n",
       "\n",
       "| <!--/--> | logLik &lt;dbl&gt; | AIC &lt;dbl&gt; | BIC &lt;dbl&gt; | Method &lt;chr&gt; | Converge &lt;lgl&gt; |\n",
       "|---|---|---|---|---|---|\n",
       "| Value | -534.6765 | 1075.353 | 1091.256 | NR | TRUE |\n",
       "\n",
       "\n",
       "\n",
       "\n"
      ],
      "text/plain": [
       "==============================================================================\n",
       "                  Multivariate Linear Mixed Model fit by REML                  \n",
       "*******************************  sommer 4.1  ******************************* \n",
       "==============================================================================\n",
       "         logLik      AIC      BIC Method Converge\n",
       "Value -534.6765 1075.353 1091.256     NR     TRUE\n",
       "==============================================================================\n",
       "Variance-Covariance components:\n",
       "                                              VarComp VarCompSE  Zratio\n",
       "IA_2012:strain.Yield_blup-Yield_blup          13999.9     13344  1.0492\n",
       "IA_2013:IA_2012:strain.Yield_blup-Yield_blup   -378.4     11901 -0.0318\n",
       "IA_2013:strain.Yield_blup-Yield_blup          40023.9     21165  1.8910\n",
       "IL_2012:IA_2012:strain.Yield_blup-Yield_blup  16497.6     14083  1.1715\n",
       "IL_2012:IA_2013:strain.Yield_blup-Yield_blup -36052.1     18347 -1.9650\n",
       "IL_2012:strain.Yield_blup-Yield_blup          63232.4     27476  2.3014\n",
       "units.Yield_blup-Yield_blup                  358944.8     13740 26.1231\n",
       "                                             Constraint\n",
       "IA_2012:strain.Yield_blup-Yield_blup           Positive\n",
       "IA_2013:IA_2012:strain.Yield_blup-Yield_blup   Unconstr\n",
       "IA_2013:strain.Yield_blup-Yield_blup           Positive\n",
       "IL_2012:IA_2012:strain.Yield_blup-Yield_blup   Unconstr\n",
       "IL_2012:IA_2013:strain.Yield_blup-Yield_blup   Unconstr\n",
       "IL_2012:strain.Yield_blup-Yield_blup           Positive\n",
       "units.Yield_blup-Yield_blup                    Positive\n",
       "==============================================================================\n",
       "Fixed effects:\n",
       "       Trait         Effect Estimate Std.Error t.value\n",
       "1 Yield_blup environIA_2012     3129     27.26   114.8\n",
       "2 Yield_blup environIA_2013     2791     27.61   101.1\n",
       "3 Yield_blup environIL_2012     3617     27.87   129.8\n",
       "==============================================================================\n",
       "Groups and observations:\n",
       "                       Yield_blup\n",
       "IA_2012:strain                494\n",
       "IA_2013:IA_2012:strain        988\n",
       "IA_2013:strain                494\n",
       "IL_2012:IA_2012:strain        988\n",
       "IL_2012:IA_2013:strain        988\n",
       "IL_2012:strain                494\n",
       "==============================================================================\n",
       "Use the '$' sign to access results and parameters"
      ]
     },
     "metadata": {},
     "output_type": "display_data"
    }
   ],
   "source": [
    "fitUS1A <- mmer(Yield_blup~environ-1,\n",
    "                random=~vs(us(environ),strain,Gu=A_Sub1),\n",
    "                rcov=~units,\n",
    "                data=DT_Sub1A,verbose=FALSE) \n",
    "summary(fitUS1A)"
   ]
  },
  {
   "cell_type": "code",
   "execution_count": 33,
   "id": "administrative-declaration",
   "metadata": {},
   "outputs": [
    {
     "data": {
      "text/html": [
       "<style>\n",
       ".list-inline {list-style: none; margin:0; padding: 0}\n",
       ".list-inline>li {display: inline-block}\n",
       ".list-inline>li:not(:last-child)::after {content: \"\\00b7\"; padding: 0 .5ex}\n",
       "</style>\n",
       "<ol class=list-inline><li>'IA_2012:strain'</li><li>'IA_2013:IA_2012:strain'</li><li>'IA_2013:strain'</li><li>'IL_2012:IA_2012:strain'</li><li>'IL_2012:IA_2013:strain'</li><li>'IL_2012:strain'</li></ol>\n"
      ],
      "text/latex": [
       "\\begin{enumerate*}\n",
       "\\item 'IA\\_2012:strain'\n",
       "\\item 'IA\\_2013:IA\\_2012:strain'\n",
       "\\item 'IA\\_2013:strain'\n",
       "\\item 'IL\\_2012:IA\\_2012:strain'\n",
       "\\item 'IL\\_2012:IA\\_2013:strain'\n",
       "\\item 'IL\\_2012:strain'\n",
       "\\end{enumerate*}\n"
      ],
      "text/markdown": [
       "1. 'IA_2012:strain'\n",
       "2. 'IA_2013:IA_2012:strain'\n",
       "3. 'IA_2013:strain'\n",
       "4. 'IL_2012:IA_2012:strain'\n",
       "5. 'IL_2012:IA_2013:strain'\n",
       "6. 'IL_2012:strain'\n",
       "\n",
       "\n"
      ],
      "text/plain": [
       "[1] \"IA_2012:strain\"         \"IA_2013:IA_2012:strain\" \"IA_2013:strain\"        \n",
       "[4] \"IL_2012:IA_2012:strain\" \"IL_2012:IA_2013:strain\" \"IL_2012:strain\"        "
      ]
     },
     "metadata": {},
     "output_type": "display_data"
    },
    {
     "data": {
      "text/html": [
       "494"
      ],
      "text/latex": [
       "494"
      ],
      "text/markdown": [
       "494"
      ],
      "text/plain": [
       "[1] 494"
      ]
     },
     "metadata": {},
     "output_type": "display_data"
    },
    {
     "data": {
      "text/html": [
       "494"
      ],
      "text/latex": [
       "494"
      ],
      "text/markdown": [
       "494"
      ],
      "text/plain": [
       "[1] 494"
      ]
     },
     "metadata": {},
     "output_type": "display_data"
    },
    {
     "data": {
      "text/html": [
       "0.293198274375235"
      ],
      "text/latex": [
       "0.293198274375235"
      ],
      "text/markdown": [
       "0.293198274375235"
      ],
      "text/plain": [
       "[1] 0.2931983"
      ]
     },
     "metadata": {},
     "output_type": "display_data"
    }
   ],
   "source": [
    "envNames <- levels(factor(DT_Sub1A$environ))\n",
    "env1Ind <- c(1,3,6)\n",
    "U_envStrain <- list()\n",
    "PredUS1A <- list()\n",
    "  for(i in 1:length(envNames)){\n",
    "       envInd <-  grep(envNames[i],names(fitUS1A$U))\n",
    "       U_envStrain[[i]] <-  as.numeric(fitUS1A$U[[env1Ind[i]]]$Yield_blup)\n",
    "     for(j  in 2:length(envInd)){ \n",
    "         indJ <- envInd[j]\n",
    "         b <- cbind(names(fitUS1A$U[[indJ]]$Yield_blup),fitUS1A$U[[indJ]]$Yield_blup)\n",
    "         colnames(b) <- c(\"strain\",\"Yield_blup\")\n",
    "         b_group <- as_tibble(b) %>% group_by(strain)\n",
    "         YldBlup_group <- b_group %>% summarise(Yield_blup = sum(as.numeric(Yield_blup)))\n",
    "         U_envStrain[[i]] <- U_envStrain[[i]] + YldBlup_group[,2] \n",
    "       } \n",
    "        PredUS1A[[i]] <- c(U_envStrain[[i]] + fitUS$Beta[i,3])\n",
    "     }\n",
    "    \n",
    "length(unlist(PredUS1A[[2]]))\n",
    "\n",
    "length(tstIndices1)\n",
    "\n",
    "cor(unlist(PredUS1A[[2]]),DT_Sub1[tstIndices1,\"Yield_blup\"]) \n",
    "plot(unlist(PredUS1A[[2]]),DT_Sub1[tstIndices1,\"Yield_blup\"]) "
   ]
  },
  {
   "cell_type": "markdown",
   "id": "forced-revolution",
   "metadata": {},
   "source": [
    "<br />\n",
    "\n",
    "#### **2b - Untested Genotypes in Tested Environments** ####"
   ]
  },
  {
   "cell_type": "code",
   "execution_count": 26,
   "id": "tired-diary",
   "metadata": {},
   "outputs": [
    {
     "data": {
      "text/html": [
       "98"
      ],
      "text/latex": [
       "98"
      ],
      "text/markdown": [
       "98"
      ],
      "text/plain": [
       "[1] 98"
      ]
     },
     "metadata": {},
     "output_type": "display_data"
    },
    {
     "data": {
      "text/html": [
       "<style>\n",
       ".list-inline {list-style: none; margin:0; padding: 0}\n",
       ".list-inline>li {display: inline-block}\n",
       ".list-inline>li:not(:last-child)::after {content: \"\\00b7\"; padding: 0 .5ex}\n",
       "</style>\n",
       "<ol class=list-inline><li>1482</li><li>18</li></ol>\n"
      ],
      "text/latex": [
       "\\begin{enumerate*}\n",
       "\\item 1482\n",
       "\\item 18\n",
       "\\end{enumerate*}\n"
      ],
      "text/markdown": [
       "1. 1482\n",
       "2. 18\n",
       "\n",
       "\n"
      ],
      "text/plain": [
       "[1] 1482   18"
      ]
     },
     "metadata": {},
     "output_type": "display_data"
    }
   ],
   "source": [
    "### Subset Data to generate untested genotypes \n",
    "\n",
    "set.seed(125)\n",
    "tstStrain <- sample(unique(DT_Sub1[,\"strain\"]),0.2*length(unique(DT_Sub1[,\"strain\"])))\n",
    "length(tstStrain)\n",
    "tstIndices2 <- which(DT_Sub1[,\"strain\"] %in% tstStrain)\n",
    "DT_Sub1B <- DT_Sub1\n",
    "DT_Sub1B[tstIndices2 ,\"Yeild_blup\"] <- NA\n",
    "dim(DT_Sub1B)"
   ]
  },
  {
   "cell_type": "markdown",
   "id": "fixed-operations",
   "metadata": {},
   "source": [
    "#### **Fit Compound Symmetry Var-Covar Structure for Tested Environments**"
   ]
  },
  {
   "cell_type": "code",
   "execution_count": 27,
   "id": "regional-sunglasses",
   "metadata": {},
   "outputs": [
    {
     "data": {
      "text/html": [
       "<dl>\n",
       "\t<dt>$groups</dt>\n",
       "\t\t<dd><table class=\"dataframe\">\n",
       "<caption>A matrix: 4 × 1 of type int</caption>\n",
       "<thead>\n",
       "\t<tr><th></th><th scope=col>Yield_blup</th></tr>\n",
       "</thead>\n",
       "<tbody>\n",
       "\t<tr><th scope=row>u:strain</th><td>494</td></tr>\n",
       "\t<tr><th scope=row>IA_2012:strain</th><td>494</td></tr>\n",
       "\t<tr><th scope=row>IA_2013:strain</th><td>494</td></tr>\n",
       "\t<tr><th scope=row>IL_2012:strain</th><td>494</td></tr>\n",
       "</tbody>\n",
       "</table>\n",
       "</dd>\n",
       "\t<dt>$varcomp</dt>\n",
       "\t\t<dd><table class=\"dataframe\">\n",
       "<caption>A data.frame: 5 × 4</caption>\n",
       "<thead>\n",
       "\t<tr><th></th><th scope=col>VarComp</th><th scope=col>VarCompSE</th><th scope=col>Zratio</th><th scope=col>Constraint</th></tr>\n",
       "\t<tr><th></th><th scope=col>&lt;dbl&gt;</th><th scope=col>&lt;dbl&gt;</th><th scope=col>&lt;dbl&gt;</th><th scope=col>&lt;chr&gt;</th></tr>\n",
       "</thead>\n",
       "<tbody>\n",
       "\t<tr><th scope=row>u:strain.Yield_blup-Yield_blup</th><td>  1108.983</td><td> 7976.429</td><td> 0.1390325</td><td>Positive</td></tr>\n",
       "\t<tr><th scope=row>IA_2012:strain.Yield_blup-Yield_blup</th><td> 11202.649</td><td>14990.660</td><td> 0.7473086</td><td>Positive</td></tr>\n",
       "\t<tr><th scope=row>IA_2013:strain.Yield_blup-Yield_blup</th><td> 38446.633</td><td>22793.832</td><td> 1.6867122</td><td>Positive</td></tr>\n",
       "\t<tr><th scope=row>IL_2012:strain.Yield_blup-Yield_blup</th><td> 56959.820</td><td>27643.322</td><td> 2.0605273</td><td>Positive</td></tr>\n",
       "\t<tr><th scope=row>units.Yield_blup-Yield_blup</th><td>359480.998</td><td>13783.392</td><td>26.0807347</td><td>Positive</td></tr>\n",
       "</tbody>\n",
       "</table>\n",
       "</dd>\n",
       "\t<dt>$betas</dt>\n",
       "\t\t<dd><table class=\"dataframe\">\n",
       "<caption>A data.frame: 3 × 5</caption>\n",
       "<thead>\n",
       "\t<tr><th scope=col>Trait</th><th scope=col>Effect</th><th scope=col>Estimate</th><th scope=col>Std.Error</th><th scope=col>t.value</th></tr>\n",
       "\t<tr><th scope=col>&lt;fct&gt;</th><th scope=col>&lt;fct&gt;</th><th scope=col>&lt;dbl&gt;</th><th scope=col>&lt;dbl&gt;</th><th scope=col>&lt;dbl&gt;</th></tr>\n",
       "</thead>\n",
       "<tbody>\n",
       "\t<tr><td>Yield_blup</td><td>environIA_2012</td><td>3130.223</td><td>27.28389</td><td>114.7279</td></tr>\n",
       "\t<tr><td>Yield_blup</td><td>environIA_2013</td><td>2789.228</td><td>27.71231</td><td>100.6494</td></tr>\n",
       "\t<tr><td>Yield_blup</td><td>environIL_2012</td><td>3612.461</td><td>27.92732</td><td>129.3522</td></tr>\n",
       "</tbody>\n",
       "</table>\n",
       "</dd>\n",
       "\t<dt>$method</dt>\n",
       "\t\t<dd>'NR'</dd>\n",
       "\t<dt>$logo</dt>\n",
       "\t\t<dd><table class=\"dataframe\">\n",
       "<caption>A data.frame: 1 × 5</caption>\n",
       "<thead>\n",
       "\t<tr><th></th><th scope=col>logLik</th><th scope=col>AIC</th><th scope=col>BIC</th><th scope=col>Method</th><th scope=col>Converge</th></tr>\n",
       "\t<tr><th></th><th scope=col>&lt;dbl&gt;</th><th scope=col>&lt;dbl&gt;</th><th scope=col>&lt;dbl&gt;</th><th scope=col>&lt;chr&gt;</th><th scope=col>&lt;lgl&gt;</th></tr>\n",
       "</thead>\n",
       "<tbody>\n",
       "\t<tr><th scope=row>Value</th><td>-537.5147</td><td>1081.029</td><td>1096.933</td><td>NR</td><td>TRUE</td></tr>\n",
       "</tbody>\n",
       "</table>\n",
       "</dd>\n",
       "</dl>\n"
      ],
      "text/latex": [
       "\\begin{description}\n",
       "\\item[\\$groups] A matrix: 4 × 1 of type int\n",
       "\\begin{tabular}{r|l}\n",
       "  & Yield\\_blup\\\\\n",
       "\\hline\n",
       "\tu:strain & 494\\\\\n",
       "\tIA\\_2012:strain & 494\\\\\n",
       "\tIA\\_2013:strain & 494\\\\\n",
       "\tIL\\_2012:strain & 494\\\\\n",
       "\\end{tabular}\n",
       "\n",
       "\\item[\\$varcomp] A data.frame: 5 × 4\n",
       "\\begin{tabular}{r|llll}\n",
       "  & VarComp & VarCompSE & Zratio & Constraint\\\\\n",
       "  & <dbl> & <dbl> & <dbl> & <chr>\\\\\n",
       "\\hline\n",
       "\tu:strain.Yield\\_blup-Yield\\_blup &   1108.983 &  7976.429 &  0.1390325 & Positive\\\\\n",
       "\tIA\\_2012:strain.Yield\\_blup-Yield\\_blup &  11202.649 & 14990.660 &  0.7473086 & Positive\\\\\n",
       "\tIA\\_2013:strain.Yield\\_blup-Yield\\_blup &  38446.633 & 22793.832 &  1.6867122 & Positive\\\\\n",
       "\tIL\\_2012:strain.Yield\\_blup-Yield\\_blup &  56959.820 & 27643.322 &  2.0605273 & Positive\\\\\n",
       "\tunits.Yield\\_blup-Yield\\_blup & 359480.998 & 13783.392 & 26.0807347 & Positive\\\\\n",
       "\\end{tabular}\n",
       "\n",
       "\\item[\\$betas] A data.frame: 3 × 5\n",
       "\\begin{tabular}{lllll}\n",
       " Trait & Effect & Estimate & Std.Error & t.value\\\\\n",
       " <fct> & <fct> & <dbl> & <dbl> & <dbl>\\\\\n",
       "\\hline\n",
       "\t Yield\\_blup & environIA\\_2012 & 3130.223 & 27.28389 & 114.7279\\\\\n",
       "\t Yield\\_blup & environIA\\_2013 & 2789.228 & 27.71231 & 100.6494\\\\\n",
       "\t Yield\\_blup & environIL\\_2012 & 3612.461 & 27.92732 & 129.3522\\\\\n",
       "\\end{tabular}\n",
       "\n",
       "\\item[\\$method] 'NR'\n",
       "\\item[\\$logo] A data.frame: 1 × 5\n",
       "\\begin{tabular}{r|lllll}\n",
       "  & logLik & AIC & BIC & Method & Converge\\\\\n",
       "  & <dbl> & <dbl> & <dbl> & <chr> & <lgl>\\\\\n",
       "\\hline\n",
       "\tValue & -537.5147 & 1081.029 & 1096.933 & NR & TRUE\\\\\n",
       "\\end{tabular}\n",
       "\n",
       "\\end{description}\n"
      ],
      "text/markdown": [
       "$groups\n",
       ":   \n",
       "A matrix: 4 × 1 of type int\n",
       "\n",
       "| <!--/--> | Yield_blup |\n",
       "|---|---|\n",
       "| u:strain | 494 |\n",
       "| IA_2012:strain | 494 |\n",
       "| IA_2013:strain | 494 |\n",
       "| IL_2012:strain | 494 |\n",
       "\n",
       "\n",
       "$varcomp\n",
       ":   \n",
       "A data.frame: 5 × 4\n",
       "\n",
       "| <!--/--> | VarComp &lt;dbl&gt; | VarCompSE &lt;dbl&gt; | Zratio &lt;dbl&gt; | Constraint &lt;chr&gt; |\n",
       "|---|---|---|---|---|\n",
       "| u:strain.Yield_blup-Yield_blup |   1108.983 |  7976.429 |  0.1390325 | Positive |\n",
       "| IA_2012:strain.Yield_blup-Yield_blup |  11202.649 | 14990.660 |  0.7473086 | Positive |\n",
       "| IA_2013:strain.Yield_blup-Yield_blup |  38446.633 | 22793.832 |  1.6867122 | Positive |\n",
       "| IL_2012:strain.Yield_blup-Yield_blup |  56959.820 | 27643.322 |  2.0605273 | Positive |\n",
       "| units.Yield_blup-Yield_blup | 359480.998 | 13783.392 | 26.0807347 | Positive |\n",
       "\n",
       "\n",
       "$betas\n",
       ":   \n",
       "A data.frame: 3 × 5\n",
       "\n",
       "| Trait &lt;fct&gt; | Effect &lt;fct&gt; | Estimate &lt;dbl&gt; | Std.Error &lt;dbl&gt; | t.value &lt;dbl&gt; |\n",
       "|---|---|---|---|---|\n",
       "| Yield_blup | environIA_2012 | 3130.223 | 27.28389 | 114.7279 |\n",
       "| Yield_blup | environIA_2013 | 2789.228 | 27.71231 | 100.6494 |\n",
       "| Yield_blup | environIL_2012 | 3612.461 | 27.92732 | 129.3522 |\n",
       "\n",
       "\n",
       "$method\n",
       ":   'NR'\n",
       "$logo\n",
       ":   \n",
       "A data.frame: 1 × 5\n",
       "\n",
       "| <!--/--> | logLik &lt;dbl&gt; | AIC &lt;dbl&gt; | BIC &lt;dbl&gt; | Method &lt;chr&gt; | Converge &lt;lgl&gt; |\n",
       "|---|---|---|---|---|---|\n",
       "| Value | -537.5147 | 1081.029 | 1096.933 | NR | TRUE |\n",
       "\n",
       "\n",
       "\n",
       "\n"
      ],
      "text/plain": [
       "======================================================================\n",
       "              Multivariate Linear Mixed Model fit by REML              \n",
       "***************************  sommer 4.1  *************************** \n",
       "======================================================================\n",
       "         logLik      AIC      BIC Method Converge\n",
       "Value -537.5147 1081.029 1096.933     NR     TRUE\n",
       "======================================================================\n",
       "Variance-Covariance components:\n",
       "                                     VarComp VarCompSE  Zratio Constraint\n",
       "u:strain.Yield_blup-Yield_blup          1109      7976  0.1390   Positive\n",
       "IA_2012:strain.Yield_blup-Yield_blup   11203     14991  0.7473   Positive\n",
       "IA_2013:strain.Yield_blup-Yield_blup   38447     22794  1.6867   Positive\n",
       "IL_2012:strain.Yield_blup-Yield_blup   56960     27643  2.0605   Positive\n",
       "units.Yield_blup-Yield_blup           359481     13783 26.0807   Positive\n",
       "======================================================================\n",
       "Fixed effects:\n",
       "       Trait         Effect Estimate Std.Error t.value\n",
       "1 Yield_blup environIA_2012     3130     27.28   114.7\n",
       "2 Yield_blup environIA_2013     2789     27.71   100.6\n",
       "3 Yield_blup environIL_2012     3612     27.93   129.4\n",
       "======================================================================\n",
       "Groups and observations:\n",
       "               Yield_blup\n",
       "u:strain              494\n",
       "IA_2012:strain        494\n",
       "IA_2013:strain        494\n",
       "IL_2012:strain        494\n",
       "======================================================================\n",
       "Use the '$' sign to access results and parameters"
      ]
     },
     "metadata": {},
     "output_type": "display_data"
    }
   ],
   "source": [
    "fitCSDG1B <- mmer(Yield_blup~environ-1,\n",
    "                random=~vs(strain,Gu=A_Sub1) +vs(ds(environ),strain,Gu=A_Sub1),\n",
    "                rcov=~units,\n",
    "                data=DT_Sub1B,verbose=FALSE) \n",
    "\n",
    "summary(fitCSDG1B)"
   ]
  },
  {
   "cell_type": "code",
   "execution_count": 28,
   "id": "stupid-dragon",
   "metadata": {},
   "outputs": [
    {
     "data": {
      "text/html": [
       "1482"
      ],
      "text/latex": [
       "1482"
      ],
      "text/markdown": [
       "1482"
      ],
      "text/plain": [
       "[1] 1482"
      ]
     },
     "metadata": {},
     "output_type": "display_data"
    },
    {
     "data": {
      "text/html": [
       "<style>\n",
       ".list-inline {list-style: none; margin:0; padding: 0}\n",
       ".list-inline>li {display: inline-block}\n",
       ".list-inline>li:not(:last-child)::after {content: \"\\00b7\"; padding: 0 .5ex}\n",
       "</style>\n",
       "<ol class=list-inline><li>494</li><li>4</li></ol>\n"
      ],
      "text/latex": [
       "\\begin{enumerate*}\n",
       "\\item 494\n",
       "\\item 4\n",
       "\\end{enumerate*}\n"
      ],
      "text/markdown": [
       "1. 494\n",
       "2. 4\n",
       "\n",
       "\n"
      ],
      "text/plain": [
       "[1] 494   4"
      ]
     },
     "metadata": {},
     "output_type": "display_data"
    },
    {
     "data": {
      "text/html": [
       "1482"
      ],
      "text/latex": [
       "1482"
      ],
      "text/markdown": [
       "1482"
      ],
      "text/plain": [
       "[1] 1482"
      ]
     },
     "metadata": {},
     "output_type": "display_data"
    }
   ],
   "source": [
    "m2 <- cbind(c(rep(1,nrow(DT_Sub1B)/3),rep(0,2*nrow(DT_Sub1B)/3)),c(rep(0,nrow(DT_Sub1B)/3),rep(1,nrow(DT_Sub1B)/3),rep(0,nrow(DT_Sub1B)/3)),\n",
    "c(rep(0,nrow(DT_Sub1B)/3),rep(0,nrow(DT_Sub1B)/3),rep(1,nrow(DT_Sub1B)/3)))\n",
    "\n",
    "m_beta <- m2 %*% as.numeric(fitCSDG1B$Beta[,3]) \n",
    "length(m_beta)\n",
    "m_env_strain <- do.call(cbind,lapply(fitCSDG1B$U,function(x) x$Yield_blup))\n",
    "dim(m_env_strain)\n",
    "envStrain_blup <-c(m_env_strain[,2:4])                              \n",
    "                  \n",
    "strain_blup <- rep(fitCSDG1B$U$`u:strain`$Yield_blup,3)\n",
    "length(strain_blup)"
   ]
  },
  {
   "cell_type": "code",
   "execution_count": 29,
   "id": "557e2ada-941c-423a-9411-bef2b249d351",
   "metadata": {},
   "outputs": [
    {
     "data": {
      "text/html": [
       "<table class=\"dataframe\">\n",
       "<caption>A matrix: 1 × 1 of type dbl</caption>\n",
       "<tbody>\n",
       "\t<tr><td>0.543284</td></tr>\n",
       "</tbody>\n",
       "</table>\n"
      ],
      "text/latex": [
       "A matrix: 1 × 1 of type dbl\n",
       "\\begin{tabular}{l}\n",
       "\t 0.543284\\\\\n",
       "\\end{tabular}\n"
      ],
      "text/markdown": [
       "\n",
       "A matrix: 1 × 1 of type dbl\n",
       "\n",
       "| 0.543284 |\n",
       "\n"
      ],
      "text/plain": [
       "     [,1]    \n",
       "[1,] 0.543284"
      ]
     },
     "metadata": {},
     "output_type": "display_data"
    }
   ],
   "source": [
    "PredCSDG1B<- m_beta+strain_blup+envStrain_blup\n",
    "\n",
    "indES <-  sort.int(as.numeric(DT_Sub1[,\"environ\"]),decreasing=FALSE,index.return=TRUE)[[2]]\n",
    "\n",
    "cor(PredCSDG1B,DT_Sub1[indES,\"Yield_blup\"]) \n",
    "plot(PredCSDG1B,DT_Sub1[indES,\"Yield_blup\"])"
   ]
  },
  {
   "cell_type": "markdown",
   "id": "sudden-tender",
   "metadata": {},
   "source": [
    "#### **Discuss other ways to model these scenarios and refine these models**"
   ]
  },
  {
   "cell_type": "code",
   "execution_count": null,
   "id": "naval-confirmation",
   "metadata": {},
   "outputs": [],
   "source": []
  }
 ],
 "metadata": {
  "kernelspec": {
   "display_name": "R",
   "language": "R",
   "name": "ir"
  },
  "language_info": {
   "codemirror_mode": "r",
   "file_extension": ".r",
   "mimetype": "text/x-r-source",
   "name": "R",
   "pygments_lexer": "r",
   "version": "4.1.2"
  }
 },
 "nbformat": 4,
 "nbformat_minor": 5
}
