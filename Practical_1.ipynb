{
 "cells": [
  {
   "cell_type": "markdown",
   "id": "married-birmingham",
   "metadata": {},
   "source": [
    "---\n",
    "## **GS Workshop Session 1**\n",
    "#### **date: \"06/20/2022\"**\n",
    "---"
   ]
  },
  {
   "cell_type": "markdown",
   "id": "ceramic-symbol",
   "metadata": {},
   "source": [
    "#### **Source Scripts and Load Data**\n"
   ]
  },
  {
   "cell_type": "code",
   "execution_count": 2,
   "id": "transparent-macedonia",
   "metadata": {},
   "outputs": [
    {
     "name": "stderr",
     "output_type": "stream",
     "text": [
      "\n",
      "   *****       ***   vcfR   ***       *****\n",
      "   This is vcfR 1.12.0 \n",
      "     browseVignettes('vcfR') # Documentation\n",
      "     citation('vcfR') # Citation\n",
      "   *****       *****      *****       *****\n",
      "\n",
      "\n",
      "\n",
      "Attaching package: 'dplyr'\n",
      "\n",
      "\n",
      "The following objects are masked from 'package:stats':\n",
      "\n",
      "    filter, lag\n",
      "\n",
      "\n",
      "The following objects are masked from 'package:base':\n",
      "\n",
      "    intersect, setdiff, setequal, union\n",
      "\n",
      "\n",
      "\n",
      "Attaching package: 'bWGR'\n",
      "\n",
      "\n",
      "The following objects are masked from 'package:NAM':\n",
      "\n",
      "    CNT, GAU, GRM, IMP, KMUP, KMUP2, SPC, SPM, emBA, emBB, emBC, emBL,\n",
      "    emCV, emDE, emEN, emGWA, emML, emML2, emRR, markov, mkr, mkr2X,\n",
      "    mrr, mrr2X, mrrFast, wgr\n",
      "\n",
      "\n",
      "Loading required package: AlgDesign\n",
      "\n",
      "Loading required package: scales\n",
      "\n",
      "Loading required package: scatterplot3d\n",
      "\n",
      "Loading required package: emoa\n",
      "\n",
      "\n",
      "Attaching package: 'emoa'\n",
      "\n",
      "\n",
      "The following object is masked from 'package:dplyr':\n",
      "\n",
      "    coalesce\n",
      "\n",
      "\n",
      "Loading required package: Matrix\n",
      "\n",
      "Loading required package: MASS\n",
      "\n",
      "\n",
      "Attaching package: 'MASS'\n",
      "\n",
      "\n",
      "The following object is masked from 'package:dplyr':\n",
      "\n",
      "    select\n",
      "\n",
      "\n",
      "Loading required package: lattice\n",
      "\n",
      "Loading required package: crayon\n",
      "\n",
      "\n",
      "Attaching package: 'sommer'\n",
      "\n",
      "\n",
      "The following objects are masked from 'package:rrBLUP':\n",
      "\n",
      "    A.mat, GWAS\n",
      "\n",
      "\n",
      "Bioconductor version '3.14' is out-of-date; the current release version '3.15'\n",
      "  is available with R version '4.2'; see https://bioconductor.org/install\n",
      "\n",
      "'getOption(\"repos\")' replaces Bioconductor standard repositories, see\n",
      "'?repositories' for details\n",
      "\n",
      "replacement repositories:\n",
      "    CRAN: https://cran.r-project.org\n",
      "\n",
      "\n",
      "Bioconductor version 3.14 (BiocManager 1.30.16), R 4.1.0 (2021-05-18)\n",
      "\n",
      "Installation paths not writeable, unable to update packages\n",
      "  path: /panfs/roc/msisoft/R/4.1.0/lib64/R/library\n",
      "  packages:\n",
      "    BH, BiocManager, DT, IRdisplay, IRkernel, MASS, Matrix, R6, Rcpp, brew,\n",
      "    brio, cachem, class, cli, clipr, cluster, commonmark, crayon, credentials,\n",
      "    crosstalk, desc, diffobj, digest, evaluate, fansi, foreign, fs, gert, glue,\n",
      "    htmltools, htmlwidgets, httr, jsonlite, knitr, later, lattice, lifecycle,\n",
      "    magrittr, memoise, mgcv, mime, nlme, nnet, openssl, pbdZMQ, pillar,\n",
      "    pkgbuild, pkgload, processx, ps, rcmdcheck, remotes, repr, rex, rlang,\n",
      "    roxygen2, rpart, rprojroot, sessioninfo, spatial, stringi, survival,\n",
      "    testthat, tibble, usethis, uuid, vctrs, waldo, withr, xfun, xml2, yaml\n",
      "\n",
      "Old packages: 'AlgDesign', 'BGLR', 'LowRankQP', 'RcppArmadillo', 'RcppEigen',\n",
      "  'SOMbrero', 'ade4', 'adegenet', 'bWGR', 'bigmemory', 'broom', 'car',\n",
      "  'carData', 'caret', 'checkmate', 'conquer', 'devtools', 'doParallel',\n",
      "  'dplyr', 'e1071', 'ellipse', 'foreach', 'future', 'future.apply', 'generics',\n",
      "  'globals', 'gmailr', 'gower', 'httpuv', 'igraph', 'interp', 'ipred',\n",
      "  'iterators', 'kernlab', 'kohonen', 'lme4', 'maptools', 'metR', 'mockery',\n",
      "  'nloptr', 'parallelly', 'parsedate', 'pegas', 'permute', 'pkgdown', 'plyr',\n",
      "  'polynom', 'progressr', 'proxy', 'quantreg', 'ragg', 'randomForestSRC',\n",
      "  'recipes', 'rmarkdown', 'sass', 'segmented', 'seqinr', 'sommer', 'sp',\n",
      "  'spam', 'systemfonts', 'tidyr', 'tidyselect', 'tinytex', 'vegan'\n",
      "\n",
      "'getOption(\"repos\")' replaces Bioconductor standard repositories, see\n",
      "'?repositories' for details\n",
      "\n",
      "replacement repositories:\n",
      "    CRAN: https://cran.r-project.org\n",
      "\n",
      "\n",
      "\n",
      "Attaching package: 'devtools'\n",
      "\n",
      "\n",
      "The following object is masked from 'package:BiocManager':\n",
      "\n",
      "    install\n",
      "\n",
      "\n",
      "Welcome to rTASSEL (version 0.9.26)\n",
      " <U+2022> Consider starting a TASSEL log file (see ?startLogger())\n",
      "\n",
      "\n",
      "'getOption(\"repos\")' replaces Bioconductor standard repositories, see\n",
      "'?repositories' for details\n",
      "\n",
      "replacement repositories:\n",
      "    BioCsoft: https://bioconductor.org/packages/3.14/bioc\n",
      "    BioCann: https://bioconductor.org/packages/3.14/data/annotation\n",
      "    BioCexp: https://bioconductor.org/packages/3.14/data/experiment\n",
      "    BioCworkflows: https://bioconductor.org/packages/3.14/workflows\n",
      "    BioCbooks: https://bioconductor.org/packages/3.14/books\n",
      "    CRAN: https://cran.r-project.org\n",
      "\n",
      "\n"
     ]
    }
   ],
   "source": [
    "WorkDir <- \"/panfs/roc/groups/13/lorenza/vramasub/GS_Workshop/\"\n",
    "setwd(WorkDir)\n",
    "\n",
    "##Source in functions to be used\n",
    "source(\"/panfs/roc/groups/13/lorenza/vramasub/GS_Workshop/GS_Pipeline_Jan_2022_FnsApp.R\")\n",
    "source(\"/panfs/roc/groups/13/lorenza/vramasub/GS_Workshop/bootcamp_functions.R\")\n",
    "\n",
    "\n"
   ]
  },
  {
   "cell_type": "markdown",
   "id": "vulnerable-exhaust",
   "metadata": {},
   "source": [
    "#### ** Read Genotype File using vcfR ** ####"
   ]
  },
  {
   "cell_type": "code",
   "execution_count": 3,
   "id": "sunset-performance",
   "metadata": {},
   "outputs": [],
   "source": [
    "\n",
    "##Load in genotype data. Use package vcfR to read in and work with vcf file.\n",
    "infileVCF <- \"SoyNAM_Geno.vcf\"\n",
    "genotypes_VCF <- read.table(infileVCF)\n",
    "vcf <- read.vcfR(infileVCF, verbose = FALSE)\n"
   ]
  },
  {
   "cell_type": "markdown",
   "id": "worst-westminster",
   "metadata": {},
   "source": [
    "\n",
    "#### **Convert VCF file format to numerical matrix format.**\n",
    "#### Final genotype matrix is geno_num"
   ]
  },
  {
   "cell_type": "code",
   "execution_count": 4,
   "id": "deluxe-queens",
   "metadata": {},
   "outputs": [],
   "source": [
    "gt <- extract.gt(vcf, element = \"GT\", as.numeric = F)\n",
    "fix_T <- as_tibble(getFIX(vcf))\n",
    "gt2 <- matrix(0, ncol = ncol(gt), nrow = nrow(gt))\n",
    "colnames(gt2) <- colnames(gt)\n",
    "rownames(gt2) <- rownames(gt)\n",
    "gt2a <- apply(gt,2, function(x) gsub(\"1/1\",\"1\",x))\n",
    "gt2b <- gsub(\"0[/|]0\",\"0\",gt2a)\n",
    "gt2c <- gsub(\"[10][/|][10]\",\"0.5\",gt2b)\n",
    "gt2d <- gsub(\"\\\\.[/|]\\\\.\",\"NA\",gt2c)\n",
    "\n",
    "gt2d_num<- apply(gt2d,2,as.numeric)\n",
    "rownames(gt2d_num)<- rownames(gt2d)\n",
    "geno_num <- t(gt2d_num) \n"
   ]
  },
  {
   "cell_type": "markdown",
   "id": "based-lambda",
   "metadata": {},
   "source": [
    "#### **Filter Genotypic Data**"
   ]
  },
  {
   "cell_type": "code",
   "execution_count": 5,
   "id": "streaming-intention",
   "metadata": {},
   "outputs": [],
   "source": [
    "##Filter markers on % missing\n",
    "miss <- function(x){length(which(is.na(x)))}\n",
    "mrkNA <- (apply(geno_num, MARGIN=2, FUN=miss))/dim(geno_num)[1]\n",
    "ndx <- which(mrkNA > 0.2)\n",
    "\n",
    "if (length(ndx)>0) geno_num2 <- geno_num[, -ndx] else geno_num2 <- geno_num\n",
    "\n",
    "##Filter individuals on % missing\n",
    "indNA <- (apply(geno_num2, MARGIN=1, FUN=miss))/dim(geno_num2)[2]\n",
    "ndx2 <- which(indNA > 0.5)\n",
    "\n",
    " if(length(ndx2)>0) geno_num3 <- geno_num2[-ndx2, ] else geno_num3 <- geno_num2\n",
    "\n",
    "\n",
    "##Filter markers based on MAF\n",
    "maf <- apply(geno_num3, MARGIN=2, FUN=mean, na.rm=T)\n",
    "ndx3 <- which(maf<0.05 | maf>0.95) \n",
    "\n",
    "if (length(ndx3)>0) geno_num4 <- geno_num2[, -ndx3] else geno_num4 <- geno_num3\n",
    "  "
   ]
  },
  {
   "cell_type": "markdown",
   "id": "competent-favorite",
   "metadata": {},
   "source": [
    "#### **Import Phenotypic Data**"
   ]
  },
  {
   "cell_type": "code",
   "execution_count": 6,
   "id": "differential-hundred",
   "metadata": {},
   "outputs": [],
   "source": [
    "\n",
    "##Import phenotypic data  for one family toy set\n",
    "\n",
    "pheno <- read.csv(\"soynam_blups_yld.csv\")\n",
    "\n",
    "##Match phenotypic data to marker data\n",
    "\n",
    "ndx4 <- match(rownames(geno_num4), pheno$RIL)\n",
    "ndxNA <- which(is.na(ndx4))\n",
    "ndx5 <- ndx4[-ndxNA]\n",
    "\n",
    "pheno_sub <- pheno[ndx5, ]\n",
    "geno_num5 <- geno_num4[-ndxNA, ]\n"
   ]
  },
  {
   "cell_type": "markdown",
   "id": "conditional-difficulty",
   "metadata": {},
   "source": [
    "#### **Imputation of Simulated Genotypic Values**"
   ]
  },
  {
   "cell_type": "code",
   "execution_count": 7,
   "id": "photographic-organizer",
   "metadata": {},
   "outputs": [],
   "source": [
    "\n",
    "##Impute using Naive imputation\n",
    "\n",
    "# geno_imp <- replaceNAwithMean(geno_num5)\n",
    "geno_imp <- markov(geno_num5)"
   ]
  },
  {
   "cell_type": "markdown",
   "id": "increased-strap",
   "metadata": {},
   "source": [
    "#### **Fit GP Models using BGLR**\n",
    "##### **Bayes B**"
   ]
  },
  {
   "cell_type": "code",
   "execution_count": 8,
   "id": "diagnostic-catering",
   "metadata": {},
   "outputs": [
    {
     "name": "stdout",
     "output_type": "stream",
     "text": [
      "--------------------> Summary of data & model <-------------------- \n",
      "\n",
      " Number of phenotypes= 5148 \n",
      " Min (TRN)=  2594.833 \n",
      " Max (TRN)=  4400.046 \n",
      " Variance of phenotypes (TRN)= 69099.32 \n",
      " Residual variance= 56128.31 \n",
      " N-TRN= 5148   N-TST=0 \n",
      "\n",
      "\n",
      " -- Linear Predictor -- \n",
      "\n",
      " Intercept included by default\n",
      " Coefficientes in ETA[ 1 ] (  ) modeled as in  BayesB \n",
      "\n",
      "------------------------------------------------------------------\n"
     ]
    },
    {
     "data": {
      "image/png": "[encoded data removed]",
      "text/plain": [
       "Plot with title \"Training\""
      ]
     },
     "metadata": {
      "image/png": {
       "height": 420,
       "width": 420
      }
     },
     "output_type": "display_data"
    }
   ],
   "source": [
    "\n",
    "##Fit several models using BGLR\n",
    "\n",
    "#BayesB\n",
    "ETA_BB <- list(list(X=geno_imp, model='BayesB', probIn=.10))\n",
    "modelBB <- BGLR(y=pheno_sub$Yield_blup, ETA=ETA_BB, burnIn=1000, nIter=2000, verbose=FALSE)\n",
    "bbGebvs <- modelBB$yHat\n",
    "\n",
    "\n",
    "\n",
    "summary(modelBB)\n",
    "plot(modelBB)"
   ]
  },
  {
   "cell_type": "markdown",
   "id": "appointed-notion",
   "metadata": {},
   "source": [
    "##### **Bayes RR**"
   ]
  },
  {
   "cell_type": "code",
   "execution_count": 9,
   "id": "patient-coral",
   "metadata": {},
   "outputs": [
    {
     "name": "stdout",
     "output_type": "stream",
     "text": [
      "--------------------> Summary of data & model <-------------------- \n",
      "\n",
      " Number of phenotypes= 5148 \n",
      " Min (TRN)=  2594.833 \n",
      " Max (TRN)=  4400.046 \n",
      " Variance of phenotypes (TRN)= 69099.32 \n",
      " Residual variance= 55142.96 \n",
      " N-TRN= 5148   N-TST=0 \n",
      "\n",
      "\n",
      " -- Linear Predictor -- \n",
      "\n",
      " Intercept included by default\n",
      " Coefficientes in ETA[ 1 ] (  ) modeled as in  BRR \n",
      "\n",
      "------------------------------------------------------------------\n"
     ]
    }
   ],
   "source": [
    "\n",
    "##BayesRR\n",
    "ETA_BRR <- list(list(X=geno_imp, model='BRR', probIn=.10))\n",
    "modelBRR <- BGLR(y=pheno_sub$Yield_blup, ETA=ETA_BRR, burnIn=1000, nIter=2000, verbose=FALSE)\n",
    "summary(modelBRR)\n"
   ]
  },
  {
   "cell_type": "markdown",
   "id": "hundred-exhibition",
   "metadata": {},
   "source": [
    "##### **Bayes C**"
   ]
  },
  {
   "cell_type": "code",
   "execution_count": 10,
   "id": "reverse-factory",
   "metadata": {},
   "outputs": [
    {
     "name": "stdout",
     "output_type": "stream",
     "text": [
      "--------------------> Summary of data & model <-------------------- \n",
      "\n",
      " Number of phenotypes= 5148 \n",
      " Min (TRN)=  2594.833 \n",
      " Max (TRN)=  4400.046 \n",
      " Variance of phenotypes (TRN)= 69099.32 \n",
      " Residual variance= 55965.41 \n",
      " N-TRN= 5148   N-TST=0 \n",
      "\n",
      "\n",
      " -- Linear Predictor -- \n",
      "\n",
      " Intercept included by default\n",
      " Coefficientes in ETA[ 1 ] (  ) modeled as in  BayesC \n",
      "\n",
      "------------------------------------------------------------------\n"
     ]
    },
    {
     "data": {
      "image/png": "[encoded data removed]",
      "text/plain": [
       "plot without title"
      ]
     },
     "metadata": {
      "image/png": {
       "height": 420,
       "width": 420
      }
     },
     "output_type": "display_data"
    }
   ],
   "source": [
    "\n",
    "##BayesC\n",
    "ETA_BC <- list(list(X=geno_imp, model='BayesC', probIn=.10))\n",
    "modelBC <- BGLR(y=pheno_sub$Yield_blup, ETA=ETA_BC, burnIn=1000, nIter=2000, verbose=FALSE)\n",
    "summary(modelBC)\n",
    "plot(predict(modelBB), predict(modelBC))\n"
   ]
  },
  {
   "cell_type": "code",
   "execution_count": 11,
   "id": "hybrid-flexibility",
   "metadata": {},
   "outputs": [],
   "source": [
    "\n",
    "### \n",
    " \n",
    "##Fit several models using SOMMER\n",
    "\n",
    "### Multi-Environ / CS \n",
    "\n",
    "\n",
    "pheno <- read.csv(\"SoyNAM_Pheno.csv\")\n",
    "geno_num4_x <- cbind(rownames(geno_num4),geno_num4)\n",
    "\n",
    "colnames(geno_num4_x)[1]<- \"strain\"\n",
    "## Merge Geno and Pheno Data\n",
    "Data <- merge(geno_num4_x,pheno,by=\"strain\",all=TRUE)\n",
    "\n",
    "## Remove with missing yiled_blup values \n",
    "\n",
    "YldNA_Indices <- which(is.na(Data$yield))\n",
    "Data_Sub <- Data[-YldNA_Indices,]\n",
    "\n",
    "\n",
    "genoStrain <- unique(geno_num4_x[,\"strain\"])\n",
    "genoStrainIndices <- which(Data_Sub[,\"strain\"] %in% genoStrain)\n",
    "\n",
    "genoIndices <- grep(\"ss\",colnames(geno_num4_x))\n",
    "initGenoIndx <- genoIndices[1]\n",
    "finalGenoIndx <- genoIndices[length(genoIndices)]\n",
    "phenoIndices <- c(1,c((finalGenoIndx+1):ncol(Data_Sub)))\n",
    "\n",
    "pheno_sub <- Data_Sub[genoStrainIndices,phenoIndices]\n",
    "geno_num4b <- Data_Sub[genoStrainIndices,c(1,genoIndices)]\n",
    "\n",
    "uniqueStrainIndices<- which(!duplicated(geno_num4b[,\"strain\"]))\n",
    "geno_num5 <- geno_num4b[uniqueStrainIndices,]\n",
    "\n",
    "## Check \n",
    "\n",
    "### set 'yield' colname to 'Yield_blup'\n",
    "\n",
    "yldCol <- which(colnames(pheno_sub) %in% \"yield\")\n",
    "colnames(pheno_sub)[yldCol] <- \"Yield_blup\" \n",
    "\n",
    "### Select 3 environs with largest number of evaluations (lines)  \n",
    "\n",
    "env_sub <-  names(which(table(pheno_sub[,\"environ\"])>5100)[1:3])\n",
    "\n",
    "env_sub_indices <- which(pheno_sub[,\"environ\"] %in% env_sub)\n",
    "\n",
    "## Subset Data and Geno tables \n",
    "DT <- pheno_sub[env_sub_indices,]\n",
    "\n",
    "DT$environ <- as.factor(DT$environ)\n"
   ]
  },
  {
   "cell_type": "code",
   "execution_count": 12,
   "id": "spiritual-ordering",
   "metadata": {},
   "outputs": [],
   "source": [
    "\n",
    "\n",
    "#### Impute genotable\n",
    "\n",
    "geno_imp <- markov(apply(geno_num5[,-1],2,as.numeric))\n",
    "rownames(geno_imp) <- geno_num5[,\"strain\"]\n"
   ]
  },
  {
   "cell_type": "code",
   "execution_count": 13,
   "id": "falling-invite",
   "metadata": {},
   "outputs": [],
   "source": [
    "\n",
    "###\n",
    "env_geno_sub_indices <- which(rownames(geno_imp) %in% unique(DT[,\"strain\"]))\n",
    "geno_imp_sub <- geno_imp[env_geno_sub_indices,]\n",
    "\n"
   ]
  },
  {
   "cell_type": "code",
   "execution_count": 14,
   "id": "undefined-certification",
   "metadata": {},
   "outputs": [],
   "source": [
    "K_rr <- A.mat(geno_imp_sub)\n",
    "colnames(K_rr) <-rownames(geno_imp_sub)\n",
    "rownames(K_rr) <- rownames(geno_imp_sub)\n",
    "A <- K_rr\n",
    "\n",
    "### Limit no_of_environments to create EA matrix of reasonable mem size.. \n",
    "\n",
    "A_Sub <- A[1:500,1:500]\n",
    "DT_Sub <- DT[which(DT[,\"strain\"] %in% rownames(A_Sub)),]\n",
    "\n",
    "E <- diag(length(unique(DT$environ)))\n",
    "rownames(E) <- colnames(E) <- unique(DT$environ)\n",
    "DT_Sub$environ <- as.factor(DT_Sub$environ)"
   ]
  },
  {
   "cell_type": "code",
   "execution_count": 15,
   "id": "neither-closer",
   "metadata": {},
   "outputs": [],
   "source": [
    "\n",
    "### Same set of strains in each of the environments \n",
    "\n",
    "rmStrains <- names(which(table(DT_Sub[,\"strain\"]) <3))\n",
    "DT_Sub1 <- DT_Sub[-which(DT_Sub[,\"strain\"] %in% rmStrains),]\n",
    "\n",
    "A_Sub1 <- A_Sub[-which(rownames(A_Sub) %in% rmStrains),-which(rownames(A_Sub) %in% rmStrains)]\n",
    "\n",
    "### Avg yield of strains across 3 locations\n",
    "DT_Sub1_Tb <- as_tibble(DT_Sub1)\n",
    "DT_Sub1_Strain <- DT_Sub1_Tb %>% group_by(strain)\n",
    "DT_Sub1_Strain_Comb <- (DT_Sub1_Strain) %>% summarise( \n",
    "    Yield_blup =mean(Yield_blup,na.rm=TRUE))\n",
    "\n",
    "### Avg yield in 3 env\n",
    "\n",
    "DT_Sub1_Tb <- as_tibble(DT_Sub1)\n",
    "DT_Sub1_env <- DT_Sub1_Tb %>% group_by(environ)\n",
    "DT_Sub1_env_Comb <- (DT_Sub1_env) %>% summarise( \n",
    "  Yield_blup =mean(Yield_blup,na.rm=TRUE))\n"
   ]
  },
  {
   "cell_type": "raw",
   "id": "considerable-celebrity",
   "metadata": {},
   "source": []
  },
  {
   "cell_type": "markdown",
   "id": "annoying-secret",
   "metadata": {},
   "source": [
    "### *** Exercise - Compare several var-covar structures in SOMMER package ***\n"
   ]
  },
  {
   "cell_type": "markdown",
   "id": "massive-coupon",
   "metadata": {},
   "source": [
    "#### **Fit SOMMER model with CS var-covar structure** ####"
   ]
  },
  {
   "cell_type": "code",
   "execution_count": 17,
   "id": "revised-reproduction",
   "metadata": {},
   "outputs": [
    {
     "data": {
      "text/html": [
       "<dl>\n",
       "\t<dt>$groups</dt>\n",
       "\t\t<dd><table class=\"dataframe\">\n",
       "<caption>A matrix: 2 × 1 of type int</caption>\n",
       "<thead>\n",
       "\t<tr><th></th><th scope=col>Yield_blup</th></tr>\n",
       "</thead>\n",
       "<tbody>\n",
       "\t<tr><th scope=row>u:strain</th><td> 494</td></tr>\n",
       "\t<tr><th scope=row>u:environ:strain</th><td>1482</td></tr>\n",
       "</tbody>\n",
       "</table>\n",
       "</dd>\n",
       "\t<dt>$varcomp</dt>\n",
       "\t\t<dd><table class=\"dataframe\">\n",
       "<caption>A data.frame: 3 × 4</caption>\n",
       "<thead>\n",
       "\t<tr><th></th><th scope=col>VarComp</th><th scope=col>VarCompSE</th><th scope=col>Zratio</th><th scope=col>Constraint</th></tr>\n",
       "\t<tr><th></th><th scope=col>&lt;dbl&gt;</th><th scope=col>&lt;dbl&gt;</th><th scope=col>&lt;dbl&gt;</th><th scope=col>&lt;chr&gt;</th></tr>\n",
       "</thead>\n",
       "<tbody>\n",
       "\t<tr><th scope=row>u:strain.Yield_blup-Yield_blup</th><td>     0.00</td><td>11503.43</td><td> 0.000000</td><td>Positive</td></tr>\n",
       "\t<tr><th scope=row>u:environ:strain.Yield_blup-Yield_blup</th><td> 65969.28</td><td>20118.21</td><td> 3.279082</td><td>Positive</td></tr>\n",
       "\t<tr><th scope=row>units.Yield_blup-Yield_blup</th><td>343674.11</td><td>13300.93</td><td>25.838345</td><td>Positive</td></tr>\n",
       "</tbody>\n",
       "</table>\n",
       "</dd>\n",
       "\t<dt>$betas</dt>\n",
       "\t\t<dd><table class=\"dataframe\">\n",
       "<caption>A data.frame: 3 × 5</caption>\n",
       "<thead>\n",
       "\t<tr><th scope=col>Trait</th><th scope=col>Effect</th><th scope=col>Estimate</th><th scope=col>Std.Error</th><th scope=col>t.value</th></tr>\n",
       "\t<tr><th scope=col>&lt;fct&gt;</th><th scope=col>&lt;fct&gt;</th><th scope=col>&lt;dbl&gt;</th><th scope=col>&lt;dbl&gt;</th><th scope=col>&lt;dbl&gt;</th></tr>\n",
       "</thead>\n",
       "<tbody>\n",
       "\t<tr><td>Yield_blup</td><td>environIA_2012</td><td>3146.983</td><td>28.54727</td><td>110.23762</td></tr>\n",
       "\t<tr><td>Yield_blup</td><td>environIA_2013</td><td>2778.546</td><td>28.54727</td><td> 97.33139</td></tr>\n",
       "\t<tr><td>Yield_blup</td><td>environIL_2012</td><td>3633.347</td><td>28.54727</td><td>127.27474</td></tr>\n",
       "</tbody>\n",
       "</table>\n",
       "</dd>\n",
       "\t<dt>$method</dt>\n",
       "\t\t<dd>'NR'</dd>\n",
       "\t<dt>$logo</dt>\n",
       "\t\t<dd><table class=\"dataframe\">\n",
       "<caption>A data.frame: 1 × 5</caption>\n",
       "<thead>\n",
       "\t<tr><th></th><th scope=col>logLik</th><th scope=col>AIC</th><th scope=col>BIC</th><th scope=col>Method</th><th scope=col>Converge</th></tr>\n",
       "\t<tr><th></th><th scope=col>&lt;dbl&gt;</th><th scope=col>&lt;dbl&gt;</th><th scope=col>&lt;dbl&gt;</th><th scope=col>&lt;chr&gt;</th><th scope=col>&lt;lgl&gt;</th></tr>\n",
       "</thead>\n",
       "<tbody>\n",
       "\t<tr><th scope=row>Value</th><td>-523.9647</td><td>1053.929</td><td>1069.833</td><td>NR</td><td>TRUE</td></tr>\n",
       "</tbody>\n",
       "</table>\n",
       "</dd>\n",
       "</dl>\n"
      ],
      "text/latex": [
       "\\begin{description}\n",
       "\\item[\\$groups] A matrix: 2 × 1 of type int\n",
       "\\begin{tabular}{r|l}\n",
       "  & Yield\\_blup\\\\\n",
       "\\hline\n",
       "\tu:strain &  494\\\\\n",
       "\tu:environ:strain & 1482\\\\\n",
       "\\end{tabular}\n",
       "\n",
       "\\item[\\$varcomp] A data.frame: 3 × 4\n",
       "\\begin{tabular}{r|llll}\n",
       "  & VarComp & VarCompSE & Zratio & Constraint\\\\\n",
       "  & <dbl> & <dbl> & <dbl> & <chr>\\\\\n",
       "\\hline\n",
       "\tu:strain.Yield\\_blup-Yield\\_blup &      0.00 & 11503.43 &  0.000000 & Positive\\\\\n",
       "\tu:environ:strain.Yield\\_blup-Yield\\_blup &  65969.28 & 20118.21 &  3.279082 & Positive\\\\\n",
       "\tunits.Yield\\_blup-Yield\\_blup & 343674.11 & 13300.93 & 25.838345 & Positive\\\\\n",
       "\\end{tabular}\n",
       "\n",
       "\\item[\\$betas] A data.frame: 3 × 5\n",
       "\\begin{tabular}{lllll}\n",
       " Trait & Effect & Estimate & Std.Error & t.value\\\\\n",
       " <fct> & <fct> & <dbl> & <dbl> & <dbl>\\\\\n",
       "\\hline\n",
       "\t Yield\\_blup & environIA\\_2012 & 3146.983 & 28.54727 & 110.23762\\\\\n",
       "\t Yield\\_blup & environIA\\_2013 & 2778.546 & 28.54727 &  97.33139\\\\\n",
       "\t Yield\\_blup & environIL\\_2012 & 3633.347 & 28.54727 & 127.27474\\\\\n",
       "\\end{tabular}\n",
       "\n",
       "\\item[\\$method] 'NR'\n",
       "\\item[\\$logo] A data.frame: 1 × 5\n",
       "\\begin{tabular}{r|lllll}\n",
       "  & logLik & AIC & BIC & Method & Converge\\\\\n",
       "  & <dbl> & <dbl> & <dbl> & <chr> & <lgl>\\\\\n",
       "\\hline\n",
       "\tValue & -523.9647 & 1053.929 & 1069.833 & NR & TRUE\\\\\n",
       "\\end{tabular}\n",
       "\n",
       "\\end{description}\n"
      ],
      "text/markdown": [
       "$groups\n",
       ":   \n",
       "A matrix: 2 × 1 of type int\n",
       "\n",
       "| <!--/--> | Yield_blup |\n",
       "|---|---|\n",
       "| u:strain |  494 |\n",
       "| u:environ:strain | 1482 |\n",
       "\n",
       "\n",
       "$varcomp\n",
       ":   \n",
       "A data.frame: 3 × 4\n",
       "\n",
       "| <!--/--> | VarComp &lt;dbl&gt; | VarCompSE &lt;dbl&gt; | Zratio &lt;dbl&gt; | Constraint &lt;chr&gt; |\n",
       "|---|---|---|---|---|\n",
       "| u:strain.Yield_blup-Yield_blup |      0.00 | 11503.43 |  0.000000 | Positive |\n",
       "| u:environ:strain.Yield_blup-Yield_blup |  65969.28 | 20118.21 |  3.279082 | Positive |\n",
       "| units.Yield_blup-Yield_blup | 343674.11 | 13300.93 | 25.838345 | Positive |\n",
       "\n",
       "\n",
       "$betas\n",
       ":   \n",
       "A data.frame: 3 × 5\n",
       "\n",
       "| Trait &lt;fct&gt; | Effect &lt;fct&gt; | Estimate &lt;dbl&gt; | Std.Error &lt;dbl&gt; | t.value &lt;dbl&gt; |\n",
       "|---|---|---|---|---|\n",
       "| Yield_blup | environIA_2012 | 3146.983 | 28.54727 | 110.23762 |\n",
       "| Yield_blup | environIA_2013 | 2778.546 | 28.54727 |  97.33139 |\n",
       "| Yield_blup | environIL_2012 | 3633.347 | 28.54727 | 127.27474 |\n",
       "\n",
       "\n",
       "$method\n",
       ":   'NR'\n",
       "$logo\n",
       ":   \n",
       "A data.frame: 1 × 5\n",
       "\n",
       "| <!--/--> | logLik &lt;dbl&gt; | AIC &lt;dbl&gt; | BIC &lt;dbl&gt; | Method &lt;chr&gt; | Converge &lt;lgl&gt; |\n",
       "|---|---|---|---|---|---|\n",
       "| Value | -523.9647 | 1053.929 | 1069.833 | NR | TRUE |\n",
       "\n",
       "\n",
       "\n",
       "\n"
      ],
      "text/plain": [
       "========================================================================\n",
       "               Multivariate Linear Mixed Model fit by REML               \n",
       "****************************  sommer 4.1  **************************** \n",
       "========================================================================\n",
       "         logLik      AIC      BIC Method Converge\n",
       "Value -523.9647 1053.929 1069.833     NR     TRUE\n",
       "========================================================================\n",
       "Variance-Covariance components:\n",
       "                                       VarComp VarCompSE Zratio Constraint\n",
       "u:strain.Yield_blup-Yield_blup               0     11503  0.000   Positive\n",
       "u:environ:strain.Yield_blup-Yield_blup   65969     20118  3.279   Positive\n",
       "units.Yield_blup-Yield_blup             343674     13301 25.838   Positive\n",
       "========================================================================\n",
       "Fixed effects:\n",
       "       Trait         Effect Estimate Std.Error t.value\n",
       "1 Yield_blup environIA_2012     3147     28.55  110.24\n",
       "2 Yield_blup environIA_2013     2779     28.55   97.33\n",
       "3 Yield_blup environIL_2012     3633     28.55  127.27\n",
       "========================================================================\n",
       "Groups and observations:\n",
       "                 Yield_blup\n",
       "u:strain                494\n",
       "u:environ:strain       1482\n",
       "========================================================================\n",
       "Use the '$' sign to access results and parameters"
      ]
     },
     "metadata": {},
     "output_type": "display_data"
    }
   ],
   "source": [
    "\n",
    "E <- diag(length(unique(DT_Sub1$environ)))\n",
    "rownames(E) <- colnames(E) <- unique(DT_Sub1$environ)\n",
    "\n",
    "EA <- kronecker(E,A_Sub1, make.dimnames = TRUE)\n",
    "DT_Sub1$environ <- as.factor(DT_Sub1$environ)\n",
    "DT_Sub1$strain <- as.factor(DT_Sub1$strain)\n",
    "\n",
    "fitCS <- mmer(Yield_blup~environ-1,\n",
    "              random= ~ vs(strain, Gu=A_Sub1) + vs(environ:strain, Gu=EA),\n",
    "              rcov= ~ units,\n",
    "              data=DT_Sub1, verbose = FALSE)\n",
    "summary(fitCS)"
   ]
  },
  {
   "cell_type": "markdown",
   "id": "still-report",
   "metadata": {},
   "source": [
    "#### **Main Effect** ####"
   ]
  },
  {
   "cell_type": "code",
   "execution_count": 21,
   "id": "sharing-queens",
   "metadata": {},
   "outputs": [
    {
     "data": {
      "text/html": [
       "<dl>\n",
       "\t<dt>$groups</dt>\n",
       "\t\t<dd><table class=\"dataframe\">\n",
       "<caption>A matrix: 1 × 1 of type int</caption>\n",
       "<thead>\n",
       "\t<tr><th></th><th scope=col>Yield_blup</th></tr>\n",
       "</thead>\n",
       "<tbody>\n",
       "\t<tr><th scope=row>u:strain</th><td>494</td></tr>\n",
       "</tbody>\n",
       "</table>\n",
       "</dd>\n",
       "\t<dt>$varcomp</dt>\n",
       "\t\t<dd><table class=\"dataframe\">\n",
       "<caption>A data.frame: 2 × 4</caption>\n",
       "<thead>\n",
       "\t<tr><th></th><th scope=col>VarComp</th><th scope=col>VarCompSE</th><th scope=col>Zratio</th><th scope=col>Constraint</th></tr>\n",
       "\t<tr><th></th><th scope=col>&lt;dbl&gt;</th><th scope=col>&lt;dbl&gt;</th><th scope=col>&lt;dbl&gt;</th><th scope=col>&lt;chr&gt;</th></tr>\n",
       "</thead>\n",
       "<tbody>\n",
       "\t<tr><th scope=row>u:strain.Yield_blup-Yield_blup</th><td> 13376.89</td><td> 7393.675</td><td> 1.809235</td><td>Positive</td></tr>\n",
       "\t<tr><th scope=row>units.Yield_blup-Yield_blup</th><td>372917.05</td><td>13908.256</td><td>26.812640</td><td>Positive</td></tr>\n",
       "</tbody>\n",
       "</table>\n",
       "</dd>\n",
       "\t<dt>$betas</dt>\n",
       "\t\t<dd><table class=\"dataframe\">\n",
       "<caption>A data.frame: 3 × 5</caption>\n",
       "<thead>\n",
       "\t<tr><th scope=col>Trait</th><th scope=col>Effect</th><th scope=col>Estimate</th><th scope=col>Std.Error</th><th scope=col>t.value</th></tr>\n",
       "\t<tr><th scope=col>&lt;fct&gt;</th><th scope=col>&lt;fct&gt;</th><th scope=col>&lt;dbl&gt;</th><th scope=col>&lt;dbl&gt;</th><th scope=col>&lt;dbl&gt;</th></tr>\n",
       "</thead>\n",
       "<tbody>\n",
       "\t<tr><td>Yield_blup</td><td>environIA_2012</td><td>3133.676</td><td>28.00058</td><td>111.9147</td></tr>\n",
       "\t<tr><td>Yield_blup</td><td>environIA_2013</td><td>2800.650</td><td>28.00058</td><td>100.0211</td></tr>\n",
       "\t<tr><td>Yield_blup</td><td>environIL_2012</td><td>3617.185</td><td>28.00058</td><td>129.1825</td></tr>\n",
       "</tbody>\n",
       "</table>\n",
       "</dd>\n",
       "\t<dt>$method</dt>\n",
       "\t\t<dd>'NR'</dd>\n",
       "\t<dt>$logo</dt>\n",
       "\t\t<dd><table class=\"dataframe\">\n",
       "<caption>A data.frame: 1 × 5</caption>\n",
       "<thead>\n",
       "\t<tr><th></th><th scope=col>logLik</th><th scope=col>AIC</th><th scope=col>BIC</th><th scope=col>Method</th><th scope=col>Converge</th></tr>\n",
       "\t<tr><th></th><th scope=col>&lt;dbl&gt;</th><th scope=col>&lt;dbl&gt;</th><th scope=col>&lt;dbl&gt;</th><th scope=col>&lt;chr&gt;</th><th scope=col>&lt;lgl&gt;</th></tr>\n",
       "</thead>\n",
       "<tbody>\n",
       "\t<tr><th scope=row>Value</th><td>-545.1281</td><td>1096.256</td><td>1112.16</td><td>NR</td><td>TRUE</td></tr>\n",
       "</tbody>\n",
       "</table>\n",
       "</dd>\n",
       "</dl>\n"
      ],
      "text/latex": [
       "\\begin{description}\n",
       "\\item[\\$groups] A matrix: 1 × 1 of type int\n",
       "\\begin{tabular}{r|l}\n",
       "  & Yield\\_blup\\\\\n",
       "\\hline\n",
       "\tu:strain & 494\\\\\n",
       "\\end{tabular}\n",
       "\n",
       "\\item[\\$varcomp] A data.frame: 2 × 4\n",
       "\\begin{tabular}{r|llll}\n",
       "  & VarComp & VarCompSE & Zratio & Constraint\\\\\n",
       "  & <dbl> & <dbl> & <dbl> & <chr>\\\\\n",
       "\\hline\n",
       "\tu:strain.Yield\\_blup-Yield\\_blup &  13376.89 &  7393.675 &  1.809235 & Positive\\\\\n",
       "\tunits.Yield\\_blup-Yield\\_blup & 372917.05 & 13908.256 & 26.812640 & Positive\\\\\n",
       "\\end{tabular}\n",
       "\n",
       "\\item[\\$betas] A data.frame: 3 × 5\n",
       "\\begin{tabular}{lllll}\n",
       " Trait & Effect & Estimate & Std.Error & t.value\\\\\n",
       " <fct> & <fct> & <dbl> & <dbl> & <dbl>\\\\\n",
       "\\hline\n",
       "\t Yield\\_blup & environIA\\_2012 & 3133.676 & 28.00058 & 111.9147\\\\\n",
       "\t Yield\\_blup & environIA\\_2013 & 2800.650 & 28.00058 & 100.0211\\\\\n",
       "\t Yield\\_blup & environIL\\_2012 & 3617.185 & 28.00058 & 129.1825\\\\\n",
       "\\end{tabular}\n",
       "\n",
       "\\item[\\$method] 'NR'\n",
       "\\item[\\$logo] A data.frame: 1 × 5\n",
       "\\begin{tabular}{r|lllll}\n",
       "  & logLik & AIC & BIC & Method & Converge\\\\\n",
       "  & <dbl> & <dbl> & <dbl> & <chr> & <lgl>\\\\\n",
       "\\hline\n",
       "\tValue & -545.1281 & 1096.256 & 1112.16 & NR & TRUE\\\\\n",
       "\\end{tabular}\n",
       "\n",
       "\\end{description}\n"
      ],
      "text/markdown": [
       "$groups\n",
       ":   \n",
       "A matrix: 1 × 1 of type int\n",
       "\n",
       "| <!--/--> | Yield_blup |\n",
       "|---|---|\n",
       "| u:strain | 494 |\n",
       "\n",
       "\n",
       "$varcomp\n",
       ":   \n",
       "A data.frame: 2 × 4\n",
       "\n",
       "| <!--/--> | VarComp &lt;dbl&gt; | VarCompSE &lt;dbl&gt; | Zratio &lt;dbl&gt; | Constraint &lt;chr&gt; |\n",
       "|---|---|---|---|---|\n",
       "| u:strain.Yield_blup-Yield_blup |  13376.89 |  7393.675 |  1.809235 | Positive |\n",
       "| units.Yield_blup-Yield_blup | 372917.05 | 13908.256 | 26.812640 | Positive |\n",
       "\n",
       "\n",
       "$betas\n",
       ":   \n",
       "A data.frame: 3 × 5\n",
       "\n",
       "| Trait &lt;fct&gt; | Effect &lt;fct&gt; | Estimate &lt;dbl&gt; | Std.Error &lt;dbl&gt; | t.value &lt;dbl&gt; |\n",
       "|---|---|---|---|---|\n",
       "| Yield_blup | environIA_2012 | 3133.676 | 28.00058 | 111.9147 |\n",
       "| Yield_blup | environIA_2013 | 2800.650 | 28.00058 | 100.0211 |\n",
       "| Yield_blup | environIL_2012 | 3617.185 | 28.00058 | 129.1825 |\n",
       "\n",
       "\n",
       "$method\n",
       ":   'NR'\n",
       "$logo\n",
       ":   \n",
       "A data.frame: 1 × 5\n",
       "\n",
       "| <!--/--> | logLik &lt;dbl&gt; | AIC &lt;dbl&gt; | BIC &lt;dbl&gt; | Method &lt;chr&gt; | Converge &lt;lgl&gt; |\n",
       "|---|---|---|---|---|---|\n",
       "| Value | -545.1281 | 1096.256 | 1112.16 | NR | TRUE |\n",
       "\n",
       "\n",
       "\n",
       "\n"
      ],
      "text/plain": [
       "================================================================\n",
       "           Multivariate Linear Mixed Model fit by REML           \n",
       "************************  sommer 4.1  ************************ \n",
       "================================================================\n",
       "         logLik      AIC     BIC Method Converge\n",
       "Value -545.1281 1096.256 1112.16     NR     TRUE\n",
       "================================================================\n",
       "Variance-Covariance components:\n",
       "                               VarComp VarCompSE Zratio Constraint\n",
       "u:strain.Yield_blup-Yield_blup   13377      7394  1.809   Positive\n",
       "units.Yield_blup-Yield_blup     372917     13908 26.813   Positive\n",
       "================================================================\n",
       "Fixed effects:\n",
       "       Trait         Effect Estimate Std.Error t.value\n",
       "1 Yield_blup environIA_2012     3134        28   111.9\n",
       "2 Yield_blup environIA_2013     2801        28   100.0\n",
       "3 Yield_blup environIL_2012     3617        28   129.2\n",
       "================================================================\n",
       "Groups and observations:\n",
       "         Yield_blup\n",
       "u:strain        494\n",
       "================================================================\n",
       "Use the '$' sign to access results and parameters"
      ]
     },
     "metadata": {},
     "output_type": "display_data"
    }
   ],
   "source": [
    "\n",
    "fitMain <- mmer(Yield_blup~environ-1,\n",
    "                random=~vs(strain,Gu=A_Sub1),\n",
    "                rcov=~units,\n",
    "                data=DT_Sub1,verbose=FALSE)\n",
    "summary(fitMain)\n"
   ]
  },
  {
   "cell_type": "markdown",
   "id": "strange-token",
   "metadata": {},
   "source": [
    "#### **Diagonal Structure** ####"
   ]
  },
  {
   "cell_type": "code",
   "execution_count": 22,
   "id": "subsequent-hygiene",
   "metadata": {},
   "outputs": [
    {
     "data": {
      "text/html": [
       "<dl>\n",
       "\t<dt>$groups</dt>\n",
       "\t\t<dd><table class=\"dataframe\">\n",
       "<caption>A matrix: 3 × 1 of type int</caption>\n",
       "<thead>\n",
       "\t<tr><th></th><th scope=col>Yield_blup</th></tr>\n",
       "</thead>\n",
       "<tbody>\n",
       "\t<tr><th scope=row>IA_2012:strain</th><td>494</td></tr>\n",
       "\t<tr><th scope=row>IA_2013:strain</th><td>494</td></tr>\n",
       "\t<tr><th scope=row>IL_2012:strain</th><td>494</td></tr>\n",
       "</tbody>\n",
       "</table>\n",
       "</dd>\n",
       "\t<dt>$varcomp</dt>\n",
       "\t\t<dd><table class=\"dataframe\">\n",
       "<caption>A data.frame: 4 × 4</caption>\n",
       "<thead>\n",
       "\t<tr><th></th><th scope=col>VarComp</th><th scope=col>VarCompSE</th><th scope=col>Zratio</th><th scope=col>Constraint</th></tr>\n",
       "\t<tr><th></th><th scope=col>&lt;dbl&gt;</th><th scope=col>&lt;dbl&gt;</th><th scope=col>&lt;dbl&gt;</th><th scope=col>&lt;chr&gt;</th></tr>\n",
       "</thead>\n",
       "<tbody>\n",
       "\t<tr><th scope=row>IA_2012:strain.Yield_blup-Yield_blup</th><td> 21787.27</td><td>15810.61</td><td> 1.378016</td><td>Positive</td></tr>\n",
       "\t<tr><th scope=row>IA_2013:strain.Yield_blup-Yield_blup</th><td> 95090.50</td><td>35633.20</td><td> 2.668593</td><td>Positive</td></tr>\n",
       "\t<tr><th scope=row>IL_2012:strain.Yield_blup-Yield_blup</th><td> 91532.63</td><td>34818.99</td><td> 2.628814</td><td>Positive</td></tr>\n",
       "\t<tr><th scope=row>units.Yield_blup-Yield_blup</th><td>342872.02</td><td>13262.48</td><td>25.852781</td><td>Positive</td></tr>\n",
       "</tbody>\n",
       "</table>\n",
       "</dd>\n",
       "\t<dt>$betas</dt>\n",
       "\t\t<dd><table class=\"dataframe\">\n",
       "<caption>A data.frame: 3 × 5</caption>\n",
       "<thead>\n",
       "\t<tr><th scope=col>Trait</th><th scope=col>Effect</th><th scope=col>Estimate</th><th scope=col>Std.Error</th><th scope=col>t.value</th></tr>\n",
       "\t<tr><th scope=col>&lt;fct&gt;</th><th scope=col>&lt;fct&gt;</th><th scope=col>&lt;dbl&gt;</th><th scope=col>&lt;dbl&gt;</th><th scope=col>&lt;dbl&gt;</th></tr>\n",
       "</thead>\n",
       "<tbody>\n",
       "\t<tr><td>Yield_blup</td><td>environIA_2012</td><td>3137.698</td><td>27.36345</td><td>114.66749</td></tr>\n",
       "\t<tr><td>Yield_blup</td><td>environIA_2013</td><td>2777.267</td><td>29.06154</td><td> 95.56506</td></tr>\n",
       "\t<tr><td>Yield_blup</td><td>environIL_2012</td><td>3636.143</td><td>29.00030</td><td>125.38295</td></tr>\n",
       "</tbody>\n",
       "</table>\n",
       "</dd>\n",
       "\t<dt>$method</dt>\n",
       "\t\t<dd>'NR'</dd>\n",
       "\t<dt>$logo</dt>\n",
       "\t\t<dd><table class=\"dataframe\">\n",
       "<caption>A data.frame: 1 × 5</caption>\n",
       "<thead>\n",
       "\t<tr><th></th><th scope=col>logLik</th><th scope=col>AIC</th><th scope=col>BIC</th><th scope=col>Method</th><th scope=col>Converge</th></tr>\n",
       "\t<tr><th></th><th scope=col>&lt;dbl&gt;</th><th scope=col>&lt;dbl&gt;</th><th scope=col>&lt;dbl&gt;</th><th scope=col>&lt;chr&gt;</th><th scope=col>&lt;lgl&gt;</th></tr>\n",
       "</thead>\n",
       "<tbody>\n",
       "\t<tr><th scope=row>Value</th><td>-521.5774</td><td>1049.155</td><td>1065.058</td><td>NR</td><td>TRUE</td></tr>\n",
       "</tbody>\n",
       "</table>\n",
       "</dd>\n",
       "</dl>\n"
      ],
      "text/latex": [
       "\\begin{description}\n",
       "\\item[\\$groups] A matrix: 3 × 1 of type int\n",
       "\\begin{tabular}{r|l}\n",
       "  & Yield\\_blup\\\\\n",
       "\\hline\n",
       "\tIA\\_2012:strain & 494\\\\\n",
       "\tIA\\_2013:strain & 494\\\\\n",
       "\tIL\\_2012:strain & 494\\\\\n",
       "\\end{tabular}\n",
       "\n",
       "\\item[\\$varcomp] A data.frame: 4 × 4\n",
       "\\begin{tabular}{r|llll}\n",
       "  & VarComp & VarCompSE & Zratio & Constraint\\\\\n",
       "  & <dbl> & <dbl> & <dbl> & <chr>\\\\\n",
       "\\hline\n",
       "\tIA\\_2012:strain.Yield\\_blup-Yield\\_blup &  21787.27 & 15810.61 &  1.378016 & Positive\\\\\n",
       "\tIA\\_2013:strain.Yield\\_blup-Yield\\_blup &  95090.50 & 35633.20 &  2.668593 & Positive\\\\\n",
       "\tIL\\_2012:strain.Yield\\_blup-Yield\\_blup &  91532.63 & 34818.99 &  2.628814 & Positive\\\\\n",
       "\tunits.Yield\\_blup-Yield\\_blup & 342872.02 & 13262.48 & 25.852781 & Positive\\\\\n",
       "\\end{tabular}\n",
       "\n",
       "\\item[\\$betas] A data.frame: 3 × 5\n",
       "\\begin{tabular}{lllll}\n",
       " Trait & Effect & Estimate & Std.Error & t.value\\\\\n",
       " <fct> & <fct> & <dbl> & <dbl> & <dbl>\\\\\n",
       "\\hline\n",
       "\t Yield\\_blup & environIA\\_2012 & 3137.698 & 27.36345 & 114.66749\\\\\n",
       "\t Yield\\_blup & environIA\\_2013 & 2777.267 & 29.06154 &  95.56506\\\\\n",
       "\t Yield\\_blup & environIL\\_2012 & 3636.143 & 29.00030 & 125.38295\\\\\n",
       "\\end{tabular}\n",
       "\n",
       "\\item[\\$method] 'NR'\n",
       "\\item[\\$logo] A data.frame: 1 × 5\n",
       "\\begin{tabular}{r|lllll}\n",
       "  & logLik & AIC & BIC & Method & Converge\\\\\n",
       "  & <dbl> & <dbl> & <dbl> & <chr> & <lgl>\\\\\n",
       "\\hline\n",
       "\tValue & -521.5774 & 1049.155 & 1065.058 & NR & TRUE\\\\\n",
       "\\end{tabular}\n",
       "\n",
       "\\end{description}\n"
      ],
      "text/markdown": [
       "$groups\n",
       ":   \n",
       "A matrix: 3 × 1 of type int\n",
       "\n",
       "| <!--/--> | Yield_blup |\n",
       "|---|---|\n",
       "| IA_2012:strain | 494 |\n",
       "| IA_2013:strain | 494 |\n",
       "| IL_2012:strain | 494 |\n",
       "\n",
       "\n",
       "$varcomp\n",
       ":   \n",
       "A data.frame: 4 × 4\n",
       "\n",
       "| <!--/--> | VarComp &lt;dbl&gt; | VarCompSE &lt;dbl&gt; | Zratio &lt;dbl&gt; | Constraint &lt;chr&gt; |\n",
       "|---|---|---|---|---|\n",
       "| IA_2012:strain.Yield_blup-Yield_blup |  21787.27 | 15810.61 |  1.378016 | Positive |\n",
       "| IA_2013:strain.Yield_blup-Yield_blup |  95090.50 | 35633.20 |  2.668593 | Positive |\n",
       "| IL_2012:strain.Yield_blup-Yield_blup |  91532.63 | 34818.99 |  2.628814 | Positive |\n",
       "| units.Yield_blup-Yield_blup | 342872.02 | 13262.48 | 25.852781 | Positive |\n",
       "\n",
       "\n",
       "$betas\n",
       ":   \n",
       "A data.frame: 3 × 5\n",
       "\n",
       "| Trait &lt;fct&gt; | Effect &lt;fct&gt; | Estimate &lt;dbl&gt; | Std.Error &lt;dbl&gt; | t.value &lt;dbl&gt; |\n",
       "|---|---|---|---|---|\n",
       "| Yield_blup | environIA_2012 | 3137.698 | 27.36345 | 114.66749 |\n",
       "| Yield_blup | environIA_2013 | 2777.267 | 29.06154 |  95.56506 |\n",
       "| Yield_blup | environIL_2012 | 3636.143 | 29.00030 | 125.38295 |\n",
       "\n",
       "\n",
       "$method\n",
       ":   'NR'\n",
       "$logo\n",
       ":   \n",
       "A data.frame: 1 × 5\n",
       "\n",
       "| <!--/--> | logLik &lt;dbl&gt; | AIC &lt;dbl&gt; | BIC &lt;dbl&gt; | Method &lt;chr&gt; | Converge &lt;lgl&gt; |\n",
       "|---|---|---|---|---|---|\n",
       "| Value | -521.5774 | 1049.155 | 1065.058 | NR | TRUE |\n",
       "\n",
       "\n",
       "\n",
       "\n"
      ],
      "text/plain": [
       "======================================================================\n",
       "              Multivariate Linear Mixed Model fit by REML              \n",
       "***************************  sommer 4.1  *************************** \n",
       "======================================================================\n",
       "         logLik      AIC      BIC Method Converge\n",
       "Value -521.5774 1049.155 1065.058     NR     TRUE\n",
       "======================================================================\n",
       "Variance-Covariance components:\n",
       "                                     VarComp VarCompSE Zratio Constraint\n",
       "IA_2012:strain.Yield_blup-Yield_blup   21787     15811  1.378   Positive\n",
       "IA_2013:strain.Yield_blup-Yield_blup   95090     35633  2.669   Positive\n",
       "IL_2012:strain.Yield_blup-Yield_blup   91533     34819  2.629   Positive\n",
       "units.Yield_blup-Yield_blup           342872     13262 25.853   Positive\n",
       "======================================================================\n",
       "Fixed effects:\n",
       "       Trait         Effect Estimate Std.Error t.value\n",
       "1 Yield_blup environIA_2012     3138     27.36  114.67\n",
       "2 Yield_blup environIA_2013     2777     29.06   95.57\n",
       "3 Yield_blup environIL_2012     3636     29.00  125.38\n",
       "======================================================================\n",
       "Groups and observations:\n",
       "               Yield_blup\n",
       "IA_2012:strain        494\n",
       "IA_2013:strain        494\n",
       "IL_2012:strain        494\n",
       "======================================================================\n",
       "Use the '$' sign to access results and parameters"
      ]
     },
     "metadata": {},
     "output_type": "display_data"
    }
   ],
   "source": [
    "fitDG <- mmer(Yield_blup~environ-1,\n",
    "              random=~vs(ds(environ),strain,Gu=A_Sub1),\n",
    "              rcov=~units,\n",
    "              data=DT_Sub1,verbose=FALSE)\n",
    "\n",
    "summary(fitDG)\n"
   ]
  },
  {
   "cell_type": "markdown",
   "id": "invisible-forwarding",
   "metadata": {},
   "source": [
    "#### **CS - Diagonal Structure** ####"
   ]
  },
  {
   "cell_type": "code",
   "execution_count": 24,
   "id": "pacific-justice",
   "metadata": {},
   "outputs": [],
   "source": [
    "fitCSDG <- mmer(Yield_blup~environ,\n",
    "                random=~vs(strain,Gu=A_Sub1) +vs(ds(environ),strain,Gu=A_Sub1),\n",
    "                rcov=~units,\n",
    "                data=DT_Sub1,verbose=FALSE) \n"
   ]
  },
  {
   "cell_type": "raw",
   "id": "metric-saint",
   "metadata": {},
   "source": [
    "\n"
   ]
  },
  {
   "cell_type": "markdown",
   "id": "accessory-tribute",
   "metadata": {},
   "source": [
    "### **Exercise - Predict performance of lines in untested environments using CS structure** ###"
   ]
  },
  {
   "cell_type": "code",
   "execution_count": 30,
   "id": "going-graphic",
   "metadata": {},
   "outputs": [
    {
     "data": {
      "text/html": [
       "1"
      ],
      "text/latex": [
       "1"
      ],
      "text/markdown": [
       "1"
      ],
      "text/plain": [
       "[1] 1"
      ]
     },
     "metadata": {},
     "output_type": "display_data"
    },
    {
     "data": {
      "text/plain": [
       "    Min.  1st Qu.   Median     Mean  3rd Qu.     Max. \n",
       "-468.256 -108.642   -8.275   -6.196  105.691  448.902 "
      ]
     },
     "metadata": {},
     "output_type": "display_data"
    },
    {
     "data": {
      "text/html": [
       "1482"
      ],
      "text/latex": [
       "1482"
      ],
      "text/markdown": [
       "1482"
      ],
      "text/plain": [
       "[1] 1482"
      ]
     },
     "metadata": {},
     "output_type": "display_data"
    },
    {
     "data": {
      "text/html": [
       "1482"
      ],
      "text/latex": [
       "1482"
      ],
      "text/markdown": [
       "1482"
      ],
      "text/plain": [
       "[1] 1482"
      ]
     },
     "metadata": {},
     "output_type": "display_data"
    },
    {
     "data": {
      "text/html": [
       "0.0525340645354219"
      ],
      "text/latex": [
       "0.0525340645354219"
      ],
      "text/markdown": [
       "0.0525340645354219"
      ],
      "text/plain": [
       "[1] 0.05253406"
      ]
     },
     "metadata": {},
     "output_type": "display_data"
    }
   ],
   "source": [
    "### Lines that are present \n",
    "\n",
    "### Remove lines from IA2013 and train the model with CS structure using IA2012 and IL2013 only and predict \n",
    "### performance of lines for IA2013 and compare accuracy with model \n",
    "### incorporating data from IA2013 in the training model  \n",
    "\n",
    " length(fitCS$U$`u:strain`)\n",
    " summary(fitCS$U$`u:environ:strain`$Yield_blup)\n",
    "\n",
    " length(DT_Sub1[,\"Yield_blup\"])\n",
    " length(fitCS$U$`u:environ:strain`$Yield_blup) \n",
    "\n",
    " cor(fitCS$U$`u:environ:strain`$Yield_blup,DT_Sub1[,\"Yield_blup\"])\n",
    "\n",
    "\n",
    "\n",
    "\n",
    "\n",
    "\n"
   ]
  },
  {
   "cell_type": "code",
   "execution_count": 31,
   "id": "difficult-monitoring",
   "metadata": {},
   "outputs": [
    {
     "data": {
      "text/html": [
       "<table class=\"dataframe\">\n",
       "<caption>A data.frame: 3 × 3</caption>\n",
       "<thead>\n",
       "\t<tr><th scope=col>Trait</th><th scope=col>Effect</th><th scope=col>Estimate</th></tr>\n",
       "\t<tr><th scope=col>&lt;fct&gt;</th><th scope=col>&lt;fct&gt;</th><th scope=col>&lt;dbl&gt;</th></tr>\n",
       "</thead>\n",
       "<tbody>\n",
       "\t<tr><td>Yield_blup</td><td>environIA_2012</td><td>3146.983</td></tr>\n",
       "\t<tr><td>Yield_blup</td><td>environIA_2013</td><td>2778.546</td></tr>\n",
       "\t<tr><td>Yield_blup</td><td>environIL_2012</td><td>3633.347</td></tr>\n",
       "</tbody>\n",
       "</table>\n"
      ],
      "text/latex": [
       "A data.frame: 3 × 3\n",
       "\\begin{tabular}{lll}\n",
       " Trait & Effect & Estimate\\\\\n",
       " <fct> & <fct> & <dbl>\\\\\n",
       "\\hline\n",
       "\t Yield\\_blup & environIA\\_2012 & 3146.983\\\\\n",
       "\t Yield\\_blup & environIA\\_2013 & 2778.546\\\\\n",
       "\t Yield\\_blup & environIL\\_2012 & 3633.347\\\\\n",
       "\\end{tabular}\n"
      ],
      "text/markdown": [
       "\n",
       "A data.frame: 3 × 3\n",
       "\n",
       "| Trait &lt;fct&gt; | Effect &lt;fct&gt; | Estimate &lt;dbl&gt; |\n",
       "|---|---|---|\n",
       "| Yield_blup | environIA_2012 | 3146.983 |\n",
       "| Yield_blup | environIA_2013 | 2778.546 |\n",
       "| Yield_blup | environIL_2012 | 3633.347 |\n",
       "\n"
      ],
      "text/plain": [
       "  Trait      Effect         Estimate\n",
       "1 Yield_blup environIA_2012 3146.983\n",
       "2 Yield_blup environIA_2013 2778.546\n",
       "3 Yield_blup environIL_2012 3633.347"
      ]
     },
     "metadata": {},
     "output_type": "display_data"
    }
   ],
   "source": [
    "fitCS$Beta"
   ]
  },
  {
   "cell_type": "code",
   "execution_count": 68,
   "id": "therapeutic-advertiser",
   "metadata": {},
   "outputs": [
    {
     "data": {
      "text/html": [
       "<table class=\"dataframe\">\n",
       "<caption>A matrix: 1 × 1 of type dbl</caption>\n",
       "<tbody>\n",
       "\t<tr><td>0.4676182</td></tr>\n",
       "</tbody>\n",
       "</table>\n"
      ],
      "text/latex": [
       "A matrix: 1 × 1 of type dbl\n",
       "\\begin{tabular}{l}\n",
       "\t 0.4676182\\\\\n",
       "\\end{tabular}\n"
      ],
      "text/markdown": [
       "\n",
       "A matrix: 1 × 1 of type dbl\n",
       "\n",
       "| 0.4676182 |\n",
       "\n"
      ],
      "text/plain": [
       "     [,1]     \n",
       "[1,] 0.4676182"
      ]
     },
     "metadata": {},
     "output_type": "display_data"
    }
   ],
   "source": [
    "m <- model.matrix(~ environ-1 ,data=DT_Sub1)\n",
    "m_beta <- m %*% as.numeric(fitCS$Beta[,3]) \n",
    "Pred <- m_beta+fitCS$U$`u:environ:strain`$Yield_blup\n",
    "cor(Pred,DT_Sub1[,\"Yield_blup\"])"
   ]
  },
  {
   "cell_type": "code",
   "execution_count": 53,
   "id": "generic-operator",
   "metadata": {},
   "outputs": [
    {
     "data": {
      "text/html": [
       "<style>\n",
       ".list-inline {list-style: none; margin:0; padding: 0}\n",
       ".list-inline>li {display: inline-block}\n",
       ".list-inline>li:not(:last-child)::after {content: \"\\00b7\"; padding: 0 .5ex}\n",
       "</style>\n",
       "<ol class=list-inline><li>1482</li><li>18</li></ol>\n"
      ],
      "text/latex": [
       "\\begin{enumerate*}\n",
       "\\item 1482\n",
       "\\item 18\n",
       "\\end{enumerate*}\n"
      ],
      "text/markdown": [
       "1. 1482\n",
       "2. 18\n",
       "\n",
       "\n"
      ],
      "text/plain": [
       "[1] 1482   18"
      ]
     },
     "metadata": {},
     "output_type": "display_data"
    }
   ],
   "source": [
    "tstIndices1 <- which(DT_Sub1[,\"environ\"] %in% \"IA_2013\") \n",
    "\n",
    "DT_Sub1A <- DT_Sub1\n",
    "DT_Sub1A[tstIndices1 ,\"Yeild_blup\"] <- NA\n",
    "#DT_Sub1A[tstIndices1 ,\"environ\"] <- NA\n",
    "\n",
    "dim(DT_Sub1A)"
   ]
  },
  {
   "cell_type": "code",
   "execution_count": 56,
   "id": "yellow-spokesman",
   "metadata": {},
   "outputs": [
    {
     "data": {
      "text/html": [
       "<style>\n",
       ".list-inline {list-style: none; margin:0; padding: 0}\n",
       ".list-inline>li {display: inline-block}\n",
       ".list-inline>li:not(:last-child)::after {content: \"\\00b7\"; padding: 0 .5ex}\n",
       "</style>\n",
       "<ol class=list-inline><li>3</li><li>3</li></ol>\n"
      ],
      "text/latex": [
       "\\begin{enumerate*}\n",
       "\\item 3\n",
       "\\item 3\n",
       "\\end{enumerate*}\n"
      ],
      "text/markdown": [
       "1. 3\n",
       "2. 3\n",
       "\n",
       "\n"
      ],
      "text/plain": [
       "[1] 3 3"
      ]
     },
     "metadata": {},
     "output_type": "display_data"
    },
    {
     "data": {
      "text/html": [
       "<style>\n",
       ".list-inline {list-style: none; margin:0; padding: 0}\n",
       ".list-inline>li {display: inline-block}\n",
       ".list-inline>li:not(:last-child)::after {content: \"\\00b7\"; padding: 0 .5ex}\n",
       "</style>\n",
       "<ol class=list-inline><li>1482</li><li>1482</li></ol>\n"
      ],
      "text/latex": [
       "\\begin{enumerate*}\n",
       "\\item 1482\n",
       "\\item 1482\n",
       "\\end{enumerate*}\n"
      ],
      "text/markdown": [
       "1. 1482\n",
       "2. 1482\n",
       "\n",
       "\n"
      ],
      "text/plain": [
       "[1] 1482 1482"
      ]
     },
     "metadata": {},
     "output_type": "display_data"
    }
   ],
   "source": [
    "\n",
    "E <- diag(length(unique(DT_Sub1A$environ)))\n",
    "rownames(E) <- colnames(E) <- unique(DT_Sub1A$environ)\n",
    "dim(E)\n",
    "\n",
    "EA <- kronecker(E,A_Sub1, make.dimnames = TRUE)\n",
    "DT_Sub1$Aenviron <- as.factor(DT_Sub1A$environ)\n",
    "DT_Sub1A$strain <- as.factor(DT_Sub1A$strain) \n",
    "\n",
    "dim(EA)"
   ]
  },
  {
   "cell_type": "code",
   "execution_count": 57,
   "id": "surprised-squad",
   "metadata": {},
   "outputs": [
    {
     "data": {
      "text/html": [
       "<dl>\n",
       "\t<dt>$groups</dt>\n",
       "\t\t<dd><table class=\"dataframe\">\n",
       "<caption>A matrix: 2 × 1 of type int</caption>\n",
       "<thead>\n",
       "\t<tr><th></th><th scope=col>Yield_blup</th></tr>\n",
       "</thead>\n",
       "<tbody>\n",
       "\t<tr><th scope=row>u:strain</th><td> 494</td></tr>\n",
       "\t<tr><th scope=row>u:environ:strain</th><td>1482</td></tr>\n",
       "</tbody>\n",
       "</table>\n",
       "</dd>\n",
       "\t<dt>$varcomp</dt>\n",
       "\t\t<dd><table class=\"dataframe\">\n",
       "<caption>A data.frame: 3 × 4</caption>\n",
       "<thead>\n",
       "\t<tr><th></th><th scope=col>VarComp</th><th scope=col>VarCompSE</th><th scope=col>Zratio</th><th scope=col>Constraint</th></tr>\n",
       "\t<tr><th></th><th scope=col>&lt;dbl&gt;</th><th scope=col>&lt;dbl&gt;</th><th scope=col>&lt;dbl&gt;</th><th scope=col>&lt;chr&gt;</th></tr>\n",
       "</thead>\n",
       "<tbody>\n",
       "\t<tr><th scope=row>u:strain.Yield_blup-Yield_blup</th><td>     0.00</td><td>11503.43</td><td> 0.000000</td><td>Positive</td></tr>\n",
       "\t<tr><th scope=row>u:environ:strain.Yield_blup-Yield_blup</th><td> 65969.28</td><td>20118.21</td><td> 3.279082</td><td>Positive</td></tr>\n",
       "\t<tr><th scope=row>units.Yield_blup-Yield_blup</th><td>343674.11</td><td>13300.93</td><td>25.838345</td><td>Positive</td></tr>\n",
       "</tbody>\n",
       "</table>\n",
       "</dd>\n",
       "\t<dt>$betas</dt>\n",
       "\t\t<dd><table class=\"dataframe\">\n",
       "<caption>A data.frame: 3 × 5</caption>\n",
       "<thead>\n",
       "\t<tr><th scope=col>Trait</th><th scope=col>Effect</th><th scope=col>Estimate</th><th scope=col>Std.Error</th><th scope=col>t.value</th></tr>\n",
       "\t<tr><th scope=col>&lt;fct&gt;</th><th scope=col>&lt;fct&gt;</th><th scope=col>&lt;dbl&gt;</th><th scope=col>&lt;dbl&gt;</th><th scope=col>&lt;dbl&gt;</th></tr>\n",
       "</thead>\n",
       "<tbody>\n",
       "\t<tr><td>Yield_blup</td><td>environIA_2012</td><td>3146.983</td><td>28.54727</td><td>110.23762</td></tr>\n",
       "\t<tr><td>Yield_blup</td><td>environIA_2013</td><td>2778.546</td><td>28.54727</td><td> 97.33139</td></tr>\n",
       "\t<tr><td>Yield_blup</td><td>environIL_2012</td><td>3633.347</td><td>28.54727</td><td>127.27474</td></tr>\n",
       "</tbody>\n",
       "</table>\n",
       "</dd>\n",
       "\t<dt>$method</dt>\n",
       "\t\t<dd>'NR'</dd>\n",
       "\t<dt>$logo</dt>\n",
       "\t\t<dd><table class=\"dataframe\">\n",
       "<caption>A data.frame: 1 × 5</caption>\n",
       "<thead>\n",
       "\t<tr><th></th><th scope=col>logLik</th><th scope=col>AIC</th><th scope=col>BIC</th><th scope=col>Method</th><th scope=col>Converge</th></tr>\n",
       "\t<tr><th></th><th scope=col>&lt;dbl&gt;</th><th scope=col>&lt;dbl&gt;</th><th scope=col>&lt;dbl&gt;</th><th scope=col>&lt;chr&gt;</th><th scope=col>&lt;lgl&gt;</th></tr>\n",
       "</thead>\n",
       "<tbody>\n",
       "\t<tr><th scope=row>Value</th><td>-523.9647</td><td>1053.929</td><td>1069.833</td><td>NR</td><td>TRUE</td></tr>\n",
       "</tbody>\n",
       "</table>\n",
       "</dd>\n",
       "</dl>\n"
      ],
      "text/latex": [
       "\\begin{description}\n",
       "\\item[\\$groups] A matrix: 2 × 1 of type int\n",
       "\\begin{tabular}{r|l}\n",
       "  & Yield\\_blup\\\\\n",
       "\\hline\n",
       "\tu:strain &  494\\\\\n",
       "\tu:environ:strain & 1482\\\\\n",
       "\\end{tabular}\n",
       "\n",
       "\\item[\\$varcomp] A data.frame: 3 × 4\n",
       "\\begin{tabular}{r|llll}\n",
       "  & VarComp & VarCompSE & Zratio & Constraint\\\\\n",
       "  & <dbl> & <dbl> & <dbl> & <chr>\\\\\n",
       "\\hline\n",
       "\tu:strain.Yield\\_blup-Yield\\_blup &      0.00 & 11503.43 &  0.000000 & Positive\\\\\n",
       "\tu:environ:strain.Yield\\_blup-Yield\\_blup &  65969.28 & 20118.21 &  3.279082 & Positive\\\\\n",
       "\tunits.Yield\\_blup-Yield\\_blup & 343674.11 & 13300.93 & 25.838345 & Positive\\\\\n",
       "\\end{tabular}\n",
       "\n",
       "\\item[\\$betas] A data.frame: 3 × 5\n",
       "\\begin{tabular}{lllll}\n",
       " Trait & Effect & Estimate & Std.Error & t.value\\\\\n",
       " <fct> & <fct> & <dbl> & <dbl> & <dbl>\\\\\n",
       "\\hline\n",
       "\t Yield\\_blup & environIA\\_2012 & 3146.983 & 28.54727 & 110.23762\\\\\n",
       "\t Yield\\_blup & environIA\\_2013 & 2778.546 & 28.54727 &  97.33139\\\\\n",
       "\t Yield\\_blup & environIL\\_2012 & 3633.347 & 28.54727 & 127.27474\\\\\n",
       "\\end{tabular}\n",
       "\n",
       "\\item[\\$method] 'NR'\n",
       "\\item[\\$logo] A data.frame: 1 × 5\n",
       "\\begin{tabular}{r|lllll}\n",
       "  & logLik & AIC & BIC & Method & Converge\\\\\n",
       "  & <dbl> & <dbl> & <dbl> & <chr> & <lgl>\\\\\n",
       "\\hline\n",
       "\tValue & -523.9647 & 1053.929 & 1069.833 & NR & TRUE\\\\\n",
       "\\end{tabular}\n",
       "\n",
       "\\end{description}\n"
      ],
      "text/markdown": [
       "$groups\n",
       ":   \n",
       "A matrix: 2 × 1 of type int\n",
       "\n",
       "| <!--/--> | Yield_blup |\n",
       "|---|---|\n",
       "| u:strain |  494 |\n",
       "| u:environ:strain | 1482 |\n",
       "\n",
       "\n",
       "$varcomp\n",
       ":   \n",
       "A data.frame: 3 × 4\n",
       "\n",
       "| <!--/--> | VarComp &lt;dbl&gt; | VarCompSE &lt;dbl&gt; | Zratio &lt;dbl&gt; | Constraint &lt;chr&gt; |\n",
       "|---|---|---|---|---|\n",
       "| u:strain.Yield_blup-Yield_blup |      0.00 | 11503.43 |  0.000000 | Positive |\n",
       "| u:environ:strain.Yield_blup-Yield_blup |  65969.28 | 20118.21 |  3.279082 | Positive |\n",
       "| units.Yield_blup-Yield_blup | 343674.11 | 13300.93 | 25.838345 | Positive |\n",
       "\n",
       "\n",
       "$betas\n",
       ":   \n",
       "A data.frame: 3 × 5\n",
       "\n",
       "| Trait &lt;fct&gt; | Effect &lt;fct&gt; | Estimate &lt;dbl&gt; | Std.Error &lt;dbl&gt; | t.value &lt;dbl&gt; |\n",
       "|---|---|---|---|---|\n",
       "| Yield_blup | environIA_2012 | 3146.983 | 28.54727 | 110.23762 |\n",
       "| Yield_blup | environIA_2013 | 2778.546 | 28.54727 |  97.33139 |\n",
       "| Yield_blup | environIL_2012 | 3633.347 | 28.54727 | 127.27474 |\n",
       "\n",
       "\n",
       "$method\n",
       ":   'NR'\n",
       "$logo\n",
       ":   \n",
       "A data.frame: 1 × 5\n",
       "\n",
       "| <!--/--> | logLik &lt;dbl&gt; | AIC &lt;dbl&gt; | BIC &lt;dbl&gt; | Method &lt;chr&gt; | Converge &lt;lgl&gt; |\n",
       "|---|---|---|---|---|---|\n",
       "| Value | -523.9647 | 1053.929 | 1069.833 | NR | TRUE |\n",
       "\n",
       "\n",
       "\n",
       "\n"
      ],
      "text/plain": [
       "========================================================================\n",
       "               Multivariate Linear Mixed Model fit by REML               \n",
       "****************************  sommer 4.1  **************************** \n",
       "========================================================================\n",
       "         logLik      AIC      BIC Method Converge\n",
       "Value -523.9647 1053.929 1069.833     NR     TRUE\n",
       "========================================================================\n",
       "Variance-Covariance components:\n",
       "                                       VarComp VarCompSE Zratio Constraint\n",
       "u:strain.Yield_blup-Yield_blup               0     11503  0.000   Positive\n",
       "u:environ:strain.Yield_blup-Yield_blup   65969     20118  3.279   Positive\n",
       "units.Yield_blup-Yield_blup             343674     13301 25.838   Positive\n",
       "========================================================================\n",
       "Fixed effects:\n",
       "       Trait         Effect Estimate Std.Error t.value\n",
       "1 Yield_blup environIA_2012     3147     28.55  110.24\n",
       "2 Yield_blup environIA_2013     2779     28.55   97.33\n",
       "3 Yield_blup environIL_2012     3633     28.55  127.27\n",
       "========================================================================\n",
       "Groups and observations:\n",
       "                 Yield_blup\n",
       "u:strain                494\n",
       "u:environ:strain       1482\n",
       "========================================================================\n",
       "Use the '$' sign to access results and parameters"
      ]
     },
     "metadata": {},
     "output_type": "display_data"
    }
   ],
   "source": [
    "\n",
    "\n",
    "\n",
    "fitCS1A <- mmer(Yield_blup~environ-1,\n",
    "              random= ~ vs(strain, Gu=A_Sub1) + vs(environ:strain, Gu=EA),\n",
    "              rcov= ~ units,\n",
    "              data=DT_Sub1A, verbose = FALSE)\n",
    "summary(fitCS1A)\n"
   ]
  },
  {
   "cell_type": "code",
   "execution_count": 67,
   "id": "precise-development",
   "metadata": {},
   "outputs": [
    {
     "data": {
      "text/html": [
       "494"
      ],
      "text/latex": [
       "494"
      ],
      "text/markdown": [
       "494"
      ],
      "text/plain": [
       "[1] 494"
      ]
     },
     "metadata": {},
     "output_type": "display_data"
    },
    {
     "data": {
      "text/html": [
       "0.131665186771016"
      ],
      "text/latex": [
       "0.131665186771016"
      ],
      "text/markdown": [
       "0.131665186771016"
      ],
      "text/plain": [
       "[1] 0.1316652"
      ]
     },
     "metadata": {},
     "output_type": "display_data"
    }
   ],
   "source": [
    "m <- model.matrix(~ environ-1 ,data=DT_Sub1)\n",
    "m_beta <- m %*% as.numeric(fitCS1A$Beta[,3]) \n",
    "tstPred1 <- (m_beta+fitCS1A$U$`u:environ:strain`$Yield_blup)[tstIndices1]\n",
    "length(tstPred1)\n",
    "cor(tstPred1,DT_Sub1[tstIndices1,\"Yield_blup\"])\n"
   ]
  },
  {
   "cell_type": "raw",
   "id": "related-kidney",
   "metadata": {},
   "source": []
  },
  {
   "cell_type": "code",
   "execution_count": 63,
   "id": "hollywood-expense",
   "metadata": {},
   "outputs": [
    {
     "data": {
      "text/html": [
       "494"
      ],
      "text/latex": [
       "494"
      ],
      "text/markdown": [
       "494"
      ],
      "text/plain": [
       "[1] 494"
      ]
     },
     "metadata": {},
     "output_type": "display_data"
    },
    {
     "data": {
      "text/html": [
       "247"
      ],
      "text/latex": [
       "247"
      ],
      "text/markdown": [
       "247"
      ],
      "text/plain": [
       "[1] 247"
      ]
     },
     "metadata": {},
     "output_type": "display_data"
    },
    {
     "data": {
      "text/html": [
       "<style>\n",
       ".list-inline {list-style: none; margin:0; padding: 0}\n",
       ".list-inline>li {display: inline-block}\n",
       ".list-inline>li:not(:last-child)::after {content: \"\\00b7\"; padding: 0 .5ex}\n",
       "</style>\n",
       "<ol class=list-inline><li>1482</li><li>18</li></ol>\n"
      ],
      "text/latex": [
       "\\begin{enumerate*}\n",
       "\\item 1482\n",
       "\\item 18\n",
       "\\end{enumerate*}\n"
      ],
      "text/markdown": [
       "1. 1482\n",
       "2. 18\n",
       "\n",
       "\n"
      ],
      "text/plain": [
       "[1] 1482   18"
      ]
     },
     "metadata": {},
     "output_type": "display_data"
    }
   ],
   "source": [
    "tstIndices1 <- which(DT_Sub1[,\"environ\"] %in% \"IA_2013\") \n",
    "set.seed(125)\n",
    "tstIndices2 <- sample(tstIndices1,0.5*length(tstIndices1))\n",
    "length(tstIndices1)\n",
    "length(tstIndices2)\n",
    "DT_Sub1B <- DT_Sub1\n",
    "DT_Sub1B[tstIndices2 ,\"Yeild_blup\"] <- NA\n",
    "#DT_Sub1A[tstIndices1 ,\"environ\"] <- NA\n",
    "\n",
    "dim(DT_Sub1B)"
   ]
  },
  {
   "cell_type": "code",
   "execution_count": 64,
   "id": "descending-description",
   "metadata": {},
   "outputs": [
    {
     "data": {
      "text/html": [
       "<style>\n",
       ".list-inline {list-style: none; margin:0; padding: 0}\n",
       ".list-inline>li {display: inline-block}\n",
       ".list-inline>li:not(:last-child)::after {content: \"\\00b7\"; padding: 0 .5ex}\n",
       "</style>\n",
       "<ol class=list-inline><li>3</li><li>3</li></ol>\n"
      ],
      "text/latex": [
       "\\begin{enumerate*}\n",
       "\\item 3\n",
       "\\item 3\n",
       "\\end{enumerate*}\n"
      ],
      "text/markdown": [
       "1. 3\n",
       "2. 3\n",
       "\n",
       "\n"
      ],
      "text/plain": [
       "[1] 3 3"
      ]
     },
     "metadata": {},
     "output_type": "display_data"
    },
    {
     "data": {
      "text/html": [
       "<style>\n",
       ".list-inline {list-style: none; margin:0; padding: 0}\n",
       ".list-inline>li {display: inline-block}\n",
       ".list-inline>li:not(:last-child)::after {content: \"\\00b7\"; padding: 0 .5ex}\n",
       "</style>\n",
       "<ol class=list-inline><li>1482</li><li>1482</li></ol>\n"
      ],
      "text/latex": [
       "\\begin{enumerate*}\n",
       "\\item 1482\n",
       "\\item 1482\n",
       "\\end{enumerate*}\n"
      ],
      "text/markdown": [
       "1. 1482\n",
       "2. 1482\n",
       "\n",
       "\n"
      ],
      "text/plain": [
       "[1] 1482 1482"
      ]
     },
     "metadata": {},
     "output_type": "display_data"
    }
   ],
   "source": [
    "\n",
    "E <- diag(length(unique(DT_Sub1B$environ)))\n",
    "rownames(E) <- colnames(E) <- unique(DT_Sub1B$environ)\n",
    "dim(E)\n",
    "\n",
    "EA <- kronecker(E,A_Sub1, make.dimnames = TRUE)\n",
    "DT_Sub1B$environ <- as.factor(DT_Sub1B$environ)\n",
    "DT_Sub1B$strain <- as.factor(DT_Sub1B$strain) \n",
    "\n",
    "dim(EA)"
   ]
  },
  {
   "cell_type": "code",
   "execution_count": 65,
   "id": "chubby-oasis",
   "metadata": {},
   "outputs": [
    {
     "data": {
      "text/html": [
       "<dl>\n",
       "\t<dt>$groups</dt>\n",
       "\t\t<dd><table class=\"dataframe\">\n",
       "<caption>A matrix: 2 × 1 of type int</caption>\n",
       "<thead>\n",
       "\t<tr><th></th><th scope=col>Yield_blup</th></tr>\n",
       "</thead>\n",
       "<tbody>\n",
       "\t<tr><th scope=row>u:strain</th><td> 494</td></tr>\n",
       "\t<tr><th scope=row>u:environ:strain</th><td>1482</td></tr>\n",
       "</tbody>\n",
       "</table>\n",
       "</dd>\n",
       "\t<dt>$varcomp</dt>\n",
       "\t\t<dd><table class=\"dataframe\">\n",
       "<caption>A data.frame: 3 × 4</caption>\n",
       "<thead>\n",
       "\t<tr><th></th><th scope=col>VarComp</th><th scope=col>VarCompSE</th><th scope=col>Zratio</th><th scope=col>Constraint</th></tr>\n",
       "\t<tr><th></th><th scope=col>&lt;dbl&gt;</th><th scope=col>&lt;dbl&gt;</th><th scope=col>&lt;dbl&gt;</th><th scope=col>&lt;chr&gt;</th></tr>\n",
       "</thead>\n",
       "<tbody>\n",
       "\t<tr><th scope=row>u:strain.Yield_blup-Yield_blup</th><td>     0.00</td><td>11503.43</td><td> 0.000000</td><td>Positive</td></tr>\n",
       "\t<tr><th scope=row>u:environ:strain.Yield_blup-Yield_blup</th><td> 65969.28</td><td>20118.21</td><td> 3.279082</td><td>Positive</td></tr>\n",
       "\t<tr><th scope=row>units.Yield_blup-Yield_blup</th><td>343674.11</td><td>13300.93</td><td>25.838345</td><td>Positive</td></tr>\n",
       "</tbody>\n",
       "</table>\n",
       "</dd>\n",
       "\t<dt>$betas</dt>\n",
       "\t\t<dd><table class=\"dataframe\">\n",
       "<caption>A data.frame: 3 × 5</caption>\n",
       "<thead>\n",
       "\t<tr><th scope=col>Trait</th><th scope=col>Effect</th><th scope=col>Estimate</th><th scope=col>Std.Error</th><th scope=col>t.value</th></tr>\n",
       "\t<tr><th scope=col>&lt;fct&gt;</th><th scope=col>&lt;fct&gt;</th><th scope=col>&lt;dbl&gt;</th><th scope=col>&lt;dbl&gt;</th><th scope=col>&lt;dbl&gt;</th></tr>\n",
       "</thead>\n",
       "<tbody>\n",
       "\t<tr><td>Yield_blup</td><td>environIA_2012</td><td>3146.983</td><td>28.54727</td><td>110.23762</td></tr>\n",
       "\t<tr><td>Yield_blup</td><td>environIA_2013</td><td>2778.546</td><td>28.54727</td><td> 97.33139</td></tr>\n",
       "\t<tr><td>Yield_blup</td><td>environIL_2012</td><td>3633.347</td><td>28.54727</td><td>127.27474</td></tr>\n",
       "</tbody>\n",
       "</table>\n",
       "</dd>\n",
       "\t<dt>$method</dt>\n",
       "\t\t<dd>'NR'</dd>\n",
       "\t<dt>$logo</dt>\n",
       "\t\t<dd><table class=\"dataframe\">\n",
       "<caption>A data.frame: 1 × 5</caption>\n",
       "<thead>\n",
       "\t<tr><th></th><th scope=col>logLik</th><th scope=col>AIC</th><th scope=col>BIC</th><th scope=col>Method</th><th scope=col>Converge</th></tr>\n",
       "\t<tr><th></th><th scope=col>&lt;dbl&gt;</th><th scope=col>&lt;dbl&gt;</th><th scope=col>&lt;dbl&gt;</th><th scope=col>&lt;chr&gt;</th><th scope=col>&lt;lgl&gt;</th></tr>\n",
       "</thead>\n",
       "<tbody>\n",
       "\t<tr><th scope=row>Value</th><td>-523.9647</td><td>1053.929</td><td>1069.833</td><td>NR</td><td>TRUE</td></tr>\n",
       "</tbody>\n",
       "</table>\n",
       "</dd>\n",
       "</dl>\n"
      ],
      "text/latex": [
       "\\begin{description}\n",
       "\\item[\\$groups] A matrix: 2 × 1 of type int\n",
       "\\begin{tabular}{r|l}\n",
       "  & Yield\\_blup\\\\\n",
       "\\hline\n",
       "\tu:strain &  494\\\\\n",
       "\tu:environ:strain & 1482\\\\\n",
       "\\end{tabular}\n",
       "\n",
       "\\item[\\$varcomp] A data.frame: 3 × 4\n",
       "\\begin{tabular}{r|llll}\n",
       "  & VarComp & VarCompSE & Zratio & Constraint\\\\\n",
       "  & <dbl> & <dbl> & <dbl> & <chr>\\\\\n",
       "\\hline\n",
       "\tu:strain.Yield\\_blup-Yield\\_blup &      0.00 & 11503.43 &  0.000000 & Positive\\\\\n",
       "\tu:environ:strain.Yield\\_blup-Yield\\_blup &  65969.28 & 20118.21 &  3.279082 & Positive\\\\\n",
       "\tunits.Yield\\_blup-Yield\\_blup & 343674.11 & 13300.93 & 25.838345 & Positive\\\\\n",
       "\\end{tabular}\n",
       "\n",
       "\\item[\\$betas] A data.frame: 3 × 5\n",
       "\\begin{tabular}{lllll}\n",
       " Trait & Effect & Estimate & Std.Error & t.value\\\\\n",
       " <fct> & <fct> & <dbl> & <dbl> & <dbl>\\\\\n",
       "\\hline\n",
       "\t Yield\\_blup & environIA\\_2012 & 3146.983 & 28.54727 & 110.23762\\\\\n",
       "\t Yield\\_blup & environIA\\_2013 & 2778.546 & 28.54727 &  97.33139\\\\\n",
       "\t Yield\\_blup & environIL\\_2012 & 3633.347 & 28.54727 & 127.27474\\\\\n",
       "\\end{tabular}\n",
       "\n",
       "\\item[\\$method] 'NR'\n",
       "\\item[\\$logo] A data.frame: 1 × 5\n",
       "\\begin{tabular}{r|lllll}\n",
       "  & logLik & AIC & BIC & Method & Converge\\\\\n",
       "  & <dbl> & <dbl> & <dbl> & <chr> & <lgl>\\\\\n",
       "\\hline\n",
       "\tValue & -523.9647 & 1053.929 & 1069.833 & NR & TRUE\\\\\n",
       "\\end{tabular}\n",
       "\n",
       "\\end{description}\n"
      ],
      "text/markdown": [
       "$groups\n",
       ":   \n",
       "A matrix: 2 × 1 of type int\n",
       "\n",
       "| <!--/--> | Yield_blup |\n",
       "|---|---|\n",
       "| u:strain |  494 |\n",
       "| u:environ:strain | 1482 |\n",
       "\n",
       "\n",
       "$varcomp\n",
       ":   \n",
       "A data.frame: 3 × 4\n",
       "\n",
       "| <!--/--> | VarComp &lt;dbl&gt; | VarCompSE &lt;dbl&gt; | Zratio &lt;dbl&gt; | Constraint &lt;chr&gt; |\n",
       "|---|---|---|---|---|\n",
       "| u:strain.Yield_blup-Yield_blup |      0.00 | 11503.43 |  0.000000 | Positive |\n",
       "| u:environ:strain.Yield_blup-Yield_blup |  65969.28 | 20118.21 |  3.279082 | Positive |\n",
       "| units.Yield_blup-Yield_blup | 343674.11 | 13300.93 | 25.838345 | Positive |\n",
       "\n",
       "\n",
       "$betas\n",
       ":   \n",
       "A data.frame: 3 × 5\n",
       "\n",
       "| Trait &lt;fct&gt; | Effect &lt;fct&gt; | Estimate &lt;dbl&gt; | Std.Error &lt;dbl&gt; | t.value &lt;dbl&gt; |\n",
       "|---|---|---|---|---|\n",
       "| Yield_blup | environIA_2012 | 3146.983 | 28.54727 | 110.23762 |\n",
       "| Yield_blup | environIA_2013 | 2778.546 | 28.54727 |  97.33139 |\n",
       "| Yield_blup | environIL_2012 | 3633.347 | 28.54727 | 127.27474 |\n",
       "\n",
       "\n",
       "$method\n",
       ":   'NR'\n",
       "$logo\n",
       ":   \n",
       "A data.frame: 1 × 5\n",
       "\n",
       "| <!--/--> | logLik &lt;dbl&gt; | AIC &lt;dbl&gt; | BIC &lt;dbl&gt; | Method &lt;chr&gt; | Converge &lt;lgl&gt; |\n",
       "|---|---|---|---|---|---|\n",
       "| Value | -523.9647 | 1053.929 | 1069.833 | NR | TRUE |\n",
       "\n",
       "\n",
       "\n",
       "\n"
      ],
      "text/plain": [
       "========================================================================\n",
       "               Multivariate Linear Mixed Model fit by REML               \n",
       "****************************  sommer 4.1  **************************** \n",
       "========================================================================\n",
       "         logLik      AIC      BIC Method Converge\n",
       "Value -523.9647 1053.929 1069.833     NR     TRUE\n",
       "========================================================================\n",
       "Variance-Covariance components:\n",
       "                                       VarComp VarCompSE Zratio Constraint\n",
       "u:strain.Yield_blup-Yield_blup               0     11503  0.000   Positive\n",
       "u:environ:strain.Yield_blup-Yield_blup   65969     20118  3.279   Positive\n",
       "units.Yield_blup-Yield_blup             343674     13301 25.838   Positive\n",
       "========================================================================\n",
       "Fixed effects:\n",
       "       Trait         Effect Estimate Std.Error t.value\n",
       "1 Yield_blup environIA_2012     3147     28.55  110.24\n",
       "2 Yield_blup environIA_2013     2779     28.55   97.33\n",
       "3 Yield_blup environIL_2012     3633     28.55  127.27\n",
       "========================================================================\n",
       "Groups and observations:\n",
       "                 Yield_blup\n",
       "u:strain                494\n",
       "u:environ:strain       1482\n",
       "========================================================================\n",
       "Use the '$' sign to access results and parameters"
      ]
     },
     "metadata": {},
     "output_type": "display_data"
    }
   ],
   "source": [
    "\n",
    "\n",
    "fitCS1B <- mmer(Yield_blup~environ-1,\n",
    "              random= ~ vs(strain, Gu=A_Sub1) + vs(environ:strain, Gu=EA),\n",
    "              rcov= ~ units,\n",
    "              data=DT_Sub1B, verbose = FALSE)\n",
    "summary(fitCS1B)"
   ]
  },
  {
   "cell_type": "code",
   "execution_count": 66,
   "id": "unlimited-addition",
   "metadata": {},
   "outputs": [
    {
     "data": {
      "text/html": [
       "247"
      ],
      "text/latex": [
       "247"
      ],
      "text/markdown": [
       "247"
      ],
      "text/plain": [
       "[1] 247"
      ]
     },
     "metadata": {},
     "output_type": "display_data"
    },
    {
     "data": {
      "text/html": [
       "0.206687791744123"
      ],
      "text/latex": [
       "0.206687791744123"
      ],
      "text/markdown": [
       "0.206687791744123"
      ],
      "text/plain": [
       "[1] 0.2066878"
      ]
     },
     "metadata": {},
     "output_type": "display_data"
    }
   ],
   "source": [
    "m <- model.matrix(~ environ-1 ,data=DT_Sub1)\n",
    "m_beta <- m %*% as.numeric(fitCS1B$Beta[,3]) \n",
    "tstPred2 <- (m_beta+fitCS1B$U$`u:environ:strain`$Yield_blup)[tstIndices2]\n",
    "length(tstPred2)\n",
    "cor(tstPred2,DT_Sub1[tstIndices2,\"Yield_blup\"])\n"
   ]
  },
  {
   "cell_type": "code",
   "execution_count": null,
   "id": "floating-cable",
   "metadata": {},
   "outputs": [],
   "source": []
  }
 ],
 "metadata": {
  "kernelspec": {
   "display_name": "R 4.1.0",
   "language": "R",
   "name": "ir410"
  },
  "language_info": {
   "codemirror_mode": "r",
   "file_extension": ".r",
   "mimetype": "text/x-r-source",
   "name": "R",
   "pygments_lexer": "r",
   "version": "4.1.0"
  }
 },
 "nbformat": 4,
 "nbformat_minor": 5
}
