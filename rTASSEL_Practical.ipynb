{
 "cells": [
  {
   "cell_type": "markdown",
   "id": "vertical-cocktail",
   "metadata": {},
   "source": [
    "---\n",
    "### **Data Bootcamp for Genomic Prediction in Plant Breeding** ###\n",
    "### **University of Minnesota Plant Breeding Center** ###\n",
    "#### **June 20 - 22, 2022** ####\n",
    "---"
   ]
  },
  {
   "cell_type": "code",
   "execution_count": null,
   "id": "quarterly-cuisine",
   "metadata": {},
   "outputs": [],
   "source": []
  },
  {
   "cell_type": "markdown",
   "id": "harmful-consolidation",
   "metadata": {},
   "source": [
    "#### **Read genotype table in VCF format using rTASSEL**"
   ]
  },
  {
   "cell_type": "code",
   "execution_count": 1,
   "id": "ranging-warrant",
   "metadata": {},
   "outputs": [
    {
     "data": {
      "text/plain": [
       "A TasselGenotypePhenotype Dataset\n",
       "  Class.............. TasselGenotypePhenotype \n",
       "  Taxa............... 5189 \n",
       "  Positions.......... 4292 \n",
       "  Taxa x Positions... 22271188 \n",
       "---\n",
       "  Genotype Table..... [x]\n",
       "  Phenotype Table.... [ ]"
      ]
     },
     "metadata": {},
     "output_type": "display_data"
    }
   ],
   "source": [
    " \n",
    " genoFile <- \"Data/SoyNAM_Geno.vcf\"\n",
    "\n",
    "  tasGeno <- rTASSEL::readGenotypeTableFromPath(\n",
    "\t\tpath = genoFile\n",
    "\t)\n",
    "   \n",
    "   tasGeno"
   ]
  },
  {
   "cell_type": "markdown",
   "id": "relevant-price",
   "metadata": {},
   "source": [
    "#### **Filter Sites and Genotypes using filter functions in rTASSEL**"
   ]
  },
  {
   "cell_type": "code",
   "execution_count": 2,
   "id": "geographic-gamma",
   "metadata": {},
   "outputs": [
    {
     "data": {
      "text/html": [
       "4151"
      ],
      "text/latex": [
       "4151"
      ],
      "text/markdown": [
       "4151"
      ],
      "text/plain": [
       "[1] 4151"
      ]
     },
     "metadata": {},
     "output_type": "display_data"
    },
    {
     "data": {
      "text/html": [
       "0.02"
      ],
      "text/latex": [
       "0.02"
      ],
      "text/markdown": [
       "0.02"
      ],
      "text/plain": [
       "[1] 0.02"
      ]
     },
     "metadata": {},
     "output_type": "display_data"
    },
    {
     "data": {
      "text/plain": [
       "A TasselGenotypePhenotype Dataset\n",
       "  Class.............. TasselGenotypePhenotype \n",
       "  Taxa............... 5189 \n",
       "  Positions.......... 1429 \n",
       "  Taxa x Positions... 7415081 \n",
       "---\n",
       "  Genotype Table..... [x]\n",
       "  Phenotype Table.... [ ]"
      ]
     },
     "metadata": {},
     "output_type": "display_data"
    }
   ],
   "source": [
    "    siteMinCnt <- round(0.8*5189,0)\n",
    "    siteMinCnt\n",
    "    MAF <- 0.02\n",
    "    MAF\n",
    "    tasGenoFilt1 <- rTASSEL::filterGenotypeTableSites(tasObj = tasGeno,\n",
    "        siteMinCount = siteMinCnt,\n",
    "        siteMinAlleleFreq = MAF,\n",
    "        siteMaxAlleleFreq = 1.0,\n",
    "        siteRangeFilterType = \"none\"\n",
    "     )\n",
    "  \n",
    "   tasGenoFilt1"
   ]
  },
  {
   "cell_type": "code",
   "execution_count": 3,
   "id": "offshore-shelf",
   "metadata": {},
   "outputs": [
    {
     "data": {
      "text/plain": [
       "A TasselGenotypePhenotype Dataset\n",
       "  Class.............. TasselGenotypePhenotype \n",
       "  Taxa............... 5189 \n",
       "  Positions.......... 1429 \n",
       "  Taxa x Positions... 7415081 \n",
       "---\n",
       "  Genotype Table..... [x]\n",
       "  Phenotype Table.... [ ]"
      ]
     },
     "metadata": {},
     "output_type": "display_data"
    }
   ],
   "source": [
    " MinNotMissing <- 0\n",
    "   \n",
    "   tasGenoFilt2 <- rTASSEL::filterGenotypeTableTaxa(\n",
    "\t   tasGenoFilt1,\n",
    "\t   minNotMissing = MinNotMissing,\n",
    "\t   minHeterozygous = 0,\n",
    "\t   maxHeterozygous = 1,\n",
    "\t   taxa = NULL\n",
    "    )\n",
    "   \n",
    "tasGenoFilt2"
   ]
  },
  {
   "cell_type": "markdown",
   "id": "incomplete-disclaimer",
   "metadata": {},
   "source": [
    "#### **Impute Genotypic Data Using LD-KNNI method implemented in rTASSEL**"
   ]
  },
  {
   "cell_type": "code",
   "execution_count": null,
   "id": "manual-clearance",
   "metadata": {},
   "outputs": [],
   "source": [
    " FiltGeno <- tasGenoFilt1\n",
    "  l <- 40\n",
    "  k <- 20\n",
    "  impMethod <- \"LDKNNI\"\n",
    "  #impMethod <- \"Numeric\"\n",
    "    \n",
    "\n",
    "  if(impMethod==\"LDKNNI\"){\n",
    "       tasGenoImp <- rTASSEL::imputeLDKNNi(tasGeno)\n",
    "   #tasGenoImp <- rTASSEL::imputeLDKNNi(FiltGeno, highLDSSites = l, knnTaxa = k, maxDistance = 1e+07)\n",
    "  } \n",
    "  if(impMethod==\"Numeric\"){\n",
    "   tasGenoImp <- rTASSEL::imputeNumeric(FiltGeno,byMean = TRUE,nearestNeighbors = 5, distance = c(\"Euclidean\", \"Manhattan\", \"Cosine\")[1])\n",
    "  }\n",
    "\n",
    "  tasGenoImp\n",
    "\n"
   ]
  },
  {
   "cell_type": "code",
   "execution_count": null,
   "id": "utility-indicator",
   "metadata": {},
   "outputs": [],
   "source": [
    "gc()"
   ]
  },
  {
   "cell_type": "code",
   "execution_count": 5,
   "id": "hybrid-holiday",
   "metadata": {},
   "outputs": [
    {
     "data": {
      "text/html": [
       "<style>\n",
       ".list-inline {list-style: none; margin:0; padding: 0}\n",
       ".list-inline>li {display: inline-block}\n",
       ".list-inline>li:not(:last-child)::after {content: \"\\00b7\"; padding: 0 .5ex}\n",
       "</style>\n",
       "<ol class=list-inline><li>'FiltGeno'</li><li>'MAF'</li><li>'MinNotMissing'</li><li>'genoFile'</li><li>'impMethod'</li><li>'k'</li><li>'l'</li><li>'siteMinCnt'</li><li>'tasGeno'</li><li>'tasGenoFilt1'</li><li>'tasGenoFilt2'</li></ol>\n"
      ],
      "text/latex": [
       "\\begin{enumerate*}\n",
       "\\item 'FiltGeno'\n",
       "\\item 'MAF'\n",
       "\\item 'MinNotMissing'\n",
       "\\item 'genoFile'\n",
       "\\item 'impMethod'\n",
       "\\item 'k'\n",
       "\\item 'l'\n",
       "\\item 'siteMinCnt'\n",
       "\\item 'tasGeno'\n",
       "\\item 'tasGenoFilt1'\n",
       "\\item 'tasGenoFilt2'\n",
       "\\end{enumerate*}\n"
      ],
      "text/markdown": [
       "1. 'FiltGeno'\n",
       "2. 'MAF'\n",
       "3. 'MinNotMissing'\n",
       "4. 'genoFile'\n",
       "5. 'impMethod'\n",
       "6. 'k'\n",
       "7. 'l'\n",
       "8. 'siteMinCnt'\n",
       "9. 'tasGeno'\n",
       "10. 'tasGenoFilt1'\n",
       "11. 'tasGenoFilt2'\n",
       "\n",
       "\n"
      ],
      "text/plain": [
       " [1] \"FiltGeno\"      \"MAF\"           \"MinNotMissing\" \"genoFile\"     \n",
       " [5] \"impMethod\"     \"k\"             \"l\"             \"siteMinCnt\"   \n",
       " [9] \"tasGeno\"       \"tasGenoFilt1\"  \"tasGenoFilt2\" "
      ]
     },
     "metadata": {},
     "output_type": "display_data"
    }
   ],
   "source": [
    "ls()\n"
   ]
  },
  {
   "cell_type": "code",
   "execution_count": null,
   "id": "upset-inspiration",
   "metadata": {},
   "outputs": [],
   "source": []
  }
 ],
 "metadata": {
  "kernelspec": {
   "display_name": "R 4.1.0",
   "language": "R",
   "name": "ir410"
  },
  "language_info": {
   "codemirror_mode": "r",
   "file_extension": ".r",
   "mimetype": "text/x-r-source",
   "name": "R",
   "pygments_lexer": "r",
   "version": "4.1.0"
  }
 },
 "nbformat": 4,
 "nbformat_minor": 5
}
