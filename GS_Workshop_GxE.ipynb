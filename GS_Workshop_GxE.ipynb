{
 "cells": [
  {
   "cell_type": "markdown",
   "id": "intimate-retention",
   "metadata": {},
   "source": [
    "---\n",
    "### **Data Bootcamp for Genomic Prediction in Plant Breeding** ###\n",
    "### **University of Minnesota Plant Breeding Center** ###\n",
    "#### **June 20 - 22, 2022** ####\n",
    "---"
   ]
  },
  {
   "cell_type": "markdown",
   "id": "faced-potter",
   "metadata": {},
   "source": [
    "### **Practical 5:  Modeling Genotype-Environment Interactions (GxE)** ###"
   ]
  },
  {
   "cell_type": "raw",
   "id": "finnish-sentence",
   "metadata": {},
   "source": []
  },
  {
   "cell_type": "markdown",
   "id": "passive-simpson",
   "metadata": {},
   "source": [
    "#### **Source Scripts and Load Data**\n"
   ]
  },
  {
   "cell_type": "code",
   "execution_count": 1,
   "id": "unable-linux",
   "metadata": {},
   "outputs": [
    {
     "name": "stderr",
     "output_type": "stream",
     "text": [
      "\n",
      "   *****       ***   vcfR   ***       *****\n",
      "   This is vcfR 1.12.0 \n",
      "     browseVignettes('vcfR') # Documentation\n",
      "     citation('vcfR') # Citation\n",
      "   *****       *****      *****       *****\n",
      "\n",
      "\n",
      "\n",
      "Attaching package: 'dplyr'\n",
      "\n",
      "\n",
      "The following objects are masked from 'package:stats':\n",
      "\n",
      "    filter, lag\n",
      "\n",
      "\n",
      "The following objects are masked from 'package:base':\n",
      "\n",
      "    intersect, setdiff, setequal, union\n",
      "\n",
      "\n",
      "\n",
      "Attaching package: 'bWGR'\n",
      "\n",
      "\n",
      "The following objects are masked from 'package:NAM':\n",
      "\n",
      "    CNT, GAU, GRM, IMP, KMUP, KMUP2, SPC, SPM, emBA, emBB, emBC, emBL,\n",
      "    emCV, emDE, emEN, emGWA, emML, emML2, emRR, markov, mkr, mkr2X,\n",
      "    mrr, mrr2X, mrrFast, wgr\n",
      "\n",
      "\n",
      "Loading required package: AlgDesign\n",
      "\n",
      "Loading required package: scales\n",
      "\n",
      "Loading required package: scatterplot3d\n",
      "\n",
      "Loading required package: emoa\n",
      "\n",
      "\n",
      "Attaching package: 'emoa'\n",
      "\n",
      "\n",
      "The following object is masked from 'package:dplyr':\n",
      "\n",
      "    coalesce\n",
      "\n",
      "\n",
      "Loading required package: Matrix\n",
      "\n",
      "Loading required package: MASS\n",
      "\n",
      "\n",
      "Attaching package: 'MASS'\n",
      "\n",
      "\n",
      "The following object is masked from 'package:dplyr':\n",
      "\n",
      "    select\n",
      "\n",
      "\n",
      "Loading required package: lattice\n",
      "\n",
      "Loading required package: crayon\n",
      "\n",
      "\n",
      "Attaching package: 'sommer'\n",
      "\n",
      "\n",
      "The following objects are masked from 'package:rrBLUP':\n",
      "\n",
      "    A.mat, GWAS\n",
      "\n",
      "\n",
      "Bioconductor version '3.14' is out-of-date; the current release version '3.15'\n",
      "  is available with R version '4.2'; see https://bioconductor.org/install\n",
      "\n",
      "'getOption(\"repos\")' replaces Bioconductor standard repositories, see\n",
      "'?repositories' for details\n",
      "\n",
      "replacement repositories:\n",
      "    CRAN: https://cran.r-project.org\n",
      "\n",
      "\n",
      "Bioconductor version 3.14 (BiocManager 1.30.16), R 4.1.0 (2021-05-18)\n",
      "\n",
      "Installation paths not writeable, unable to update packages\n",
      "  path: /panfs/roc/msisoft/R/4.1.0/lib64/R/library\n",
      "  packages:\n",
      "    BH, BiocManager, DT, IRdisplay, IRkernel, MASS, Matrix, R6, Rcpp, brew,\n",
      "    brio, cachem, class, cli, clipr, cluster, commonmark, crayon, credentials,\n",
      "    crosstalk, desc, diffobj, digest, evaluate, fansi, foreign, fs, gert, glue,\n",
      "    htmltools, htmlwidgets, httr, jsonlite, knitr, later, lattice, lifecycle,\n",
      "    magrittr, memoise, mgcv, mime, nlme, nnet, openssl, pbdZMQ, pillar,\n",
      "    pkgbuild, pkgload, processx, ps, rcmdcheck, remotes, repr, rex, rlang,\n",
      "    roxygen2, rpart, rprojroot, sessioninfo, spatial, stringi, survival,\n",
      "    testthat, tibble, usethis, uuid, vctrs, waldo, withr, xfun, xml2, yaml\n",
      "\n",
      "Old packages: 'AlgDesign', 'BGLR', 'LowRankQP', 'RcppArmadillo', 'RcppEigen',\n",
      "  'SOMbrero', 'ade4', 'adegenet', 'bWGR', 'bigmemory', 'broom', 'car',\n",
      "  'carData', 'caret', 'checkmate', 'conquer', 'devtools', 'doParallel',\n",
      "  'dplyr', 'e1071', 'ellipse', 'foreach', 'future', 'future.apply', 'generics',\n",
      "  'globals', 'gmailr', 'gower', 'httpuv', 'igraph', 'interp', 'ipred',\n",
      "  'iterators', 'kernlab', 'kohonen', 'lintr', 'lme4', 'maptools', 'metR',\n",
      "  'mockery', 'nloptr', 'parallelly', 'parsedate', 'pegas', 'permute',\n",
      "  'pkgdown', 'plyr', 'polynom', 'progressr', 'proxy', 'quantreg', 'ragg',\n",
      "  'randomForestSRC', 'recipes', 'rmarkdown', 'sass', 'segmented', 'seqinr',\n",
      "  'sommer', 'sp', 'spam', 'systemfonts', 'tidyr', 'tidyselect', 'tinytex',\n",
      "  'vegan'\n",
      "\n",
      "'getOption(\"repos\")' replaces Bioconductor standard repositories, see\n",
      "'?repositories' for details\n",
      "\n",
      "replacement repositories:\n",
      "    CRAN: https://cran.r-project.org\n",
      "\n",
      "\n",
      "\n",
      "Attaching package: 'devtools'\n",
      "\n",
      "\n",
      "The following object is masked from 'package:BiocManager':\n",
      "\n",
      "    install\n",
      "\n",
      "\n",
      "Welcome to rTASSEL (version 0.9.26)\n",
      " <U+2022> Consider starting a TASSEL log file (see ?startLogger())\n",
      "\n",
      "\n",
      "'getOption(\"repos\")' replaces Bioconductor standard repositories, see\n",
      "'?repositories' for details\n",
      "\n",
      "replacement repositories:\n",
      "    BioCsoft: https://bioconductor.org/packages/3.14/bioc\n",
      "    BioCann: https://bioconductor.org/packages/3.14/data/annotation\n",
      "    BioCexp: https://bioconductor.org/packages/3.14/data/experiment\n",
      "    BioCworkflows: https://bioconductor.org/packages/3.14/workflows\n",
      "    BioCbooks: https://bioconductor.org/packages/3.14/books\n",
      "    CRAN: https://cran.r-project.org\n",
      "\n",
      "\n"
     ]
    }
   ],
   "source": [
    "WorkDir <- getwd()\n",
     "\n",
    "##Source in functions to be used\n",
    "source(\"GS_Pipeline_Jan_2022_FnsApp.R\")\n",
    "source(\"bootcamp_functions.R\")\n",
    "\n",
    "\n"
   ]
  },
  {
   "cell_type": "markdown",
   "id": "western-scholarship",
   "metadata": {},
   "source": [
    "#### **Read Genotype File using vcfR** ####"
   ]
  },
  {
   "cell_type": "code",
   "execution_count": 2,
   "id": "designed-tattoo",
   "metadata": {},
   "outputs": [
    {
     "data": {
      "text/plain": [
       "***** Object of Class vcfR *****\n",
       "5189 samples\n",
       "20 CHROMs\n",
       "4,292 variants\n",
       "Object size: 171.1 Mb\n",
       "25.41 percent missing data\n",
       "*****        *****         *****"
      ]
     },
     "metadata": {},
     "output_type": "display_data"
    }
   ],
   "source": [
    "\n",
    "##Load in genotype data. Use package vcfR to read in and work with vcf file.\n",
    "infileVCF <- \"SoyNAM_Geno.vcf\"\n",
    "genotypes_VCF <- read.table(infileVCF)\n",
    "vcf <- read.vcfR(infileVCF, verbose = FALSE)\n",
    "vcf"
   ]
  },
  {
   "cell_type": "markdown",
   "id": "thick-guyana",
   "metadata": {},
   "source": [
    "\n",
    "#### **Convert VCF file format to numerical matrix format.**\n",
    "#### Final genotype matrix is geno_num"
   ]
  },
  {
   "cell_type": "code",
   "execution_count": 3,
   "id": "exceptional-speed",
   "metadata": {},
   "outputs": [
    {
     "data": {
      "text/html": [
       "<style>\n",
       ".list-inline {list-style: none; margin:0; padding: 0}\n",
       ".list-inline>li {display: inline-block}\n",
       ".list-inline>li:not(:last-child)::after {content: \"\\00b7\"; padding: 0 .5ex}\n",
       "</style>\n",
       "<ol class=list-inline><li>5189</li><li>4292</li></ol>\n"
      ],
      "text/latex": [
       "\\begin{enumerate*}\n",
       "\\item 5189\n",
       "\\item 4292\n",
       "\\end{enumerate*}\n"
      ],
      "text/markdown": [
       "1. 5189\n",
       "2. 4292\n",
       "\n",
       "\n"
      ],
      "text/plain": [
       "[1] 5189 4292"
      ]
     },
     "metadata": {},
     "output_type": "display_data"
    }
   ],
   "source": [
    "gt <- extract.gt(vcf, element = \"GT\", as.numeric = F)\n",
    "fix_T <- as_tibble(getFIX(vcf))\n",
    "gt2 <- matrix(0, ncol = ncol(gt), nrow = nrow(gt))\n",
    "colnames(gt2) <- colnames(gt)\n",
    "rownames(gt2) <- rownames(gt)\n",
    "gt2a <- apply(gt,2, function(x) gsub(\"1/1\",\"1\",x))\n",
    "gt2b <- gsub(\"0[/|]0\",\"0\",gt2a)\n",
    "gt2c <- gsub(\"[10][/|][10]\",\"0.5\",gt2b)\n",
    "gt2d <- gsub(\"\\\\.[/|]\\\\.\",\"NA\",gt2c)\n",
    "\n",
    "gt2d_num<- apply(gt2d,2,as.numeric)\n",
    "rownames(gt2d_num)<- rownames(gt2d)\n",
    "geno_num <- t(gt2d_num)\n",
    "dim(geno_num)\n",
    "rm(gt2d_num)\n",
    "rm(gt2d)\n",
    "rm(gt2c)\n",
    "rm(gt2b)\n",
    "rm(gt2a)\n",
    "rm(gt2)\n"
   ]
  },
  {
   "cell_type": "markdown",
   "id": "wooden-deficit",
   "metadata": {},
   "source": [
    "#### **Filter Genotypic Data**"
   ]
  },
  {
   "cell_type": "code",
   "execution_count": 4,
   "id": "royal-proposition",
   "metadata": {},
   "outputs": [
    {
     "data": {
      "text/html": [
       "<style>\n",
       ".list-inline {list-style: none; margin:0; padding: 0}\n",
       ".list-inline>li {display: inline-block}\n",
       ".list-inline>li:not(:last-child)::after {content: \"\\00b7\"; padding: 0 .5ex}\n",
       "</style>\n",
       "<ol class=list-inline><li>5189</li><li>1428</li></ol>\n"
      ],
      "text/latex": [
       "\\begin{enumerate*}\n",
       "\\item 5189\n",
       "\\item 1428\n",
       "\\end{enumerate*}\n"
      ],
      "text/markdown": [
       "1. 5189\n",
       "2. 1428\n",
       "\n",
       "\n"
      ],
      "text/plain": [
       "[1] 5189 1428"
      ]
     },
     "metadata": {},
     "output_type": "display_data"
    }
   ],
   "source": [
    "##Filter markers on % missing\n",
    "miss <- function(x){length(which(is.na(x)))}\n",
    "mrkNA <- (apply(geno_num, MARGIN=2, FUN=miss))/dim(geno_num)[1]\n",
    "ndx <- which(mrkNA > 0.2)\n",
    "\n",
    "if (length(ndx)>0) geno_num2 <- geno_num[, -ndx] else geno_num2 <- geno_num\n",
    "\n",
    "##Filter individuals on % missing\n",
    "indNA <- (apply(geno_num2, MARGIN=1, FUN=miss))/dim(geno_num2)[2]\n",
    "ndx2 <- which(indNA > 0.5)\n",
    "\n",
    " if(length(ndx2)>0) geno_num3 <- geno_num2[-ndx2, ] else geno_num3 <- geno_num2\n",
    "\n",
    "\n",
    "##Filter markers based on MAF\n",
    "maf <- apply(geno_num3, MARGIN=2, FUN=mean, na.rm=T)\n",
    "ndx3 <- which(maf<0.05 | maf>0.95) \n",
    "\n",
    "if (length(ndx3)>0) geno_num4 <- geno_num2[, -ndx3] else geno_num4 <- geno_num3\n",
    "  \n",
    "dim(geno_num4)"
   ]
  },
  {
   "cell_type": "markdown",
   "id": "aerial-consensus",
   "metadata": {},
   "source": [
    "#### **Import Phenotypic Data**"
   ]
  },
  {
   "cell_type": "code",
   "execution_count": 5,
   "id": "arabic-provision",
   "metadata": {},
   "outputs": [
    {
     "data": {
      "text/html": [
       "<style>\n",
       ".list-inline {list-style: none; margin:0; padding: 0}\n",
       ".list-inline>li {display: inline-block}\n",
       ".list-inline>li:not(:last-child)::after {content: \"\\00b7\"; padding: 0 .5ex}\n",
       "</style>\n",
       "<ol class=list-inline><li>5148</li><li>1429</li></ol>\n"
      ],
      "text/latex": [
       "\\begin{enumerate*}\n",
       "\\item 5148\n",
       "\\item 1429\n",
       "\\end{enumerate*}\n"
      ],
      "text/markdown": [
       "1. 5148\n",
       "2. 1429\n",
       "\n",
       "\n"
      ],
      "text/plain": [
       "[1] 5148 1429"
      ]
     },
     "metadata": {},
     "output_type": "display_data"
    }
   ],
   "source": [
    "\n",
    "pheno <- read.csv(\"SoyNAM_Pheno.csv\")\n",
    "geno_num4_x <- cbind(rownames(geno_num4),geno_num4)\n",
    "\n",
    "colnames(geno_num4_x)[1]<- \"strain\"\n",
    "\n",
    "## Merge Geno and Pheno Data\n",
    "Data <- merge(geno_num4_x,pheno,by=\"strain\",all=TRUE)\n",
    "\n",
    "## Remove with missing yiled_blup values \n",
    "\n",
    "YldNA_Indices <- which(is.na(Data$yield))\n",
    "Data_Sub <- Data[-YldNA_Indices,]\n",
    "\n",
    "\n",
    "genoStrain <- unique(geno_num4_x[,\"strain\"])\n",
    "genoStrainIndices <- which(Data_Sub[,\"strain\"] %in% genoStrain)\n",
    "\n",
    "genoIndices <- grep(\"ss\",colnames(geno_num4_x))\n",
    "initGenoIndx <- genoIndices[1]\n",
    "finalGenoIndx <- genoIndices[length(genoIndices)]\n",
    "phenoIndices <- c(1,c((finalGenoIndx+1):ncol(Data_Sub)))\n",
    "\n",
    "pheno_sub <- Data_Sub[genoStrainIndices,phenoIndices]\n",
    "geno_num4b <- Data_Sub[genoStrainIndices,c(1,genoIndices)]\n",
    "\n",
    "uniqueStrainIndices<- which(!duplicated(geno_num4b[,\"strain\"]))\n",
    "geno_num5 <- geno_num4b[uniqueStrainIndices,]\n",
    "\n",
    "\n",
    "### set 'yield' colname to 'Yield_blup'\n",
    "\n",
    "yldCol <- which(colnames(pheno_sub) %in% \"yield\")\n",
    "colnames(pheno_sub)[yldCol] <- \"Yield_blup\" \n",
    "\n",
    "dim(geno_num5)"
   ]
  },
  {
   "cell_type": "code",
   "execution_count": 6,
   "id": "promising-campus",
   "metadata": {},
   "outputs": [
    {
     "data": {
      "text/html": [
       "<style>\n",
       ".list-inline {list-style: none; margin:0; padding: 0}\n",
       ".list-inline>li {display: inline-block}\n",
       ".list-inline>li:not(:last-child)::after {content: \"\\00b7\"; padding: 0 .5ex}\n",
       "</style>\n",
       "<ol class=list-inline><li>15355</li><li>16</li></ol>\n"
      ],
      "text/latex": [
       "\\begin{enumerate*}\n",
       "\\item 15355\n",
       "\\item 16\n",
       "\\end{enumerate*}\n"
      ],
      "text/markdown": [
       "1. 15355\n",
       "2. 16\n",
       "\n",
       "\n"
      ],
      "text/plain": [
       "[1] 15355    16"
      ]
     },
     "metadata": {},
     "output_type": "display_data"
    }
   ],
   "source": [
    "### Select 3 environs with largest number of evaluations (lines)  \n",
    "\n",
    "env_sub <-  names(which(table(pheno_sub[,\"environ\"])>5100)[1:3])\n",
    "\n",
    "env_sub_indices <- which(pheno_sub[,\"environ\"] %in% env_sub)\n",
    "\n",
    "## Subset Data and Geno tables \n",
    "DT <- pheno_sub[env_sub_indices,]\n",
    "\n",
    "DT$environ <- as.factor(DT$environ)\n",
    "\n",
    "dim(DT)"
   ]
  },
  {
   "cell_type": "code",
   "execution_count": 7,
   "id": "dependent-organization",
   "metadata": {},
   "outputs": [
    {
     "data": {
      "text/html": [
       "<style>\n",
       ".list-inline {list-style: none; margin:0; padding: 0}\n",
       ".list-inline>li {display: inline-block}\n",
       ".list-inline>li:not(:last-child)::after {content: \"\\00b7\"; padding: 0 .5ex}\n",
       "</style>\n",
       "<ol class=list-inline><li>5148</li><li>1428</li></ol>\n"
      ],
      "text/latex": [
       "\\begin{enumerate*}\n",
       "\\item 5148\n",
       "\\item 1428\n",
       "\\end{enumerate*}\n"
      ],
      "text/markdown": [
       "1. 5148\n",
       "2. 1428\n",
       "\n",
       "\n"
      ],
      "text/plain": [
       "[1] 5148 1428"
      ]
     },
     "metadata": {},
     "output_type": "display_data"
    }
   ],
   "source": [
    "#### Impute genotable\n",
    "\n",
    "geno_imp <- markov(apply(geno_num5[,-1],2,as.numeric))\n",
    "rownames(geno_imp) <- geno_num5[,\"strain\"]\n",
    "dim(geno_imp)"
   ]
  },
  {
   "cell_type": "code",
   "execution_count": 8,
   "id": "favorite-relative",
   "metadata": {},
   "outputs": [
    {
     "data": {
      "text/html": [
       "<style>\n",
       ".list-inline {list-style: none; margin:0; padding: 0}\n",
       ".list-inline>li {display: inline-block}\n",
       ".list-inline>li:not(:last-child)::after {content: \"\\00b7\"; padding: 0 .5ex}\n",
       "</style>\n",
       "<ol class=list-inline><li>5145</li><li>1428</li></ol>\n"
      ],
      "text/latex": [
       "\\begin{enumerate*}\n",
       "\\item 5145\n",
       "\\item 1428\n",
       "\\end{enumerate*}\n"
      ],
      "text/markdown": [
       "1. 5145\n",
       "2. 1428\n",
       "\n",
       "\n"
      ],
      "text/plain": [
       "[1] 5145 1428"
      ]
     },
     "metadata": {},
     "output_type": "display_data"
    }
   ],
   "source": [
    "### \n",
    "env_geno_sub_indices <- which(rownames(geno_imp) %in% unique(DT[,\"strain\"]))\n",
    "geno_imp_sub <- geno_imp[env_geno_sub_indices,]\n",
    "\n",
    "dim(geno_imp_sub)"
   ]
  },
  {
   "cell_type": "code",
   "execution_count": 9,
   "id": "fatal-cycle",
   "metadata": {},
   "outputs": [
    {
     "data": {
      "text/html": [
       "<style>\n",
       ".list-inline {list-style: none; margin:0; padding: 0}\n",
       ".list-inline>li {display: inline-block}\n",
       ".list-inline>li:not(:last-child)::after {content: \"\\00b7\"; padding: 0 .5ex}\n",
       "</style>\n",
       "<ol class=list-inline><li>5145</li><li>5145</li></ol>\n"
      ],
      "text/latex": [
       "\\begin{enumerate*}\n",
       "\\item 5145\n",
       "\\item 5145\n",
       "\\end{enumerate*}\n"
      ],
      "text/markdown": [
       "1. 5145\n",
       "2. 5145\n",
       "\n",
       "\n"
      ],
      "text/plain": [
       "[1] 5145 5145"
      ]
     },
     "metadata": {},
     "output_type": "display_data"
    },
    {
     "data": {
      "text/html": [
       "<style>\n",
       ".list-inline {list-style: none; margin:0; padding: 0}\n",
       ".list-inline>li {display: inline-block}\n",
       ".list-inline>li:not(:last-child)::after {content: \"\\00b7\"; padding: 0 .5ex}\n",
       "</style>\n",
       "<ol class=list-inline><li>3</li><li>3</li></ol>\n"
      ],
      "text/latex": [
       "\\begin{enumerate*}\n",
       "\\item 3\n",
       "\\item 3\n",
       "\\end{enumerate*}\n"
      ],
      "text/markdown": [
       "1. 3\n",
       "2. 3\n",
       "\n",
       "\n"
      ],
      "text/plain": [
       "[1] 3 3"
      ]
     },
     "metadata": {},
     "output_type": "display_data"
    }
   ],
   "source": [
    "K_rr <- A.mat(geno_imp_sub)\n",
    "colnames(K_rr) <-rownames(geno_imp_sub)\n",
    "rownames(K_rr) <- rownames(geno_imp_sub)\n",
    "A <- K_rr\n",
    "\n",
    "dim(A)\n",
    "\n",
    "### Limit no_of_environments to create EA matrix of reasonable mem size.. \n",
    "\n",
    "A_Sub <- A[1:500,1:500]\n",
    "DT_Sub <- DT[which(DT[,\"strain\"] %in% rownames(A_Sub)),]\n",
    "\n",
    "E <- diag(length(unique(DT$environ)))\n",
    "rownames(E) <- colnames(E) <- unique(DT$environ)\n",
    "dim(E)"
   ]
  },
  {
   "cell_type": "code",
   "execution_count": 10,
   "id": "eleven-copying",
   "metadata": {},
   "outputs": [
    {
     "data": {
      "text/html": [
       "<style>\n",
       ".list-inline {list-style: none; margin:0; padding: 0}\n",
       ".list-inline>li {display: inline-block}\n",
       ".list-inline>li:not(:last-child)::after {content: \"\\00b7\"; padding: 0 .5ex}\n",
       "</style>\n",
       "<ol class=list-inline><li>494</li><li>494</li></ol>\n"
      ],
      "text/latex": [
       "\\begin{enumerate*}\n",
       "\\item 494\n",
       "\\item 494\n",
       "\\end{enumerate*}\n"
      ],
      "text/markdown": [
       "1. 494\n",
       "2. 494\n",
       "\n",
       "\n"
      ],
      "text/plain": [
       "[1] 494 494"
      ]
     },
     "metadata": {},
     "output_type": "display_data"
    }
   ],
   "source": [
    "\n",
    "### Same set of strains in each of the environments \n",
    "\n",
    "rmStrains <- names(which(table(DT_Sub[,\"strain\"]) <3))\n",
    "DT_Sub1 <- DT_Sub[-which(DT_Sub[,\"strain\"] %in% rmStrains),]\n",
    "\n",
    "A_Sub1 <- A_Sub[-which(rownames(A_Sub) %in% rmStrains),-which(rownames(A_Sub) %in% rmStrains)]\n",
    "dim(A_Sub1)"
   ]
  },
  {
   "cell_type": "raw",
   "id": "lesbian-replacement",
   "metadata": {},
   "source": []
  },
  {
   "cell_type": "markdown",
   "id": "cosmetic-marsh",
   "metadata": {},
   "source": [
    "### **Exercise - Compare a few of the var-covar structures in SOMMER package**\n"
   ]
  },
  {
   "cell_type": "markdown",
   "id": "political-faculty",
   "metadata": {},
   "source": [
    "#### **Main Effect** #### \n",
    "##### Model environment as fixed effect (estimate population mean for each of the environments) and estimate random effects for genotypes \n"
   ]
  },
  {
   "cell_type": "code",
   "execution_count": 11,
   "id": "entire-bryan",
   "metadata": {},
   "outputs": [
    {
     "data": {
      "text/html": [
       "<dl>\n",
       "\t<dt>$groups</dt>\n",
       "\t\t<dd><table class=\"dataframe\">\n",
       "<caption>A matrix: 1 × 1 of type int</caption>\n",
       "<thead>\n",
       "\t<tr><th></th><th scope=col>Yield_blup</th></tr>\n",
       "</thead>\n",
       "<tbody>\n",
       "\t<tr><th scope=row>u:strain</th><td>494</td></tr>\n",
       "</tbody>\n",
       "</table>\n",
       "</dd>\n",
       "\t<dt>$varcomp</dt>\n",
       "\t\t<dd><table class=\"dataframe\">\n",
       "<caption>A data.frame: 2 × 4</caption>\n",
       "<thead>\n",
       "\t<tr><th></th><th scope=col>VarComp</th><th scope=col>VarCompSE</th><th scope=col>Zratio</th><th scope=col>Constraint</th></tr>\n",
       "\t<tr><th></th><th scope=col>&lt;dbl&gt;</th><th scope=col>&lt;dbl&gt;</th><th scope=col>&lt;dbl&gt;</th><th scope=col>&lt;chr&gt;</th></tr>\n",
       "</thead>\n",
       "<tbody>\n",
       "\t<tr><th scope=row>u:strain.Yield_blup-Yield_blup</th><td> 13376.89</td><td> 7393.675</td><td> 1.809235</td><td>Positive</td></tr>\n",
       "\t<tr><th scope=row>units.Yield_blup-Yield_blup</th><td>372917.05</td><td>13908.256</td><td>26.812640</td><td>Positive</td></tr>\n",
       "</tbody>\n",
       "</table>\n",
       "</dd>\n",
       "\t<dt>$betas</dt>\n",
       "\t\t<dd><table class=\"dataframe\">\n",
       "<caption>A data.frame: 3 × 5</caption>\n",
       "<thead>\n",
       "\t<tr><th scope=col>Trait</th><th scope=col>Effect</th><th scope=col>Estimate</th><th scope=col>Std.Error</th><th scope=col>t.value</th></tr>\n",
       "\t<tr><th scope=col>&lt;fct&gt;</th><th scope=col>&lt;fct&gt;</th><th scope=col>&lt;dbl&gt;</th><th scope=col>&lt;dbl&gt;</th><th scope=col>&lt;dbl&gt;</th></tr>\n",
       "</thead>\n",
       "<tbody>\n",
       "\t<tr><td>Yield_blup</td><td>environIA_2012</td><td>3133.676</td><td>28.00058</td><td>111.9147</td></tr>\n",
       "\t<tr><td>Yield_blup</td><td>environIA_2013</td><td>2800.650</td><td>28.00058</td><td>100.0211</td></tr>\n",
       "\t<tr><td>Yield_blup</td><td>environIL_2012</td><td>3617.185</td><td>28.00058</td><td>129.1825</td></tr>\n",
       "</tbody>\n",
       "</table>\n",
       "</dd>\n",
       "\t<dt>$method</dt>\n",
       "\t\t<dd>'NR'</dd>\n",
       "\t<dt>$logo</dt>\n",
       "\t\t<dd><table class=\"dataframe\">\n",
       "<caption>A data.frame: 1 × 5</caption>\n",
       "<thead>\n",
       "\t<tr><th></th><th scope=col>logLik</th><th scope=col>AIC</th><th scope=col>BIC</th><th scope=col>Method</th><th scope=col>Converge</th></tr>\n",
       "\t<tr><th></th><th scope=col>&lt;dbl&gt;</th><th scope=col>&lt;dbl&gt;</th><th scope=col>&lt;dbl&gt;</th><th scope=col>&lt;chr&gt;</th><th scope=col>&lt;lgl&gt;</th></tr>\n",
       "</thead>\n",
       "<tbody>\n",
       "\t<tr><th scope=row>Value</th><td>-545.1281</td><td>1096.256</td><td>1112.16</td><td>NR</td><td>TRUE</td></tr>\n",
       "</tbody>\n",
       "</table>\n",
       "</dd>\n",
       "</dl>\n"
      ],
      "text/latex": [
       "\\begin{description}\n",
       "\\item[\\$groups] A matrix: 1 × 1 of type int\n",
       "\\begin{tabular}{r|l}\n",
       "  & Yield\\_blup\\\\\n",
       "\\hline\n",
       "\tu:strain & 494\\\\\n",
       "\\end{tabular}\n",
       "\n",
       "\\item[\\$varcomp] A data.frame: 2 × 4\n",
       "\\begin{tabular}{r|llll}\n",
       "  & VarComp & VarCompSE & Zratio & Constraint\\\\\n",
       "  & <dbl> & <dbl> & <dbl> & <chr>\\\\\n",
       "\\hline\n",
       "\tu:strain.Yield\\_blup-Yield\\_blup &  13376.89 &  7393.675 &  1.809235 & Positive\\\\\n",
       "\tunits.Yield\\_blup-Yield\\_blup & 372917.05 & 13908.256 & 26.812640 & Positive\\\\\n",
       "\\end{tabular}\n",
       "\n",
       "\\item[\\$betas] A data.frame: 3 × 5\n",
       "\\begin{tabular}{lllll}\n",
       " Trait & Effect & Estimate & Std.Error & t.value\\\\\n",
       " <fct> & <fct> & <dbl> & <dbl> & <dbl>\\\\\n",
       "\\hline\n",
       "\t Yield\\_blup & environIA\\_2012 & 3133.676 & 28.00058 & 111.9147\\\\\n",
       "\t Yield\\_blup & environIA\\_2013 & 2800.650 & 28.00058 & 100.0211\\\\\n",
       "\t Yield\\_blup & environIL\\_2012 & 3617.185 & 28.00058 & 129.1825\\\\\n",
       "\\end{tabular}\n",
       "\n",
       "\\item[\\$method] 'NR'\n",
       "\\item[\\$logo] A data.frame: 1 × 5\n",
       "\\begin{tabular}{r|lllll}\n",
       "  & logLik & AIC & BIC & Method & Converge\\\\\n",
       "  & <dbl> & <dbl> & <dbl> & <chr> & <lgl>\\\\\n",
       "\\hline\n",
       "\tValue & -545.1281 & 1096.256 & 1112.16 & NR & TRUE\\\\\n",
       "\\end{tabular}\n",
       "\n",
       "\\end{description}\n"
      ],
      "text/markdown": [
       "$groups\n",
       ":   \n",
       "A matrix: 1 × 1 of type int\n",
       "\n",
       "| <!--/--> | Yield_blup |\n",
       "|---|---|\n",
       "| u:strain | 494 |\n",
       "\n",
       "\n",
       "$varcomp\n",
       ":   \n",
       "A data.frame: 2 × 4\n",
       "\n",
       "| <!--/--> | VarComp &lt;dbl&gt; | VarCompSE &lt;dbl&gt; | Zratio &lt;dbl&gt; | Constraint &lt;chr&gt; |\n",
       "|---|---|---|---|---|\n",
       "| u:strain.Yield_blup-Yield_blup |  13376.89 |  7393.675 |  1.809235 | Positive |\n",
       "| units.Yield_blup-Yield_blup | 372917.05 | 13908.256 | 26.812640 | Positive |\n",
       "\n",
       "\n",
       "$betas\n",
       ":   \n",
       "A data.frame: 3 × 5\n",
       "\n",
       "| Trait &lt;fct&gt; | Effect &lt;fct&gt; | Estimate &lt;dbl&gt; | Std.Error &lt;dbl&gt; | t.value &lt;dbl&gt; |\n",
       "|---|---|---|---|---|\n",
       "| Yield_blup | environIA_2012 | 3133.676 | 28.00058 | 111.9147 |\n",
       "| Yield_blup | environIA_2013 | 2800.650 | 28.00058 | 100.0211 |\n",
       "| Yield_blup | environIL_2012 | 3617.185 | 28.00058 | 129.1825 |\n",
       "\n",
       "\n",
       "$method\n",
       ":   'NR'\n",
       "$logo\n",
       ":   \n",
       "A data.frame: 1 × 5\n",
       "\n",
       "| <!--/--> | logLik &lt;dbl&gt; | AIC &lt;dbl&gt; | BIC &lt;dbl&gt; | Method &lt;chr&gt; | Converge &lt;lgl&gt; |\n",
       "|---|---|---|---|---|---|\n",
       "| Value | -545.1281 | 1096.256 | 1112.16 | NR | TRUE |\n",
       "\n",
       "\n",
       "\n",
       "\n"
      ],
      "text/plain": [
       "================================================================\n",
       "           Multivariate Linear Mixed Model fit by REML           \n",
       "************************  sommer 4.1  ************************ \n",
       "================================================================\n",
       "         logLik      AIC     BIC Method Converge\n",
       "Value -545.1281 1096.256 1112.16     NR     TRUE\n",
       "================================================================\n",
       "Variance-Covariance components:\n",
       "                               VarComp VarCompSE Zratio Constraint\n",
       "u:strain.Yield_blup-Yield_blup   13377      7394  1.809   Positive\n",
       "units.Yield_blup-Yield_blup     372917     13908 26.813   Positive\n",
       "================================================================\n",
       "Fixed effects:\n",
       "       Trait         Effect Estimate Std.Error t.value\n",
       "1 Yield_blup environIA_2012     3134        28   111.9\n",
       "2 Yield_blup environIA_2013     2801        28   100.0\n",
       "3 Yield_blup environIL_2012     3617        28   129.2\n",
       "================================================================\n",
       "Groups and observations:\n",
       "         Yield_blup\n",
       "u:strain        494\n",
       "================================================================\n",
       "Use the '$' sign to access results and parameters"
      ]
     },
     "metadata": {},
     "output_type": "display_data"
    }
   ],
   "source": [
    "\n",
    "fitMain <- mmer(Yield_blup~environ-1,\n",
    "                random=~vs(strain,Gu=A_Sub1),\n",
    "                rcov=~units,\n",
    "                data=DT_Sub1,verbose=FALSE)\n",
    "summary(fitMain)\n"
   ]
  },
  {
   "cell_type": "code",
   "execution_count": 12,
   "id": "enormous-muslim",
   "metadata": {},
   "outputs": [
    {
     "data": {
      "text/html": [
       "<table class=\"dataframe\">\n",
       "<caption>A matrix: 1 × 1 of type dbl</caption>\n",
       "<tbody>\n",
       "\t<tr><td>0.4803591</td></tr>\n",
       "</tbody>\n",
       "</table>\n"
      ],
      "text/latex": [
       "A matrix: 1 × 1 of type dbl\n",
       "\\begin{tabular}{l}\n",
       "\t 0.4803591\\\\\n",
       "\\end{tabular}\n"
      ],
      "text/markdown": [
       "\n",
       "A matrix: 1 × 1 of type dbl\n",
       "\n",
       "| 0.4803591 |\n",
       "\n"
      ],
      "text/plain": [
       "     [,1]     \n",
       "[1,] 0.4803591"
      ]
     },
     "metadata": {},
     "output_type": "display_data"
    }
   ],
   "source": [
    "\n",
    "m <- model.matrix(~ environ-1 ,data=DT_Sub1)\n",
    "m_beta <- m %*% as.numeric(fitMain$Beta[,3]) \n",
    "PredMain <- m_beta+fitMain$U$`u:strain`$Yield_blup\n",
    "cor(PredMain,DT_Sub1[,\"Yield_blup\"]) "
   ]
  },
  {
   "cell_type": "markdown",
   "id": "collected-bradley",
   "metadata": {},
   "source": [
    "#### **Model with Compound Symmetry var-covar structure** ####\n",
    "##### Compound symmetry assumes GxE effects and also assumes constant correlation among environments"
   ]
  },
  {
   "cell_type": "code",
   "execution_count": 13,
   "id": "loaded-settle",
   "metadata": {},
   "outputs": [
    {
     "data": {
      "text/html": [
       "<dl>\n",
       "\t<dt>$groups</dt>\n",
       "\t\t<dd><table class=\"dataframe\">\n",
       "<caption>A matrix: 2 × 1 of type int</caption>\n",
       "<thead>\n",
       "\t<tr><th></th><th scope=col>Yield_blup</th></tr>\n",
       "</thead>\n",
       "<tbody>\n",
       "\t<tr><th scope=row>u:strain</th><td> 494</td></tr>\n",
       "\t<tr><th scope=row>u:environ:strain</th><td>1482</td></tr>\n",
       "</tbody>\n",
       "</table>\n",
       "</dd>\n",
       "\t<dt>$varcomp</dt>\n",
       "\t\t<dd><table class=\"dataframe\">\n",
       "<caption>A data.frame: 3 × 4</caption>\n",
       "<thead>\n",
       "\t<tr><th></th><th scope=col>VarComp</th><th scope=col>VarCompSE</th><th scope=col>Zratio</th><th scope=col>Constraint</th></tr>\n",
       "\t<tr><th></th><th scope=col>&lt;dbl&gt;</th><th scope=col>&lt;dbl&gt;</th><th scope=col>&lt;dbl&gt;</th><th scope=col>&lt;chr&gt;</th></tr>\n",
       "</thead>\n",
       "<tbody>\n",
       "\t<tr><th scope=row>u:strain.Yield_blup-Yield_blup</th><td>     0.00</td><td>11503.43</td><td> 0.000000</td><td>Positive</td></tr>\n",
       "\t<tr><th scope=row>u:environ:strain.Yield_blup-Yield_blup</th><td> 65969.28</td><td>20118.21</td><td> 3.279082</td><td>Positive</td></tr>\n",
       "\t<tr><th scope=row>units.Yield_blup-Yield_blup</th><td>343674.11</td><td>13300.93</td><td>25.838345</td><td>Positive</td></tr>\n",
       "</tbody>\n",
       "</table>\n",
       "</dd>\n",
       "\t<dt>$betas</dt>\n",
       "\t\t<dd><table class=\"dataframe\">\n",
       "<caption>A data.frame: 3 × 5</caption>\n",
       "<thead>\n",
       "\t<tr><th scope=col>Trait</th><th scope=col>Effect</th><th scope=col>Estimate</th><th scope=col>Std.Error</th><th scope=col>t.value</th></tr>\n",
       "\t<tr><th scope=col>&lt;fct&gt;</th><th scope=col>&lt;fct&gt;</th><th scope=col>&lt;dbl&gt;</th><th scope=col>&lt;dbl&gt;</th><th scope=col>&lt;dbl&gt;</th></tr>\n",
       "</thead>\n",
       "<tbody>\n",
       "\t<tr><td>Yield_blup</td><td>environIA_2012</td><td>3146.983</td><td>28.54727</td><td>110.23762</td></tr>\n",
       "\t<tr><td>Yield_blup</td><td>environIA_2013</td><td>2778.546</td><td>28.54727</td><td> 97.33139</td></tr>\n",
       "\t<tr><td>Yield_blup</td><td>environIL_2012</td><td>3633.347</td><td>28.54727</td><td>127.27474</td></tr>\n",
       "</tbody>\n",
       "</table>\n",
       "</dd>\n",
       "\t<dt>$method</dt>\n",
       "\t\t<dd>'NR'</dd>\n",
       "\t<dt>$logo</dt>\n",
       "\t\t<dd><table class=\"dataframe\">\n",
       "<caption>A data.frame: 1 × 5</caption>\n",
       "<thead>\n",
       "\t<tr><th></th><th scope=col>logLik</th><th scope=col>AIC</th><th scope=col>BIC</th><th scope=col>Method</th><th scope=col>Converge</th></tr>\n",
       "\t<tr><th></th><th scope=col>&lt;dbl&gt;</th><th scope=col>&lt;dbl&gt;</th><th scope=col>&lt;dbl&gt;</th><th scope=col>&lt;chr&gt;</th><th scope=col>&lt;lgl&gt;</th></tr>\n",
       "</thead>\n",
       "<tbody>\n",
       "\t<tr><th scope=row>Value</th><td>-523.9647</td><td>1053.929</td><td>1069.833</td><td>NR</td><td>TRUE</td></tr>\n",
       "</tbody>\n",
       "</table>\n",
       "</dd>\n",
       "</dl>\n"
      ],
      "text/latex": [
       "\\begin{description}\n",
       "\\item[\\$groups] A matrix: 2 × 1 of type int\n",
       "\\begin{tabular}{r|l}\n",
       "  & Yield\\_blup\\\\\n",
       "\\hline\n",
       "\tu:strain &  494\\\\\n",
       "\tu:environ:strain & 1482\\\\\n",
       "\\end{tabular}\n",
       "\n",
       "\\item[\\$varcomp] A data.frame: 3 × 4\n",
       "\\begin{tabular}{r|llll}\n",
       "  & VarComp & VarCompSE & Zratio & Constraint\\\\\n",
       "  & <dbl> & <dbl> & <dbl> & <chr>\\\\\n",
       "\\hline\n",
       "\tu:strain.Yield\\_blup-Yield\\_blup &      0.00 & 11503.43 &  0.000000 & Positive\\\\\n",
       "\tu:environ:strain.Yield\\_blup-Yield\\_blup &  65969.28 & 20118.21 &  3.279082 & Positive\\\\\n",
       "\tunits.Yield\\_blup-Yield\\_blup & 343674.11 & 13300.93 & 25.838345 & Positive\\\\\n",
       "\\end{tabular}\n",
       "\n",
       "\\item[\\$betas] A data.frame: 3 × 5\n",
       "\\begin{tabular}{lllll}\n",
       " Trait & Effect & Estimate & Std.Error & t.value\\\\\n",
       " <fct> & <fct> & <dbl> & <dbl> & <dbl>\\\\\n",
       "\\hline\n",
       "\t Yield\\_blup & environIA\\_2012 & 3146.983 & 28.54727 & 110.23762\\\\\n",
       "\t Yield\\_blup & environIA\\_2013 & 2778.546 & 28.54727 &  97.33139\\\\\n",
       "\t Yield\\_blup & environIL\\_2012 & 3633.347 & 28.54727 & 127.27474\\\\\n",
       "\\end{tabular}\n",
       "\n",
       "\\item[\\$method] 'NR'\n",
       "\\item[\\$logo] A data.frame: 1 × 5\n",
       "\\begin{tabular}{r|lllll}\n",
       "  & logLik & AIC & BIC & Method & Converge\\\\\n",
       "  & <dbl> & <dbl> & <dbl> & <chr> & <lgl>\\\\\n",
       "\\hline\n",
       "\tValue & -523.9647 & 1053.929 & 1069.833 & NR & TRUE\\\\\n",
       "\\end{tabular}\n",
       "\n",
       "\\end{description}\n"
      ],
      "text/markdown": [
       "$groups\n",
       ":   \n",
       "A matrix: 2 × 1 of type int\n",
       "\n",
       "| <!--/--> | Yield_blup |\n",
       "|---|---|\n",
       "| u:strain |  494 |\n",
       "| u:environ:strain | 1482 |\n",
       "\n",
       "\n",
       "$varcomp\n",
       ":   \n",
       "A data.frame: 3 × 4\n",
       "\n",
       "| <!--/--> | VarComp &lt;dbl&gt; | VarCompSE &lt;dbl&gt; | Zratio &lt;dbl&gt; | Constraint &lt;chr&gt; |\n",
       "|---|---|---|---|---|\n",
       "| u:strain.Yield_blup-Yield_blup |      0.00 | 11503.43 |  0.000000 | Positive |\n",
       "| u:environ:strain.Yield_blup-Yield_blup |  65969.28 | 20118.21 |  3.279082 | Positive |\n",
       "| units.Yield_blup-Yield_blup | 343674.11 | 13300.93 | 25.838345 | Positive |\n",
       "\n",
       "\n",
       "$betas\n",
       ":   \n",
       "A data.frame: 3 × 5\n",
       "\n",
       "| Trait &lt;fct&gt; | Effect &lt;fct&gt; | Estimate &lt;dbl&gt; | Std.Error &lt;dbl&gt; | t.value &lt;dbl&gt; |\n",
       "|---|---|---|---|---|\n",
       "| Yield_blup | environIA_2012 | 3146.983 | 28.54727 | 110.23762 |\n",
       "| Yield_blup | environIA_2013 | 2778.546 | 28.54727 |  97.33139 |\n",
       "| Yield_blup | environIL_2012 | 3633.347 | 28.54727 | 127.27474 |\n",
       "\n",
       "\n",
       "$method\n",
       ":   'NR'\n",
       "$logo\n",
       ":   \n",
       "A data.frame: 1 × 5\n",
       "\n",
       "| <!--/--> | logLik &lt;dbl&gt; | AIC &lt;dbl&gt; | BIC &lt;dbl&gt; | Method &lt;chr&gt; | Converge &lt;lgl&gt; |\n",
       "|---|---|---|---|---|---|\n",
       "| Value | -523.9647 | 1053.929 | 1069.833 | NR | TRUE |\n",
       "\n",
       "\n",
       "\n",
       "\n"
      ],
      "text/plain": [
       "========================================================================\n",
       "               Multivariate Linear Mixed Model fit by REML               \n",
       "****************************  sommer 4.1  **************************** \n",
       "========================================================================\n",
       "         logLik      AIC      BIC Method Converge\n",
       "Value -523.9647 1053.929 1069.833     NR     TRUE\n",
       "========================================================================\n",
       "Variance-Covariance components:\n",
       "                                       VarComp VarCompSE Zratio Constraint\n",
       "u:strain.Yield_blup-Yield_blup               0     11503  0.000   Positive\n",
       "u:environ:strain.Yield_blup-Yield_blup   65969     20118  3.279   Positive\n",
       "units.Yield_blup-Yield_blup             343674     13301 25.838   Positive\n",
       "========================================================================\n",
       "Fixed effects:\n",
       "       Trait         Effect Estimate Std.Error t.value\n",
       "1 Yield_blup environIA_2012     3147     28.55  110.24\n",
       "2 Yield_blup environIA_2013     2779     28.55   97.33\n",
       "3 Yield_blup environIL_2012     3633     28.55  127.27\n",
       "========================================================================\n",
       "Groups and observations:\n",
       "                 Yield_blup\n",
       "u:strain                494\n",
       "u:environ:strain       1482\n",
       "========================================================================\n",
       "Use the '$' sign to access results and parameters"
      ]
     },
     "metadata": {},
     "output_type": "display_data"
    }
   ],
   "source": [
    "\n",
    "E <- diag(length(unique(DT_Sub1$environ)))\n",
    "rownames(E) <- colnames(E) <- unique(DT_Sub1$environ)\n",
    "\n",
    "EA <- kronecker(E,A_Sub1, make.dimnames = TRUE)\n",
    "DT_Sub1$environ <- as.factor(DT_Sub1$environ)\n",
    "DT_Sub1$strain <- as.factor(DT_Sub1$strain)\n",
    "\n",
    "fitCS <- mmer(Yield_blup~environ-1,\n",
    "              random= ~ vs(strain, Gu=A_Sub1) + vs(environ:strain, Gu=EA),\n",
    "              rcov= ~ units,\n",
    "              data=DT_Sub1, verbose = FALSE)\n",
    "summary(fitCS)"
   ]
  },
  {
   "cell_type": "code",
   "execution_count": 14,
   "id": "together-sailing",
   "metadata": {},
   "outputs": [
    {
     "data": {
      "text/html": [
       "<table class=\"dataframe\">\n",
       "<caption>A matrix: 1 × 1 of type dbl</caption>\n",
       "<tbody>\n",
       "\t<tr><td>0.4676182</td></tr>\n",
       "</tbody>\n",
       "</table>\n"
      ],
      "text/latex": [
       "A matrix: 1 × 1 of type dbl\n",
       "\\begin{tabular}{l}\n",
       "\t 0.4676182\\\\\n",
       "\\end{tabular}\n"
      ],
      "text/markdown": [
       "\n",
       "A matrix: 1 × 1 of type dbl\n",
       "\n",
       "| 0.4676182 |\n",
       "\n"
      ],
      "text/plain": [
       "     [,1]     \n",
       "[1,] 0.4676182"
      ]
     },
     "metadata": {},
     "output_type": "display_data"
    }
   ],
   "source": [
    "\n",
    "m <- model.matrix(~ environ-1 ,data=DT_Sub1)\n",
    "m_beta <- m %*% as.numeric(fitCS$Beta[,3]) \n",
    "PredCS <- m_beta+fitCS$U$`u:environ:strain`$Yield_blup\n",
    "cor(PredCS,DT_Sub1[,\"Yield_blup\"]) \n"
   ]
  },
  {
   "cell_type": "markdown",
   "id": "accessory-panic",
   "metadata": {},
   "source": [
    "#### **CS - Diagonal Structure** ####"
   ]
  },
  {
   "cell_type": "code",
   "execution_count": 15,
   "id": "original-cooperation",
   "metadata": {},
   "outputs": [
    {
     "data": {
      "text/html": [
       "<dl>\n",
       "\t<dt>$groups</dt>\n",
       "\t\t<dd><table class=\"dataframe\">\n",
       "<caption>A matrix: 4 × 1 of type int</caption>\n",
       "<thead>\n",
       "\t<tr><th></th><th scope=col>Yield_blup</th></tr>\n",
       "</thead>\n",
       "<tbody>\n",
       "\t<tr><th scope=row>u:strain</th><td>494</td></tr>\n",
       "\t<tr><th scope=row>IA_2012:strain</th><td>494</td></tr>\n",
       "\t<tr><th scope=row>IA_2013:strain</th><td>494</td></tr>\n",
       "\t<tr><th scope=row>IL_2012:strain</th><td>494</td></tr>\n",
       "</tbody>\n",
       "</table>\n",
       "</dd>\n",
       "\t<dt>$varcomp</dt>\n",
       "\t\t<dd><table class=\"dataframe\">\n",
       "<caption>A data.frame: 5 × 4</caption>\n",
       "<thead>\n",
       "\t<tr><th></th><th scope=col>VarComp</th><th scope=col>VarCompSE</th><th scope=col>Zratio</th><th scope=col>Constraint</th></tr>\n",
       "\t<tr><th></th><th scope=col>&lt;dbl&gt;</th><th scope=col>&lt;dbl&gt;</th><th scope=col>&lt;dbl&gt;</th><th scope=col>&lt;chr&gt;</th></tr>\n",
       "</thead>\n",
       "<tbody>\n",
       "\t<tr><th scope=row>u:strain.Yield_blup-Yield_blup</th><td> 10027.10</td><td>12112.62</td><td> 0.8278228</td><td>Positive</td></tr>\n",
       "\t<tr><th scope=row>IA_2012:strain.Yield_blup-Yield_blup</th><td> 10797.13</td><td>17422.86</td><td> 0.6197106</td><td>Positive</td></tr>\n",
       "\t<tr><th scope=row>IA_2013:strain.Yield_blup-Yield_blup</th><td>102207.76</td><td>40069.62</td><td> 2.5507542</td><td>Positive</td></tr>\n",
       "\t<tr><th scope=row>IL_2012:strain.Yield_blup-Yield_blup</th><td> 84568.31</td><td>35697.88</td><td> 2.3690005</td><td>Positive</td></tr>\n",
       "\t<tr><th scope=row>units.Yield_blup-Yield_blup</th><td>341746.84</td><td>13228.61</td><td>25.8339227</td><td>Positive</td></tr>\n",
       "</tbody>\n",
       "</table>\n",
       "</dd>\n",
       "\t<dt>$betas</dt>\n",
       "\t\t<dd><table class=\"dataframe\">\n",
       "<caption>A data.frame: 3 × 5</caption>\n",
       "<thead>\n",
       "\t<tr><th scope=col>Trait</th><th scope=col>Effect</th><th scope=col>Estimate</th><th scope=col>Std.Error</th><th scope=col>t.value</th></tr>\n",
       "\t<tr><th scope=col>&lt;fct&gt;</th><th scope=col>&lt;fct&gt;</th><th scope=col>&lt;dbl&gt;</th><th scope=col>&lt;dbl&gt;</th><th scope=col>&lt;dbl&gt;</th></tr>\n",
       "</thead>\n",
       "<tbody>\n",
       "\t<tr><td>Yield_blup</td><td>environIA_2012</td><td>3137.910</td><td>27.25890</td><td>115.11509</td></tr>\n",
       "\t<tr><td>Yield_blup</td><td>environIA_2013</td><td>2779.264</td><td>29.28880</td><td> 94.89168</td></tr>\n",
       "\t<tr><td>Yield_blup</td><td>environIL_2012</td><td>3637.888</td><td>28.99965</td><td>125.44593</td></tr>\n",
       "</tbody>\n",
       "</table>\n",
       "</dd>\n",
       "\t<dt>$method</dt>\n",
       "\t\t<dd>'NR'</dd>\n",
       "\t<dt>$logo</dt>\n",
       "\t\t<dd><table class=\"dataframe\">\n",
       "<caption>A data.frame: 1 × 5</caption>\n",
       "<thead>\n",
       "\t<tr><th></th><th scope=col>logLik</th><th scope=col>AIC</th><th scope=col>BIC</th><th scope=col>Method</th><th scope=col>Converge</th></tr>\n",
       "\t<tr><th></th><th scope=col>&lt;dbl&gt;</th><th scope=col>&lt;dbl&gt;</th><th scope=col>&lt;dbl&gt;</th><th scope=col>&lt;chr&gt;</th><th scope=col>&lt;lgl&gt;</th></tr>\n",
       "</thead>\n",
       "<tbody>\n",
       "\t<tr><th scope=row>Value</th><td>-521.4306</td><td>1048.861</td><td>1064.765</td><td>NR</td><td>TRUE</td></tr>\n",
       "</tbody>\n",
       "</table>\n",
       "</dd>\n",
       "</dl>\n"
      ],
      "text/latex": [
       "\\begin{description}\n",
       "\\item[\\$groups] A matrix: 4 × 1 of type int\n",
       "\\begin{tabular}{r|l}\n",
       "  & Yield\\_blup\\\\\n",
       "\\hline\n",
       "\tu:strain & 494\\\\\n",
       "\tIA\\_2012:strain & 494\\\\\n",
       "\tIA\\_2013:strain & 494\\\\\n",
       "\tIL\\_2012:strain & 494\\\\\n",
       "\\end{tabular}\n",
       "\n",
       "\\item[\\$varcomp] A data.frame: 5 × 4\n",
       "\\begin{tabular}{r|llll}\n",
       "  & VarComp & VarCompSE & Zratio & Constraint\\\\\n",
       "  & <dbl> & <dbl> & <dbl> & <chr>\\\\\n",
       "\\hline\n",
       "\tu:strain.Yield\\_blup-Yield\\_blup &  10027.10 & 12112.62 &  0.8278228 & Positive\\\\\n",
       "\tIA\\_2012:strain.Yield\\_blup-Yield\\_blup &  10797.13 & 17422.86 &  0.6197106 & Positive\\\\\n",
       "\tIA\\_2013:strain.Yield\\_blup-Yield\\_blup & 102207.76 & 40069.62 &  2.5507542 & Positive\\\\\n",
       "\tIL\\_2012:strain.Yield\\_blup-Yield\\_blup &  84568.31 & 35697.88 &  2.3690005 & Positive\\\\\n",
       "\tunits.Yield\\_blup-Yield\\_blup & 341746.84 & 13228.61 & 25.8339227 & Positive\\\\\n",
       "\\end{tabular}\n",
       "\n",
       "\\item[\\$betas] A data.frame: 3 × 5\n",
       "\\begin{tabular}{lllll}\n",
       " Trait & Effect & Estimate & Std.Error & t.value\\\\\n",
       " <fct> & <fct> & <dbl> & <dbl> & <dbl>\\\\\n",
       "\\hline\n",
       "\t Yield\\_blup & environIA\\_2012 & 3137.910 & 27.25890 & 115.11509\\\\\n",
       "\t Yield\\_blup & environIA\\_2013 & 2779.264 & 29.28880 &  94.89168\\\\\n",
       "\t Yield\\_blup & environIL\\_2012 & 3637.888 & 28.99965 & 125.44593\\\\\n",
       "\\end{tabular}\n",
       "\n",
       "\\item[\\$method] 'NR'\n",
       "\\item[\\$logo] A data.frame: 1 × 5\n",
       "\\begin{tabular}{r|lllll}\n",
       "  & logLik & AIC & BIC & Method & Converge\\\\\n",
       "  & <dbl> & <dbl> & <dbl> & <chr> & <lgl>\\\\\n",
       "\\hline\n",
       "\tValue & -521.4306 & 1048.861 & 1064.765 & NR & TRUE\\\\\n",
       "\\end{tabular}\n",
       "\n",
       "\\end{description}\n"
      ],
      "text/markdown": [
       "$groups\n",
       ":   \n",
       "A matrix: 4 × 1 of type int\n",
       "\n",
       "| <!--/--> | Yield_blup |\n",
       "|---|---|\n",
       "| u:strain | 494 |\n",
       "| IA_2012:strain | 494 |\n",
       "| IA_2013:strain | 494 |\n",
       "| IL_2012:strain | 494 |\n",
       "\n",
       "\n",
       "$varcomp\n",
       ":   \n",
       "A data.frame: 5 × 4\n",
       "\n",
       "| <!--/--> | VarComp &lt;dbl&gt; | VarCompSE &lt;dbl&gt; | Zratio &lt;dbl&gt; | Constraint &lt;chr&gt; |\n",
       "|---|---|---|---|---|\n",
       "| u:strain.Yield_blup-Yield_blup |  10027.10 | 12112.62 |  0.8278228 | Positive |\n",
       "| IA_2012:strain.Yield_blup-Yield_blup |  10797.13 | 17422.86 |  0.6197106 | Positive |\n",
       "| IA_2013:strain.Yield_blup-Yield_blup | 102207.76 | 40069.62 |  2.5507542 | Positive |\n",
       "| IL_2012:strain.Yield_blup-Yield_blup |  84568.31 | 35697.88 |  2.3690005 | Positive |\n",
       "| units.Yield_blup-Yield_blup | 341746.84 | 13228.61 | 25.8339227 | Positive |\n",
       "\n",
       "\n",
       "$betas\n",
       ":   \n",
       "A data.frame: 3 × 5\n",
       "\n",
       "| Trait &lt;fct&gt; | Effect &lt;fct&gt; | Estimate &lt;dbl&gt; | Std.Error &lt;dbl&gt; | t.value &lt;dbl&gt; |\n",
       "|---|---|---|---|---|\n",
       "| Yield_blup | environIA_2012 | 3137.910 | 27.25890 | 115.11509 |\n",
       "| Yield_blup | environIA_2013 | 2779.264 | 29.28880 |  94.89168 |\n",
       "| Yield_blup | environIL_2012 | 3637.888 | 28.99965 | 125.44593 |\n",
       "\n",
       "\n",
       "$method\n",
       ":   'NR'\n",
       "$logo\n",
       ":   \n",
       "A data.frame: 1 × 5\n",
       "\n",
       "| <!--/--> | logLik &lt;dbl&gt; | AIC &lt;dbl&gt; | BIC &lt;dbl&gt; | Method &lt;chr&gt; | Converge &lt;lgl&gt; |\n",
       "|---|---|---|---|---|---|\n",
       "| Value | -521.4306 | 1048.861 | 1064.765 | NR | TRUE |\n",
       "\n",
       "\n",
       "\n",
       "\n"
      ],
      "text/plain": [
       "======================================================================\n",
       "              Multivariate Linear Mixed Model fit by REML              \n",
       "***************************  sommer 4.1  *************************** \n",
       "======================================================================\n",
       "         logLik      AIC      BIC Method Converge\n",
       "Value -521.4306 1048.861 1064.765     NR     TRUE\n",
       "======================================================================\n",
       "Variance-Covariance components:\n",
       "                                     VarComp VarCompSE  Zratio Constraint\n",
       "u:strain.Yield_blup-Yield_blup         10027     12113  0.8278   Positive\n",
       "IA_2012:strain.Yield_blup-Yield_blup   10797     17423  0.6197   Positive\n",
       "IA_2013:strain.Yield_blup-Yield_blup  102208     40070  2.5508   Positive\n",
       "IL_2012:strain.Yield_blup-Yield_blup   84568     35698  2.3690   Positive\n",
       "units.Yield_blup-Yield_blup           341747     13229 25.8339   Positive\n",
       "======================================================================\n",
       "Fixed effects:\n",
       "       Trait         Effect Estimate Std.Error t.value\n",
       "1 Yield_blup environIA_2012     3138     27.26  115.12\n",
       "2 Yield_blup environIA_2013     2779     29.29   94.89\n",
       "3 Yield_blup environIL_2012     3638     29.00  125.45\n",
       "======================================================================\n",
       "Groups and observations:\n",
       "               Yield_blup\n",
       "u:strain              494\n",
       "IA_2012:strain        494\n",
       "IA_2013:strain        494\n",
       "IL_2012:strain        494\n",
       "======================================================================\n",
       "Use the '$' sign to access results and parameters"
      ]
     },
     "metadata": {},
     "output_type": "display_data"
    }
   ],
   "source": [
    "fitCSDG <- mmer(Yield_blup~environ-1,\n",
    "                random=~vs(strain,Gu=A_Sub1) +vs(ds(environ),strain,Gu=A_Sub1),\n",
    "                rcov=~units,\n",
    "                data=DT_Sub1,verbose=FALSE) \n",
    "\n",
    "summary(fitCSDG)"
   ]
  },
  {
   "cell_type": "code",
   "execution_count": null,
   "id": "possible-contemporary",
   "metadata": {},
   "outputs": [],
   "source": [
    "\n"
   ]
  },
  {
   "cell_type": "code",
   "execution_count": 16,
   "id": "studied-spare",
   "metadata": {},
   "outputs": [
    {
     "data": {
      "text/html": [
       "<style>\n",
       ".list-inline {list-style: none; margin:0; padding: 0}\n",
       ".list-inline>li {display: inline-block}\n",
       ".list-inline>li:not(:last-child)::after {content: \"\\00b7\"; padding: 0 .5ex}\n",
       "</style>\n",
       "<ol class=list-inline><li>1482</li><li>3</li></ol>\n"
      ],
      "text/latex": [
       "\\begin{enumerate*}\n",
       "\\item 1482\n",
       "\\item 3\n",
       "\\end{enumerate*}\n"
      ],
      "text/markdown": [
       "1. 1482\n",
       "2. 3\n",
       "\n",
       "\n"
      ],
      "text/plain": [
       "[1] 1482    3"
      ]
     },
     "metadata": {},
     "output_type": "display_data"
    },
    {
     "data": {
      "text/html": [
       "1482"
      ],
      "text/latex": [
       "1482"
      ],
      "text/markdown": [
       "1482"
      ],
      "text/plain": [
       "[1] 1482"
      ]
     },
     "metadata": {},
     "output_type": "display_data"
    },
    {
     "data": {
      "text/html": [
       "<style>\n",
       ".list-inline {list-style: none; margin:0; padding: 0}\n",
       ".list-inline>li {display: inline-block}\n",
       ".list-inline>li:not(:last-child)::after {content: \"\\00b7\"; padding: 0 .5ex}\n",
       "</style>\n",
       "<ol class=list-inline><li>494</li><li>4</li></ol>\n"
      ],
      "text/latex": [
       "\\begin{enumerate*}\n",
       "\\item 494\n",
       "\\item 4\n",
       "\\end{enumerate*}\n"
      ],
      "text/markdown": [
       "1. 494\n",
       "2. 4\n",
       "\n",
       "\n"
      ],
      "text/plain": [
       "[1] 494   4"
      ]
     },
     "metadata": {},
     "output_type": "display_data"
    },
    {
     "data": {
      "text/html": [
       "<style>\n",
       ".list-inline {list-style: none; margin:0; padding: 0}\n",
       ".list-inline>li {display: inline-block}\n",
       ".list-inline>li:not(:last-child)::after {content: \"\\00b7\"; padding: 0 .5ex}\n",
       "</style>\n",
       "<ol class=list-inline><li>1482</li><li>3</li></ol>\n"
      ],
      "text/latex": [
       "\\begin{enumerate*}\n",
       "\\item 1482\n",
       "\\item 3\n",
       "\\end{enumerate*}\n"
      ],
      "text/markdown": [
       "1. 1482\n",
       "2. 3\n",
       "\n",
       "\n"
      ],
      "text/plain": [
       "[1] 1482    3"
      ]
     },
     "metadata": {},
     "output_type": "display_data"
    },
    {
     "data": {
      "text/html": [
       "1482"
      ],
      "text/latex": [
       "1482"
      ],
      "text/markdown": [
       "1482"
      ],
      "text/plain": [
       "[1] 1482"
      ]
     },
     "metadata": {},
     "output_type": "display_data"
    },
    {
     "data": {
      "text/html": [
       "1482"
      ],
      "text/latex": [
       "1482"
      ],
      "text/markdown": [
       "1482"
      ],
      "text/plain": [
       "[1] 1482"
      ]
     },
     "metadata": {},
     "output_type": "display_data"
    }
   ],
   "source": [
    "\n",
    "m2 <- cbind(c(rep(1,nrow(DT_Sub1)/3),rep(0,2*nrow(DT_Sub1)/3)),c(rep(1,nrow(DT_Sub1)/3),rep(0,nrow(DT_Sub1)/3),rep(1,nrow(DT_Sub1)/3)),\n",
    "c(rep(1,nrow(DT_Sub1)/3),rep(1,nrow(DT_Sub1)/3),rep(0,nrow(DT_Sub1)/3)))\n",
    "dim(m2)\n",
    "\n",
    "m_beta <- m2 %*% as.numeric(fitCSDG$Beta[,3]) \n",
    "length(m_beta)\n",
    "m_env_strain <- do.call(cbind,lapply(fitCSDG$U,function(x) x$Yield_blup))\n",
    "dim(m_env_strain)\n",
    "envStrain_blup <-c(m_env_strain[,2:4])                              \n",
    "                        \n",
    "dim(m)\n",
    "length(envStrain_blup)\n",
    "strain_blup <- rep(fitCSDG$U$`u:strain`$Yield_blup,3)\n",
    "length(strain_blup)"
   ]
  },
  {
   "cell_type": "code",
   "execution_count": 17,
   "id": "loaded-christian",
   "metadata": {},
   "outputs": [
    {
     "data": {
      "text/html": [
       "<style>\n",
       ".list-inline {list-style: none; margin:0; padding: 0}\n",
       ".list-inline>li {display: inline-block}\n",
       ".list-inline>li:not(:last-child)::after {content: \"\\00b7\"; padding: 0 .5ex}\n",
       "</style>\n",
       "<ol class=list-inline><li>IA_2013</li><li>IL_2012</li><li>IA_2012</li><li>IL_2012</li><li>IA_2013</li><li>IA_2012</li><li>IA_2013</li><li>IL_2012</li><li>IA_2012</li><li>IA_2013</li></ol>\n",
       "\n",
       "<details>\n",
       "\t<summary style=display:list-item;cursor:pointer>\n",
       "\t\t<strong>Levels</strong>:\n",
       "\t</summary>\n",
       "\t<style>\n",
       "\t.list-inline {list-style: none; margin:0; padding: 0}\n",
       "\t.list-inline>li {display: inline-block}\n",
       "\t.list-inline>li:not(:last-child)::after {content: \"\\00b7\"; padding: 0 .5ex}\n",
       "\t</style>\n",
       "\t<ol class=list-inline><li>'IA_2012'</li><li>'IA_2013'</li><li>'IL_2012'</li></ol>\n",
       "</details>"
      ],
      "text/latex": [
       "\\begin{enumerate*}\n",
       "\\item IA\\_2013\n",
       "\\item IL\\_2012\n",
       "\\item IA\\_2012\n",
       "\\item IL\\_2012\n",
       "\\item IA\\_2013\n",
       "\\item IA\\_2012\n",
       "\\item IA\\_2013\n",
       "\\item IL\\_2012\n",
       "\\item IA\\_2012\n",
       "\\item IA\\_2013\n",
       "\\end{enumerate*}\n",
       "\n",
       "\\emph{Levels}: \\begin{enumerate*}\n",
       "\\item 'IA\\_2012'\n",
       "\\item 'IA\\_2013'\n",
       "\\item 'IL\\_2012'\n",
       "\\end{enumerate*}\n"
      ],
      "text/markdown": [
       "1. IA_2013\n",
       "2. IL_2012\n",
       "3. IA_2012\n",
       "4. IL_2012\n",
       "5. IA_2013\n",
       "6. IA_2012\n",
       "7. IA_2013\n",
       "8. IL_2012\n",
       "9. IA_2012\n",
       "10. IA_2013\n",
       "\n",
       "\n",
       "\n",
       "**Levels**: 1. 'IA_2012'\n",
       "2. 'IA_2013'\n",
       "3. 'IL_2012'\n",
       "\n",
       "\n"
      ],
      "text/plain": [
       " [1] IA_2013 IL_2012 IA_2012 IL_2012 IA_2013 IA_2012 IA_2013 IL_2012 IA_2012\n",
       "[10] IA_2013\n",
       "Levels: IA_2012 IA_2013 IL_2012"
      ]
     },
     "metadata": {},
     "output_type": "display_data"
    },
    {
     "data": {
      "text/html": [
       "<style>\n",
       ".list-inline {list-style: none; margin:0; padding: 0}\n",
       ".list-inline>li {display: inline-block}\n",
       ".list-inline>li:not(:last-child)::after {content: \"\\00b7\"; padding: 0 .5ex}\n",
       "</style>\n",
       "<ol class=list-inline><li>IA_2012</li><li>IA_2012</li><li>IA_2012</li><li>IA_2012</li><li>IA_2012</li><li>IA_2012</li><li>IA_2012</li><li>IA_2012</li><li>IA_2012</li><li>IA_2012</li></ol>\n",
       "\n",
       "<details>\n",
       "\t<summary style=display:list-item;cursor:pointer>\n",
       "\t\t<strong>Levels</strong>:\n",
       "\t</summary>\n",
       "\t<style>\n",
       "\t.list-inline {list-style: none; margin:0; padding: 0}\n",
       "\t.list-inline>li {display: inline-block}\n",
       "\t.list-inline>li:not(:last-child)::after {content: \"\\00b7\"; padding: 0 .5ex}\n",
       "\t</style>\n",
       "\t<ol class=list-inline><li>'IA_2012'</li><li>'IA_2013'</li><li>'IL_2012'</li></ol>\n",
       "</details>"
      ],
      "text/latex": [
       "\\begin{enumerate*}\n",
       "\\item IA\\_2012\n",
       "\\item IA\\_2012\n",
       "\\item IA\\_2012\n",
       "\\item IA\\_2012\n",
       "\\item IA\\_2012\n",
       "\\item IA\\_2012\n",
       "\\item IA\\_2012\n",
       "\\item IA\\_2012\n",
       "\\item IA\\_2012\n",
       "\\item IA\\_2012\n",
       "\\end{enumerate*}\n",
       "\n",
       "\\emph{Levels}: \\begin{enumerate*}\n",
       "\\item 'IA\\_2012'\n",
       "\\item 'IA\\_2013'\n",
       "\\item 'IL\\_2012'\n",
       "\\end{enumerate*}\n"
      ],
      "text/markdown": [
       "1. IA_2012\n",
       "2. IA_2012\n",
       "3. IA_2012\n",
       "4. IA_2012\n",
       "5. IA_2012\n",
       "6. IA_2012\n",
       "7. IA_2012\n",
       "8. IA_2012\n",
       "9. IA_2012\n",
       "10. IA_2012\n",
       "\n",
       "\n",
       "\n",
       "**Levels**: 1. 'IA_2012'\n",
       "2. 'IA_2013'\n",
       "3. 'IL_2012'\n",
       "\n",
       "\n"
      ],
      "text/plain": [
       " [1] IA_2012 IA_2012 IA_2012 IA_2012 IA_2012 IA_2012 IA_2012 IA_2012 IA_2012\n",
       "[10] IA_2012\n",
       "Levels: IA_2012 IA_2013 IL_2012"
      ]
     },
     "metadata": {},
     "output_type": "display_data"
    },
    {
     "data": {
      "text/html": [
       "<table class=\"dataframe\">\n",
       "<caption>A matrix: 1 × 1 of type dbl</caption>\n",
       "<tbody>\n",
       "\t<tr><td>-0.08983118</td></tr>\n",
       "</tbody>\n",
       "</table>\n"
      ],
      "text/latex": [
       "A matrix: 1 × 1 of type dbl\n",
       "\\begin{tabular}{l}\n",
       "\t -0.08983118\\\\\n",
       "\\end{tabular}\n"
      ],
      "text/markdown": [
       "\n",
       "A matrix: 1 × 1 of type dbl\n",
       "\n",
       "| -0.08983118 |\n",
       "\n"
      ],
      "text/plain": [
       "     [,1]       \n",
       "[1,] -0.08983118"
      ]
     },
     "metadata": {},
     "output_type": "display_data"
    }
   ],
   "source": [
    "PredCSDG <- m_beta+strain_blup+envStrain_blup\n",
    "\n",
    "indES <-  sort.int(as.numeric(DT_Sub1[,\"environ\"]),decreasing=FALSE,index.return=TRUE)[[2]]\n",
    "DT_Sub1[1:10,\"environ\"]\n",
    "DT_Sub1[indES[1:10],\"environ\"]\n",
    "cor(PredCSDG,DT_Sub1[indES,\"Yield_blup\"]) \n"
   ]
  },
  {
   "cell_type": "code",
   "execution_count": null,
   "id": "enhanced-fabric",
   "metadata": {},
   "outputs": [],
   "source": []
  },
  {
   "cell_type": "markdown",
   "id": "severe-support",
   "metadata": {},
   "source": [
    "#### **US - Unstructured Variance-Covariance** ####"
   ]
  },
  {
   "cell_type": "code",
   "execution_count": 18,
   "id": "federal-indication",
   "metadata": {},
   "outputs": [
    {
     "data": {
      "text/html": [
       "<dl>\n",
       "\t<dt>$groups</dt>\n",
       "\t\t<dd><table class=\"dataframe\">\n",
       "<caption>A matrix: 6 × 1 of type int</caption>\n",
       "<thead>\n",
       "\t<tr><th></th><th scope=col>Yield_blup</th></tr>\n",
       "</thead>\n",
       "<tbody>\n",
       "\t<tr><th scope=row>IA_2012:strain</th><td>494</td></tr>\n",
       "\t<tr><th scope=row>IA_2013:IA_2012:strain</th><td>988</td></tr>\n",
       "\t<tr><th scope=row>IA_2013:strain</th><td>494</td></tr>\n",
       "\t<tr><th scope=row>IL_2012:IA_2012:strain</th><td>988</td></tr>\n",
       "\t<tr><th scope=row>IL_2012:IA_2013:strain</th><td>988</td></tr>\n",
       "\t<tr><th scope=row>IL_2012:strain</th><td>494</td></tr>\n",
       "</tbody>\n",
       "</table>\n",
       "</dd>\n",
       "\t<dt>$varcomp</dt>\n",
       "\t\t<dd><table class=\"dataframe\">\n",
       "<caption>A data.frame: 7 × 4</caption>\n",
       "<thead>\n",
       "\t<tr><th></th><th scope=col>VarComp</th><th scope=col>VarCompSE</th><th scope=col>Zratio</th><th scope=col>Constraint</th></tr>\n",
       "\t<tr><th></th><th scope=col>&lt;dbl&gt;</th><th scope=col>&lt;dbl&gt;</th><th scope=col>&lt;dbl&gt;</th><th scope=col>&lt;chr&gt;</th></tr>\n",
       "</thead>\n",
       "<tbody>\n",
       "\t<tr><th scope=row>IA_2012:strain.Yield_blup-Yield_blup</th><td> 27496.322</td><td>17108.41</td><td> 1.6071816</td><td>Positive</td></tr>\n",
       "\t<tr><th scope=row>IA_2013:IA_2012:strain.Yield_blup-Yield_blup</th><td>  9695.035</td><td>17110.28</td><td> 0.5666205</td><td>Unconstr</td></tr>\n",
       "\t<tr><th scope=row>IA_2013:strain.Yield_blup-Yield_blup</th><td> 88862.509</td><td>33186.87</td><td> 2.6776402</td><td>Positive</td></tr>\n",
       "\t<tr><th scope=row>IL_2012:IA_2012:strain.Yield_blup-Yield_blup</th><td> 23197.485</td><td>17989.24</td><td> 1.2895199</td><td>Unconstr</td></tr>\n",
       "\t<tr><th scope=row>IL_2012:IA_2013:strain.Yield_blup-Yield_blup</th><td>-69692.222</td><td>26894.77</td><td>-2.5912923</td><td>Unconstr</td></tr>\n",
       "\t<tr><th scope=row>IL_2012:strain.Yield_blup-Yield_blup</th><td> 95836.031</td><td>34748.23</td><td> 2.7580122</td><td>Positive</td></tr>\n",
       "\t<tr><th scope=row>units.Yield_blup-Yield_blup</th><td>342784.165</td><td>13207.12</td><td>25.9544898</td><td>Positive</td></tr>\n",
       "</tbody>\n",
       "</table>\n",
       "</dd>\n",
       "\t<dt>$betas</dt>\n",
       "\t\t<dd><table class=\"dataframe\">\n",
       "<caption>A data.frame: 3 × 5</caption>\n",
       "<thead>\n",
       "\t<tr><th scope=col>Trait</th><th scope=col>Effect</th><th scope=col>Estimate</th><th scope=col>Std.Error</th><th scope=col>t.value</th></tr>\n",
       "\t<tr><th scope=col>&lt;fct&gt;</th><th scope=col>&lt;fct&gt;</th><th scope=col>&lt;dbl&gt;</th><th scope=col>&lt;dbl&gt;</th><th scope=col>&lt;dbl&gt;</th></tr>\n",
       "</thead>\n",
       "<tbody>\n",
       "\t<tr><td>Yield_blup</td><td>environIA_2012</td><td>3139.304</td><td>27.37833</td><td>114.66383</td></tr>\n",
       "\t<tr><td>Yield_blup</td><td>environIA_2013</td><td>2776.395</td><td>28.61196</td><td> 97.03615</td></tr>\n",
       "\t<tr><td>Yield_blup</td><td>environIL_2012</td><td>3643.257</td><td>28.70320</td><td>126.92861</td></tr>\n",
       "</tbody>\n",
       "</table>\n",
       "</dd>\n",
       "\t<dt>$method</dt>\n",
       "\t\t<dd>'NR'</dd>\n",
       "\t<dt>$logo</dt>\n",
       "\t\t<dd><table class=\"dataframe\">\n",
       "<caption>A data.frame: 1 × 5</caption>\n",
       "<thead>\n",
       "\t<tr><th></th><th scope=col>logLik</th><th scope=col>AIC</th><th scope=col>BIC</th><th scope=col>Method</th><th scope=col>Converge</th></tr>\n",
       "\t<tr><th></th><th scope=col>&lt;dbl&gt;</th><th scope=col>&lt;dbl&gt;</th><th scope=col>&lt;dbl&gt;</th><th scope=col>&lt;chr&gt;</th><th scope=col>&lt;lgl&gt;</th></tr>\n",
       "</thead>\n",
       "<tbody>\n",
       "\t<tr><th scope=row>Value</th><td>-515.6439</td><td>1037.288</td><td>1053.191</td><td>NR</td><td>TRUE</td></tr>\n",
       "</tbody>\n",
       "</table>\n",
       "</dd>\n",
       "</dl>\n"
      ],
      "text/latex": [
       "\\begin{description}\n",
       "\\item[\\$groups] A matrix: 6 × 1 of type int\n",
       "\\begin{tabular}{r|l}\n",
       "  & Yield\\_blup\\\\\n",
       "\\hline\n",
       "\tIA\\_2012:strain & 494\\\\\n",
       "\tIA\\_2013:IA\\_2012:strain & 988\\\\\n",
       "\tIA\\_2013:strain & 494\\\\\n",
       "\tIL\\_2012:IA\\_2012:strain & 988\\\\\n",
       "\tIL\\_2012:IA\\_2013:strain & 988\\\\\n",
       "\tIL\\_2012:strain & 494\\\\\n",
       "\\end{tabular}\n",
       "\n",
       "\\item[\\$varcomp] A data.frame: 7 × 4\n",
       "\\begin{tabular}{r|llll}\n",
       "  & VarComp & VarCompSE & Zratio & Constraint\\\\\n",
       "  & <dbl> & <dbl> & <dbl> & <chr>\\\\\n",
       "\\hline\n",
       "\tIA\\_2012:strain.Yield\\_blup-Yield\\_blup &  27496.322 & 17108.41 &  1.6071816 & Positive\\\\\n",
       "\tIA\\_2013:IA\\_2012:strain.Yield\\_blup-Yield\\_blup &   9695.035 & 17110.28 &  0.5666205 & Unconstr\\\\\n",
       "\tIA\\_2013:strain.Yield\\_blup-Yield\\_blup &  88862.509 & 33186.87 &  2.6776402 & Positive\\\\\n",
       "\tIL\\_2012:IA\\_2012:strain.Yield\\_blup-Yield\\_blup &  23197.485 & 17989.24 &  1.2895199 & Unconstr\\\\\n",
       "\tIL\\_2012:IA\\_2013:strain.Yield\\_blup-Yield\\_blup & -69692.222 & 26894.77 & -2.5912923 & Unconstr\\\\\n",
       "\tIL\\_2012:strain.Yield\\_blup-Yield\\_blup &  95836.031 & 34748.23 &  2.7580122 & Positive\\\\\n",
       "\tunits.Yield\\_blup-Yield\\_blup & 342784.165 & 13207.12 & 25.9544898 & Positive\\\\\n",
       "\\end{tabular}\n",
       "\n",
       "\\item[\\$betas] A data.frame: 3 × 5\n",
       "\\begin{tabular}{lllll}\n",
       " Trait & Effect & Estimate & Std.Error & t.value\\\\\n",
       " <fct> & <fct> & <dbl> & <dbl> & <dbl>\\\\\n",
       "\\hline\n",
       "\t Yield\\_blup & environIA\\_2012 & 3139.304 & 27.37833 & 114.66383\\\\\n",
       "\t Yield\\_blup & environIA\\_2013 & 2776.395 & 28.61196 &  97.03615\\\\\n",
       "\t Yield\\_blup & environIL\\_2012 & 3643.257 & 28.70320 & 126.92861\\\\\n",
       "\\end{tabular}\n",
       "\n",
       "\\item[\\$method] 'NR'\n",
       "\\item[\\$logo] A data.frame: 1 × 5\n",
       "\\begin{tabular}{r|lllll}\n",
       "  & logLik & AIC & BIC & Method & Converge\\\\\n",
       "  & <dbl> & <dbl> & <dbl> & <chr> & <lgl>\\\\\n",
       "\\hline\n",
       "\tValue & -515.6439 & 1037.288 & 1053.191 & NR & TRUE\\\\\n",
       "\\end{tabular}\n",
       "\n",
       "\\end{description}\n"
      ],
      "text/markdown": [
       "$groups\n",
       ":   \n",
       "A matrix: 6 × 1 of type int\n",
       "\n",
       "| <!--/--> | Yield_blup |\n",
       "|---|---|\n",
       "| IA_2012:strain | 494 |\n",
       "| IA_2013:IA_2012:strain | 988 |\n",
       "| IA_2013:strain | 494 |\n",
       "| IL_2012:IA_2012:strain | 988 |\n",
       "| IL_2012:IA_2013:strain | 988 |\n",
       "| IL_2012:strain | 494 |\n",
       "\n",
       "\n",
       "$varcomp\n",
       ":   \n",
       "A data.frame: 7 × 4\n",
       "\n",
       "| <!--/--> | VarComp &lt;dbl&gt; | VarCompSE &lt;dbl&gt; | Zratio &lt;dbl&gt; | Constraint &lt;chr&gt; |\n",
       "|---|---|---|---|---|\n",
       "| IA_2012:strain.Yield_blup-Yield_blup |  27496.322 | 17108.41 |  1.6071816 | Positive |\n",
       "| IA_2013:IA_2012:strain.Yield_blup-Yield_blup |   9695.035 | 17110.28 |  0.5666205 | Unconstr |\n",
       "| IA_2013:strain.Yield_blup-Yield_blup |  88862.509 | 33186.87 |  2.6776402 | Positive |\n",
       "| IL_2012:IA_2012:strain.Yield_blup-Yield_blup |  23197.485 | 17989.24 |  1.2895199 | Unconstr |\n",
       "| IL_2012:IA_2013:strain.Yield_blup-Yield_blup | -69692.222 | 26894.77 | -2.5912923 | Unconstr |\n",
       "| IL_2012:strain.Yield_blup-Yield_blup |  95836.031 | 34748.23 |  2.7580122 | Positive |\n",
       "| units.Yield_blup-Yield_blup | 342784.165 | 13207.12 | 25.9544898 | Positive |\n",
       "\n",
       "\n",
       "$betas\n",
       ":   \n",
       "A data.frame: 3 × 5\n",
       "\n",
       "| Trait &lt;fct&gt; | Effect &lt;fct&gt; | Estimate &lt;dbl&gt; | Std.Error &lt;dbl&gt; | t.value &lt;dbl&gt; |\n",
       "|---|---|---|---|---|\n",
       "| Yield_blup | environIA_2012 | 3139.304 | 27.37833 | 114.66383 |\n",
       "| Yield_blup | environIA_2013 | 2776.395 | 28.61196 |  97.03615 |\n",
       "| Yield_blup | environIL_2012 | 3643.257 | 28.70320 | 126.92861 |\n",
       "\n",
       "\n",
       "$method\n",
       ":   'NR'\n",
       "$logo\n",
       ":   \n",
       "A data.frame: 1 × 5\n",
       "\n",
       "| <!--/--> | logLik &lt;dbl&gt; | AIC &lt;dbl&gt; | BIC &lt;dbl&gt; | Method &lt;chr&gt; | Converge &lt;lgl&gt; |\n",
       "|---|---|---|---|---|---|\n",
       "| Value | -515.6439 | 1037.288 | 1053.191 | NR | TRUE |\n",
       "\n",
       "\n",
       "\n",
       "\n"
      ],
      "text/plain": [
       "==============================================================================\n",
       "                  Multivariate Linear Mixed Model fit by REML                  \n",
       "*******************************  sommer 4.1  ******************************* \n",
       "==============================================================================\n",
       "         logLik      AIC      BIC Method Converge\n",
       "Value -515.6439 1037.288 1053.191     NR     TRUE\n",
       "==============================================================================\n",
       "Variance-Covariance components:\n",
       "                                             VarComp VarCompSE  Zratio\n",
       "IA_2012:strain.Yield_blup-Yield_blup           27496     17108  1.6072\n",
       "IA_2013:IA_2012:strain.Yield_blup-Yield_blup    9695     17110  0.5666\n",
       "IA_2013:strain.Yield_blup-Yield_blup           88863     33187  2.6776\n",
       "IL_2012:IA_2012:strain.Yield_blup-Yield_blup   23197     17989  1.2895\n",
       "IL_2012:IA_2013:strain.Yield_blup-Yield_blup  -69692     26895 -2.5913\n",
       "IL_2012:strain.Yield_blup-Yield_blup           95836     34748  2.7580\n",
       "units.Yield_blup-Yield_blup                   342784     13207 25.9545\n",
       "                                             Constraint\n",
       "IA_2012:strain.Yield_blup-Yield_blup           Positive\n",
       "IA_2013:IA_2012:strain.Yield_blup-Yield_blup   Unconstr\n",
       "IA_2013:strain.Yield_blup-Yield_blup           Positive\n",
       "IL_2012:IA_2012:strain.Yield_blup-Yield_blup   Unconstr\n",
       "IL_2012:IA_2013:strain.Yield_blup-Yield_blup   Unconstr\n",
       "IL_2012:strain.Yield_blup-Yield_blup           Positive\n",
       "units.Yield_blup-Yield_blup                    Positive\n",
       "==============================================================================\n",
       "Fixed effects:\n",
       "       Trait         Effect Estimate Std.Error t.value\n",
       "1 Yield_blup environIA_2012     3139     27.38  114.66\n",
       "2 Yield_blup environIA_2013     2776     28.61   97.04\n",
       "3 Yield_blup environIL_2012     3643     28.70  126.93\n",
       "==============================================================================\n",
       "Groups and observations:\n",
       "                       Yield_blup\n",
       "IA_2012:strain                494\n",
       "IA_2013:IA_2012:strain        988\n",
       "IA_2013:strain                494\n",
       "IL_2012:IA_2012:strain        988\n",
       "IL_2012:IA_2013:strain        988\n",
       "IL_2012:strain                494\n",
       "==============================================================================\n",
       "Use the '$' sign to access results and parameters"
      ]
     },
     "metadata": {},
     "output_type": "display_data"
    }
   ],
   "source": [
    "fitUS <- mmer(Yield_blup~environ-1,\n",
    "                random=~vs(us(environ),strain,Gu=A_Sub1),\n",
    "                rcov=~units,\n",
    "                data=DT_Sub1,verbose=FALSE) \n",
    "summary(fitUS)"
   ]
  },
  {
   "cell_type": "code",
   "execution_count": 19,
   "id": "representative-assumption",
   "metadata": {},
   "outputs": [],
   "source": [
    "\n",
    "#m <- model.matrix(~ environ-1 ,data=DT_Sub1)\n",
    "#m_beta <- m %*% as.numeric(fitUS$Beta[,3]) \n",
    "#PredUS <- m_beta+fitUS$U$`u:environ:strain`$Yield_blup\n",
    "#cor(PredUS,DT_Sub1[,\"Yield_blup\"]) \n"
   ]
  },
  {
   "cell_type": "code",
   "execution_count": 78,
   "id": "amazing-adapter",
   "metadata": {},
   "outputs": [
    {
     "data": {
      "text/html": [
       "<style>\n",
       ".list-inline {list-style: none; margin:0; padding: 0}\n",
       ".list-inline>li {display: inline-block}\n",
       ".list-inline>li:not(:last-child)::after {content: \"\\00b7\"; padding: 0 .5ex}\n",
       "</style>\n",
       "<ol class=list-inline><li>'IA_2012:strain'</li><li>'IA_2013:IA_2012:strain'</li><li>'IA_2013:strain'</li><li>'IL_2012:IA_2012:strain'</li><li>'IL_2012:IA_2013:strain'</li><li>'IL_2012:strain'</li></ol>\n"
      ],
      "text/latex": [
       "\\begin{enumerate*}\n",
       "\\item 'IA\\_2012:strain'\n",
       "\\item 'IA\\_2013:IA\\_2012:strain'\n",
       "\\item 'IA\\_2013:strain'\n",
       "\\item 'IL\\_2012:IA\\_2012:strain'\n",
       "\\item 'IL\\_2012:IA\\_2013:strain'\n",
       "\\item 'IL\\_2012:strain'\n",
       "\\end{enumerate*}\n"
      ],
      "text/markdown": [
       "1. 'IA_2012:strain'\n",
       "2. 'IA_2013:IA_2012:strain'\n",
       "3. 'IA_2013:strain'\n",
       "4. 'IL_2012:IA_2012:strain'\n",
       "5. 'IL_2012:IA_2013:strain'\n",
       "6. 'IL_2012:strain'\n",
       "\n",
       "\n"
      ],
      "text/plain": [
       "[1] \"IA_2012:strain\"         \"IA_2013:IA_2012:strain\" \"IA_2013:strain\"        \n",
       "[4] \"IL_2012:IA_2012:strain\" \"IL_2012:IA_2013:strain\" \"IL_2012:strain\"        "
      ]
     },
     "metadata": {},
     "output_type": "display_data"
    },
    {
     "data": {
      "text/html": [
       "<ol>\n",
       "\t<li>494</li>\n",
       "\t<li>494</li>\n",
       "\t<li>494</li>\n",
       "</ol>\n"
      ],
      "text/latex": [
       "\\begin{enumerate}\n",
       "\\item 494\n",
       "\\item 494\n",
       "\\item 494\n",
       "\\end{enumerate}\n"
      ],
      "text/markdown": [
       "1. 494\n",
       "2. 494\n",
       "3. 494\n",
       "\n",
       "\n"
      ],
      "text/plain": [
       "[[1]]\n",
       "[1] 494\n",
       "\n",
       "[[2]]\n",
       "[1] 494\n",
       "\n",
       "[[3]]\n",
       "[1] 494\n"
      ]
     },
     "metadata": {},
     "output_type": "display_data"
    },
    {
     "data": {
      "text/plain": [
       "[[1]]\n",
       "   Yield_blup  \n",
       " Min.   :5768  \n",
       " 1st Qu.:6123  \n",
       " Median :6236  \n",
       " Mean   :6256  \n",
       " 3rd Qu.:6394  \n",
       " Max.   :6822  \n",
       "\n",
       "[[2]]\n",
       "   Yield_blup  \n",
       " Min.   :4961  \n",
       " 1st Qu.:5431  \n",
       " Median :5592  \n",
       " Mean   :5582  \n",
       " 3rd Qu.:5740  \n",
       " Max.   :6021  \n",
       "\n",
       "[[3]]\n",
       "   Yield_blup  \n",
       " Min.   :6603  \n",
       " 1st Qu.:7093  \n",
       " Median :7283  \n",
       " Mean   :7265  \n",
       " 3rd Qu.:7425  \n",
       " Max.   :7990  \n"
      ]
     },
     "metadata": {},
     "output_type": "display_data"
    },
    {
     "data": {
      "text/html": [
       "<style>\n",
       ".list-inline {list-style: none; margin:0; padding: 0}\n",
       ".list-inline>li {display: inline-block}\n",
       ".list-inline>li:not(:last-child)::after {content: \"\\00b7\"; padding: 0 .5ex}\n",
       "</style>\n",
       "<ol class=list-inline><li>IA_2013</li><li>IL_2012</li><li>IA_2012</li><li>IL_2012</li><li>IA_2013</li><li>IA_2012</li><li>IA_2013</li><li>IL_2012</li><li>IA_2012</li><li>IA_2013</li></ol>\n",
       "\n",
       "<details>\n",
       "\t<summary style=display:list-item;cursor:pointer>\n",
       "\t\t<strong>Levels</strong>:\n",
       "\t</summary>\n",
       "\t<style>\n",
       "\t.list-inline {list-style: none; margin:0; padding: 0}\n",
       "\t.list-inline>li {display: inline-block}\n",
       "\t.list-inline>li:not(:last-child)::after {content: \"\\00b7\"; padding: 0 .5ex}\n",
       "\t</style>\n",
       "\t<ol class=list-inline><li>'IA_2012'</li><li>'IA_2013'</li><li>'IL_2012'</li></ol>\n",
       "</details>"
      ],
      "text/latex": [
       "\\begin{enumerate*}\n",
       "\\item IA\\_2013\n",
       "\\item IL\\_2012\n",
       "\\item IA\\_2012\n",
       "\\item IL\\_2012\n",
       "\\item IA\\_2013\n",
       "\\item IA\\_2012\n",
       "\\item IA\\_2013\n",
       "\\item IL\\_2012\n",
       "\\item IA\\_2012\n",
       "\\item IA\\_2013\n",
       "\\end{enumerate*}\n",
       "\n",
       "\\emph{Levels}: \\begin{enumerate*}\n",
       "\\item 'IA\\_2012'\n",
       "\\item 'IA\\_2013'\n",
       "\\item 'IL\\_2012'\n",
       "\\end{enumerate*}\n"
      ],
      "text/markdown": [
       "1. IA_2013\n",
       "2. IL_2012\n",
       "3. IA_2012\n",
       "4. IL_2012\n",
       "5. IA_2013\n",
       "6. IA_2012\n",
       "7. IA_2013\n",
       "8. IL_2012\n",
       "9. IA_2012\n",
       "10. IA_2013\n",
       "\n",
       "\n",
       "\n",
       "**Levels**: 1. 'IA_2012'\n",
       "2. 'IA_2013'\n",
       "3. 'IL_2012'\n",
       "\n",
       "\n"
      ],
      "text/plain": [
       " [1] IA_2013 IL_2012 IA_2012 IL_2012 IA_2013 IA_2012 IA_2013 IL_2012 IA_2012\n",
       "[10] IA_2013\n",
       "Levels: IA_2012 IA_2013 IL_2012"
      ]
     },
     "metadata": {},
     "output_type": "display_data"
    },
    {
     "data": {
      "text/html": [
       "<style>\n",
       ".list-inline {list-style: none; margin:0; padding: 0}\n",
       ".list-inline>li {display: inline-block}\n",
       ".list-inline>li:not(:last-child)::after {content: \"\\00b7\"; padding: 0 .5ex}\n",
       "</style>\n",
       "<ol class=list-inline><li>IA_2012</li><li>IA_2012</li><li>IA_2012</li><li>IA_2012</li><li>IA_2012</li><li>IA_2012</li><li>IA_2012</li><li>IA_2012</li><li>IA_2012</li><li>IA_2012</li></ol>\n",
       "\n",
       "<details>\n",
       "\t<summary style=display:list-item;cursor:pointer>\n",
       "\t\t<strong>Levels</strong>:\n",
       "\t</summary>\n",
       "\t<style>\n",
       "\t.list-inline {list-style: none; margin:0; padding: 0}\n",
       "\t.list-inline>li {display: inline-block}\n",
       "\t.list-inline>li:not(:last-child)::after {content: \"\\00b7\"; padding: 0 .5ex}\n",
       "\t</style>\n",
       "\t<ol class=list-inline><li>'IA_2012'</li><li>'IA_2013'</li><li>'IL_2012'</li></ol>\n",
       "</details>"
      ],
      "text/latex": [
       "\\begin{enumerate*}\n",
       "\\item IA\\_2012\n",
       "\\item IA\\_2012\n",
       "\\item IA\\_2012\n",
       "\\item IA\\_2012\n",
       "\\item IA\\_2012\n",
       "\\item IA\\_2012\n",
       "\\item IA\\_2012\n",
       "\\item IA\\_2012\n",
       "\\item IA\\_2012\n",
       "\\item IA\\_2012\n",
       "\\end{enumerate*}\n",
       "\n",
       "\\emph{Levels}: \\begin{enumerate*}\n",
       "\\item 'IA\\_2012'\n",
       "\\item 'IA\\_2013'\n",
       "\\item 'IL\\_2012'\n",
       "\\end{enumerate*}\n"
      ],
      "text/markdown": [
       "1. IA_2012\n",
       "2. IA_2012\n",
       "3. IA_2012\n",
       "4. IA_2012\n",
       "5. IA_2012\n",
       "6. IA_2012\n",
       "7. IA_2012\n",
       "8. IA_2012\n",
       "9. IA_2012\n",
       "10. IA_2012\n",
       "\n",
       "\n",
       "\n",
       "**Levels**: 1. 'IA_2012'\n",
       "2. 'IA_2013'\n",
       "3. 'IL_2012'\n",
       "\n",
       "\n"
      ],
      "text/plain": [
       " [1] IA_2012 IA_2012 IA_2012 IA_2012 IA_2012 IA_2012 IA_2012 IA_2012 IA_2012\n",
       "[10] IA_2012\n",
       "Levels: IA_2012 IA_2013 IL_2012"
      ]
     },
     "metadata": {},
     "output_type": "display_data"
    },
    {
     "data": {
      "text/html": [
       "1482"
      ],
      "text/latex": [
       "1482"
      ],
      "text/markdown": [
       "1482"
      ],
      "text/plain": [
       "[1] 1482"
      ]
     },
     "metadata": {},
     "output_type": "display_data"
    },
    {
     "data": {
      "text/html": [
       "0.184445519025871"
      ],
      "text/latex": [
       "0.184445519025871"
      ],
      "text/markdown": [
       "0.184445519025871"
      ],
      "text/plain": [
       "[1] 0.1844455"
      ]
     },
     "metadata": {},
     "output_type": "display_data"
    }
   ],
   "source": [
    "names(fitUS$U)\n",
    "envNames <- levels(factor(DT_Sub1$environ))\n",
    "env1Ind <- c(1,3,6)\n",
    "U_envStrain <- list()\n",
    "  for(i in 1:length(envNames)){\n",
    "       envInd <-  grep(envNames[i],names(fitUS$U))\n",
    "       U_envStrain[[i]] <-  as.numeric(fitUS$U[[env1Ind[i]]]$Yield_blup)\n",
    "     for(j  in 2:length(envInd)){ \n",
    "         indJ <- envInd[j]\n",
    "         b <- cbind(names(fitUS$U[[indJ]]$Yield_blup),fitUS$U[[indJ]]$Yield_blup)\n",
    "         colnames(b) <- c(\"strain\",\"Yield_blup\")\n",
    "         b_group <- as_tibble(b) %>% group_by(strain)\n",
    "         YldBlup_group <- b_group %>% summarise(Yield_blup = sum(as.numeric(Yield_blup)))\n",
    "         U_envStrain[[i]] <- U_envStrain[[i]] +YldBlup_group[,2] + fitUS$Beta[i,3]\n",
    "       } \n",
    "     }\n",
    "    \n",
    "\n",
    "lapply(U_envStrain,function(x) length(x[[1]]))\n",
    "lapply(U_envStrain,summary)\n",
    "PredUS <- c(unlist(U_envStrain))\n",
    "        \n",
    "indES <-  sort.int(as.numeric(DT_Sub1[,\"environ\"]),decreasing=FALSE,index.return=TRUE)[[2]]\n",
    "DT_Sub1[1:10,\"environ\"]\n",
    "DT_Sub1[indES[tstIndices3][1:10],\"environ\"]\n",
    "length(PredUS)                         \n",
    "cor(PredUS[indES[tstIndices3]],DT_Sub1[indES[tstIndices3],\"Yield_blup\"]) \n",
    "\n"
   ]
  },
  {
   "cell_type": "markdown",
   "id": "contained-greene",
   "metadata": {},
   "source": [
    "### **Exercise - Predict performance of tested and untested genotypes in tested and untested environments** ###"
   ]
  },
  {
   "cell_type": "markdown",
   "id": "alien-police",
   "metadata": {},
   "source": [
    "#### **Tested Genotypes in Untested Environment**"
   ]
  },
  {
   "cell_type": "code",
   "execution_count": 21,
   "id": "tropical-inside",
   "metadata": {},
   "outputs": [
    {
     "data": {
      "text/html": [
       "<style>\n",
       ".list-inline {list-style: none; margin:0; padding: 0}\n",
       ".list-inline>li {display: inline-block}\n",
       ".list-inline>li:not(:last-child)::after {content: \"\\00b7\"; padding: 0 .5ex}\n",
       "</style>\n",
       "<ol class=list-inline><li>1482</li><li>17</li></ol>\n"
      ],
      "text/latex": [
       "\\begin{enumerate*}\n",
       "\\item 1482\n",
       "\\item 17\n",
       "\\end{enumerate*}\n"
      ],
      "text/markdown": [
       "1. 1482\n",
       "2. 17\n",
       "\n",
       "\n"
      ],
      "text/plain": [
       "[1] 1482   17"
      ]
     },
     "metadata": {},
     "output_type": "display_data"
    }
   ],
   "source": [
    "### Remove lines from IA2013 and train the model using IA2012 and IL2013 only and predict \n",
    "### performance of lines for IA2013 (untested environ) and compare accuracy with model \n",
    "### incorporating data from IA2013 in the training model \n",
    "\n",
    "tstIndices1 <- which(DT_Sub1[,\"environ\"] %in% \"IA_2013\") \n",
    "\n",
    "DT_Sub1A <- DT_Sub1\n",
    "DT_Sub1A[tstIndices1 ,\"Yeild_blup\"] <- NA\n",
    "#DT_Sub1A[tstIndices1 ,\"environ\"] <- NA\n",
    "\n",
    "dim(DT_Sub1A)"
   ]
  },
  {
   "cell_type": "code",
   "execution_count": 22,
   "id": "bored-domestic",
   "metadata": {},
   "outputs": [
    {
     "data": {
      "text/html": [
       "<style>\n",
       ".list-inline {list-style: none; margin:0; padding: 0}\n",
       ".list-inline>li {display: inline-block}\n",
       ".list-inline>li:not(:last-child)::after {content: \"\\00b7\"; padding: 0 .5ex}\n",
       "</style>\n",
       "<ol class=list-inline><li>3</li><li>3</li></ol>\n"
      ],
      "text/latex": [
       "\\begin{enumerate*}\n",
       "\\item 3\n",
       "\\item 3\n",
       "\\end{enumerate*}\n"
      ],
      "text/markdown": [
       "1. 3\n",
       "2. 3\n",
       "\n",
       "\n"
      ],
      "text/plain": [
       "[1] 3 3"
      ]
     },
     "metadata": {},
     "output_type": "display_data"
    },
    {
     "data": {
      "text/html": [
       "<style>\n",
       ".list-inline {list-style: none; margin:0; padding: 0}\n",
       ".list-inline>li {display: inline-block}\n",
       ".list-inline>li:not(:last-child)::after {content: \"\\00b7\"; padding: 0 .5ex}\n",
       "</style>\n",
       "<ol class=list-inline><li>1482</li><li>1482</li></ol>\n"
      ],
      "text/latex": [
       "\\begin{enumerate*}\n",
       "\\item 1482\n",
       "\\item 1482\n",
       "\\end{enumerate*}\n"
      ],
      "text/markdown": [
       "1. 1482\n",
       "2. 1482\n",
       "\n",
       "\n"
      ],
      "text/plain": [
       "[1] 1482 1482"
      ]
     },
     "metadata": {},
     "output_type": "display_data"
    }
   ],
   "source": [
    "\n",
    "E <- diag(length(unique(DT_Sub1A$environ)))\n",
    "rownames(E) <- colnames(E) <- unique(DT_Sub1A$environ)\n",
    "dim(E)\n",
    "\n",
    "EA <- kronecker(E,A_Sub1, make.dimnames = TRUE)\n",
    "DT_Sub1$Aenviron <- as.factor(DT_Sub1A$environ)\n",
    "DT_Sub1A$strain <- as.factor(DT_Sub1A$strain) \n",
    "\n",
    "dim(EA)"
   ]
  },
  {
   "cell_type": "code",
   "execution_count": null,
   "id": "designing-soviet",
   "metadata": {},
   "outputs": [],
   "source": []
  },
  {
   "cell_type": "code",
   "execution_count": 23,
   "id": "rising-bathroom",
   "metadata": {},
   "outputs": [
    {
     "data": {
      "text/html": [
       "<dl>\n",
       "\t<dt>$groups</dt>\n",
       "\t\t<dd><table class=\"dataframe\">\n",
       "<caption>A matrix: 3 × 1 of type int</caption>\n",
       "<thead>\n",
       "\t<tr><th></th><th scope=col>Yield_blup</th></tr>\n",
       "</thead>\n",
       "<tbody>\n",
       "\t<tr><th scope=row>IA_2012:strain</th><td>494</td></tr>\n",
       "\t<tr><th scope=row>IA_2013:strain</th><td>494</td></tr>\n",
       "\t<tr><th scope=row>IL_2012:strain</th><td>494</td></tr>\n",
       "</tbody>\n",
       "</table>\n",
       "</dd>\n",
       "\t<dt>$varcomp</dt>\n",
       "\t\t<dd><table class=\"dataframe\">\n",
       "<caption>A data.frame: 4 × 4</caption>\n",
       "<thead>\n",
       "\t<tr><th></th><th scope=col>VarComp</th><th scope=col>VarCompSE</th><th scope=col>Zratio</th><th scope=col>Constraint</th></tr>\n",
       "\t<tr><th></th><th scope=col>&lt;dbl&gt;</th><th scope=col>&lt;dbl&gt;</th><th scope=col>&lt;dbl&gt;</th><th scope=col>&lt;chr&gt;</th></tr>\n",
       "</thead>\n",
       "<tbody>\n",
       "\t<tr><th scope=row>IA_2012:strain.Yield_blup-Yield_blup</th><td> 21787.27</td><td>15810.61</td><td> 1.378016</td><td>Positive</td></tr>\n",
       "\t<tr><th scope=row>IA_2013:strain.Yield_blup-Yield_blup</th><td> 95090.50</td><td>35633.20</td><td> 2.668593</td><td>Positive</td></tr>\n",
       "\t<tr><th scope=row>IL_2012:strain.Yield_blup-Yield_blup</th><td> 91532.63</td><td>34818.99</td><td> 2.628814</td><td>Positive</td></tr>\n",
       "\t<tr><th scope=row>units.Yield_blup-Yield_blup</th><td>342872.02</td><td>13262.48</td><td>25.852781</td><td>Positive</td></tr>\n",
       "</tbody>\n",
       "</table>\n",
       "</dd>\n",
       "\t<dt>$betas</dt>\n",
       "\t\t<dd><table class=\"dataframe\">\n",
       "<caption>A data.frame: 3 × 5</caption>\n",
       "<thead>\n",
       "\t<tr><th scope=col>Trait</th><th scope=col>Effect</th><th scope=col>Estimate</th><th scope=col>Std.Error</th><th scope=col>t.value</th></tr>\n",
       "\t<tr><th scope=col>&lt;fct&gt;</th><th scope=col>&lt;fct&gt;</th><th scope=col>&lt;dbl&gt;</th><th scope=col>&lt;dbl&gt;</th><th scope=col>&lt;dbl&gt;</th></tr>\n",
       "</thead>\n",
       "<tbody>\n",
       "\t<tr><td>Yield_blup</td><td>environIA_2012</td><td>3137.698</td><td>27.36345</td><td>114.66749</td></tr>\n",
       "\t<tr><td>Yield_blup</td><td>environIA_2013</td><td>2777.267</td><td>29.06154</td><td> 95.56506</td></tr>\n",
       "\t<tr><td>Yield_blup</td><td>environIL_2012</td><td>3636.143</td><td>29.00030</td><td>125.38295</td></tr>\n",
       "</tbody>\n",
       "</table>\n",
       "</dd>\n",
       "\t<dt>$method</dt>\n",
       "\t\t<dd>'NR'</dd>\n",
       "\t<dt>$logo</dt>\n",
       "\t\t<dd><table class=\"dataframe\">\n",
       "<caption>A data.frame: 1 × 5</caption>\n",
       "<thead>\n",
       "\t<tr><th></th><th scope=col>logLik</th><th scope=col>AIC</th><th scope=col>BIC</th><th scope=col>Method</th><th scope=col>Converge</th></tr>\n",
       "\t<tr><th></th><th scope=col>&lt;dbl&gt;</th><th scope=col>&lt;dbl&gt;</th><th scope=col>&lt;dbl&gt;</th><th scope=col>&lt;chr&gt;</th><th scope=col>&lt;lgl&gt;</th></tr>\n",
       "</thead>\n",
       "<tbody>\n",
       "\t<tr><th scope=row>Value</th><td>-521.5774</td><td>1049.155</td><td>1065.058</td><td>NR</td><td>TRUE</td></tr>\n",
       "</tbody>\n",
       "</table>\n",
       "</dd>\n",
       "</dl>\n"
      ],
      "text/latex": [
       "\\begin{description}\n",
       "\\item[\\$groups] A matrix: 3 × 1 of type int\n",
       "\\begin{tabular}{r|l}\n",
       "  & Yield\\_blup\\\\\n",
       "\\hline\n",
       "\tIA\\_2012:strain & 494\\\\\n",
       "\tIA\\_2013:strain & 494\\\\\n",
       "\tIL\\_2012:strain & 494\\\\\n",
       "\\end{tabular}\n",
       "\n",
       "\\item[\\$varcomp] A data.frame: 4 × 4\n",
       "\\begin{tabular}{r|llll}\n",
       "  & VarComp & VarCompSE & Zratio & Constraint\\\\\n",
       "  & <dbl> & <dbl> & <dbl> & <chr>\\\\\n",
       "\\hline\n",
       "\tIA\\_2012:strain.Yield\\_blup-Yield\\_blup &  21787.27 & 15810.61 &  1.378016 & Positive\\\\\n",
       "\tIA\\_2013:strain.Yield\\_blup-Yield\\_blup &  95090.50 & 35633.20 &  2.668593 & Positive\\\\\n",
       "\tIL\\_2012:strain.Yield\\_blup-Yield\\_blup &  91532.63 & 34818.99 &  2.628814 & Positive\\\\\n",
       "\tunits.Yield\\_blup-Yield\\_blup & 342872.02 & 13262.48 & 25.852781 & Positive\\\\\n",
       "\\end{tabular}\n",
       "\n",
       "\\item[\\$betas] A data.frame: 3 × 5\n",
       "\\begin{tabular}{lllll}\n",
       " Trait & Effect & Estimate & Std.Error & t.value\\\\\n",
       " <fct> & <fct> & <dbl> & <dbl> & <dbl>\\\\\n",
       "\\hline\n",
       "\t Yield\\_blup & environIA\\_2012 & 3137.698 & 27.36345 & 114.66749\\\\\n",
       "\t Yield\\_blup & environIA\\_2013 & 2777.267 & 29.06154 &  95.56506\\\\\n",
       "\t Yield\\_blup & environIL\\_2012 & 3636.143 & 29.00030 & 125.38295\\\\\n",
       "\\end{tabular}\n",
       "\n",
       "\\item[\\$method] 'NR'\n",
       "\\item[\\$logo] A data.frame: 1 × 5\n",
       "\\begin{tabular}{r|lllll}\n",
       "  & logLik & AIC & BIC & Method & Converge\\\\\n",
       "  & <dbl> & <dbl> & <dbl> & <chr> & <lgl>\\\\\n",
       "\\hline\n",
       "\tValue & -521.5774 & 1049.155 & 1065.058 & NR & TRUE\\\\\n",
       "\\end{tabular}\n",
       "\n",
       "\\end{description}\n"
      ],
      "text/markdown": [
       "$groups\n",
       ":   \n",
       "A matrix: 3 × 1 of type int\n",
       "\n",
       "| <!--/--> | Yield_blup |\n",
       "|---|---|\n",
       "| IA_2012:strain | 494 |\n",
       "| IA_2013:strain | 494 |\n",
       "| IL_2012:strain | 494 |\n",
       "\n",
       "\n",
       "$varcomp\n",
       ":   \n",
       "A data.frame: 4 × 4\n",
       "\n",
       "| <!--/--> | VarComp &lt;dbl&gt; | VarCompSE &lt;dbl&gt; | Zratio &lt;dbl&gt; | Constraint &lt;chr&gt; |\n",
       "|---|---|---|---|---|\n",
       "| IA_2012:strain.Yield_blup-Yield_blup |  21787.27 | 15810.61 |  1.378016 | Positive |\n",
       "| IA_2013:strain.Yield_blup-Yield_blup |  95090.50 | 35633.20 |  2.668593 | Positive |\n",
       "| IL_2012:strain.Yield_blup-Yield_blup |  91532.63 | 34818.99 |  2.628814 | Positive |\n",
       "| units.Yield_blup-Yield_blup | 342872.02 | 13262.48 | 25.852781 | Positive |\n",
       "\n",
       "\n",
       "$betas\n",
       ":   \n",
       "A data.frame: 3 × 5\n",
       "\n",
       "| Trait &lt;fct&gt; | Effect &lt;fct&gt; | Estimate &lt;dbl&gt; | Std.Error &lt;dbl&gt; | t.value &lt;dbl&gt; |\n",
       "|---|---|---|---|---|\n",
       "| Yield_blup | environIA_2012 | 3137.698 | 27.36345 | 114.66749 |\n",
       "| Yield_blup | environIA_2013 | 2777.267 | 29.06154 |  95.56506 |\n",
       "| Yield_blup | environIL_2012 | 3636.143 | 29.00030 | 125.38295 |\n",
       "\n",
       "\n",
       "$method\n",
       ":   'NR'\n",
       "$logo\n",
       ":   \n",
       "A data.frame: 1 × 5\n",
       "\n",
       "| <!--/--> | logLik &lt;dbl&gt; | AIC &lt;dbl&gt; | BIC &lt;dbl&gt; | Method &lt;chr&gt; | Converge &lt;lgl&gt; |\n",
       "|---|---|---|---|---|---|\n",
       "| Value | -521.5774 | 1049.155 | 1065.058 | NR | TRUE |\n",
       "\n",
       "\n",
       "\n",
       "\n"
      ],
      "text/plain": [
       "======================================================================\n",
       "              Multivariate Linear Mixed Model fit by REML              \n",
       "***************************  sommer 4.1  *************************** \n",
       "======================================================================\n",
       "         logLik      AIC      BIC Method Converge\n",
       "Value -521.5774 1049.155 1065.058     NR     TRUE\n",
       "======================================================================\n",
       "Variance-Covariance components:\n",
       "                                     VarComp VarCompSE Zratio Constraint\n",
       "IA_2012:strain.Yield_blup-Yield_blup   21787     15811  1.378   Positive\n",
       "IA_2013:strain.Yield_blup-Yield_blup   95090     35633  2.669   Positive\n",
       "IL_2012:strain.Yield_blup-Yield_blup   91533     34819  2.629   Positive\n",
       "units.Yield_blup-Yield_blup           342872     13262 25.853   Positive\n",
       "======================================================================\n",
       "Fixed effects:\n",
       "       Trait         Effect Estimate Std.Error t.value\n",
       "1 Yield_blup environIA_2012     3138     27.36  114.67\n",
       "2 Yield_blup environIA_2013     2777     29.06   95.57\n",
       "3 Yield_blup environIL_2012     3636     29.00  125.38\n",
       "======================================================================\n",
       "Groups and observations:\n",
       "               Yield_blup\n",
       "IA_2012:strain        494\n",
       "IA_2013:strain        494\n",
       "IL_2012:strain        494\n",
       "======================================================================\n",
       "Use the '$' sign to access results and parameters"
      ]
     },
     "metadata": {},
     "output_type": "display_data"
    }
   ],
   "source": [
    "fitDG1A <- mmer(Yield_blup~environ-1,\n",
    "              random=~vs(ds(environ),strain,Gu=A_Sub1),\n",
    "              rcov=~units,\n",
    "              data=DT_Sub1A,verbose=FALSE)\n",
    "\n",
    "summary(fitDG1A)\n"
   ]
  },
  {
   "cell_type": "code",
   "execution_count": 24,
   "id": "virtual-refrigerator",
   "metadata": {},
   "outputs": [
    {
     "data": {
      "text/html": [
       "<style>\n",
       ".list-inline {list-style: none; margin:0; padding: 0}\n",
       ".list-inline>li {display: inline-block}\n",
       ".list-inline>li:not(:last-child)::after {content: \"\\00b7\"; padding: 0 .5ex}\n",
       "</style>\n",
       "<ol class=list-inline><li>'IA_2012:strain'</li><li>'IA_2013:strain'</li><li>'IL_2012:strain'</li></ol>\n"
      ],
      "text/latex": [
       "\\begin{enumerate*}\n",
       "\\item 'IA\\_2012:strain'\n",
       "\\item 'IA\\_2013:strain'\n",
       "\\item 'IL\\_2012:strain'\n",
       "\\end{enumerate*}\n"
      ],
      "text/markdown": [
       "1. 'IA_2012:strain'\n",
       "2. 'IA_2013:strain'\n",
       "3. 'IL_2012:strain'\n",
       "\n",
       "\n"
      ],
      "text/plain": [
       "[1] \"IA_2012:strain\" \"IA_2013:strain\" \"IL_2012:strain\""
      ]
     },
     "metadata": {},
     "output_type": "display_data"
    }
   ],
   "source": [
    "names(fitDG1A$U)"
   ]
  },
  {
   "cell_type": "code",
   "execution_count": 25,
   "id": "geographic-machinery",
   "metadata": {},
   "outputs": [
    {
     "data": {
      "text/html": [
       "<style>\n",
       ".list-inline {list-style: none; margin:0; padding: 0}\n",
       ".list-inline>li {display: inline-block}\n",
       ".list-inline>li:not(:last-child)::after {content: \"\\00b7\"; padding: 0 .5ex}\n",
       "</style>\n",
       "<ol class=list-inline><li>1482</li><li>3</li></ol>\n"
      ],
      "text/latex": [
       "\\begin{enumerate*}\n",
       "\\item 1482\n",
       "\\item 3\n",
       "\\end{enumerate*}\n"
      ],
      "text/markdown": [
       "1. 1482\n",
       "2. 3\n",
       "\n",
       "\n"
      ],
      "text/plain": [
       "[1] 1482    3"
      ]
     },
     "metadata": {},
     "output_type": "display_data"
    },
    {
     "data": {
      "text/html": [
       "1482"
      ],
      "text/latex": [
       "1482"
      ],
      "text/markdown": [
       "1482"
      ],
      "text/plain": [
       "[1] 1482"
      ]
     },
     "metadata": {},
     "output_type": "display_data"
    },
    {
     "data": {
      "text/html": [
       "<style>\n",
       ".list-inline {list-style: none; margin:0; padding: 0}\n",
       ".list-inline>li {display: inline-block}\n",
       ".list-inline>li:not(:last-child)::after {content: \"\\00b7\"; padding: 0 .5ex}\n",
       "</style>\n",
       "<ol class=list-inline><li>494</li><li>3</li></ol>\n"
      ],
      "text/latex": [
       "\\begin{enumerate*}\n",
       "\\item 494\n",
       "\\item 3\n",
       "\\end{enumerate*}\n"
      ],
      "text/markdown": [
       "1. 494\n",
       "2. 3\n",
       "\n",
       "\n"
      ],
      "text/plain": [
       "[1] 494   3"
      ]
     },
     "metadata": {},
     "output_type": "display_data"
    },
    {
     "data": {
      "text/html": [
       "1482"
      ],
      "text/latex": [
       "1482"
      ],
      "text/markdown": [
       "1482"
      ],
      "text/plain": [
       "[1] 1482"
      ]
     },
     "metadata": {},
     "output_type": "display_data"
    },
    {
     "data": {
      "text/html": [
       "<style>\n",
       ".list-inline {list-style: none; margin:0; padding: 0}\n",
       ".list-inline>li {display: inline-block}\n",
       ".list-inline>li:not(:last-child)::after {content: \"\\00b7\"; padding: 0 .5ex}\n",
       "</style>\n",
       "<ol class=list-inline><li>IA_2013</li><li>IL_2012</li><li>IA_2012</li><li>IL_2012</li><li>IA_2013</li><li>IA_2012</li><li>IA_2013</li><li>IL_2012</li><li>IA_2012</li><li>IA_2013</li></ol>\n",
       "\n",
       "<details>\n",
       "\t<summary style=display:list-item;cursor:pointer>\n",
       "\t\t<strong>Levels</strong>:\n",
       "\t</summary>\n",
       "\t<style>\n",
       "\t.list-inline {list-style: none; margin:0; padding: 0}\n",
       "\t.list-inline>li {display: inline-block}\n",
       "\t.list-inline>li:not(:last-child)::after {content: \"\\00b7\"; padding: 0 .5ex}\n",
       "\t</style>\n",
       "\t<ol class=list-inline><li>'IA_2012'</li><li>'IA_2013'</li><li>'IL_2012'</li></ol>\n",
       "</details>"
      ],
      "text/latex": [
       "\\begin{enumerate*}\n",
       "\\item IA\\_2013\n",
       "\\item IL\\_2012\n",
       "\\item IA\\_2012\n",
       "\\item IL\\_2012\n",
       "\\item IA\\_2013\n",
       "\\item IA\\_2012\n",
       "\\item IA\\_2013\n",
       "\\item IL\\_2012\n",
       "\\item IA\\_2012\n",
       "\\item IA\\_2013\n",
       "\\end{enumerate*}\n",
       "\n",
       "\\emph{Levels}: \\begin{enumerate*}\n",
       "\\item 'IA\\_2012'\n",
       "\\item 'IA\\_2013'\n",
       "\\item 'IL\\_2012'\n",
       "\\end{enumerate*}\n"
      ],
      "text/markdown": [
       "1. IA_2013\n",
       "2. IL_2012\n",
       "3. IA_2012\n",
       "4. IL_2012\n",
       "5. IA_2013\n",
       "6. IA_2012\n",
       "7. IA_2013\n",
       "8. IL_2012\n",
       "9. IA_2012\n",
       "10. IA_2013\n",
       "\n",
       "\n",
       "\n",
       "**Levels**: 1. 'IA_2012'\n",
       "2. 'IA_2013'\n",
       "3. 'IL_2012'\n",
       "\n",
       "\n"
      ],
      "text/plain": [
       " [1] IA_2013 IL_2012 IA_2012 IL_2012 IA_2013 IA_2012 IA_2013 IL_2012 IA_2012\n",
       "[10] IA_2013\n",
       "Levels: IA_2012 IA_2013 IL_2012"
      ]
     },
     "metadata": {},
     "output_type": "display_data"
    },
    {
     "data": {
      "text/html": [
       "<style>\n",
       ".list-inline {list-style: none; margin:0; padding: 0}\n",
       ".list-inline>li {display: inline-block}\n",
       ".list-inline>li:not(:last-child)::after {content: \"\\00b7\"; padding: 0 .5ex}\n",
       "</style>\n",
       "<ol class=list-inline><li>IA_2012</li><li>IA_2012</li><li>IA_2012</li><li>IA_2012</li><li>IA_2012</li><li>IA_2012</li><li>IA_2012</li><li>IA_2012</li><li>IA_2012</li><li>IA_2012</li></ol>\n",
       "\n",
       "<details>\n",
       "\t<summary style=display:list-item;cursor:pointer>\n",
       "\t\t<strong>Levels</strong>:\n",
       "\t</summary>\n",
       "\t<style>\n",
       "\t.list-inline {list-style: none; margin:0; padding: 0}\n",
       "\t.list-inline>li {display: inline-block}\n",
       "\t.list-inline>li:not(:last-child)::after {content: \"\\00b7\"; padding: 0 .5ex}\n",
       "\t</style>\n",
       "\t<ol class=list-inline><li>'IA_2012'</li><li>'IA_2013'</li><li>'IL_2012'</li></ol>\n",
       "</details>"
      ],
      "text/latex": [
       "\\begin{enumerate*}\n",
       "\\item IA\\_2012\n",
       "\\item IA\\_2012\n",
       "\\item IA\\_2012\n",
       "\\item IA\\_2012\n",
       "\\item IA\\_2012\n",
       "\\item IA\\_2012\n",
       "\\item IA\\_2012\n",
       "\\item IA\\_2012\n",
       "\\item IA\\_2012\n",
       "\\item IA\\_2012\n",
       "\\end{enumerate*}\n",
       "\n",
       "\\emph{Levels}: \\begin{enumerate*}\n",
       "\\item 'IA\\_2012'\n",
       "\\item 'IA\\_2013'\n",
       "\\item 'IL\\_2012'\n",
       "\\end{enumerate*}\n"
      ],
      "text/markdown": [
       "1. IA_2012\n",
       "2. IA_2012\n",
       "3. IA_2012\n",
       "4. IA_2012\n",
       "5. IA_2012\n",
       "6. IA_2012\n",
       "7. IA_2012\n",
       "8. IA_2012\n",
       "9. IA_2012\n",
       "10. IA_2012\n",
       "\n",
       "\n",
       "\n",
       "**Levels**: 1. 'IA_2012'\n",
       "2. 'IA_2013'\n",
       "3. 'IL_2012'\n",
       "\n",
       "\n"
      ],
      "text/plain": [
       " [1] IA_2012 IA_2012 IA_2012 IA_2012 IA_2012 IA_2012 IA_2012 IA_2012 IA_2012\n",
       "[10] IA_2012\n",
       "Levels: IA_2012 IA_2013 IL_2012"
      ]
     },
     "metadata": {},
     "output_type": "display_data"
    },
    {
     "data": {
      "text/html": [
       "1482"
      ],
      "text/latex": [
       "1482"
      ],
      "text/markdown": [
       "1482"
      ],
      "text/plain": [
       "[1] 1482"
      ]
     },
     "metadata": {},
     "output_type": "display_data"
    },
    {
     "data": {
      "text/html": [
       "<table class=\"dataframe\">\n",
       "<caption>A matrix: 1 × 1 of type dbl</caption>\n",
       "<tbody>\n",
       "\t<tr><td>-0.09042033</td></tr>\n",
       "</tbody>\n",
       "</table>\n"
      ],
      "text/latex": [
       "A matrix: 1 × 1 of type dbl\n",
       "\\begin{tabular}{l}\n",
       "\t -0.09042033\\\\\n",
       "\\end{tabular}\n"
      ],
      "text/markdown": [
       "\n",
       "A matrix: 1 × 1 of type dbl\n",
       "\n",
       "| -0.09042033 |\n",
       "\n"
      ],
      "text/plain": [
       "     [,1]       \n",
       "[1,] -0.09042033"
      ]
     },
     "metadata": {},
     "output_type": "display_data"
    }
   ],
   "source": [
    "\n",
    "m2 <- cbind(c(rep(1,nrow(DT_Sub1A)/3),rep(0,2*nrow(DT_Sub1A)/3)),c(rep(1,nrow(DT_Sub1A)/3),rep(0,nrow(DT_Sub1A)/3),rep(1,nrow(DT_Sub1A)/3)),\n",
    "c(rep(1,nrow(DT_Sub1A)/3),rep(1,nrow(DT_Sub1A)/3),rep(0,nrow(DT_Sub1A)/3)))\n",
    "dim(m2)\n",
    "\n",
    "m_beta <- m2 %*% as.numeric(fitDG1A$Beta[,3]) \n",
    "length(m_beta)\n",
    "m_env_strain <- do.call(cbind,lapply(fitDG1A$U,function(x) x$Yield_blup))\n",
    "dim(m_env_strain)\n",
    "envStrain_blup <- c(m_env_strain)                        \n",
    "                        \n",
    "\n",
    "length(envStrain_blup)\n",
    "\n",
    "PredDG1A <- m_beta+envStrain_blup\n",
    "\n",
    "indES <-  sort.int(as.numeric(DT_Sub1A[,\"environ\"]),decreasing=FALSE,index.return=TRUE)[[2]]\n",
    "DT_Sub1A[1:10,\"environ\"]\n",
    "DT_Sub1A[indES[1:10],\"environ\"]\n",
    "length(PredDG1A)                         \n",
    "                                     \n",
    "cor(PredDG1A,DT_Sub1A[indES,\"Yield_blup\"]) \n",
    "                                     "
   ]
  },
  {
   "cell_type": "code",
   "execution_count": 26,
   "id": "inner-christmas",
   "metadata": {},
   "outputs": [
    {
     "data": {
      "text/html": [
       "494"
      ],
      "text/latex": [
       "494"
      ],
      "text/markdown": [
       "494"
      ],
      "text/plain": [
       "[1] 494"
      ]
     },
     "metadata": {},
     "output_type": "display_data"
    },
    {
     "data": {
      "text/html": [
       "&lt;NA&gt;"
      ],
      "text/latex": [
       "<NA>"
      ],
      "text/markdown": [
       "&lt;NA&gt;"
      ],
      "text/plain": [
       "[1] NA"
      ]
     },
     "metadata": {},
     "output_type": "display_data"
    }
   ],
   "source": [
    "m <- model.matrix(~ environ-1 ,data=DT_Sub1)\n",
    "m_beta <- m %*% as.numeric(fitDG1A$Beta[,3]) \n",
    "tstPred1 <- (m_beta+fitDG1A$U$`u:environ:strain`$Yield_blup)[tstIndices1]\n",
    "length(tstPred1)\n",
    "cor(tstPred1,DT_Sub1[tstIndices1,\"Yield_blup\"])\n"
   ]
  },
  {
   "cell_type": "code",
   "execution_count": 27,
   "id": "beginning-wrist",
   "metadata": {},
   "outputs": [
    {
     "data": {
      "text/html": [
       "<dl>\n",
       "\t<dt>$groups</dt>\n",
       "\t\t<dd><table class=\"dataframe\">\n",
       "<caption>A matrix: 2 × 1 of type int</caption>\n",
       "<thead>\n",
       "\t<tr><th></th><th scope=col>Yield_blup</th></tr>\n",
       "</thead>\n",
       "<tbody>\n",
       "\t<tr><th scope=row>u:strain</th><td> 494</td></tr>\n",
       "\t<tr><th scope=row>u:environ:strain</th><td>1482</td></tr>\n",
       "</tbody>\n",
       "</table>\n",
       "</dd>\n",
       "\t<dt>$varcomp</dt>\n",
       "\t\t<dd><table class=\"dataframe\">\n",
       "<caption>A data.frame: 3 × 4</caption>\n",
       "<thead>\n",
       "\t<tr><th></th><th scope=col>VarComp</th><th scope=col>VarCompSE</th><th scope=col>Zratio</th><th scope=col>Constraint</th></tr>\n",
       "\t<tr><th></th><th scope=col>&lt;dbl&gt;</th><th scope=col>&lt;dbl&gt;</th><th scope=col>&lt;dbl&gt;</th><th scope=col>&lt;chr&gt;</th></tr>\n",
       "</thead>\n",
       "<tbody>\n",
       "\t<tr><th scope=row>u:strain.Yield_blup-Yield_blup</th><td>     0.00</td><td>11503.43</td><td> 0.000000</td><td>Positive</td></tr>\n",
       "\t<tr><th scope=row>u:environ:strain.Yield_blup-Yield_blup</th><td> 65969.28</td><td>20118.21</td><td> 3.279082</td><td>Positive</td></tr>\n",
       "\t<tr><th scope=row>units.Yield_blup-Yield_blup</th><td>343674.11</td><td>13300.93</td><td>25.838345</td><td>Positive</td></tr>\n",
       "</tbody>\n",
       "</table>\n",
       "</dd>\n",
       "\t<dt>$betas</dt>\n",
       "\t\t<dd><table class=\"dataframe\">\n",
       "<caption>A data.frame: 3 × 5</caption>\n",
       "<thead>\n",
       "\t<tr><th scope=col>Trait</th><th scope=col>Effect</th><th scope=col>Estimate</th><th scope=col>Std.Error</th><th scope=col>t.value</th></tr>\n",
       "\t<tr><th scope=col>&lt;fct&gt;</th><th scope=col>&lt;fct&gt;</th><th scope=col>&lt;dbl&gt;</th><th scope=col>&lt;dbl&gt;</th><th scope=col>&lt;dbl&gt;</th></tr>\n",
       "</thead>\n",
       "<tbody>\n",
       "\t<tr><td>Yield_blup</td><td>environIA_2012</td><td>3146.983</td><td>28.54727</td><td>110.23762</td></tr>\n",
       "\t<tr><td>Yield_blup</td><td>environIA_2013</td><td>2778.546</td><td>28.54727</td><td> 97.33139</td></tr>\n",
       "\t<tr><td>Yield_blup</td><td>environIL_2012</td><td>3633.347</td><td>28.54727</td><td>127.27474</td></tr>\n",
       "</tbody>\n",
       "</table>\n",
       "</dd>\n",
       "\t<dt>$method</dt>\n",
       "\t\t<dd>'NR'</dd>\n",
       "\t<dt>$logo</dt>\n",
       "\t\t<dd><table class=\"dataframe\">\n",
       "<caption>A data.frame: 1 × 5</caption>\n",
       "<thead>\n",
       "\t<tr><th></th><th scope=col>logLik</th><th scope=col>AIC</th><th scope=col>BIC</th><th scope=col>Method</th><th scope=col>Converge</th></tr>\n",
       "\t<tr><th></th><th scope=col>&lt;dbl&gt;</th><th scope=col>&lt;dbl&gt;</th><th scope=col>&lt;dbl&gt;</th><th scope=col>&lt;chr&gt;</th><th scope=col>&lt;lgl&gt;</th></tr>\n",
       "</thead>\n",
       "<tbody>\n",
       "\t<tr><th scope=row>Value</th><td>-523.9647</td><td>1053.929</td><td>1069.833</td><td>NR</td><td>TRUE</td></tr>\n",
       "</tbody>\n",
       "</table>\n",
       "</dd>\n",
       "</dl>\n"
      ],
      "text/latex": [
       "\\begin{description}\n",
       "\\item[\\$groups] A matrix: 2 × 1 of type int\n",
       "\\begin{tabular}{r|l}\n",
       "  & Yield\\_blup\\\\\n",
       "\\hline\n",
       "\tu:strain &  494\\\\\n",
       "\tu:environ:strain & 1482\\\\\n",
       "\\end{tabular}\n",
       "\n",
       "\\item[\\$varcomp] A data.frame: 3 × 4\n",
       "\\begin{tabular}{r|llll}\n",
       "  & VarComp & VarCompSE & Zratio & Constraint\\\\\n",
       "  & <dbl> & <dbl> & <dbl> & <chr>\\\\\n",
       "\\hline\n",
       "\tu:strain.Yield\\_blup-Yield\\_blup &      0.00 & 11503.43 &  0.000000 & Positive\\\\\n",
       "\tu:environ:strain.Yield\\_blup-Yield\\_blup &  65969.28 & 20118.21 &  3.279082 & Positive\\\\\n",
       "\tunits.Yield\\_blup-Yield\\_blup & 343674.11 & 13300.93 & 25.838345 & Positive\\\\\n",
       "\\end{tabular}\n",
       "\n",
       "\\item[\\$betas] A data.frame: 3 × 5\n",
       "\\begin{tabular}{lllll}\n",
       " Trait & Effect & Estimate & Std.Error & t.value\\\\\n",
       " <fct> & <fct> & <dbl> & <dbl> & <dbl>\\\\\n",
       "\\hline\n",
       "\t Yield\\_blup & environIA\\_2012 & 3146.983 & 28.54727 & 110.23762\\\\\n",
       "\t Yield\\_blup & environIA\\_2013 & 2778.546 & 28.54727 &  97.33139\\\\\n",
       "\t Yield\\_blup & environIL\\_2012 & 3633.347 & 28.54727 & 127.27474\\\\\n",
       "\\end{tabular}\n",
       "\n",
       "\\item[\\$method] 'NR'\n",
       "\\item[\\$logo] A data.frame: 1 × 5\n",
       "\\begin{tabular}{r|lllll}\n",
       "  & logLik & AIC & BIC & Method & Converge\\\\\n",
       "  & <dbl> & <dbl> & <dbl> & <chr> & <lgl>\\\\\n",
       "\\hline\n",
       "\tValue & -523.9647 & 1053.929 & 1069.833 & NR & TRUE\\\\\n",
       "\\end{tabular}\n",
       "\n",
       "\\end{description}\n"
      ],
      "text/markdown": [
       "$groups\n",
       ":   \n",
       "A matrix: 2 × 1 of type int\n",
       "\n",
       "| <!--/--> | Yield_blup |\n",
       "|---|---|\n",
       "| u:strain |  494 |\n",
       "| u:environ:strain | 1482 |\n",
       "\n",
       "\n",
       "$varcomp\n",
       ":   \n",
       "A data.frame: 3 × 4\n",
       "\n",
       "| <!--/--> | VarComp &lt;dbl&gt; | VarCompSE &lt;dbl&gt; | Zratio &lt;dbl&gt; | Constraint &lt;chr&gt; |\n",
       "|---|---|---|---|---|\n",
       "| u:strain.Yield_blup-Yield_blup |      0.00 | 11503.43 |  0.000000 | Positive |\n",
       "| u:environ:strain.Yield_blup-Yield_blup |  65969.28 | 20118.21 |  3.279082 | Positive |\n",
       "| units.Yield_blup-Yield_blup | 343674.11 | 13300.93 | 25.838345 | Positive |\n",
       "\n",
       "\n",
       "$betas\n",
       ":   \n",
       "A data.frame: 3 × 5\n",
       "\n",
       "| Trait &lt;fct&gt; | Effect &lt;fct&gt; | Estimate &lt;dbl&gt; | Std.Error &lt;dbl&gt; | t.value &lt;dbl&gt; |\n",
       "|---|---|---|---|---|\n",
       "| Yield_blup | environIA_2012 | 3146.983 | 28.54727 | 110.23762 |\n",
       "| Yield_blup | environIA_2013 | 2778.546 | 28.54727 |  97.33139 |\n",
       "| Yield_blup | environIL_2012 | 3633.347 | 28.54727 | 127.27474 |\n",
       "\n",
       "\n",
       "$method\n",
       ":   'NR'\n",
       "$logo\n",
       ":   \n",
       "A data.frame: 1 × 5\n",
       "\n",
       "| <!--/--> | logLik &lt;dbl&gt; | AIC &lt;dbl&gt; | BIC &lt;dbl&gt; | Method &lt;chr&gt; | Converge &lt;lgl&gt; |\n",
       "|---|---|---|---|---|---|\n",
       "| Value | -523.9647 | 1053.929 | 1069.833 | NR | TRUE |\n",
       "\n",
       "\n",
       "\n",
       "\n"
      ],
      "text/plain": [
       "========================================================================\n",
       "               Multivariate Linear Mixed Model fit by REML               \n",
       "****************************  sommer 4.1  **************************** \n",
       "========================================================================\n",
       "         logLik      AIC      BIC Method Converge\n",
       "Value -523.9647 1053.929 1069.833     NR     TRUE\n",
       "========================================================================\n",
       "Variance-Covariance components:\n",
       "                                       VarComp VarCompSE Zratio Constraint\n",
       "u:strain.Yield_blup-Yield_blup               0     11503  0.000   Positive\n",
       "u:environ:strain.Yield_blup-Yield_blup   65969     20118  3.279   Positive\n",
       "units.Yield_blup-Yield_blup             343674     13301 25.838   Positive\n",
       "========================================================================\n",
       "Fixed effects:\n",
       "       Trait         Effect Estimate Std.Error t.value\n",
       "1 Yield_blup environIA_2012     3147     28.55  110.24\n",
       "2 Yield_blup environIA_2013     2779     28.55   97.33\n",
       "3 Yield_blup environIL_2012     3633     28.55  127.27\n",
       "========================================================================\n",
       "Groups and observations:\n",
       "                 Yield_blup\n",
       "u:strain                494\n",
       "u:environ:strain       1482\n",
       "========================================================================\n",
       "Use the '$' sign to access results and parameters"
      ]
     },
     "metadata": {},
     "output_type": "display_data"
    }
   ],
   "source": [
    "fitCS1A <- mmer(Yield_blup~environ-1,\n",
    "              random= ~ vs(strain, Gu=A_Sub1) + vs(environ:strain, Gu=EA),\n",
    "              rcov= ~ units,\n",
    "              data=DT_Sub1A, verbose = FALSE)\n",
    "summary(fitCS1A)\n"
   ]
  },
  {
   "cell_type": "code",
   "execution_count": 28,
   "id": "level-drink",
   "metadata": {},
   "outputs": [
    {
     "data": {
      "text/html": [
       "494"
      ],
      "text/latex": [
       "494"
      ],
      "text/markdown": [
       "494"
      ],
      "text/plain": [
       "[1] 494"
      ]
     },
     "metadata": {},
     "output_type": "display_data"
    },
    {
     "data": {
      "text/html": [
       "0.131665186771016"
      ],
      "text/latex": [
       "0.131665186771016"
      ],
      "text/markdown": [
       "0.131665186771016"
      ],
      "text/plain": [
       "[1] 0.1316652"
      ]
     },
     "metadata": {},
     "output_type": "display_data"
    }
   ],
   "source": [
    "m <- model.matrix(~ environ-1 ,data=DT_Sub1)\n",
    "m_beta <- m %*% as.numeric(fitCS1A$Beta[,3]) \n",
    "tstPred1 <- (m_beta+fitCS1A$U$`u:environ:strain`$Yield_blup)[tstIndices1]\n",
    "length(tstPred1)\n",
    "cor(tstPred1,DT_Sub1[tstIndices1,\"Yield_blup\"])\n"
   ]
  },
  {
   "cell_type": "markdown",
   "id": "whole-resort",
   "metadata": {},
   "source": [
    "#### **Untested Genotypes in Tested Environments** ####"
   ]
  },
  {
   "cell_type": "code",
   "execution_count": 29,
   "id": "every-dallas",
   "metadata": {},
   "outputs": [
    {
     "data": {
      "text/html": [
       "98"
      ],
      "text/latex": [
       "98"
      ],
      "text/markdown": [
       "98"
      ],
      "text/plain": [
       "[1] 98"
      ]
     },
     "metadata": {},
     "output_type": "display_data"
    },
    {
     "data": {
      "text/html": [
       "<style>\n",
       ".list-inline {list-style: none; margin:0; padding: 0}\n",
       ".list-inline>li {display: inline-block}\n",
       ".list-inline>li:not(:last-child)::after {content: \"\\00b7\"; padding: 0 .5ex}\n",
       "</style>\n",
       "<ol class=list-inline><li>1482</li><li>18</li></ol>\n"
      ],
      "text/latex": [
       "\\begin{enumerate*}\n",
       "\\item 1482\n",
       "\\item 18\n",
       "\\end{enumerate*}\n"
      ],
      "text/markdown": [
       "1. 1482\n",
       "2. 18\n",
       "\n",
       "\n"
      ],
      "text/plain": [
       "[1] 1482   18"
      ]
     },
     "metadata": {},
     "output_type": "display_data"
    }
   ],
   "source": [
    "\n",
    "set.seed(125)\n",
    "tstStrain <- sample(unique(DT_Sub1[,\"strain\"]),0.2*length(unique(DT_Sub1[,\"strain\"])))\n",
    "length(tstStrain)\n",
    "tstIndices2 <- which(DT_Sub1[,\"strain\"] %in% tstStrain)\n",
    "DT_Sub1B <- DT_Sub1\n",
    "DT_Sub1B[tstIndices2 ,\"Yeild_blup\"] <- NA\n",
    "dim(DT_Sub1B)"
   ]
  },
  {
   "cell_type": "code",
   "execution_count": 30,
   "id": "crazy-virginia",
   "metadata": {},
   "outputs": [
    {
     "data": {
      "text/html": [
       "<style>\n",
       ".list-inline {list-style: none; margin:0; padding: 0}\n",
       ".list-inline>li {display: inline-block}\n",
       ".list-inline>li:not(:last-child)::after {content: \"\\00b7\"; padding: 0 .5ex}\n",
       "</style>\n",
       "<ol class=list-inline><li>3</li><li>3</li></ol>\n"
      ],
      "text/latex": [
       "\\begin{enumerate*}\n",
       "\\item 3\n",
       "\\item 3\n",
       "\\end{enumerate*}\n"
      ],
      "text/markdown": [
       "1. 3\n",
       "2. 3\n",
       "\n",
       "\n"
      ],
      "text/plain": [
       "[1] 3 3"
      ]
     },
     "metadata": {},
     "output_type": "display_data"
    },
    {
     "data": {
      "text/html": [
       "<style>\n",
       ".list-inline {list-style: none; margin:0; padding: 0}\n",
       ".list-inline>li {display: inline-block}\n",
       ".list-inline>li:not(:last-child)::after {content: \"\\00b7\"; padding: 0 .5ex}\n",
       "</style>\n",
       "<ol class=list-inline><li>1482</li><li>1482</li></ol>\n"
      ],
      "text/latex": [
       "\\begin{enumerate*}\n",
       "\\item 1482\n",
       "\\item 1482\n",
       "\\end{enumerate*}\n"
      ],
      "text/markdown": [
       "1. 1482\n",
       "2. 1482\n",
       "\n",
       "\n"
      ],
      "text/plain": [
       "[1] 1482 1482"
      ]
     },
     "metadata": {},
     "output_type": "display_data"
    }
   ],
   "source": [
    "\n",
    "E <- diag(length(unique(DT_Sub1B$environ)))\n",
    "rownames(E) <- colnames(E) <- unique(DT_Sub1B$environ)\n",
    "dim(E)\n",
    "\n",
    "EA <- kronecker(E,A_Sub1, make.dimnames = TRUE)\n",
    "DT_Sub1B$environ <- as.factor(DT_Sub1B$environ)\n",
    "DT_Sub1B$strain <- as.factor(DT_Sub1B$strain) \n",
    "\n",
    "dim(EA)"
   ]
  },
  {
   "cell_type": "code",
   "execution_count": 31,
   "id": "aware-universe",
   "metadata": {},
   "outputs": [
    {
     "data": {
      "text/html": [
       "<dl>\n",
       "\t<dt>$groups</dt>\n",
       "\t\t<dd><table class=\"dataframe\">\n",
       "<caption>A matrix: 2 × 1 of type int</caption>\n",
       "<thead>\n",
       "\t<tr><th></th><th scope=col>Yield_blup</th></tr>\n",
       "</thead>\n",
       "<tbody>\n",
       "\t<tr><th scope=row>u:strain</th><td> 494</td></tr>\n",
       "\t<tr><th scope=row>u:environ:strain</th><td>1482</td></tr>\n",
       "</tbody>\n",
       "</table>\n",
       "</dd>\n",
       "\t<dt>$varcomp</dt>\n",
       "\t\t<dd><table class=\"dataframe\">\n",
       "<caption>A data.frame: 3 × 4</caption>\n",
       "<thead>\n",
       "\t<tr><th></th><th scope=col>VarComp</th><th scope=col>VarCompSE</th><th scope=col>Zratio</th><th scope=col>Constraint</th></tr>\n",
       "\t<tr><th></th><th scope=col>&lt;dbl&gt;</th><th scope=col>&lt;dbl&gt;</th><th scope=col>&lt;dbl&gt;</th><th scope=col>&lt;chr&gt;</th></tr>\n",
       "</thead>\n",
       "<tbody>\n",
       "\t<tr><th scope=row>u:strain.Yield_blup-Yield_blup</th><td>     0.00</td><td>11503.43</td><td> 0.000000</td><td>Positive</td></tr>\n",
       "\t<tr><th scope=row>u:environ:strain.Yield_blup-Yield_blup</th><td> 65969.28</td><td>20118.21</td><td> 3.279082</td><td>Positive</td></tr>\n",
       "\t<tr><th scope=row>units.Yield_blup-Yield_blup</th><td>343674.11</td><td>13300.93</td><td>25.838345</td><td>Positive</td></tr>\n",
       "</tbody>\n",
       "</table>\n",
       "</dd>\n",
       "\t<dt>$betas</dt>\n",
       "\t\t<dd><table class=\"dataframe\">\n",
       "<caption>A data.frame: 3 × 5</caption>\n",
       "<thead>\n",
       "\t<tr><th scope=col>Trait</th><th scope=col>Effect</th><th scope=col>Estimate</th><th scope=col>Std.Error</th><th scope=col>t.value</th></tr>\n",
       "\t<tr><th scope=col>&lt;fct&gt;</th><th scope=col>&lt;fct&gt;</th><th scope=col>&lt;dbl&gt;</th><th scope=col>&lt;dbl&gt;</th><th scope=col>&lt;dbl&gt;</th></tr>\n",
       "</thead>\n",
       "<tbody>\n",
       "\t<tr><td>Yield_blup</td><td>environIA_2012</td><td>3146.983</td><td>28.54727</td><td>110.23762</td></tr>\n",
       "\t<tr><td>Yield_blup</td><td>environIA_2013</td><td>2778.546</td><td>28.54727</td><td> 97.33139</td></tr>\n",
       "\t<tr><td>Yield_blup</td><td>environIL_2012</td><td>3633.347</td><td>28.54727</td><td>127.27474</td></tr>\n",
       "</tbody>\n",
       "</table>\n",
       "</dd>\n",
       "\t<dt>$method</dt>\n",
       "\t\t<dd>'NR'</dd>\n",
       "\t<dt>$logo</dt>\n",
       "\t\t<dd><table class=\"dataframe\">\n",
       "<caption>A data.frame: 1 × 5</caption>\n",
       "<thead>\n",
       "\t<tr><th></th><th scope=col>logLik</th><th scope=col>AIC</th><th scope=col>BIC</th><th scope=col>Method</th><th scope=col>Converge</th></tr>\n",
       "\t<tr><th></th><th scope=col>&lt;dbl&gt;</th><th scope=col>&lt;dbl&gt;</th><th scope=col>&lt;dbl&gt;</th><th scope=col>&lt;chr&gt;</th><th scope=col>&lt;lgl&gt;</th></tr>\n",
       "</thead>\n",
       "<tbody>\n",
       "\t<tr><th scope=row>Value</th><td>-523.9647</td><td>1053.929</td><td>1069.833</td><td>NR</td><td>TRUE</td></tr>\n",
       "</tbody>\n",
       "</table>\n",
       "</dd>\n",
       "</dl>\n"
      ],
      "text/latex": [
       "\\begin{description}\n",
       "\\item[\\$groups] A matrix: 2 × 1 of type int\n",
       "\\begin{tabular}{r|l}\n",
       "  & Yield\\_blup\\\\\n",
       "\\hline\n",
       "\tu:strain &  494\\\\\n",
       "\tu:environ:strain & 1482\\\\\n",
       "\\end{tabular}\n",
       "\n",
       "\\item[\\$varcomp] A data.frame: 3 × 4\n",
       "\\begin{tabular}{r|llll}\n",
       "  & VarComp & VarCompSE & Zratio & Constraint\\\\\n",
       "  & <dbl> & <dbl> & <dbl> & <chr>\\\\\n",
       "\\hline\n",
       "\tu:strain.Yield\\_blup-Yield\\_blup &      0.00 & 11503.43 &  0.000000 & Positive\\\\\n",
       "\tu:environ:strain.Yield\\_blup-Yield\\_blup &  65969.28 & 20118.21 &  3.279082 & Positive\\\\\n",
       "\tunits.Yield\\_blup-Yield\\_blup & 343674.11 & 13300.93 & 25.838345 & Positive\\\\\n",
       "\\end{tabular}\n",
       "\n",
       "\\item[\\$betas] A data.frame: 3 × 5\n",
       "\\begin{tabular}{lllll}\n",
       " Trait & Effect & Estimate & Std.Error & t.value\\\\\n",
       " <fct> & <fct> & <dbl> & <dbl> & <dbl>\\\\\n",
       "\\hline\n",
       "\t Yield\\_blup & environIA\\_2012 & 3146.983 & 28.54727 & 110.23762\\\\\n",
       "\t Yield\\_blup & environIA\\_2013 & 2778.546 & 28.54727 &  97.33139\\\\\n",
       "\t Yield\\_blup & environIL\\_2012 & 3633.347 & 28.54727 & 127.27474\\\\\n",
       "\\end{tabular}\n",
       "\n",
       "\\item[\\$method] 'NR'\n",
       "\\item[\\$logo] A data.frame: 1 × 5\n",
       "\\begin{tabular}{r|lllll}\n",
       "  & logLik & AIC & BIC & Method & Converge\\\\\n",
       "  & <dbl> & <dbl> & <dbl> & <chr> & <lgl>\\\\\n",
       "\\hline\n",
       "\tValue & -523.9647 & 1053.929 & 1069.833 & NR & TRUE\\\\\n",
       "\\end{tabular}\n",
       "\n",
       "\\end{description}\n"
      ],
      "text/markdown": [
       "$groups\n",
       ":   \n",
       "A matrix: 2 × 1 of type int\n",
       "\n",
       "| <!--/--> | Yield_blup |\n",
       "|---|---|\n",
       "| u:strain |  494 |\n",
       "| u:environ:strain | 1482 |\n",
       "\n",
       "\n",
       "$varcomp\n",
       ":   \n",
       "A data.frame: 3 × 4\n",
       "\n",
       "| <!--/--> | VarComp &lt;dbl&gt; | VarCompSE &lt;dbl&gt; | Zratio &lt;dbl&gt; | Constraint &lt;chr&gt; |\n",
       "|---|---|---|---|---|\n",
       "| u:strain.Yield_blup-Yield_blup |      0.00 | 11503.43 |  0.000000 | Positive |\n",
       "| u:environ:strain.Yield_blup-Yield_blup |  65969.28 | 20118.21 |  3.279082 | Positive |\n",
       "| units.Yield_blup-Yield_blup | 343674.11 | 13300.93 | 25.838345 | Positive |\n",
       "\n",
       "\n",
       "$betas\n",
       ":   \n",
       "A data.frame: 3 × 5\n",
       "\n",
       "| Trait &lt;fct&gt; | Effect &lt;fct&gt; | Estimate &lt;dbl&gt; | Std.Error &lt;dbl&gt; | t.value &lt;dbl&gt; |\n",
       "|---|---|---|---|---|\n",
       "| Yield_blup | environIA_2012 | 3146.983 | 28.54727 | 110.23762 |\n",
       "| Yield_blup | environIA_2013 | 2778.546 | 28.54727 |  97.33139 |\n",
       "| Yield_blup | environIL_2012 | 3633.347 | 28.54727 | 127.27474 |\n",
       "\n",
       "\n",
       "$method\n",
       ":   'NR'\n",
       "$logo\n",
       ":   \n",
       "A data.frame: 1 × 5\n",
       "\n",
       "| <!--/--> | logLik &lt;dbl&gt; | AIC &lt;dbl&gt; | BIC &lt;dbl&gt; | Method &lt;chr&gt; | Converge &lt;lgl&gt; |\n",
       "|---|---|---|---|---|---|\n",
       "| Value | -523.9647 | 1053.929 | 1069.833 | NR | TRUE |\n",
       "\n",
       "\n",
       "\n",
       "\n"
      ],
      "text/plain": [
       "========================================================================\n",
       "               Multivariate Linear Mixed Model fit by REML               \n",
       "****************************  sommer 4.1  **************************** \n",
       "========================================================================\n",
       "         logLik      AIC      BIC Method Converge\n",
       "Value -523.9647 1053.929 1069.833     NR     TRUE\n",
       "========================================================================\n",
       "Variance-Covariance components:\n",
       "                                       VarComp VarCompSE Zratio Constraint\n",
       "u:strain.Yield_blup-Yield_blup               0     11503  0.000   Positive\n",
       "u:environ:strain.Yield_blup-Yield_blup   65969     20118  3.279   Positive\n",
       "units.Yield_blup-Yield_blup             343674     13301 25.838   Positive\n",
       "========================================================================\n",
       "Fixed effects:\n",
       "       Trait         Effect Estimate Std.Error t.value\n",
       "1 Yield_blup environIA_2012     3147     28.55  110.24\n",
       "2 Yield_blup environIA_2013     2779     28.55   97.33\n",
       "3 Yield_blup environIL_2012     3633     28.55  127.27\n",
       "========================================================================\n",
       "Groups and observations:\n",
       "                 Yield_blup\n",
       "u:strain                494\n",
       "u:environ:strain       1482\n",
       "========================================================================\n",
       "Use the '$' sign to access results and parameters"
      ]
     },
     "metadata": {},
     "output_type": "display_data"
    }
   ],
   "source": [
    "fitCS1B <- mmer(Yield_blup~environ-1,\n",
    "              random= ~ vs(strain, Gu=A_Sub1) + vs(environ:strain, Gu=EA),\n",
    "              rcov= ~ units,\n",
    "              data=DT_Sub1B, verbose = FALSE)\n",
    "summary(fitCS1B)"
   ]
  },
  {
   "cell_type": "code",
   "execution_count": 32,
   "id": "shared-administration",
   "metadata": {},
   "outputs": [
    {
     "data": {
      "text/html": [
       "294"
      ],
      "text/latex": [
       "294"
      ],
      "text/markdown": [
       "294"
      ],
      "text/plain": [
       "[1] 294"
      ]
     },
     "metadata": {},
     "output_type": "display_data"
    },
    {
     "data": {
      "text/html": [
       "0.47069479998954"
      ],
      "text/latex": [
       "0.47069479998954"
      ],
      "text/markdown": [
       "0.47069479998954"
      ],
      "text/plain": [
       "[1] 0.4706948"
      ]
     },
     "metadata": {},
     "output_type": "display_data"
    }
   ],
   "source": [
    "m <- model.matrix(~ environ-1 ,data=DT_Sub1)\n",
    "m_beta <- m %*% as.numeric(fitCS1B$Beta[,3]) \n",
    "tstPred2 <- (m_beta+fitCS1B$U$`u:environ:strain`$Yield_blup)[tstIndices2]\n",
    "length(tstPred2)\n",
    "cor(tstPred2,DT_Sub1[tstIndices2,\"Yield_blup\"])\n"
   ]
  },
  {
   "cell_type": "markdown",
   "id": "controlling-heather",
   "metadata": {},
   "source": [
    "#### **Untested Genotypes in Untested Environment**"
   ]
  },
  {
   "cell_type": "code",
   "execution_count": 33,
   "id": "ambient-guess",
   "metadata": {},
   "outputs": [
    {
     "data": {
      "text/html": [
       "98"
      ],
      "text/latex": [
       "98"
      ],
      "text/markdown": [
       "98"
      ],
      "text/plain": [
       "[1] 98"
      ]
     },
     "metadata": {},
     "output_type": "display_data"
    },
    {
     "data": {
      "text/html": [
       "<style>\n",
       ".list-inline {list-style: none; margin:0; padding: 0}\n",
       ".list-inline>li {display: inline-block}\n",
       ".list-inline>li:not(:last-child)::after {content: \"\\00b7\"; padding: 0 .5ex}\n",
       "</style>\n",
       "<ol class=list-inline><li>1482</li><li>18</li></ol>\n"
      ],
      "text/latex": [
       "\\begin{enumerate*}\n",
       "\\item 1482\n",
       "\\item 18\n",
       "\\end{enumerate*}\n"
      ],
      "text/markdown": [
       "1. 1482\n",
       "2. 18\n",
       "\n",
       "\n"
      ],
      "text/plain": [
       "[1] 1482   18"
      ]
     },
     "metadata": {},
     "output_type": "display_data"
    }
   ],
   "source": [
    "set.seed(125)\n",
    "tstStrain <- sample(unique(DT_Sub1[,\"strain\"]),0.2*length(unique(DT_Sub1[,\"strain\"])))\n",
    "length(tstStrain)\n",
    "tstIndices2 <- which(DT_Sub1[,\"strain\"] %in% tstStrain)\n",
    "DT_Sub1B <- DT_Sub1\n",
    "DT_Sub1B[tstIndices2 ,\"Yeild_blup\"] <- NA\n",
    "dim(DT_Sub1B) \n",
    "\n",
    "tstIndices1 <- which(DT_Sub1[,\"environ\"] %in% \"IA_2013\") \n",
    "\n",
    "tstIndices3 <- intersect(tstIndices2,tstIndices1)\n",
    "DT_Sub1C <- DT_Sub1B\n",
    "DT_Sub1C[tstIndices3 ,\"Yeild_blup\"] <- NA\n",
    "\n"
   ]
  },
  {
   "cell_type": "code",
   "execution_count": null,
   "id": "polyphonic-phenomenon",
   "metadata": {},
   "outputs": [],
   "source": []
  },
  {
   "cell_type": "code",
   "execution_count": 34,
   "id": "legislative-influence",
   "metadata": {},
   "outputs": [
    {
     "data": {
      "text/html": [
       "<dl>\n",
       "\t<dt>$groups</dt>\n",
       "\t\t<dd><table class=\"dataframe\">\n",
       "<caption>A matrix: 6 × 1 of type int</caption>\n",
       "<thead>\n",
       "\t<tr><th></th><th scope=col>Yield_blup</th></tr>\n",
       "</thead>\n",
       "<tbody>\n",
       "\t<tr><th scope=row>IA_2012:strain</th><td>494</td></tr>\n",
       "\t<tr><th scope=row>IA_2013:IA_2012:strain</th><td>988</td></tr>\n",
       "\t<tr><th scope=row>IA_2013:strain</th><td>494</td></tr>\n",
       "\t<tr><th scope=row>IL_2012:IA_2012:strain</th><td>988</td></tr>\n",
       "\t<tr><th scope=row>IL_2012:IA_2013:strain</th><td>988</td></tr>\n",
       "\t<tr><th scope=row>IL_2012:strain</th><td>494</td></tr>\n",
       "</tbody>\n",
       "</table>\n",
       "</dd>\n",
       "\t<dt>$varcomp</dt>\n",
       "\t\t<dd><table class=\"dataframe\">\n",
       "<caption>A data.frame: 7 × 4</caption>\n",
       "<thead>\n",
       "\t<tr><th></th><th scope=col>VarComp</th><th scope=col>VarCompSE</th><th scope=col>Zratio</th><th scope=col>Constraint</th></tr>\n",
       "\t<tr><th></th><th scope=col>&lt;dbl&gt;</th><th scope=col>&lt;dbl&gt;</th><th scope=col>&lt;dbl&gt;</th><th scope=col>&lt;chr&gt;</th></tr>\n",
       "</thead>\n",
       "<tbody>\n",
       "\t<tr><th scope=row>IA_2012:strain.Yield_blup-Yield_blup</th><td> 27496.322</td><td>17108.41</td><td> 1.6071816</td><td>Positive</td></tr>\n",
       "\t<tr><th scope=row>IA_2013:IA_2012:strain.Yield_blup-Yield_blup</th><td>  9695.035</td><td>17110.28</td><td> 0.5666205</td><td>Unconstr</td></tr>\n",
       "\t<tr><th scope=row>IA_2013:strain.Yield_blup-Yield_blup</th><td> 88862.509</td><td>33186.87</td><td> 2.6776402</td><td>Positive</td></tr>\n",
       "\t<tr><th scope=row>IL_2012:IA_2012:strain.Yield_blup-Yield_blup</th><td> 23197.485</td><td>17989.24</td><td> 1.2895199</td><td>Unconstr</td></tr>\n",
       "\t<tr><th scope=row>IL_2012:IA_2013:strain.Yield_blup-Yield_blup</th><td>-69692.222</td><td>26894.77</td><td>-2.5912923</td><td>Unconstr</td></tr>\n",
       "\t<tr><th scope=row>IL_2012:strain.Yield_blup-Yield_blup</th><td> 95836.031</td><td>34748.23</td><td> 2.7580122</td><td>Positive</td></tr>\n",
       "\t<tr><th scope=row>units.Yield_blup-Yield_blup</th><td>342784.165</td><td>13207.12</td><td>25.9544898</td><td>Positive</td></tr>\n",
       "</tbody>\n",
       "</table>\n",
       "</dd>\n",
       "\t<dt>$betas</dt>\n",
       "\t\t<dd><table class=\"dataframe\">\n",
       "<caption>A data.frame: 3 × 5</caption>\n",
       "<thead>\n",
       "\t<tr><th scope=col>Trait</th><th scope=col>Effect</th><th scope=col>Estimate</th><th scope=col>Std.Error</th><th scope=col>t.value</th></tr>\n",
       "\t<tr><th scope=col>&lt;fct&gt;</th><th scope=col>&lt;fct&gt;</th><th scope=col>&lt;dbl&gt;</th><th scope=col>&lt;dbl&gt;</th><th scope=col>&lt;dbl&gt;</th></tr>\n",
       "</thead>\n",
       "<tbody>\n",
       "\t<tr><td>Yield_blup</td><td>environIA_2012</td><td>3139.304</td><td>27.37833</td><td>114.66383</td></tr>\n",
       "\t<tr><td>Yield_blup</td><td>environIA_2013</td><td>2776.395</td><td>28.61196</td><td> 97.03615</td></tr>\n",
       "\t<tr><td>Yield_blup</td><td>environIL_2012</td><td>3643.257</td><td>28.70320</td><td>126.92861</td></tr>\n",
       "</tbody>\n",
       "</table>\n",
       "</dd>\n",
       "\t<dt>$method</dt>\n",
       "\t\t<dd>'NR'</dd>\n",
       "\t<dt>$logo</dt>\n",
       "\t\t<dd><table class=\"dataframe\">\n",
       "<caption>A data.frame: 1 × 5</caption>\n",
       "<thead>\n",
       "\t<tr><th></th><th scope=col>logLik</th><th scope=col>AIC</th><th scope=col>BIC</th><th scope=col>Method</th><th scope=col>Converge</th></tr>\n",
       "\t<tr><th></th><th scope=col>&lt;dbl&gt;</th><th scope=col>&lt;dbl&gt;</th><th scope=col>&lt;dbl&gt;</th><th scope=col>&lt;chr&gt;</th><th scope=col>&lt;lgl&gt;</th></tr>\n",
       "</thead>\n",
       "<tbody>\n",
       "\t<tr><th scope=row>Value</th><td>-515.6439</td><td>1037.288</td><td>1053.191</td><td>NR</td><td>TRUE</td></tr>\n",
       "</tbody>\n",
       "</table>\n",
       "</dd>\n",
       "</dl>\n"
      ],
      "text/latex": [
       "\\begin{description}\n",
       "\\item[\\$groups] A matrix: 6 × 1 of type int\n",
       "\\begin{tabular}{r|l}\n",
       "  & Yield\\_blup\\\\\n",
       "\\hline\n",
       "\tIA\\_2012:strain & 494\\\\\n",
       "\tIA\\_2013:IA\\_2012:strain & 988\\\\\n",
       "\tIA\\_2013:strain & 494\\\\\n",
       "\tIL\\_2012:IA\\_2012:strain & 988\\\\\n",
       "\tIL\\_2012:IA\\_2013:strain & 988\\\\\n",
       "\tIL\\_2012:strain & 494\\\\\n",
       "\\end{tabular}\n",
       "\n",
       "\\item[\\$varcomp] A data.frame: 7 × 4\n",
       "\\begin{tabular}{r|llll}\n",
       "  & VarComp & VarCompSE & Zratio & Constraint\\\\\n",
       "  & <dbl> & <dbl> & <dbl> & <chr>\\\\\n",
       "\\hline\n",
       "\tIA\\_2012:strain.Yield\\_blup-Yield\\_blup &  27496.322 & 17108.41 &  1.6071816 & Positive\\\\\n",
       "\tIA\\_2013:IA\\_2012:strain.Yield\\_blup-Yield\\_blup &   9695.035 & 17110.28 &  0.5666205 & Unconstr\\\\\n",
       "\tIA\\_2013:strain.Yield\\_blup-Yield\\_blup &  88862.509 & 33186.87 &  2.6776402 & Positive\\\\\n",
       "\tIL\\_2012:IA\\_2012:strain.Yield\\_blup-Yield\\_blup &  23197.485 & 17989.24 &  1.2895199 & Unconstr\\\\\n",
       "\tIL\\_2012:IA\\_2013:strain.Yield\\_blup-Yield\\_blup & -69692.222 & 26894.77 & -2.5912923 & Unconstr\\\\\n",
       "\tIL\\_2012:strain.Yield\\_blup-Yield\\_blup &  95836.031 & 34748.23 &  2.7580122 & Positive\\\\\n",
       "\tunits.Yield\\_blup-Yield\\_blup & 342784.165 & 13207.12 & 25.9544898 & Positive\\\\\n",
       "\\end{tabular}\n",
       "\n",
       "\\item[\\$betas] A data.frame: 3 × 5\n",
       "\\begin{tabular}{lllll}\n",
       " Trait & Effect & Estimate & Std.Error & t.value\\\\\n",
       " <fct> & <fct> & <dbl> & <dbl> & <dbl>\\\\\n",
       "\\hline\n",
       "\t Yield\\_blup & environIA\\_2012 & 3139.304 & 27.37833 & 114.66383\\\\\n",
       "\t Yield\\_blup & environIA\\_2013 & 2776.395 & 28.61196 &  97.03615\\\\\n",
       "\t Yield\\_blup & environIL\\_2012 & 3643.257 & 28.70320 & 126.92861\\\\\n",
       "\\end{tabular}\n",
       "\n",
       "\\item[\\$method] 'NR'\n",
       "\\item[\\$logo] A data.frame: 1 × 5\n",
       "\\begin{tabular}{r|lllll}\n",
       "  & logLik & AIC & BIC & Method & Converge\\\\\n",
       "  & <dbl> & <dbl> & <dbl> & <chr> & <lgl>\\\\\n",
       "\\hline\n",
       "\tValue & -515.6439 & 1037.288 & 1053.191 & NR & TRUE\\\\\n",
       "\\end{tabular}\n",
       "\n",
       "\\end{description}\n"
      ],
      "text/markdown": [
       "$groups\n",
       ":   \n",
       "A matrix: 6 × 1 of type int\n",
       "\n",
       "| <!--/--> | Yield_blup |\n",
       "|---|---|\n",
       "| IA_2012:strain | 494 |\n",
       "| IA_2013:IA_2012:strain | 988 |\n",
       "| IA_2013:strain | 494 |\n",
       "| IL_2012:IA_2012:strain | 988 |\n",
       "| IL_2012:IA_2013:strain | 988 |\n",
       "| IL_2012:strain | 494 |\n",
       "\n",
       "\n",
       "$varcomp\n",
       ":   \n",
       "A data.frame: 7 × 4\n",
       "\n",
       "| <!--/--> | VarComp &lt;dbl&gt; | VarCompSE &lt;dbl&gt; | Zratio &lt;dbl&gt; | Constraint &lt;chr&gt; |\n",
       "|---|---|---|---|---|\n",
       "| IA_2012:strain.Yield_blup-Yield_blup |  27496.322 | 17108.41 |  1.6071816 | Positive |\n",
       "| IA_2013:IA_2012:strain.Yield_blup-Yield_blup |   9695.035 | 17110.28 |  0.5666205 | Unconstr |\n",
       "| IA_2013:strain.Yield_blup-Yield_blup |  88862.509 | 33186.87 |  2.6776402 | Positive |\n",
       "| IL_2012:IA_2012:strain.Yield_blup-Yield_blup |  23197.485 | 17989.24 |  1.2895199 | Unconstr |\n",
       "| IL_2012:IA_2013:strain.Yield_blup-Yield_blup | -69692.222 | 26894.77 | -2.5912923 | Unconstr |\n",
       "| IL_2012:strain.Yield_blup-Yield_blup |  95836.031 | 34748.23 |  2.7580122 | Positive |\n",
       "| units.Yield_blup-Yield_blup | 342784.165 | 13207.12 | 25.9544898 | Positive |\n",
       "\n",
       "\n",
       "$betas\n",
       ":   \n",
       "A data.frame: 3 × 5\n",
       "\n",
       "| Trait &lt;fct&gt; | Effect &lt;fct&gt; | Estimate &lt;dbl&gt; | Std.Error &lt;dbl&gt; | t.value &lt;dbl&gt; |\n",
       "|---|---|---|---|---|\n",
       "| Yield_blup | environIA_2012 | 3139.304 | 27.37833 | 114.66383 |\n",
       "| Yield_blup | environIA_2013 | 2776.395 | 28.61196 |  97.03615 |\n",
       "| Yield_blup | environIL_2012 | 3643.257 | 28.70320 | 126.92861 |\n",
       "\n",
       "\n",
       "$method\n",
       ":   'NR'\n",
       "$logo\n",
       ":   \n",
       "A data.frame: 1 × 5\n",
       "\n",
       "| <!--/--> | logLik &lt;dbl&gt; | AIC &lt;dbl&gt; | BIC &lt;dbl&gt; | Method &lt;chr&gt; | Converge &lt;lgl&gt; |\n",
       "|---|---|---|---|---|---|\n",
       "| Value | -515.6439 | 1037.288 | 1053.191 | NR | TRUE |\n",
       "\n",
       "\n",
       "\n",
       "\n"
      ],
      "text/plain": [
       "==============================================================================\n",
       "                  Multivariate Linear Mixed Model fit by REML                  \n",
       "*******************************  sommer 4.1  ******************************* \n",
       "==============================================================================\n",
       "         logLik      AIC      BIC Method Converge\n",
       "Value -515.6439 1037.288 1053.191     NR     TRUE\n",
       "==============================================================================\n",
       "Variance-Covariance components:\n",
       "                                             VarComp VarCompSE  Zratio\n",
       "IA_2012:strain.Yield_blup-Yield_blup           27496     17108  1.6072\n",
       "IA_2013:IA_2012:strain.Yield_blup-Yield_blup    9695     17110  0.5666\n",
       "IA_2013:strain.Yield_blup-Yield_blup           88863     33187  2.6776\n",
       "IL_2012:IA_2012:strain.Yield_blup-Yield_blup   23197     17989  1.2895\n",
       "IL_2012:IA_2013:strain.Yield_blup-Yield_blup  -69692     26895 -2.5913\n",
       "IL_2012:strain.Yield_blup-Yield_blup           95836     34748  2.7580\n",
       "units.Yield_blup-Yield_blup                   342784     13207 25.9545\n",
       "                                             Constraint\n",
       "IA_2012:strain.Yield_blup-Yield_blup           Positive\n",
       "IA_2013:IA_2012:strain.Yield_blup-Yield_blup   Unconstr\n",
       "IA_2013:strain.Yield_blup-Yield_blup           Positive\n",
       "IL_2012:IA_2012:strain.Yield_blup-Yield_blup   Unconstr\n",
       "IL_2012:IA_2013:strain.Yield_blup-Yield_blup   Unconstr\n",
       "IL_2012:strain.Yield_blup-Yield_blup           Positive\n",
       "units.Yield_blup-Yield_blup                    Positive\n",
       "==============================================================================\n",
       "Fixed effects:\n",
       "       Trait         Effect Estimate Std.Error t.value\n",
       "1 Yield_blup environIA_2012     3139     27.38  114.66\n",
       "2 Yield_blup environIA_2013     2776     28.61   97.04\n",
       "3 Yield_blup environIL_2012     3643     28.70  126.93\n",
       "==============================================================================\n",
       "Groups and observations:\n",
       "                       Yield_blup\n",
       "IA_2012:strain                494\n",
       "IA_2013:IA_2012:strain        988\n",
       "IA_2013:strain                494\n",
       "IL_2012:IA_2012:strain        988\n",
       "IL_2012:IA_2013:strain        988\n",
       "IL_2012:strain                494\n",
       "==============================================================================\n",
       "Use the '$' sign to access results and parameters"
      ]
     },
     "metadata": {},
     "output_type": "display_data"
    }
   ],
   "source": [
    "fitUS1C <- mmer(Yield_blup ~ environ-1,\n",
    "              random=~vs(us(environ),strain,Gu=A_Sub1),\n",
    "              rcov=~units,\n",
    "              data=DT_Sub1C,verbose=FALSE)\n",
    "\n",
    "summary(fitUS1C)"
   ]
  },
  {
   "cell_type": "code",
   "execution_count": 35,
   "id": "permanent-drama",
   "metadata": {},
   "outputs": [
    {
     "data": {
      "text/html": [
       "<style>\n",
       ".list-inline {list-style: none; margin:0; padding: 0}\n",
       ".list-inline>li {display: inline-block}\n",
       ".list-inline>li:not(:last-child)::after {content: \"\\00b7\"; padding: 0 .5ex}\n",
       "</style>\n",
       "<ol class=list-inline><li>'A'</li><li>'A_Sub'</li><li>'A_Sub1'</li><li>'DT'</li><li>'DT_Sub'</li><li>'DT_Sub1'</li><li>'DT_Sub1A'</li><li>'DT_Sub1B'</li><li>'DT_Sub1C'</li><li>'Data'</li><li>'Data_Sub'</li><li>'E'</li><li>'EA'</li><li>'K_rr'</li><li>'PredCS'</li><li>'PredCSDG'</li><li>'PredDG1A'</li><li>'PredMain'</li><li>'VCFtoDF'</li><li>'VCFtoDF_NAM'</li><li>'VCFtoDF_V2'</li><li>'WorkDir'</li><li>'YldNA_Indices'</li><li>'cleanREPV2'</li><li>'envStrain_blup'</li><li>'env_geno_sub_indices'</li><li>'env_sub'</li><li>'env_sub_indices'</li><li>'finalGenoIndx'</li><li>'fitCS'</li><li>'fitCS1A'</li><li>'fitCS1B'</li><li>'fitCSDG'</li><li>'fitDG1A'</li><li>'fitMain'</li><li>'fitUS'</li><li>'fitUS1C'</li><li>'fix_T'</li><li>'genoIndices'</li><li>'genoStrain'</li><li>'genoStrainIndices'</li><li>'geno_imp'</li><li>'geno_imp_sub'</li><li>'geno_num'</li><li>'geno_num2'</li><li>'geno_num3'</li><li>'geno_num4'</li><li>'geno_num4_x'</li><li>'geno_num4b'</li><li>'geno_num5'</li><li>'genotypes_VCF'</li><li>'getFilteredSitesGenoData'</li><li>'getFilteredTaxaGenoData'</li><li>'getGenoTas_to_DF'</li><li>'getImputedData'</li><li>'getMTCVR'</li><li>'getMergedData'</li><li>'getOptimalTS'</li><li>'getPredictionData'</li><li>'getProcessedData'</li><li>'getProcessedData_NUST_withFilters'</li><li>'getRandomTS'</li><li>'getRankedPredictedValues'</li><li>'getRankedPredictedValuesMT'</li><li>'getRankedPredictedValues_V2'</li><li>'getTSComparisons'</li><li>'getTSComparisonsMT'</li><li>'getTasObj'</li><li>'getemCVR'</li><li>'gt'</li><li>'indES'</li><li>'indNA'</li><li>'infileVCF'</li><li>'initGenoIndx'</li><li>'m'</li><li>'m2'</li><li>'m_beta'</li><li>'m_env_strain'</li><li>'maf'</li><li>'miss'</li><li>'mrkNA'</li><li>'ndx'</li><li>'ndx2'</li><li>'ndx3'</li><li>'pheno'</li><li>'phenoIndices'</li><li>'pheno_sub'</li><li>'replaceNAwithMean'</li><li>'rmStrains'</li><li>'strain_blup'</li><li>'tstIndices1'</li><li>'tstIndices2'</li><li>'tstIndices3'</li><li>'tstPred1'</li><li>'tstPred2'</li><li>'tstStrain'</li><li>'uniqueStrainIndices'</li><li>'vcf'</li><li>'yldCol'</li></ol>\n"
      ],
      "text/latex": [
       "\\begin{enumerate*}\n",
       "\\item 'A'\n",
       "\\item 'A\\_Sub'\n",
       "\\item 'A\\_Sub1'\n",
       "\\item 'DT'\n",
       "\\item 'DT\\_Sub'\n",
       "\\item 'DT\\_Sub1'\n",
       "\\item 'DT\\_Sub1A'\n",
       "\\item 'DT\\_Sub1B'\n",
       "\\item 'DT\\_Sub1C'\n",
       "\\item 'Data'\n",
       "\\item 'Data\\_Sub'\n",
       "\\item 'E'\n",
       "\\item 'EA'\n",
       "\\item 'K\\_rr'\n",
       "\\item 'PredCS'\n",
       "\\item 'PredCSDG'\n",
       "\\item 'PredDG1A'\n",
       "\\item 'PredMain'\n",
       "\\item 'VCFtoDF'\n",
       "\\item 'VCFtoDF\\_NAM'\n",
       "\\item 'VCFtoDF\\_V2'\n",
       "\\item 'WorkDir'\n",
       "\\item 'YldNA\\_Indices'\n",
       "\\item 'cleanREPV2'\n",
       "\\item 'envStrain\\_blup'\n",
       "\\item 'env\\_geno\\_sub\\_indices'\n",
       "\\item 'env\\_sub'\n",
       "\\item 'env\\_sub\\_indices'\n",
       "\\item 'finalGenoIndx'\n",
       "\\item 'fitCS'\n",
       "\\item 'fitCS1A'\n",
       "\\item 'fitCS1B'\n",
       "\\item 'fitCSDG'\n",
       "\\item 'fitDG1A'\n",
       "\\item 'fitMain'\n",
       "\\item 'fitUS'\n",
       "\\item 'fitUS1C'\n",
       "\\item 'fix\\_T'\n",
       "\\item 'genoIndices'\n",
       "\\item 'genoStrain'\n",
       "\\item 'genoStrainIndices'\n",
       "\\item 'geno\\_imp'\n",
       "\\item 'geno\\_imp\\_sub'\n",
       "\\item 'geno\\_num'\n",
       "\\item 'geno\\_num2'\n",
       "\\item 'geno\\_num3'\n",
       "\\item 'geno\\_num4'\n",
       "\\item 'geno\\_num4\\_x'\n",
       "\\item 'geno\\_num4b'\n",
       "\\item 'geno\\_num5'\n",
       "\\item 'genotypes\\_VCF'\n",
       "\\item 'getFilteredSitesGenoData'\n",
       "\\item 'getFilteredTaxaGenoData'\n",
       "\\item 'getGenoTas\\_to\\_DF'\n",
       "\\item 'getImputedData'\n",
       "\\item 'getMTCVR'\n",
       "\\item 'getMergedData'\n",
       "\\item 'getOptimalTS'\n",
       "\\item 'getPredictionData'\n",
       "\\item 'getProcessedData'\n",
       "\\item 'getProcessedData\\_NUST\\_withFilters'\n",
       "\\item 'getRandomTS'\n",
       "\\item 'getRankedPredictedValues'\n",
       "\\item 'getRankedPredictedValuesMT'\n",
       "\\item 'getRankedPredictedValues\\_V2'\n",
       "\\item 'getTSComparisons'\n",
       "\\item 'getTSComparisonsMT'\n",
       "\\item 'getTasObj'\n",
       "\\item 'getemCVR'\n",
       "\\item 'gt'\n",
       "\\item 'indES'\n",
       "\\item 'indNA'\n",
       "\\item 'infileVCF'\n",
       "\\item 'initGenoIndx'\n",
       "\\item 'm'\n",
       "\\item 'm2'\n",
       "\\item 'm\\_beta'\n",
       "\\item 'm\\_env\\_strain'\n",
       "\\item 'maf'\n",
       "\\item 'miss'\n",
       "\\item 'mrkNA'\n",
       "\\item 'ndx'\n",
       "\\item 'ndx2'\n",
       "\\item 'ndx3'\n",
       "\\item 'pheno'\n",
       "\\item 'phenoIndices'\n",
       "\\item 'pheno\\_sub'\n",
       "\\item 'replaceNAwithMean'\n",
       "\\item 'rmStrains'\n",
       "\\item 'strain\\_blup'\n",
       "\\item 'tstIndices1'\n",
       "\\item 'tstIndices2'\n",
       "\\item 'tstIndices3'\n",
       "\\item 'tstPred1'\n",
       "\\item 'tstPred2'\n",
       "\\item 'tstStrain'\n",
       "\\item 'uniqueStrainIndices'\n",
       "\\item 'vcf'\n",
       "\\item 'yldCol'\n",
       "\\end{enumerate*}\n"
      ],
      "text/markdown": [
       "1. 'A'\n",
       "2. 'A_Sub'\n",
       "3. 'A_Sub1'\n",
       "4. 'DT'\n",
       "5. 'DT_Sub'\n",
       "6. 'DT_Sub1'\n",
       "7. 'DT_Sub1A'\n",
       "8. 'DT_Sub1B'\n",
       "9. 'DT_Sub1C'\n",
       "10. 'Data'\n",
       "11. 'Data_Sub'\n",
       "12. 'E'\n",
       "13. 'EA'\n",
       "14. 'K_rr'\n",
       "15. 'PredCS'\n",
       "16. 'PredCSDG'\n",
       "17. 'PredDG1A'\n",
       "18. 'PredMain'\n",
       "19. 'VCFtoDF'\n",
       "20. 'VCFtoDF_NAM'\n",
       "21. 'VCFtoDF_V2'\n",
       "22. 'WorkDir'\n",
       "23. 'YldNA_Indices'\n",
       "24. 'cleanREPV2'\n",
       "25. 'envStrain_blup'\n",
       "26. 'env_geno_sub_indices'\n",
       "27. 'env_sub'\n",
       "28. 'env_sub_indices'\n",
       "29. 'finalGenoIndx'\n",
       "30. 'fitCS'\n",
       "31. 'fitCS1A'\n",
       "32. 'fitCS1B'\n",
       "33. 'fitCSDG'\n",
       "34. 'fitDG1A'\n",
       "35. 'fitMain'\n",
       "36. 'fitUS'\n",
       "37. 'fitUS1C'\n",
       "38. 'fix_T'\n",
       "39. 'genoIndices'\n",
       "40. 'genoStrain'\n",
       "41. 'genoStrainIndices'\n",
       "42. 'geno_imp'\n",
       "43. 'geno_imp_sub'\n",
       "44. 'geno_num'\n",
       "45. 'geno_num2'\n",
       "46. 'geno_num3'\n",
       "47. 'geno_num4'\n",
       "48. 'geno_num4_x'\n",
       "49. 'geno_num4b'\n",
       "50. 'geno_num5'\n",
       "51. 'genotypes_VCF'\n",
       "52. 'getFilteredSitesGenoData'\n",
       "53. 'getFilteredTaxaGenoData'\n",
       "54. 'getGenoTas_to_DF'\n",
       "55. 'getImputedData'\n",
       "56. 'getMTCVR'\n",
       "57. 'getMergedData'\n",
       "58. 'getOptimalTS'\n",
       "59. 'getPredictionData'\n",
       "60. 'getProcessedData'\n",
       "61. 'getProcessedData_NUST_withFilters'\n",
       "62. 'getRandomTS'\n",
       "63. 'getRankedPredictedValues'\n",
       "64. 'getRankedPredictedValuesMT'\n",
       "65. 'getRankedPredictedValues_V2'\n",
       "66. 'getTSComparisons'\n",
       "67. 'getTSComparisonsMT'\n",
       "68. 'getTasObj'\n",
       "69. 'getemCVR'\n",
       "70. 'gt'\n",
       "71. 'indES'\n",
       "72. 'indNA'\n",
       "73. 'infileVCF'\n",
       "74. 'initGenoIndx'\n",
       "75. 'm'\n",
       "76. 'm2'\n",
       "77. 'm_beta'\n",
       "78. 'm_env_strain'\n",
       "79. 'maf'\n",
       "80. 'miss'\n",
       "81. 'mrkNA'\n",
       "82. 'ndx'\n",
       "83. 'ndx2'\n",
       "84. 'ndx3'\n",
       "85. 'pheno'\n",
       "86. 'phenoIndices'\n",
       "87. 'pheno_sub'\n",
       "88. 'replaceNAwithMean'\n",
       "89. 'rmStrains'\n",
       "90. 'strain_blup'\n",
       "91. 'tstIndices1'\n",
       "92. 'tstIndices2'\n",
       "93. 'tstIndices3'\n",
       "94. 'tstPred1'\n",
       "95. 'tstPred2'\n",
       "96. 'tstStrain'\n",
       "97. 'uniqueStrainIndices'\n",
       "98. 'vcf'\n",
       "99. 'yldCol'\n",
       "\n",
       "\n"
      ],
      "text/plain": [
       " [1] \"A\"                                 \"A_Sub\"                            \n",
       " [3] \"A_Sub1\"                            \"DT\"                               \n",
       " [5] \"DT_Sub\"                            \"DT_Sub1\"                          \n",
       " [7] \"DT_Sub1A\"                          \"DT_Sub1B\"                         \n",
       " [9] \"DT_Sub1C\"                          \"Data\"                             \n",
       "[11] \"Data_Sub\"                          \"E\"                                \n",
       "[13] \"EA\"                                \"K_rr\"                             \n",
       "[15] \"PredCS\"                            \"PredCSDG\"                         \n",
       "[17] \"PredDG1A\"                          \"PredMain\"                         \n",
       "[19] \"VCFtoDF\"                           \"VCFtoDF_NAM\"                      \n",
       "[21] \"VCFtoDF_V2\"                        \"WorkDir\"                          \n",
       "[23] \"YldNA_Indices\"                     \"cleanREPV2\"                       \n",
       "[25] \"envStrain_blup\"                    \"env_geno_sub_indices\"             \n",
       "[27] \"env_sub\"                           \"env_sub_indices\"                  \n",
       "[29] \"finalGenoIndx\"                     \"fitCS\"                            \n",
       "[31] \"fitCS1A\"                           \"fitCS1B\"                          \n",
       "[33] \"fitCSDG\"                           \"fitDG1A\"                          \n",
       "[35] \"fitMain\"                           \"fitUS\"                            \n",
       "[37] \"fitUS1C\"                           \"fix_T\"                            \n",
       "[39] \"genoIndices\"                       \"genoStrain\"                       \n",
       "[41] \"genoStrainIndices\"                 \"geno_imp\"                         \n",
       "[43] \"geno_imp_sub\"                      \"geno_num\"                         \n",
       "[45] \"geno_num2\"                         \"geno_num3\"                        \n",
       "[47] \"geno_num4\"                         \"geno_num4_x\"                      \n",
       "[49] \"geno_num4b\"                        \"geno_num5\"                        \n",
       "[51] \"genotypes_VCF\"                     \"getFilteredSitesGenoData\"         \n",
       "[53] \"getFilteredTaxaGenoData\"           \"getGenoTas_to_DF\"                 \n",
       "[55] \"getImputedData\"                    \"getMTCVR\"                         \n",
       "[57] \"getMergedData\"                     \"getOptimalTS\"                     \n",
       "[59] \"getPredictionData\"                 \"getProcessedData\"                 \n",
       "[61] \"getProcessedData_NUST_withFilters\" \"getRandomTS\"                      \n",
       "[63] \"getRankedPredictedValues\"          \"getRankedPredictedValuesMT\"       \n",
       "[65] \"getRankedPredictedValues_V2\"       \"getTSComparisons\"                 \n",
       "[67] \"getTSComparisonsMT\"                \"getTasObj\"                        \n",
       "[69] \"getemCVR\"                          \"gt\"                               \n",
       "[71] \"indES\"                             \"indNA\"                            \n",
       "[73] \"infileVCF\"                         \"initGenoIndx\"                     \n",
       "[75] \"m\"                                 \"m2\"                               \n",
       "[77] \"m_beta\"                            \"m_env_strain\"                     \n",
       "[79] \"maf\"                               \"miss\"                             \n",
       "[81] \"mrkNA\"                             \"ndx\"                              \n",
       "[83] \"ndx2\"                              \"ndx3\"                             \n",
       "[85] \"pheno\"                             \"phenoIndices\"                     \n",
       "[87] \"pheno_sub\"                         \"replaceNAwithMean\"                \n",
       "[89] \"rmStrains\"                         \"strain_blup\"                      \n",
       "[91] \"tstIndices1\"                       \"tstIndices2\"                      \n",
       "[93] \"tstIndices3\"                       \"tstPred1\"                         \n",
       "[95] \"tstPred2\"                          \"tstStrain\"                        \n",
       "[97] \"uniqueStrainIndices\"               \"vcf\"                              \n",
       "[99] \"yldCol\"                           "
      ]
     },
     "metadata": {},
     "output_type": "display_data"
    }
   ],
   "source": [
    "ls()"
   ]
  },
  {
   "cell_type": "code",
   "execution_count": 36,
   "id": "cardiac-spider",
   "metadata": {},
   "outputs": [],
   "source": [
    "unsBLUP <- function(blups){\n",
    "  l <- unlist(lapply(blups,function(x){length(x[[1]])}))\n",
    "  lmin <- min(l); lmax <- max(l)\n",
    "  indexCov1 <- 1:lmin\n",
    "  indexCov2 <- (lmin+1):lmax\n",
    "  ntraits <- length(blups[[1]])\n",
    "  # blups follow the order of a lower triangula matrix\n",
    "  # (n*(n-1))/2 = l\n",
    "  # l*2 = n2 - n\n",
    "  # n2 = l*2 - n\n",
    "  n <- 1:100\n",
    "  possibilities <- ((n*(n-1))/2) + n\n",
    "  ntrue <- n[which(possibilities == length(l))]\n",
    "  ## index to know how to add them up\n",
    "  base <- matrix(NA,ntrue,ntrue)\n",
    "  base[lower.tri(base, diag=TRUE)] <- 1:length(l)\n",
    "  index <- which(!is.na(base), arr.ind = TRUE)\n",
    "  index <- index[order(index[,1]), ]\n",
    "  \n",
    "  \n",
    "  for(i in 1:ntrue){ # for each main blup\n",
    "    main <- which(index[,1] == i & index[,2] == i, arr.ind = TRUE)\n",
    "    cov1 <- which(index[,1] == i & index[,2] != i, arr.ind = TRUE)\n",
    "    cov2 <- which(index[,1] != i & index[,2] == i, arr.ind = TRUE)\n",
    "    for(itrait in 1:ntraits){\n",
    "      start <- blups[[main]][[itrait]]  \n",
    "      for(icov1 in cov1){\n",
    "        start <- start + blups[[icov1]][[itrait]][indexCov1]\n",
    "      }\n",
    "      for(icov2 in cov2){\n",
    "        start <- start + blups[[icov2]][[itrait]][indexCov2]\n",
    "      }\n",
    "      # store adjusted blup adding covariance effects in the same structure\n",
    "      blups[[main]][[itrait]] <- start\n",
    "    }\n",
    "  }\n",
    "  return(blups)\n",
    "}\n"
   ]
  },
  {
   "cell_type": "code",
   "execution_count": 45,
   "id": "serial-efficiency",
   "metadata": {},
   "outputs": [
    {
     "data": {
      "text/plain": [
       "                       Length Class  Mode\n",
       "IA_2012:strain         1      -none- list\n",
       "IA_2013:IA_2012:strain 1      -none- list\n",
       "IA_2013:strain         1      -none- list\n",
       "IL_2012:IA_2012:strain 1      -none- list\n",
       "IL_2012:IA_2013:strain 1      -none- list\n",
       "IL_2012:strain         1      -none- list"
      ]
     },
     "metadata": {},
     "output_type": "display_data"
    },
    {
     "data": {
      "text/html": [
       "6"
      ],
      "text/latex": [
       "6"
      ],
      "text/markdown": [
       "6"
      ],
      "text/plain": [
       "[1] 6"
      ]
     },
     "metadata": {},
     "output_type": "display_data"
    },
    {
     "data": {
      "text/plain": [
       "$`IA_2012:strain`\n",
       "    Min.  1st Qu.   Median     Mean  3rd Qu.     Max. \n",
       "-264.231  -73.301  -14.213   -9.368   51.705  288.099 \n",
       "\n",
       "$`IA_2013:IA_2012:strain`\n",
       "    Min.  1st Qu.   Median     Mean  3rd Qu.     Max. \n",
       "-87.5527 -20.6533  -1.1400  -0.7297  18.9677  80.5767 \n",
       "\n",
       "$`IA_2013:strain`\n",
       "   Min. 1st Qu.  Median    Mean 3rd Qu.    Max. \n",
       "-449.58 -113.20   29.67   20.51  150.08  408.02 \n",
       "\n",
       "$`IL_2012:IA_2012:strain`\n",
       "    Min.  1st Qu.   Median     Mean  3rd Qu.     Max. \n",
       "-209.489  -54.998   -5.697   -5.018   44.858  192.797 \n",
       "\n",
       "$`IL_2012:IA_2013:strain`\n",
       "    Min.  1st Qu.   Median     Mean  3rd Qu.     Max. \n",
       "-480.367 -130.110  -13.772   -7.158  110.909  521.530 \n",
       "\n",
       "$`IL_2012:strain`\n",
       "   Min. 1st Qu.  Median    Mean 3rd Qu.    Max. \n",
       "-556.24 -163.85  -38.04  -29.81  113.98  546.08 \n"
      ]
     },
     "metadata": {},
     "output_type": "display_data"
    },
    {
     "data": {
      "text/plain": [
       "$`IA_2012:strain`\n",
       "   Min. 1st Qu.  Median    Mean 3rd Qu.    Max. \n",
       "-248.31  -80.88  -15.79  -10.84   60.79  228.53 \n",
       "\n",
       "$`IA_2013:IA_2012:strain`\n",
       "    Min.  1st Qu.   Median     Mean  3rd Qu.     Max. \n",
       "-87.5527 -20.6533  -1.1400  -0.7297  18.9677  80.5767 \n",
       "\n",
       "$`IA_2013:strain`\n",
       "   Min. 1st Qu.  Median    Mean 3rd Qu.    Max. \n",
       "-664.99 -115.51   24.34   21.66  164.37  528.20 \n",
       "\n",
       "$`IL_2012:IA_2012:strain`\n",
       "    Min.  1st Qu.   Median     Mean  3rd Qu.     Max. \n",
       "-209.489  -54.998   -5.697   -5.018   44.858  192.797 \n",
       "\n",
       "$`IL_2012:IA_2013:strain`\n",
       "    Min.  1st Qu.   Median     Mean  3rd Qu.     Max. \n",
       "-480.367 -130.110  -13.772   -7.158  110.909  521.530 \n",
       "\n",
       "$`IL_2012:strain`\n",
       "    Min.  1st Qu.   Median     Mean  3rd Qu.     Max. \n",
       "-702.181 -169.649   12.860   -3.678  180.908  660.569 \n"
      ]
     },
     "metadata": {},
     "output_type": "display_data"
    }
   ],
   "source": [
    "unsBLUP.adj <- unsBLUP(fitUS1C$U[1:6])\n",
    "summary(unsBLUP.adj)\n",
    "length(unsBLUP.adj)\n",
    "lapply(unsBLUP.adj,function(x) summary(x[[1]]))\n",
    "lapply(fitUS1C$U,function(x) summary(x[[1]]))\n",
    "       \n"
   ]
  },
  {
   "cell_type": "markdown",
   "id": "neither-subscription",
   "metadata": {},
   "source": [
    "#### **Discussion** ####"
   ]
  },
  {
   "cell_type": "code",
   "execution_count": 51,
   "id": "undefined-diesel",
   "metadata": {},
   "outputs": [
    {
     "data": {
      "text/plain": [
       "    Min.  1st Qu.   Median     Mean  3rd Qu.     Max. \n",
       "-87.5527 -20.6533  -1.1400  -0.7297  18.9677  80.5767 "
      ]
     },
     "metadata": {},
     "output_type": "display_data"
    }
   ],
   "source": [
    "summary(fitUS1C$U$`IA_2013:IA_2012:strain`$Yield_blup)"
   ]
  },
  {
   "cell_type": "code",
   "execution_count": null,
   "id": "registered-double",
   "metadata": {},
   "outputs": [],
   "source": [
    "  b <- fitUS1C$U[[j]]$Yield_blup"
   ]
  },
  {
   "cell_type": "code",
   "execution_count": 73,
   "id": "ready-initial",
   "metadata": {},
   "outputs": [
    {
     "data": {
      "text/html": [
       "<style>\n",
       ".list-inline {list-style: none; margin:0; padding: 0}\n",
       ".list-inline>li {display: inline-block}\n",
       ".list-inline>li:not(:last-child)::after {content: \"\\00b7\"; padding: 0 .5ex}\n",
       "</style>\n",
       "<ol class=list-inline><li>988</li><li>2</li></ol>\n"
      ],
      "text/latex": [
       "\\begin{enumerate*}\n",
       "\\item 988\n",
       "\\item 2\n",
       "\\end{enumerate*}\n"
      ],
      "text/markdown": [
       "1. 988\n",
       "2. 2\n",
       "\n",
       "\n"
      ],
      "text/plain": [
       "[1] 988   2"
      ]
     },
     "metadata": {},
     "output_type": "display_data"
    },
    {
     "data": {
      "text/html": [
       "<table class=\"dataframe\">\n",
       "<caption>A grouped_df: 5 × 2</caption>\n",
       "<thead>\n",
       "\t<tr><th scope=col>strain</th><th scope=col>Yield_blup</th></tr>\n",
       "\t<tr><th scope=col>&lt;chr&gt;</th><th scope=col>&lt;chr&gt;</th></tr>\n",
       "</thead>\n",
       "<tbody>\n",
       "\t<tr><td>DS11-02003</td><td>-42.5794143903061</td></tr>\n",
       "\t<tr><td>DS11-02005</td><td>-39.4872288477985</td></tr>\n",
       "\t<tr><td>DS11-02006</td><td>-17.6516449194388</td></tr>\n",
       "\t<tr><td>DS11-02007</td><td>12.6482888794692 </td></tr>\n",
       "\t<tr><td>DS11-02014</td><td>-19.9116932695286</td></tr>\n",
       "</tbody>\n",
       "</table>\n"
      ],
      "text/latex": [
       "A grouped\\_df: 5 × 2\n",
       "\\begin{tabular}{ll}\n",
       " strain & Yield\\_blup\\\\\n",
       " <chr> & <chr>\\\\\n",
       "\\hline\n",
       "\t DS11-02003 & -42.5794143903061\\\\\n",
       "\t DS11-02005 & -39.4872288477985\\\\\n",
       "\t DS11-02006 & -17.6516449194388\\\\\n",
       "\t DS11-02007 & 12.6482888794692 \\\\\n",
       "\t DS11-02014 & -19.9116932695286\\\\\n",
       "\\end{tabular}\n"
      ],
      "text/markdown": [
       "\n",
       "A grouped_df: 5 × 2\n",
       "\n",
       "| strain &lt;chr&gt; | Yield_blup &lt;chr&gt; |\n",
       "|---|---|\n",
       "| DS11-02003 | -42.5794143903061 |\n",
       "| DS11-02005 | -39.4872288477985 |\n",
       "| DS11-02006 | -17.6516449194388 |\n",
       "| DS11-02007 | 12.6482888794692  |\n",
       "| DS11-02014 | -19.9116932695286 |\n",
       "\n"
      ],
      "text/plain": [
       "  strain     Yield_blup       \n",
       "1 DS11-02003 -42.5794143903061\n",
       "2 DS11-02005 -39.4872288477985\n",
       "3 DS11-02006 -17.6516449194388\n",
       "4 DS11-02007 12.6482888794692 \n",
       "5 DS11-02014 -19.9116932695286"
      ]
     },
     "metadata": {},
     "output_type": "display_data"
    }
   ],
   "source": [
    "\n",
    "j <- 2 \n",
    "b <- cbind(names(fitUS1C$U[[j]]$Yield_blup),fitUS1C$U[[j]]$Yield_blup)\n",
    "         colnames(b) <- c(\"strain\",\"Yield_blup\")\n",
    "         b_group <- as_tibble(b) %>% group_by(strain)\n",
    "        dim(b_group)\n",
    "        b_group[1:5,]\n",
    "         YldBlup_group <- b_group %>% summarise(Yield_blup = sum(as.numeric(Yield_blup)))\n",
    "        "
   ]
  },
  {
   "cell_type": "code",
   "execution_count": 76,
   "id": "forced-timber",
   "metadata": {},
   "outputs": [
    {
     "data": {
      "text/html": [
       "<ol>\n",
       "\t<li>494</li>\n",
       "\t<li>494</li>\n",
       "\t<li>494</li>\n",
       "</ol>\n"
      ],
      "text/latex": [
       "\\begin{enumerate}\n",
       "\\item 494\n",
       "\\item 494\n",
       "\\item 494\n",
       "\\end{enumerate}\n"
      ],
      "text/markdown": [
       "1. 494\n",
       "2. 494\n",
       "3. 494\n",
       "\n",
       "\n"
      ],
      "text/plain": [
       "[[1]]\n",
       "[1] 494\n",
       "\n",
       "[[2]]\n",
       "[1] 494\n",
       "\n",
       "[[3]]\n",
       "[1] 494\n"
      ]
     },
     "metadata": {},
     "output_type": "display_data"
    },
    {
     "data": {
      "text/plain": [
       "[[1]]\n",
       "   Yield_blup  \n",
       " Min.   :5768  \n",
       " 1st Qu.:6123  \n",
       " Median :6236  \n",
       " Mean   :6256  \n",
       " 3rd Qu.:6394  \n",
       " Max.   :6822  \n",
       "\n",
       "[[2]]\n",
       "   Yield_blup  \n",
       " Min.   :4961  \n",
       " 1st Qu.:5431  \n",
       " Median :5592  \n",
       " Mean   :5582  \n",
       " 3rd Qu.:5740  \n",
       " Max.   :6021  \n",
       "\n",
       "[[3]]\n",
       "   Yield_blup  \n",
       " Min.   :6603  \n",
       " 1st Qu.:7093  \n",
       " Median :7283  \n",
       " Mean   :7265  \n",
       " 3rd Qu.:7425  \n",
       " Max.   :7990  \n"
      ]
     },
     "metadata": {},
     "output_type": "display_data"
    },
    {
     "data": {
      "text/html": [
       "<style>\n",
       ".list-inline {list-style: none; margin:0; padding: 0}\n",
       ".list-inline>li {display: inline-block}\n",
       ".list-inline>li:not(:last-child)::after {content: \"\\00b7\"; padding: 0 .5ex}\n",
       "</style>\n",
       "<ol class=list-inline><li>IA_2013</li><li>IL_2012</li><li>IA_2012</li><li>IL_2012</li><li>IA_2013</li><li>IA_2012</li><li>IA_2013</li><li>IL_2012</li><li>IA_2012</li><li>IA_2013</li></ol>\n",
       "\n",
       "<details>\n",
       "\t<summary style=display:list-item;cursor:pointer>\n",
       "\t\t<strong>Levels</strong>:\n",
       "\t</summary>\n",
       "\t<style>\n",
       "\t.list-inline {list-style: none; margin:0; padding: 0}\n",
       "\t.list-inline>li {display: inline-block}\n",
       "\t.list-inline>li:not(:last-child)::after {content: \"\\00b7\"; padding: 0 .5ex}\n",
       "\t</style>\n",
       "\t<ol class=list-inline><li>'IA_2012'</li><li>'IA_2013'</li><li>'IL_2012'</li></ol>\n",
       "</details>"
      ],
      "text/latex": [
       "\\begin{enumerate*}\n",
       "\\item IA\\_2013\n",
       "\\item IL\\_2012\n",
       "\\item IA\\_2012\n",
       "\\item IL\\_2012\n",
       "\\item IA\\_2013\n",
       "\\item IA\\_2012\n",
       "\\item IA\\_2013\n",
       "\\item IL\\_2012\n",
       "\\item IA\\_2012\n",
       "\\item IA\\_2013\n",
       "\\end{enumerate*}\n",
       "\n",
       "\\emph{Levels}: \\begin{enumerate*}\n",
       "\\item 'IA\\_2012'\n",
       "\\item 'IA\\_2013'\n",
       "\\item 'IL\\_2012'\n",
       "\\end{enumerate*}\n"
      ],
      "text/markdown": [
       "1. IA_2013\n",
       "2. IL_2012\n",
       "3. IA_2012\n",
       "4. IL_2012\n",
       "5. IA_2013\n",
       "6. IA_2012\n",
       "7. IA_2013\n",
       "8. IL_2012\n",
       "9. IA_2012\n",
       "10. IA_2013\n",
       "\n",
       "\n",
       "\n",
       "**Levels**: 1. 'IA_2012'\n",
       "2. 'IA_2013'\n",
       "3. 'IL_2012'\n",
       "\n",
       "\n"
      ],
      "text/plain": [
       " [1] IA_2013 IL_2012 IA_2012 IL_2012 IA_2013 IA_2012 IA_2013 IL_2012 IA_2012\n",
       "[10] IA_2013\n",
       "Levels: IA_2012 IA_2013 IL_2012"
      ]
     },
     "metadata": {},
     "output_type": "display_data"
    },
    {
     "data": {
      "text/html": [
       "<style>\n",
       ".list-inline {list-style: none; margin:0; padding: 0}\n",
       ".list-inline>li {display: inline-block}\n",
       ".list-inline>li:not(:last-child)::after {content: \"\\00b7\"; padding: 0 .5ex}\n",
       "</style>\n",
       "<ol class=list-inline><li>IA_2012</li><li>IA_2012</li><li>IA_2012</li><li>IA_2012</li><li>IA_2012</li><li>IA_2012</li><li>IA_2012</li><li>IA_2012</li><li>IA_2012</li><li>IA_2012</li></ol>\n",
       "\n",
       "<details>\n",
       "\t<summary style=display:list-item;cursor:pointer>\n",
       "\t\t<strong>Levels</strong>:\n",
       "\t</summary>\n",
       "\t<style>\n",
       "\t.list-inline {list-style: none; margin:0; padding: 0}\n",
       "\t.list-inline>li {display: inline-block}\n",
       "\t.list-inline>li:not(:last-child)::after {content: \"\\00b7\"; padding: 0 .5ex}\n",
       "\t</style>\n",
       "\t<ol class=list-inline><li>'IA_2012'</li><li>'IA_2013'</li><li>'IL_2012'</li></ol>\n",
       "</details>"
      ],
      "text/latex": [
       "\\begin{enumerate*}\n",
       "\\item IA\\_2012\n",
       "\\item IA\\_2012\n",
       "\\item IA\\_2012\n",
       "\\item IA\\_2012\n",
       "\\item IA\\_2012\n",
       "\\item IA\\_2012\n",
       "\\item IA\\_2012\n",
       "\\item IA\\_2012\n",
       "\\item IA\\_2012\n",
       "\\item IA\\_2012\n",
       "\\end{enumerate*}\n",
       "\n",
       "\\emph{Levels}: \\begin{enumerate*}\n",
       "\\item 'IA\\_2012'\n",
       "\\item 'IA\\_2013'\n",
       "\\item 'IL\\_2012'\n",
       "\\end{enumerate*}\n"
      ],
      "text/markdown": [
       "1. IA_2012\n",
       "2. IA_2012\n",
       "3. IA_2012\n",
       "4. IA_2012\n",
       "5. IA_2012\n",
       "6. IA_2012\n",
       "7. IA_2012\n",
       "8. IA_2012\n",
       "9. IA_2012\n",
       "10. IA_2012\n",
       "\n",
       "\n",
       "\n",
       "**Levels**: 1. 'IA_2012'\n",
       "2. 'IA_2013'\n",
       "3. 'IL_2012'\n",
       "\n",
       "\n"
      ],
      "text/plain": [
       " [1] IA_2012 IA_2012 IA_2012 IA_2012 IA_2012 IA_2012 IA_2012 IA_2012 IA_2012\n",
       "[10] IA_2012\n",
       "Levels: IA_2012 IA_2013 IL_2012"
      ]
     },
     "metadata": {},
     "output_type": "display_data"
    },
    {
     "data": {
      "text/html": [
       "1482"
      ],
      "text/latex": [
       "1482"
      ],
      "text/markdown": [
       "1482"
      ],
      "text/plain": [
       "[1] 1482"
      ]
     },
     "metadata": {},
     "output_type": "display_data"
    },
    {
     "data": {
      "text/html": [
       "0.184445519025871"
      ],
      "text/latex": [
       "0.184445519025871"
      ],
      "text/markdown": [
       "0.184445519025871"
      ],
      "text/plain": [
       "[1] 0.1844455"
      ]
     },
     "metadata": {},
     "output_type": "display_data"
    }
   ],
   "source": [
    "envNames <- levels(factor(DT_Sub1C$environ))\n",
    "env1Ind <- c(1,3,6)\n",
    "U_envStrain <- list()\n",
    "  for(i in 1:length(envNames)){\n",
    "    # envInd <- which(names(fitUS1C$U) %in% envNames[i])\n",
    "      envInd <-  grep(envNames[i],names(fitUS1C$U))\n",
    "       U_envStrain[[i]] <-  as.numeric(fitUS1C$U[[env1Ind[i]]]$Yield_blup)\n",
    "     for(j  in 2:length(envInd)){ \n",
    "         indJ <- envInd[j]\n",
    "         b <- cbind(names(fitUS1C$U[[indJ]]$Yield_blup),fitUS1C$U[[indJ]]$Yield_blup)\n",
    "         colnames(b) <- c(\"strain\",\"Yield_blup\")\n",
    "         b_group <- as_tibble(b) %>% group_by(strain)\n",
    "         YldBlup_group <- b_group %>% summarise(Yield_blup = sum(as.numeric(Yield_blup)))\n",
    "         U_envStrain[[i]] <- U_envStrain[[i]] +YldBlup_group[,2] + fitUS1C$Beta[i,3]\n",
    "       } \n",
    "     }\n",
    "    \n",
    "\n",
    " lapply(U_envStrain,function(x) length(x[[1]]))\n",
    " lapply(U_envStrain,summary)\n",
    " PredUS1C <- c(unlist(U_envStrain))\n",
    "        \n",
    "indES <-  sort.int(as.numeric(DT_Sub1C[,\"environ\"]),decreasing=FALSE,index.return=TRUE)[[2]]\n",
    "DT_Sub1C[1:10,\"environ\"]\n",
    "DT_Sub1C[indES[tstIndices3][1:10],\"environ\"]\n",
    "length(PredUS1C)                         \n",
    "                                     \n",
    "cor(PredUS1C[indES[tstIndices3]],DT_Sub1[indES[tstIndices3],\"Yield_blup\"]) "
   ]
  },
  {
   "cell_type": "code",
   "execution_count": null,
   "id": "aerial-mission",
   "metadata": {},
   "outputs": [],
   "source": []
  }
 ],
 "metadata": {
  "kernelspec": {
   "display_name": "R 4.1.0",
   "language": "R",
   "name": "ir410"
  },
  "language_info": {
   "codemirror_mode": "r",
   "file_extension": ".r",
   "mimetype": "text/x-r-source",
   "name": "R",
   "pygments_lexer": "r",
   "version": "4.1.0"
  }
 },
 "nbformat": 4,
 "nbformat_minor": 5
}
