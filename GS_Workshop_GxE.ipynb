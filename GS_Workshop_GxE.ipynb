{
 "cells": [
  {
   "cell_type": "markdown",
   "id": "accurate-polyester",
   "metadata": {},
   "source": [
    "---\n",
    "### **Data Bootcamp for Genomic Prediction in Plant Breeding** ###\n",
    "### **University of Minnesota Plant Breeding Center** ###\n",
    "#### **June 20 - 22, 2022** ####\n",
    "---"
   ]
  },
  {
   "cell_type": "markdown",
   "id": "hawaiian-shanghai",
   "metadata": {},
   "source": [
    "### **Practical 5:  Modeling Genotype-Environment Interactions (GxE)** ###"
   ]
  },
  {
   "cell_type": "raw",
   "id": "final-separation",
   "metadata": {},
   "source": []
  },
  {
   "cell_type": "markdown",
   "id": "understood-james",
   "metadata": {},
   "source": [
    "#### **Source Scripts and Load Data**\n"
   ]
  },
  {
   "cell_type": "code",
   "execution_count": 2,
   "id": "polish-delight",
   "metadata": {},
   "outputs": [
    {
     "name": "stderr",
     "output_type": "stream",
     "text": [
      "\n",
      "   *****       ***   vcfR   ***       *****\n",
      "   This is vcfR 1.12.0 \n",
      "     browseVignettes('vcfR') # Documentation\n",
      "     citation('vcfR') # Citation\n",
      "   *****       *****      *****       *****\n",
      "\n",
      "\n",
      "\n",
      "Attaching package: 'dplyr'\n",
      "\n",
      "\n",
      "The following objects are masked from 'package:stats':\n",
      "\n",
      "    filter, lag\n",
      "\n",
      "\n",
      "The following objects are masked from 'package:base':\n",
      "\n",
      "    intersect, setdiff, setequal, union\n",
      "\n",
      "\n",
      "\n",
      "Attaching package: 'bWGR'\n",
      "\n",
      "\n",
      "The following objects are masked from 'package:NAM':\n",
      "\n",
      "    CNT, GAU, GRM, IMP, KMUP, KMUP2, SPC, SPM, emBA, emBB, emBC, emBL,\n",
      "    emCV, emDE, emEN, emGWA, emML, emML2, emRR, markov, mkr, mkr2X,\n",
      "    mrr, mrr2X, mrrFast, wgr\n",
      "\n",
      "\n",
      "Loading required package: AlgDesign\n",
      "\n",
      "Loading required package: scales\n",
      "\n",
      "Loading required package: scatterplot3d\n",
      "\n",
      "Loading required package: emoa\n",
      "\n",
      "\n",
      "Attaching package: 'emoa'\n",
      "\n",
      "\n",
      "The following object is masked from 'package:dplyr':\n",
      "\n",
      "    coalesce\n",
      "\n",
      "\n",
      "Loading required package: Matrix\n",
      "\n",
      "Loading required package: MASS\n",
      "\n",
      "\n",
      "Attaching package: 'MASS'\n",
      "\n",
      "\n",
      "The following object is masked from 'package:dplyr':\n",
      "\n",
      "    select\n",
      "\n",
      "\n",
      "Loading required package: lattice\n",
      "\n",
      "Loading required package: crayon\n",
      "\n",
      "\n",
      "Attaching package: 'sommer'\n",
      "\n",
      "\n",
      "The following objects are masked from 'package:rrBLUP':\n",
      "\n",
      "    A.mat, GWAS\n",
      "\n",
      "\n",
      "Bioconductor version '3.14' is out-of-date; the current release version '3.15'\n",
      "  is available with R version '4.2'; see https://bioconductor.org/install\n",
      "\n",
      "'getOption(\"repos\")' replaces Bioconductor standard repositories, see\n",
      "'?repositories' for details\n",
      "\n",
      "replacement repositories:\n",
      "    CRAN: https://cran.r-project.org\n",
      "\n",
      "\n",
      "Bioconductor version 3.14 (BiocManager 1.30.16), R 4.1.0 (2021-05-18)\n",
      "\n",
      "Installation paths not writeable, unable to update packages\n",
      "  path: /panfs/roc/msisoft/R/4.1.0/lib64/R/library\n",
      "  packages:\n",
      "    BH, BiocManager, DT, IRdisplay, IRkernel, MASS, Matrix, R6, Rcpp, brew,\n",
      "    brio, cachem, class, cli, clipr, cluster, commonmark, crayon, credentials,\n",
      "    crosstalk, desc, diffobj, digest, evaluate, fansi, foreign, fs, gert, glue,\n",
      "    htmltools, htmlwidgets, httr, jsonlite, knitr, later, lattice, lifecycle,\n",
      "    magrittr, memoise, mgcv, mime, nlme, nnet, openssl, pbdZMQ, pillar,\n",
      "    pkgbuild, pkgload, processx, ps, rcmdcheck, remotes, repr, rex, rlang,\n",
      "    roxygen2, rpart, rprojroot, sessioninfo, spatial, stringi, survival,\n",
      "    testthat, tibble, usethis, uuid, vctrs, waldo, withr, xfun, xml2, yaml\n",
      "\n",
      "Old packages: 'AlgDesign', 'BGLR', 'LowRankQP', 'RcppArmadillo', 'RcppEigen',\n",
      "  'SOMbrero', 'ade4', 'adegenet', 'bWGR', 'bigmemory', 'broom', 'car',\n",
      "  'carData', 'caret', 'checkmate', 'conquer', 'devtools', 'doParallel',\n",
      "  'dplyr', 'e1071', 'ellipse', 'foreach', 'future', 'future.apply', 'generics',\n",
      "  'globals', 'gmailr', 'gower', 'httpuv', 'igraph', 'interp', 'ipred',\n",
      "  'iterators', 'kernlab', 'kohonen', 'lme4', 'maptools', 'metR', 'mockery',\n",
      "  'nloptr', 'parallelly', 'parsedate', 'pegas', 'permute', 'pkgdown', 'plyr',\n",
      "  'polynom', 'progressr', 'proxy', 'quantreg', 'ragg', 'randomForestSRC',\n",
      "  'recipes', 'rmarkdown', 'sass', 'segmented', 'seqinr', 'sommer', 'sp',\n",
      "  'spam', 'systemfonts', 'tidyr', 'tidyselect', 'tinytex', 'vegan'\n",
      "\n",
      "'getOption(\"repos\")' replaces Bioconductor standard repositories, see\n",
      "'?repositories' for details\n",
      "\n",
      "replacement repositories:\n",
      "    CRAN: https://cran.r-project.org\n",
      "\n",
      "\n",
      "\n",
      "Attaching package: 'devtools'\n",
      "\n",
      "\n",
      "The following object is masked from 'package:BiocManager':\n",
      "\n",
      "    install\n",
      "\n",
      "\n",
      "Welcome to rTASSEL (version 0.9.26)\n",
      " <U+2022> Consider starting a TASSEL log file (see ?startLogger())\n",
      "\n",
      "\n",
      "'getOption(\"repos\")' replaces Bioconductor standard repositories, see\n",
      "'?repositories' for details\n",
      "\n",
      "replacement repositories:\n",
      "    BioCsoft: https://bioconductor.org/packages/3.14/bioc\n",
      "    BioCann: https://bioconductor.org/packages/3.14/data/annotation\n",
      "    BioCexp: https://bioconductor.org/packages/3.14/data/experiment\n",
      "    BioCworkflows: https://bioconductor.org/packages/3.14/workflows\n",
      "    BioCbooks: https://bioconductor.org/packages/3.14/books\n",
      "    CRAN: https://cran.r-project.org\n",
      "\n",
      "\n"
     ]
    }
   ],
   "source": [
    "WorkDir <- getwd()"\n",
     "\n",
    "##Source in functions to be used\n",
    "source(\"GS_Pipeline_Jan_2022_FnsApp.R\")\n",
    "source(\"bootcamp_functions.R\")\n",
    "\n",
    "\n"
   ]
  },
  {
   "cell_type": "markdown",
   "id": "monthly-alabama",
   "metadata": {},
   "source": [
    "#### **Read Genotype File using vcfR** ####"
   ]
  },
  {
   "cell_type": "code",
   "execution_count": 2,
   "id": "confidential-africa",
   "metadata": {},
   "outputs": [
    {
     "ename": "ERROR",
     "evalue": "Error in read.vcfR(infileVCF, verbose = FALSE): could not find function \"read.vcfR\"\n",
     "output_type": "error",
     "traceback": [
      "Error in read.vcfR(infileVCF, verbose = FALSE): could not find function \"read.vcfR\"\nTraceback:\n"
     ]
    }
   ],
   "source": [
    "\n",
    "##Load in genotype data. Use package vcfR to read in and work with vcf file.\n",
    "infileVCF <- \"SoyNAM_Geno.vcf\"\n",
    "genotypes_VCF <- read.table(infileVCF)\n",
    "vcf <- read.vcfR(infileVCF, verbose = FALSE)\n"
   ]
  },
  {
   "cell_type": "markdown",
   "id": "ordinary-delight",
   "metadata": {},
   "source": [
    "\n",
    "#### **Convert VCF file format to numerical matrix format.**\n",
    "#### Final genotype matrix is geno_num"
   ]
  },
  {
   "cell_type": "code",
   "execution_count": 4,
   "id": "subject-fountain",
   "metadata": {},
   "outputs": [],
   "source": [
    "gt <- extract.gt(vcf, element = \"GT\", as.numeric = F)\n",
    "fix_T <- as_tibble(getFIX(vcf))\n",
    "gt2 <- matrix(0, ncol = ncol(gt), nrow = nrow(gt))\n",
    "colnames(gt2) <- colnames(gt)\n",
    "rownames(gt2) <- rownames(gt)\n",
    "gt2a <- apply(gt,2, function(x) gsub(\"1/1\",\"1\",x))\n",
    "gt2b <- gsub(\"0[/|]0\",\"0\",gt2a)\n",
    "gt2c <- gsub(\"[10][/|][10]\",\"0.5\",gt2b)\n",
    "gt2d <- gsub(\"\\\\.[/|]\\\\.\",\"NA\",gt2c)\n",
    "\n",
    "gt2d_num<- apply(gt2d,2,as.numeric)\n",
    "rownames(gt2d_num)<- rownames(gt2d)\n",
    "geno_num <- t(gt2d_num) \n"
   ]
  },
  {
   "cell_type": "markdown",
   "id": "coastal-kelly",
   "metadata": {},
   "source": [
    "#### **Filter Genotypic Data**"
   ]
  },
  {
   "cell_type": "code",
   "execution_count": 5,
   "id": "round-eating",
   "metadata": {},
   "outputs": [],
   "source": [
    "##Filter markers on % missing\n",
    "miss <- function(x){length(which(is.na(x)))}\n",
    "mrkNA <- (apply(geno_num, MARGIN=2, FUN=miss))/dim(geno_num)[1]\n",
    "ndx <- which(mrkNA > 0.2)\n",
    "\n",
    "if (length(ndx)>0) geno_num2 <- geno_num[, -ndx] else geno_num2 <- geno_num\n",
    "\n",
    "##Filter individuals on % missing\n",
    "indNA <- (apply(geno_num2, MARGIN=1, FUN=miss))/dim(geno_num2)[2]\n",
    "ndx2 <- which(indNA > 0.5)\n",
    "\n",
    " if(length(ndx2)>0) geno_num3 <- geno_num2[-ndx2, ] else geno_num3 <- geno_num2\n",
    "\n",
    "\n",
    "##Filter markers based on MAF\n",
    "maf <- apply(geno_num3, MARGIN=2, FUN=mean, na.rm=T)\n",
    "ndx3 <- which(maf<0.05 | maf>0.95) \n",
    "\n",
    "if (length(ndx3)>0) geno_num4 <- geno_num2[, -ndx3] else geno_num4 <- geno_num3\n",
    "  "
   ]
  },
  {
   "cell_type": "markdown",
   "id": "quantitative-validation",
   "metadata": {},
   "source": [
    "#### **Import Phenotypic Data**"
   ]
  },
  {
   "cell_type": "code",
   "execution_count": 11,
   "id": "greenhouse-handle",
   "metadata": {},
   "outputs": [],
   "source": [
    "\n",
    "pheno <- read.csv(\"SoyNAM_Pheno.csv\")\n",
    "geno_num4_x <- cbind(rownames(geno_num4),geno_num4)\n",
    "\n",
    "colnames(geno_num4_x)[1]<- \"strain\"\n",
    "\n",
    "## Merge Geno and Pheno Data\n",
    "Data <- merge(geno_num4_x,pheno,by=\"strain\",all=TRUE)\n",
    "\n",
    "## Remove with missing yiled_blup values \n",
    "\n",
    "YldNA_Indices <- which(is.na(Data$yield))\n",
    "Data_Sub <- Data[-YldNA_Indices,]\n",
    "\n",
    "\n",
    "genoStrain <- unique(geno_num4_x[,\"strain\"])\n",
    "genoStrainIndices <- which(Data_Sub[,\"strain\"] %in% genoStrain)\n",
    "\n",
    "genoIndices <- grep(\"ss\",colnames(geno_num4_x))\n",
    "initGenoIndx <- genoIndices[1]\n",
    "finalGenoIndx <- genoIndices[length(genoIndices)]\n",
    "phenoIndices <- c(1,c((finalGenoIndx+1):ncol(Data_Sub)))\n",
    "\n",
    "pheno_sub <- Data_Sub[genoStrainIndices,phenoIndices]\n",
    "geno_num4b <- Data_Sub[genoStrainIndices,c(1,genoIndices)]\n",
    "\n",
    "uniqueStrainIndices<- which(!duplicated(geno_num4b[,\"strain\"]))\n",
    "geno_num5 <- geno_num4b[uniqueStrainIndices,]\n",
    "\n",
    "\n",
    "### set 'yield' colname to 'Yield_blup'\n",
    "\n",
    "yldCol <- which(colnames(pheno_sub) %in% \"yield\")\n",
    "colnames(pheno_sub)[yldCol] <- \"Yield_blup\" \n",
    "\n"
   ]
  },
  {
   "cell_type": "code",
   "execution_count": null,
   "id": "strategic-stage",
   "metadata": {},
   "outputs": [],
   "source": [
    "### Select 3 environs with largest number of evaluations (lines)  \n",
    "\n",
    "env_sub <-  names(which(table(pheno_sub[,\"environ\"])>5100)[1:3])\n",
    "\n",
    "env_sub_indices <- which(pheno_sub[,\"environ\"] %in% env_sub)\n",
    "\n",
    "## Subset Data and Geno tables \n",
    "DT <- pheno_sub[env_sub_indices,]\n",
    "\n",
    "DT$environ <- as.factor(DT$environ)"
   ]
  },
  {
   "cell_type": "code",
   "execution_count": 12,
   "id": "relevant-range",
   "metadata": {},
   "outputs": [],
   "source": [
    "#### Impute genotable\n",
    "\n",
    "geno_imp <- markov(apply(geno_num5[,-1],2,as.numeric))\n",
    "rownames(geno_imp) <- geno_num5[,\"strain\"]\n"
   ]
  },
  {
   "cell_type": "code",
   "execution_count": 13,
   "id": "collaborative-infrastructure",
   "metadata": {},
   "outputs": [],
   "source": [
    "\n",
    "###\n",
    "env_geno_sub_indices <- which(rownames(geno_imp) %in% unique(DT[,\"strain\"]))\n",
    "geno_imp_sub <- geno_imp[env_geno_sub_indices,]\n",
    "\n"
   ]
  },
  {
   "cell_type": "code",
   "execution_count": 14,
   "id": "periodic-money",
   "metadata": {},
   "outputs": [],
   "source": [
    "K_rr <- A.mat(geno_imp_sub)\n",
    "colnames(K_rr) <-rownames(geno_imp_sub)\n",
    "rownames(K_rr) <- rownames(geno_imp_sub)\n",
    "A <- K_rr\n",
    "\n",
    "### Limit no_of_environments to create EA matrix of reasonable mem size.. \n",
    "\n",
    "A_Sub <- A[1:500,1:500]\n",
    "DT_Sub <- DT[which(DT[,\"strain\"] %in% rownames(A_Sub)),]\n",
    "\n",
    "E <- diag(length(unique(DT$environ)))\n",
    "rownames(E) <- colnames(E) <- unique(DT$environ)\n",
    "DT_Sub$environ <- as.factor(DT_Sub$environ)"
   ]
  },
  {
   "cell_type": "code",
   "execution_count": 1,
   "id": "immediate-adoption",
   "metadata": {},
   "outputs": [
    {
     "ename": "ERROR",
     "evalue": "Error in table(DT_Sub[, \"strain\"]): object 'DT_Sub' not found\n",
     "output_type": "error",
     "traceback": [
      "Error in table(DT_Sub[, \"strain\"]): object 'DT_Sub' not found\nTraceback:\n",
      "1. which(table(DT_Sub[, \"strain\"]) < 3)",
      "2. table(DT_Sub[, \"strain\"])"
     ]
    }
   ],
   "source": [
    "\n",
    "### Same set of strains in each of the environments \n",
    "\n",
    "rmStrains <- names(which(table(DT_Sub[,\"strain\"]) <3))\n",
    "DT_Sub1 <- DT_Sub[-which(DT_Sub[,\"strain\"] %in% rmStrains),]\n",
    "\n",
    "A_Sub1 <- A_Sub[-which(rownames(A_Sub) %in% rmStrains),-which(rownames(A_Sub) %in% rmStrains)]\n",
    "\n",
    "### Avg yield of strains across 3 locations\n",
    "DT_Sub1_Tb <- as_tibble(DT_Sub1)\n",
    "DT_Sub1_Strain <- DT_Sub1_Tb %>% group_by(strain)\n",
    "DT_Sub1_Strain_Comb <- (DT_Sub1_Strain) %>% summarise( \n",
    "    Yield_blup =mean(Yield_blup,na.rm=TRUE))\n",
    "\n",
    "### Avg yield in 3 env\n",
    "\n",
    "DT_Sub1_Tb <- as_tibble(DT_Sub1)\n",
    "DT_Sub1_env <- DT_Sub1_Tb %>% group_by(environ)\n",
    "DT_Sub1_env_Comb <- (DT_Sub1_env) %>% summarise( \n",
    "  Yield_blup =mean(Yield_blup,na.rm=TRUE))\n"
   ]
  },
  {
   "cell_type": "raw",
   "id": "aggregate-greenhouse",
   "metadata": {},
   "source": []
  },
  {
   "cell_type": "markdown",
   "id": "regulated-reducing",
   "metadata": {},
   "source": [
    "### **Exercise - Compare several var-covar structures in SOMMER package**\n"
   ]
  },
  {
   "cell_type": "markdown",
   "id": "prompt-congo",
   "metadata": {},
   "source": [
    "#### **Main Effect** #### \n",
    "##### Model environment as fixed effect (estimate population mean for each of the environments) and estimate random effects for genotypes \n"
   ]
  },
  {
   "cell_type": "code",
   "execution_count": 21,
   "id": "suburban-smart",
   "metadata": {},
   "outputs": [
    {
     "data": {
      "text/html": [
       "<dl>\n",
       "\t<dt>$groups</dt>\n",
       "\t\t<dd><table class=\"dataframe\">\n",
       "<caption>A matrix: 1 × 1 of type int</caption>\n",
       "<thead>\n",
       "\t<tr><th></th><th scope=col>Yield_blup</th></tr>\n",
       "</thead>\n",
       "<tbody>\n",
       "\t<tr><th scope=row>u:strain</th><td>494</td></tr>\n",
       "</tbody>\n",
       "</table>\n",
       "</dd>\n",
       "\t<dt>$varcomp</dt>\n",
       "\t\t<dd><table class=\"dataframe\">\n",
       "<caption>A data.frame: 2 × 4</caption>\n",
       "<thead>\n",
       "\t<tr><th></th><th scope=col>VarComp</th><th scope=col>VarCompSE</th><th scope=col>Zratio</th><th scope=col>Constraint</th></tr>\n",
       "\t<tr><th></th><th scope=col>&lt;dbl&gt;</th><th scope=col>&lt;dbl&gt;</th><th scope=col>&lt;dbl&gt;</th><th scope=col>&lt;chr&gt;</th></tr>\n",
       "</thead>\n",
       "<tbody>\n",
       "\t<tr><th scope=row>u:strain.Yield_blup-Yield_blup</th><td> 13376.89</td><td> 7393.675</td><td> 1.809235</td><td>Positive</td></tr>\n",
       "\t<tr><th scope=row>units.Yield_blup-Yield_blup</th><td>372917.05</td><td>13908.256</td><td>26.812640</td><td>Positive</td></tr>\n",
       "</tbody>\n",
       "</table>\n",
       "</dd>\n",
       "\t<dt>$betas</dt>\n",
       "\t\t<dd><table class=\"dataframe\">\n",
       "<caption>A data.frame: 3 × 5</caption>\n",
       "<thead>\n",
       "\t<tr><th scope=col>Trait</th><th scope=col>Effect</th><th scope=col>Estimate</th><th scope=col>Std.Error</th><th scope=col>t.value</th></tr>\n",
       "\t<tr><th scope=col>&lt;fct&gt;</th><th scope=col>&lt;fct&gt;</th><th scope=col>&lt;dbl&gt;</th><th scope=col>&lt;dbl&gt;</th><th scope=col>&lt;dbl&gt;</th></tr>\n",
       "</thead>\n",
       "<tbody>\n",
       "\t<tr><td>Yield_blup</td><td>environIA_2012</td><td>3133.676</td><td>28.00058</td><td>111.9147</td></tr>\n",
       "\t<tr><td>Yield_blup</td><td>environIA_2013</td><td>2800.650</td><td>28.00058</td><td>100.0211</td></tr>\n",
       "\t<tr><td>Yield_blup</td><td>environIL_2012</td><td>3617.185</td><td>28.00058</td><td>129.1825</td></tr>\n",
       "</tbody>\n",
       "</table>\n",
       "</dd>\n",
       "\t<dt>$method</dt>\n",
       "\t\t<dd>'NR'</dd>\n",
       "\t<dt>$logo</dt>\n",
       "\t\t<dd><table class=\"dataframe\">\n",
       "<caption>A data.frame: 1 × 5</caption>\n",
       "<thead>\n",
       "\t<tr><th></th><th scope=col>logLik</th><th scope=col>AIC</th><th scope=col>BIC</th><th scope=col>Method</th><th scope=col>Converge</th></tr>\n",
       "\t<tr><th></th><th scope=col>&lt;dbl&gt;</th><th scope=col>&lt;dbl&gt;</th><th scope=col>&lt;dbl&gt;</th><th scope=col>&lt;chr&gt;</th><th scope=col>&lt;lgl&gt;</th></tr>\n",
       "</thead>\n",
       "<tbody>\n",
       "\t<tr><th scope=row>Value</th><td>-545.1281</td><td>1096.256</td><td>1112.16</td><td>NR</td><td>TRUE</td></tr>\n",
       "</tbody>\n",
       "</table>\n",
       "</dd>\n",
       "</dl>\n"
      ],
      "text/latex": [
       "\\begin{description}\n",
       "\\item[\\$groups] A matrix: 1 × 1 of type int\n",
       "\\begin{tabular}{r|l}\n",
       "  & Yield\\_blup\\\\\n",
       "\\hline\n",
       "\tu:strain & 494\\\\\n",
       "\\end{tabular}\n",
       "\n",
       "\\item[\\$varcomp] A data.frame: 2 × 4\n",
       "\\begin{tabular}{r|llll}\n",
       "  & VarComp & VarCompSE & Zratio & Constraint\\\\\n",
       "  & <dbl> & <dbl> & <dbl> & <chr>\\\\\n",
       "\\hline\n",
       "\tu:strain.Yield\\_blup-Yield\\_blup &  13376.89 &  7393.675 &  1.809235 & Positive\\\\\n",
       "\tunits.Yield\\_blup-Yield\\_blup & 372917.05 & 13908.256 & 26.812640 & Positive\\\\\n",
       "\\end{tabular}\n",
       "\n",
       "\\item[\\$betas] A data.frame: 3 × 5\n",
       "\\begin{tabular}{lllll}\n",
       " Trait & Effect & Estimate & Std.Error & t.value\\\\\n",
       " <fct> & <fct> & <dbl> & <dbl> & <dbl>\\\\\n",
       "\\hline\n",
       "\t Yield\\_blup & environIA\\_2012 & 3133.676 & 28.00058 & 111.9147\\\\\n",
       "\t Yield\\_blup & environIA\\_2013 & 2800.650 & 28.00058 & 100.0211\\\\\n",
       "\t Yield\\_blup & environIL\\_2012 & 3617.185 & 28.00058 & 129.1825\\\\\n",
       "\\end{tabular}\n",
       "\n",
       "\\item[\\$method] 'NR'\n",
       "\\item[\\$logo] A data.frame: 1 × 5\n",
       "\\begin{tabular}{r|lllll}\n",
       "  & logLik & AIC & BIC & Method & Converge\\\\\n",
       "  & <dbl> & <dbl> & <dbl> & <chr> & <lgl>\\\\\n",
       "\\hline\n",
       "\tValue & -545.1281 & 1096.256 & 1112.16 & NR & TRUE\\\\\n",
       "\\end{tabular}\n",
       "\n",
       "\\end{description}\n"
      ],
      "text/markdown": [
       "$groups\n",
       ":   \n",
       "A matrix: 1 × 1 of type int\n",
       "\n",
       "| <!--/--> | Yield_blup |\n",
       "|---|---|\n",
       "| u:strain | 494 |\n",
       "\n",
       "\n",
       "$varcomp\n",
       ":   \n",
       "A data.frame: 2 × 4\n",
       "\n",
       "| <!--/--> | VarComp &lt;dbl&gt; | VarCompSE &lt;dbl&gt; | Zratio &lt;dbl&gt; | Constraint &lt;chr&gt; |\n",
       "|---|---|---|---|---|\n",
       "| u:strain.Yield_blup-Yield_blup |  13376.89 |  7393.675 |  1.809235 | Positive |\n",
       "| units.Yield_blup-Yield_blup | 372917.05 | 13908.256 | 26.812640 | Positive |\n",
       "\n",
       "\n",
       "$betas\n",
       ":   \n",
       "A data.frame: 3 × 5\n",
       "\n",
       "| Trait &lt;fct&gt; | Effect &lt;fct&gt; | Estimate &lt;dbl&gt; | Std.Error &lt;dbl&gt; | t.value &lt;dbl&gt; |\n",
       "|---|---|---|---|---|\n",
       "| Yield_blup | environIA_2012 | 3133.676 | 28.00058 | 111.9147 |\n",
       "| Yield_blup | environIA_2013 | 2800.650 | 28.00058 | 100.0211 |\n",
       "| Yield_blup | environIL_2012 | 3617.185 | 28.00058 | 129.1825 |\n",
       "\n",
       "\n",
       "$method\n",
       ":   'NR'\n",
       "$logo\n",
       ":   \n",
       "A data.frame: 1 × 5\n",
       "\n",
       "| <!--/--> | logLik &lt;dbl&gt; | AIC &lt;dbl&gt; | BIC &lt;dbl&gt; | Method &lt;chr&gt; | Converge &lt;lgl&gt; |\n",
       "|---|---|---|---|---|---|\n",
       "| Value | -545.1281 | 1096.256 | 1112.16 | NR | TRUE |\n",
       "\n",
       "\n",
       "\n",
       "\n"
      ],
      "text/plain": [
       "================================================================\n",
       "           Multivariate Linear Mixed Model fit by REML           \n",
       "************************  sommer 4.1  ************************ \n",
       "================================================================\n",
       "         logLik      AIC     BIC Method Converge\n",
       "Value -545.1281 1096.256 1112.16     NR     TRUE\n",
       "================================================================\n",
       "Variance-Covariance components:\n",
       "                               VarComp VarCompSE Zratio Constraint\n",
       "u:strain.Yield_blup-Yield_blup   13377      7394  1.809   Positive\n",
       "units.Yield_blup-Yield_blup     372917     13908 26.813   Positive\n",
       "================================================================\n",
       "Fixed effects:\n",
       "       Trait         Effect Estimate Std.Error t.value\n",
       "1 Yield_blup environIA_2012     3134        28   111.9\n",
       "2 Yield_blup environIA_2013     2801        28   100.0\n",
       "3 Yield_blup environIL_2012     3617        28   129.2\n",
       "================================================================\n",
       "Groups and observations:\n",
       "         Yield_blup\n",
       "u:strain        494\n",
       "================================================================\n",
       "Use the '$' sign to access results and parameters"
      ]
     },
     "metadata": {},
     "output_type": "display_data"
    }
   ],
   "source": [
    "\n",
    "fitMain <- mmer(Yield_blup~environ-1,\n",
    "                random=~vs(strain,Gu=A_Sub1),\n",
    "                rcov=~units,\n",
    "                data=DT_Sub1,verbose=FALSE)\n",
    "summary(fitMain)\n"
   ]
  },
  {
   "cell_type": "markdown",
   "id": "departmental-relief",
   "metadata": {},
   "source": [
    "#### **Diagonal Structure** ####\n",
    "\n",
    "##### Accounts for environment specific genotype effects, but assumes that there is no correlation among environments"
   ]
  },
  {
   "cell_type": "code",
   "execution_count": 4,
   "id": "infectious-plumbing",
   "metadata": {},
   "outputs": [
    {
     "ename": "ERROR",
     "evalue": "Error in mmer(Yield_blup ~ environ - 1, random = ~vs(ds(environ), strain, : could not find function \"mmer\"\n",
     "output_type": "error",
     "traceback": [
      "Error in mmer(Yield_blup ~ environ - 1, random = ~vs(ds(environ), strain, : could not find function \"mmer\"\nTraceback:\n"
     ]
    }
   ],
   "source": [
    "fitDG <- mmer(Yield_blup~environ-1,\n",
    "              random=~vs(ds(environ),strain,Gu=A_Sub1),\n",
    "              rcov=~units,\n",
    "              data=DT_Sub1,verbose=FALSE)\n",
    "\n",
    "summary(fitDG)\n"
   ]
  },
  {
   "cell_type": "markdown",
   "id": "decreased-leonard",
   "metadata": {},
   "source": [
    "#### **Fit SOMMER model with Compound Symmetry var-covar structure** ####\n",
    "##### Compound symmetry assumes GxE effects and also assumes constant correlation among environments"
   ]
  },
  {
   "cell_type": "code",
   "execution_count": null,
   "id": "functional-charity",
   "metadata": {},
   "outputs": [],
   "source": [
    "\n",
    "E <- diag(length(unique(DT_Sub1$environ)))\n",
    "rownames(E) <- colnames(E) <- unique(DT_Sub1$environ)\n",
    "\n",
    "EA <- kronecker(E,A_Sub1, make.dimnames = TRUE)\n",
    "DT_Sub1$environ <- as.factor(DT_Sub1$environ)\n",
    "DT_Sub1$strain <- as.factor(DT_Sub1$strain)\n",
    "\n",
    "fitCS <- mmer(Yield_blup~environ-1,\n",
    "              random= ~ vs(strain, Gu=A_Sub1) + vs(environ:strain, Gu=EA),\n",
    "              rcov= ~ units,\n",
    "              data=DT_Sub1, verbose = FALSE)\n",
    "summary(fitCS)"
   ]
  },
  {
   "cell_type": "code",
   "execution_count": null,
   "id": "neural-patient",
   "metadata": {},
   "outputs": [],
   "source": [
    "\n",
    "m <- model.matrix(~ environ-1 ,data=DT_Sub1)\n",
    "m_beta <- m %*% as.numeric(fitCS$Beta[,3]) \n",
    "Pred <- m_beta+fitCS$U$`u:environ:strain`$Yield_blup\n",
    "cor(Pred,DT_Sub1[,\"Yield_blup\"]) \n"
   ]
  },
  {
   "cell_type": "markdown",
   "id": "inside-reminder",
   "metadata": {},
   "source": [
    "#### **CS - Diagonal Structure** ####"
   ]
  },
  {
   "cell_type": "code",
   "execution_count": 24,
   "id": "piano-angle",
   "metadata": {},
   "outputs": [],
   "source": [
    "fitCSDG <- mmer(Yield_blup~environ,\n",
    "                random=~vs(strain,Gu=A_Sub1) +vs(ds(environ),strain,Gu=A_Sub1),\n",
    "                rcov=~units,\n",
    "                data=DT_Sub1,verbose=FALSE) \n"
   ]
  },
  {
   "cell_type": "raw",
   "id": "sealed-macedonia",
   "metadata": {},
   "source": []
  },
  {
   "cell_type": "markdown",
   "id": "executed-victim",
   "metadata": {},
   "source": [
    "### **Exercise - Predict performance of tested and untested genotypes in tested and untested environments** ###"
   ]
  },
  {
   "cell_type": "markdown",
   "id": "accepting-edward",
   "metadata": {},
   "source": [
    "#### **Tested Genotypes in Untested Environment**"
   ]
  },
  {
   "cell_type": "code",
   "execution_count": 53,
   "id": "narrative-encounter",
   "metadata": {},
   "outputs": [
    {
     "data": {
      "text/html": [
       "<style>\n",
       ".list-inline {list-style: none; margin:0; padding: 0}\n",
       ".list-inline>li {display: inline-block}\n",
       ".list-inline>li:not(:last-child)::after {content: \"\\00b7\"; padding: 0 .5ex}\n",
       "</style>\n",
       "<ol class=list-inline><li>1482</li><li>18</li></ol>\n"
      ],
      "text/latex": [
       "\\begin{enumerate*}\n",
       "\\item 1482\n",
       "\\item 18\n",
       "\\end{enumerate*}\n"
      ],
      "text/markdown": [
       "1. 1482\n",
       "2. 18\n",
       "\n",
       "\n"
      ],
      "text/plain": [
       "[1] 1482   18"
      ]
     },
     "metadata": {},
     "output_type": "display_data"
    }
   ],
   "source": [
    "### Remove lines from IA2013 and train the model with CS structure using IA2012 and IL2013 only and predict \n",
    "### performance of lines for IA2013 and compare accuracy with model \n",
    "### incorporating data from IA2013 in the training model \n",
    "\n",
    "tstIndices1 <- which(DT_Sub1[,\"environ\"] %in% \"IA_2013\") \n",
    "\n",
    "DT_Sub1A <- DT_Sub1\n",
    "DT_Sub1A[tstIndices1 ,\"Yeild_blup\"] <- NA\n",
    "#DT_Sub1A[tstIndices1 ,\"environ\"] <- NA\n",
    "\n",
    "dim(DT_Sub1A)"
   ]
  },
  {
   "cell_type": "code",
   "execution_count": 56,
   "id": "confidential-priority",
   "metadata": {},
   "outputs": [
    {
     "data": {
      "text/html": [
       "<style>\n",
       ".list-inline {list-style: none; margin:0; padding: 0}\n",
       ".list-inline>li {display: inline-block}\n",
       ".list-inline>li:not(:last-child)::after {content: \"\\00b7\"; padding: 0 .5ex}\n",
       "</style>\n",
       "<ol class=list-inline><li>3</li><li>3</li></ol>\n"
      ],
      "text/latex": [
       "\\begin{enumerate*}\n",
       "\\item 3\n",
       "\\item 3\n",
       "\\end{enumerate*}\n"
      ],
      "text/markdown": [
       "1. 3\n",
       "2. 3\n",
       "\n",
       "\n"
      ],
      "text/plain": [
       "[1] 3 3"
      ]
     },
     "metadata": {},
     "output_type": "display_data"
    },
    {
     "data": {
      "text/html": [
       "<style>\n",
       ".list-inline {list-style: none; margin:0; padding: 0}\n",
       ".list-inline>li {display: inline-block}\n",
       ".list-inline>li:not(:last-child)::after {content: \"\\00b7\"; padding: 0 .5ex}\n",
       "</style>\n",
       "<ol class=list-inline><li>1482</li><li>1482</li></ol>\n"
      ],
      "text/latex": [
       "\\begin{enumerate*}\n",
       "\\item 1482\n",
       "\\item 1482\n",
       "\\end{enumerate*}\n"
      ],
      "text/markdown": [
       "1. 1482\n",
       "2. 1482\n",
       "\n",
       "\n"
      ],
      "text/plain": [
       "[1] 1482 1482"
      ]
     },
     "metadata": {},
     "output_type": "display_data"
    }
   ],
   "source": [
    "\n",
    "E <- diag(length(unique(DT_Sub1A$environ)))\n",
    "rownames(E) <- colnames(E) <- unique(DT_Sub1A$environ)\n",
    "dim(E)\n",
    "\n",
    "EA <- kronecker(E,A_Sub1, make.dimnames = TRUE)\n",
    "DT_Sub1$Aenviron <- as.factor(DT_Sub1A$environ)\n",
    "DT_Sub1A$strain <- as.factor(DT_Sub1A$strain) \n",
    "\n",
    "dim(EA)"
   ]
  },
  {
   "cell_type": "code",
   "execution_count": null,
   "id": "designing-lambda",
   "metadata": {},
   "outputs": [],
   "source": [
    "fitDG1A <- mmer(Yield_blup~environ-1,\n",
    "              random=~vs(ds(environ),strain,Gu=A_Sub1),\n",
    "              rcov=~units,\n",
    "              data=DT_Sub1A,verbose=FALSE)\n",
    "\n",
    "summary(fitDG1A)\n"
   ]
  },
  {
   "cell_type": "code",
   "execution_count": 57,
   "id": "smart-crack",
   "metadata": {},
   "outputs": [
    {
     "data": {
      "text/html": [
       "<dl>\n",
       "\t<dt>$groups</dt>\n",
       "\t\t<dd><table class=\"dataframe\">\n",
       "<caption>A matrix: 2 × 1 of type int</caption>\n",
       "<thead>\n",
       "\t<tr><th></th><th scope=col>Yield_blup</th></tr>\n",
       "</thead>\n",
       "<tbody>\n",
       "\t<tr><th scope=row>u:strain</th><td> 494</td></tr>\n",
       "\t<tr><th scope=row>u:environ:strain</th><td>1482</td></tr>\n",
       "</tbody>\n",
       "</table>\n",
       "</dd>\n",
       "\t<dt>$varcomp</dt>\n",
       "\t\t<dd><table class=\"dataframe\">\n",
       "<caption>A data.frame: 3 × 4</caption>\n",
       "<thead>\n",
       "\t<tr><th></th><th scope=col>VarComp</th><th scope=col>VarCompSE</th><th scope=col>Zratio</th><th scope=col>Constraint</th></tr>\n",
       "\t<tr><th></th><th scope=col>&lt;dbl&gt;</th><th scope=col>&lt;dbl&gt;</th><th scope=col>&lt;dbl&gt;</th><th scope=col>&lt;chr&gt;</th></tr>\n",
       "</thead>\n",
       "<tbody>\n",
       "\t<tr><th scope=row>u:strain.Yield_blup-Yield_blup</th><td>     0.00</td><td>11503.43</td><td> 0.000000</td><td>Positive</td></tr>\n",
       "\t<tr><th scope=row>u:environ:strain.Yield_blup-Yield_blup</th><td> 65969.28</td><td>20118.21</td><td> 3.279082</td><td>Positive</td></tr>\n",
       "\t<tr><th scope=row>units.Yield_blup-Yield_blup</th><td>343674.11</td><td>13300.93</td><td>25.838345</td><td>Positive</td></tr>\n",
       "</tbody>\n",
       "</table>\n",
       "</dd>\n",
       "\t<dt>$betas</dt>\n",
       "\t\t<dd><table class=\"dataframe\">\n",
       "<caption>A data.frame: 3 × 5</caption>\n",
       "<thead>\n",
       "\t<tr><th scope=col>Trait</th><th scope=col>Effect</th><th scope=col>Estimate</th><th scope=col>Std.Error</th><th scope=col>t.value</th></tr>\n",
       "\t<tr><th scope=col>&lt;fct&gt;</th><th scope=col>&lt;fct&gt;</th><th scope=col>&lt;dbl&gt;</th><th scope=col>&lt;dbl&gt;</th><th scope=col>&lt;dbl&gt;</th></tr>\n",
       "</thead>\n",
       "<tbody>\n",
       "\t<tr><td>Yield_blup</td><td>environIA_2012</td><td>3146.983</td><td>28.54727</td><td>110.23762</td></tr>\n",
       "\t<tr><td>Yield_blup</td><td>environIA_2013</td><td>2778.546</td><td>28.54727</td><td> 97.33139</td></tr>\n",
       "\t<tr><td>Yield_blup</td><td>environIL_2012</td><td>3633.347</td><td>28.54727</td><td>127.27474</td></tr>\n",
       "</tbody>\n",
       "</table>\n",
       "</dd>\n",
       "\t<dt>$method</dt>\n",
       "\t\t<dd>'NR'</dd>\n",
       "\t<dt>$logo</dt>\n",
       "\t\t<dd><table class=\"dataframe\">\n",
       "<caption>A data.frame: 1 × 5</caption>\n",
       "<thead>\n",
       "\t<tr><th></th><th scope=col>logLik</th><th scope=col>AIC</th><th scope=col>BIC</th><th scope=col>Method</th><th scope=col>Converge</th></tr>\n",
       "\t<tr><th></th><th scope=col>&lt;dbl&gt;</th><th scope=col>&lt;dbl&gt;</th><th scope=col>&lt;dbl&gt;</th><th scope=col>&lt;chr&gt;</th><th scope=col>&lt;lgl&gt;</th></tr>\n",
       "</thead>\n",
       "<tbody>\n",
       "\t<tr><th scope=row>Value</th><td>-523.9647</td><td>1053.929</td><td>1069.833</td><td>NR</td><td>TRUE</td></tr>\n",
       "</tbody>\n",
       "</table>\n",
       "</dd>\n",
       "</dl>\n"
      ],
      "text/latex": [
       "\\begin{description}\n",
       "\\item[\\$groups] A matrix: 2 × 1 of type int\n",
       "\\begin{tabular}{r|l}\n",
       "  & Yield\\_blup\\\\\n",
       "\\hline\n",
       "\tu:strain &  494\\\\\n",
       "\tu:environ:strain & 1482\\\\\n",
       "\\end{tabular}\n",
       "\n",
       "\\item[\\$varcomp] A data.frame: 3 × 4\n",
       "\\begin{tabular}{r|llll}\n",
       "  & VarComp & VarCompSE & Zratio & Constraint\\\\\n",
       "  & <dbl> & <dbl> & <dbl> & <chr>\\\\\n",
       "\\hline\n",
       "\tu:strain.Yield\\_blup-Yield\\_blup &      0.00 & 11503.43 &  0.000000 & Positive\\\\\n",
       "\tu:environ:strain.Yield\\_blup-Yield\\_blup &  65969.28 & 20118.21 &  3.279082 & Positive\\\\\n",
       "\tunits.Yield\\_blup-Yield\\_blup & 343674.11 & 13300.93 & 25.838345 & Positive\\\\\n",
       "\\end{tabular}\n",
       "\n",
       "\\item[\\$betas] A data.frame: 3 × 5\n",
       "\\begin{tabular}{lllll}\n",
       " Trait & Effect & Estimate & Std.Error & t.value\\\\\n",
       " <fct> & <fct> & <dbl> & <dbl> & <dbl>\\\\\n",
       "\\hline\n",
       "\t Yield\\_blup & environIA\\_2012 & 3146.983 & 28.54727 & 110.23762\\\\\n",
       "\t Yield\\_blup & environIA\\_2013 & 2778.546 & 28.54727 &  97.33139\\\\\n",
       "\t Yield\\_blup & environIL\\_2012 & 3633.347 & 28.54727 & 127.27474\\\\\n",
       "\\end{tabular}\n",
       "\n",
       "\\item[\\$method] 'NR'\n",
       "\\item[\\$logo] A data.frame: 1 × 5\n",
       "\\begin{tabular}{r|lllll}\n",
       "  & logLik & AIC & BIC & Method & Converge\\\\\n",
       "  & <dbl> & <dbl> & <dbl> & <chr> & <lgl>\\\\\n",
       "\\hline\n",
       "\tValue & -523.9647 & 1053.929 & 1069.833 & NR & TRUE\\\\\n",
       "\\end{tabular}\n",
       "\n",
       "\\end{description}\n"
      ],
      "text/markdown": [
       "$groups\n",
       ":   \n",
       "A matrix: 2 × 1 of type int\n",
       "\n",
       "| <!--/--> | Yield_blup |\n",
       "|---|---|\n",
       "| u:strain |  494 |\n",
       "| u:environ:strain | 1482 |\n",
       "\n",
       "\n",
       "$varcomp\n",
       ":   \n",
       "A data.frame: 3 × 4\n",
       "\n",
       "| <!--/--> | VarComp &lt;dbl&gt; | VarCompSE &lt;dbl&gt; | Zratio &lt;dbl&gt; | Constraint &lt;chr&gt; |\n",
       "|---|---|---|---|---|\n",
       "| u:strain.Yield_blup-Yield_blup |      0.00 | 11503.43 |  0.000000 | Positive |\n",
       "| u:environ:strain.Yield_blup-Yield_blup |  65969.28 | 20118.21 |  3.279082 | Positive |\n",
       "| units.Yield_blup-Yield_blup | 343674.11 | 13300.93 | 25.838345 | Positive |\n",
       "\n",
       "\n",
       "$betas\n",
       ":   \n",
       "A data.frame: 3 × 5\n",
       "\n",
       "| Trait &lt;fct&gt; | Effect &lt;fct&gt; | Estimate &lt;dbl&gt; | Std.Error &lt;dbl&gt; | t.value &lt;dbl&gt; |\n",
       "|---|---|---|---|---|\n",
       "| Yield_blup | environIA_2012 | 3146.983 | 28.54727 | 110.23762 |\n",
       "| Yield_blup | environIA_2013 | 2778.546 | 28.54727 |  97.33139 |\n",
       "| Yield_blup | environIL_2012 | 3633.347 | 28.54727 | 127.27474 |\n",
       "\n",
       "\n",
       "$method\n",
       ":   'NR'\n",
       "$logo\n",
       ":   \n",
       "A data.frame: 1 × 5\n",
       "\n",
       "| <!--/--> | logLik &lt;dbl&gt; | AIC &lt;dbl&gt; | BIC &lt;dbl&gt; | Method &lt;chr&gt; | Converge &lt;lgl&gt; |\n",
       "|---|---|---|---|---|---|\n",
       "| Value | -523.9647 | 1053.929 | 1069.833 | NR | TRUE |\n",
       "\n",
       "\n",
       "\n",
       "\n"
      ],
      "text/plain": [
       "========================================================================\n",
       "               Multivariate Linear Mixed Model fit by REML               \n",
       "****************************  sommer 4.1  **************************** \n",
       "========================================================================\n",
       "         logLik      AIC      BIC Method Converge\n",
       "Value -523.9647 1053.929 1069.833     NR     TRUE\n",
       "========================================================================\n",
       "Variance-Covariance components:\n",
       "                                       VarComp VarCompSE Zratio Constraint\n",
       "u:strain.Yield_blup-Yield_blup               0     11503  0.000   Positive\n",
       "u:environ:strain.Yield_blup-Yield_blup   65969     20118  3.279   Positive\n",
       "units.Yield_blup-Yield_blup             343674     13301 25.838   Positive\n",
       "========================================================================\n",
       "Fixed effects:\n",
       "       Trait         Effect Estimate Std.Error t.value\n",
       "1 Yield_blup environIA_2012     3147     28.55  110.24\n",
       "2 Yield_blup environIA_2013     2779     28.55   97.33\n",
       "3 Yield_blup environIL_2012     3633     28.55  127.27\n",
       "========================================================================\n",
       "Groups and observations:\n",
       "                 Yield_blup\n",
       "u:strain                494\n",
       "u:environ:strain       1482\n",
       "========================================================================\n",
       "Use the '$' sign to access results and parameters"
      ]
     },
     "metadata": {},
     "output_type": "display_data"
    }
   ],
   "source": [
    "fitCS1A <- mmer(Yield_blup~environ-1,\n",
    "              random= ~ vs(strain, Gu=A_Sub1) + vs(environ:strain, Gu=EA),\n",
    "              rcov= ~ units,\n",
    "              data=DT_Sub1A, verbose = FALSE)\n",
    "summary(fitCS1A)\n"
   ]
  },
  {
   "cell_type": "code",
   "execution_count": 67,
   "id": "thorough-upper",
   "metadata": {},
   "outputs": [
    {
     "data": {
      "text/html": [
       "494"
      ],
      "text/latex": [
       "494"
      ],
      "text/markdown": [
       "494"
      ],
      "text/plain": [
       "[1] 494"
      ]
     },
     "metadata": {},
     "output_type": "display_data"
    },
    {
     "data": {
      "text/html": [
       "0.131665186771016"
      ],
      "text/latex": [
       "0.131665186771016"
      ],
      "text/markdown": [
       "0.131665186771016"
      ],
      "text/plain": [
       "[1] 0.1316652"
      ]
     },
     "metadata": {},
     "output_type": "display_data"
    }
   ],
   "source": [
    "m <- model.matrix(~ environ-1 ,data=DT_Sub1)\n",
    "m_beta <- m %*% as.numeric(fitCS1A$Beta[,3]) \n",
    "tstPred1 <- (m_beta+fitCS1A$U$`u:environ:strain`$Yield_blup)[tstIndices1]\n",
    "length(tstPred1)\n",
    "cor(tstPred1,DT_Sub1[tstIndices1,\"Yield_blup\"])\n"
   ]
  },
  {
   "cell_type": "markdown",
   "id": "corresponding-funds",
   "metadata": {},
   "source": [
    "#### **Untested Genotypes in Tested Environments** ####"
   ]
  },
  {
   "cell_type": "code",
   "execution_count": 63,
   "id": "amber-barcelona",
   "metadata": {},
   "outputs": [
    {
     "data": {
      "text/html": [
       "494"
      ],
      "text/latex": [
       "494"
      ],
      "text/markdown": [
       "494"
      ],
      "text/plain": [
       "[1] 494"
      ]
     },
     "metadata": {},
     "output_type": "display_data"
    },
    {
     "data": {
      "text/html": [
       "247"
      ],
      "text/latex": [
       "247"
      ],
      "text/markdown": [
       "247"
      ],
      "text/plain": [
       "[1] 247"
      ]
     },
     "metadata": {},
     "output_type": "display_data"
    },
    {
     "data": {
      "text/html": [
       "<style>\n",
       ".list-inline {list-style: none; margin:0; padding: 0}\n",
       ".list-inline>li {display: inline-block}\n",
       ".list-inline>li:not(:last-child)::after {content: \"\\00b7\"; padding: 0 .5ex}\n",
       "</style>\n",
       "<ol class=list-inline><li>1482</li><li>18</li></ol>\n"
      ],
      "text/latex": [
       "\\begin{enumerate*}\n",
       "\\item 1482\n",
       "\\item 18\n",
       "\\end{enumerate*}\n"
      ],
      "text/markdown": [
       "1. 1482\n",
       "2. 18\n",
       "\n",
       "\n"
      ],
      "text/plain": [
       "[1] 1482   18"
      ]
     },
     "metadata": {},
     "output_type": "display_data"
    }
   ],
   "source": [
    "\n",
    "set.seed(125)\n",
    "tstStrain <- sample(unqiue(DT_Sub1[,\"strain\"]),0.2*length(unqiue(DT_Sub1[,\"strain\"])))\n",
    "length(tstStrain)\n",
    "tstIndices2 <- which(DT_Sub1[,\"strain\"] %in% tstStrain)\n",
    "DT_Sub1B <- DT_Sub1\n",
    "DT_Sub1B[tstIndices2 ,\"Yeild_blup\"] <- NA\n",
    "dim(DT_Sub1B)"
   ]
  },
  {
   "cell_type": "code",
   "execution_count": 64,
   "id": "bright-method",
   "metadata": {},
   "outputs": [
    {
     "data": {
      "text/html": [
       "<style>\n",
       ".list-inline {list-style: none; margin:0; padding: 0}\n",
       ".list-inline>li {display: inline-block}\n",
       ".list-inline>li:not(:last-child)::after {content: \"\\00b7\"; padding: 0 .5ex}\n",
       "</style>\n",
       "<ol class=list-inline><li>3</li><li>3</li></ol>\n"
      ],
      "text/latex": [
       "\\begin{enumerate*}\n",
       "\\item 3\n",
       "\\item 3\n",
       "\\end{enumerate*}\n"
      ],
      "text/markdown": [
       "1. 3\n",
       "2. 3\n",
       "\n",
       "\n"
      ],
      "text/plain": [
       "[1] 3 3"
      ]
     },
     "metadata": {},
     "output_type": "display_data"
    },
    {
     "data": {
      "text/html": [
       "<style>\n",
       ".list-inline {list-style: none; margin:0; padding: 0}\n",
       ".list-inline>li {display: inline-block}\n",
       ".list-inline>li:not(:last-child)::after {content: \"\\00b7\"; padding: 0 .5ex}\n",
       "</style>\n",
       "<ol class=list-inline><li>1482</li><li>1482</li></ol>\n"
      ],
      "text/latex": [
       "\\begin{enumerate*}\n",
       "\\item 1482\n",
       "\\item 1482\n",
       "\\end{enumerate*}\n"
      ],
      "text/markdown": [
       "1. 1482\n",
       "2. 1482\n",
       "\n",
       "\n"
      ],
      "text/plain": [
       "[1] 1482 1482"
      ]
     },
     "metadata": {},
     "output_type": "display_data"
    }
   ],
   "source": [
    "\n",
    "E <- diag(length(unique(DT_Sub1B$environ)))\n",
    "rownames(E) <- colnames(E) <- unique(DT_Sub1B$environ)\n",
    "dim(E)\n",
    "\n",
    "EA <- kronecker(E,A_Sub1, make.dimnames = TRUE)\n",
    "DT_Sub1B$environ <- as.factor(DT_Sub1B$environ)\n",
    "DT_Sub1B$strain <- as.factor(DT_Sub1B$strain) \n",
    "\n",
    "dim(EA)"
   ]
  },
  {
   "cell_type": "code",
   "execution_count": 65,
   "id": "positive-denial",
   "metadata": {},
   "outputs": [
    {
     "data": {
      "text/html": [
       "<dl>\n",
       "\t<dt>$groups</dt>\n",
       "\t\t<dd><table class=\"dataframe\">\n",
       "<caption>A matrix: 2 × 1 of type int</caption>\n",
       "<thead>\n",
       "\t<tr><th></th><th scope=col>Yield_blup</th></tr>\n",
       "</thead>\n",
       "<tbody>\n",
       "\t<tr><th scope=row>u:strain</th><td> 494</td></tr>\n",
       "\t<tr><th scope=row>u:environ:strain</th><td>1482</td></tr>\n",
       "</tbody>\n",
       "</table>\n",
       "</dd>\n",
       "\t<dt>$varcomp</dt>\n",
       "\t\t<dd><table class=\"dataframe\">\n",
       "<caption>A data.frame: 3 × 4</caption>\n",
       "<thead>\n",
       "\t<tr><th></th><th scope=col>VarComp</th><th scope=col>VarCompSE</th><th scope=col>Zratio</th><th scope=col>Constraint</th></tr>\n",
       "\t<tr><th></th><th scope=col>&lt;dbl&gt;</th><th scope=col>&lt;dbl&gt;</th><th scope=col>&lt;dbl&gt;</th><th scope=col>&lt;chr&gt;</th></tr>\n",
       "</thead>\n",
       "<tbody>\n",
       "\t<tr><th scope=row>u:strain.Yield_blup-Yield_blup</th><td>     0.00</td><td>11503.43</td><td> 0.000000</td><td>Positive</td></tr>\n",
       "\t<tr><th scope=row>u:environ:strain.Yield_blup-Yield_blup</th><td> 65969.28</td><td>20118.21</td><td> 3.279082</td><td>Positive</td></tr>\n",
       "\t<tr><th scope=row>units.Yield_blup-Yield_blup</th><td>343674.11</td><td>13300.93</td><td>25.838345</td><td>Positive</td></tr>\n",
       "</tbody>\n",
       "</table>\n",
       "</dd>\n",
       "\t<dt>$betas</dt>\n",
       "\t\t<dd><table class=\"dataframe\">\n",
       "<caption>A data.frame: 3 × 5</caption>\n",
       "<thead>\n",
       "\t<tr><th scope=col>Trait</th><th scope=col>Effect</th><th scope=col>Estimate</th><th scope=col>Std.Error</th><th scope=col>t.value</th></tr>\n",
       "\t<tr><th scope=col>&lt;fct&gt;</th><th scope=col>&lt;fct&gt;</th><th scope=col>&lt;dbl&gt;</th><th scope=col>&lt;dbl&gt;</th><th scope=col>&lt;dbl&gt;</th></tr>\n",
       "</thead>\n",
       "<tbody>\n",
       "\t<tr><td>Yield_blup</td><td>environIA_2012</td><td>3146.983</td><td>28.54727</td><td>110.23762</td></tr>\n",
       "\t<tr><td>Yield_blup</td><td>environIA_2013</td><td>2778.546</td><td>28.54727</td><td> 97.33139</td></tr>\n",
       "\t<tr><td>Yield_blup</td><td>environIL_2012</td><td>3633.347</td><td>28.54727</td><td>127.27474</td></tr>\n",
       "</tbody>\n",
       "</table>\n",
       "</dd>\n",
       "\t<dt>$method</dt>\n",
       "\t\t<dd>'NR'</dd>\n",
       "\t<dt>$logo</dt>\n",
       "\t\t<dd><table class=\"dataframe\">\n",
       "<caption>A data.frame: 1 × 5</caption>\n",
       "<thead>\n",
       "\t<tr><th></th><th scope=col>logLik</th><th scope=col>AIC</th><th scope=col>BIC</th><th scope=col>Method</th><th scope=col>Converge</th></tr>\n",
       "\t<tr><th></th><th scope=col>&lt;dbl&gt;</th><th scope=col>&lt;dbl&gt;</th><th scope=col>&lt;dbl&gt;</th><th scope=col>&lt;chr&gt;</th><th scope=col>&lt;lgl&gt;</th></tr>\n",
       "</thead>\n",
       "<tbody>\n",
       "\t<tr><th scope=row>Value</th><td>-523.9647</td><td>1053.929</td><td>1069.833</td><td>NR</td><td>TRUE</td></tr>\n",
       "</tbody>\n",
       "</table>\n",
       "</dd>\n",
       "</dl>\n"
      ],
      "text/latex": [
       "\\begin{description}\n",
       "\\item[\\$groups] A matrix: 2 × 1 of type int\n",
       "\\begin{tabular}{r|l}\n",
       "  & Yield\\_blup\\\\\n",
       "\\hline\n",
       "\tu:strain &  494\\\\\n",
       "\tu:environ:strain & 1482\\\\\n",
       "\\end{tabular}\n",
       "\n",
       "\\item[\\$varcomp] A data.frame: 3 × 4\n",
       "\\begin{tabular}{r|llll}\n",
       "  & VarComp & VarCompSE & Zratio & Constraint\\\\\n",
       "  & <dbl> & <dbl> & <dbl> & <chr>\\\\\n",
       "\\hline\n",
       "\tu:strain.Yield\\_blup-Yield\\_blup &      0.00 & 11503.43 &  0.000000 & Positive\\\\\n",
       "\tu:environ:strain.Yield\\_blup-Yield\\_blup &  65969.28 & 20118.21 &  3.279082 & Positive\\\\\n",
       "\tunits.Yield\\_blup-Yield\\_blup & 343674.11 & 13300.93 & 25.838345 & Positive\\\\\n",
       "\\end{tabular}\n",
       "\n",
       "\\item[\\$betas] A data.frame: 3 × 5\n",
       "\\begin{tabular}{lllll}\n",
       " Trait & Effect & Estimate & Std.Error & t.value\\\\\n",
       " <fct> & <fct> & <dbl> & <dbl> & <dbl>\\\\\n",
       "\\hline\n",
       "\t Yield\\_blup & environIA\\_2012 & 3146.983 & 28.54727 & 110.23762\\\\\n",
       "\t Yield\\_blup & environIA\\_2013 & 2778.546 & 28.54727 &  97.33139\\\\\n",
       "\t Yield\\_blup & environIL\\_2012 & 3633.347 & 28.54727 & 127.27474\\\\\n",
       "\\end{tabular}\n",
       "\n",
       "\\item[\\$method] 'NR'\n",
       "\\item[\\$logo] A data.frame: 1 × 5\n",
       "\\begin{tabular}{r|lllll}\n",
       "  & logLik & AIC & BIC & Method & Converge\\\\\n",
       "  & <dbl> & <dbl> & <dbl> & <chr> & <lgl>\\\\\n",
       "\\hline\n",
       "\tValue & -523.9647 & 1053.929 & 1069.833 & NR & TRUE\\\\\n",
       "\\end{tabular}\n",
       "\n",
       "\\end{description}\n"
      ],
      "text/markdown": [
       "$groups\n",
       ":   \n",
       "A matrix: 2 × 1 of type int\n",
       "\n",
       "| <!--/--> | Yield_blup |\n",
       "|---|---|\n",
       "| u:strain |  494 |\n",
       "| u:environ:strain | 1482 |\n",
       "\n",
       "\n",
       "$varcomp\n",
       ":   \n",
       "A data.frame: 3 × 4\n",
       "\n",
       "| <!--/--> | VarComp &lt;dbl&gt; | VarCompSE &lt;dbl&gt; | Zratio &lt;dbl&gt; | Constraint &lt;chr&gt; |\n",
       "|---|---|---|---|---|\n",
       "| u:strain.Yield_blup-Yield_blup |      0.00 | 11503.43 |  0.000000 | Positive |\n",
       "| u:environ:strain.Yield_blup-Yield_blup |  65969.28 | 20118.21 |  3.279082 | Positive |\n",
       "| units.Yield_blup-Yield_blup | 343674.11 | 13300.93 | 25.838345 | Positive |\n",
       "\n",
       "\n",
       "$betas\n",
       ":   \n",
       "A data.frame: 3 × 5\n",
       "\n",
       "| Trait &lt;fct&gt; | Effect &lt;fct&gt; | Estimate &lt;dbl&gt; | Std.Error &lt;dbl&gt; | t.value &lt;dbl&gt; |\n",
       "|---|---|---|---|---|\n",
       "| Yield_blup | environIA_2012 | 3146.983 | 28.54727 | 110.23762 |\n",
       "| Yield_blup | environIA_2013 | 2778.546 | 28.54727 |  97.33139 |\n",
       "| Yield_blup | environIL_2012 | 3633.347 | 28.54727 | 127.27474 |\n",
       "\n",
       "\n",
       "$method\n",
       ":   'NR'\n",
       "$logo\n",
       ":   \n",
       "A data.frame: 1 × 5\n",
       "\n",
       "| <!--/--> | logLik &lt;dbl&gt; | AIC &lt;dbl&gt; | BIC &lt;dbl&gt; | Method &lt;chr&gt; | Converge &lt;lgl&gt; |\n",
       "|---|---|---|---|---|---|\n",
       "| Value | -523.9647 | 1053.929 | 1069.833 | NR | TRUE |\n",
       "\n",
       "\n",
       "\n",
       "\n"
      ],
      "text/plain": [
       "========================================================================\n",
       "               Multivariate Linear Mixed Model fit by REML               \n",
       "****************************  sommer 4.1  **************************** \n",
       "========================================================================\n",
       "         logLik      AIC      BIC Method Converge\n",
       "Value -523.9647 1053.929 1069.833     NR     TRUE\n",
       "========================================================================\n",
       "Variance-Covariance components:\n",
       "                                       VarComp VarCompSE Zratio Constraint\n",
       "u:strain.Yield_blup-Yield_blup               0     11503  0.000   Positive\n",
       "u:environ:strain.Yield_blup-Yield_blup   65969     20118  3.279   Positive\n",
       "units.Yield_blup-Yield_blup             343674     13301 25.838   Positive\n",
       "========================================================================\n",
       "Fixed effects:\n",
       "       Trait         Effect Estimate Std.Error t.value\n",
       "1 Yield_blup environIA_2012     3147     28.55  110.24\n",
       "2 Yield_blup environIA_2013     2779     28.55   97.33\n",
       "3 Yield_blup environIL_2012     3633     28.55  127.27\n",
       "========================================================================\n",
       "Groups and observations:\n",
       "                 Yield_blup\n",
       "u:strain                494\n",
       "u:environ:strain       1482\n",
       "========================================================================\n",
       "Use the '$' sign to access results and parameters"
      ]
     },
     "metadata": {},
     "output_type": "display_data"
    }
   ],
   "source": [
    "fitCS1B <- mmer(Yield_blup~environ-1,\n",
    "              random= ~ vs(strain, Gu=A_Sub1) + vs(environ:strain, Gu=EA),\n",
    "              rcov= ~ units,\n",
    "              data=DT_Sub1B, verbose = FALSE)\n",
    "summary(fitCS1B)"
   ]
  },
  {
   "cell_type": "code",
   "execution_count": 66,
   "id": "ambient-source",
   "metadata": {},
   "outputs": [
    {
     "data": {
      "text/html": [
       "247"
      ],
      "text/latex": [
       "247"
      ],
      "text/markdown": [
       "247"
      ],
      "text/plain": [
       "[1] 247"
      ]
     },
     "metadata": {},
     "output_type": "display_data"
    },
    {
     "data": {
      "text/html": [
       "0.206687791744123"
      ],
      "text/latex": [
       "0.206687791744123"
      ],
      "text/markdown": [
       "0.206687791744123"
      ],
      "text/plain": [
       "[1] 0.2066878"
      ]
     },
     "metadata": {},
     "output_type": "display_data"
    }
   ],
   "source": [
    "m <- model.matrix(~ environ-1 ,data=DT_Sub1)\n",
    "m_beta <- m %*% as.numeric(fitCS1B$Beta[,3]) \n",
    "tstPred2 <- (m_beta+fitCS1B$U$`u:environ:strain`$Yield_blup)[tstIndices2]\n",
    "length(tstPred2)\n",
    "cor(tstPred2,DT_Sub1[tstIndices2,\"Yield_blup\"])\n"
   ]
  },
  {
   "cell_type": "markdown",
   "id": "existing-austria",
   "metadata": {},
   "source": [
    "#### **Untested Genotypes in Untested Environment**"
   ]
  },
  {
   "cell_type": "code",
   "execution_count": null,
   "id": "seasonal-peeing",
   "metadata": {},
   "outputs": [],
   "source": [
    "set.seed(125)\n",
    "tstStrain <- sample(unqiue(DT_Sub1[,\"strain\"]),0.2*length(unqiue(DT_Sub1[,\"strain\"])))\n",
    "length(tstStrain)\n",
    "tstIndices2 <- which(DT_Sub1[,\"strain\"] %in% tstStrain)\n",
    "DT_Sub1B <- DT_Sub1\n",
    "DT_Sub1B[tstIndices2 ,\"Yeild_blup\"] <- NA\n",
    "dim(DT_Sub1B) \n",
    "\n",
    "tstIndices1 <- which(DT_Sub1[,\"environ\"] %in% \"IA_2013\") \n",
    "\n",
    "tstIndices3 <- intersect(tstIndices2,tstIndices1)\n",
    "DT_Sub1C <- DT_Sub1B\n",
    "DT_Sub1C[tstIndices3 ,\"Yeild_blup\"] <- NA\n",
    "\n"
   ]
  },
  {
   "cell_type": "code",
   "execution_count": null,
   "id": "israeli-coverage",
   "metadata": {},
   "outputs": [],
   "source": [
    "fitDG1C <- mmer(Yield_blup ~ environ-1,\n",
    "              random=~vs(ds(environ),strain,Gu=A_Sub1),\n",
    "              rcov=~units,\n",
    "              data=DT_Sub1C,verbose=FALSE)\n",
    "\n",
    "summary(fitDG1C)"
   ]
  },
  {
   "cell_type": "markdown",
   "id": "female-justice",
   "metadata": {},
   "source": [
    "#### **Discussion** ####"
   ]
  },
  {
   "cell_type": "code",
   "execution_count": null,
   "id": "ahead-march",
   "metadata": {},
   "outputs": [],
   "source": []
  }
 ],
 "metadata": {
  "kernelspec": {
   "display_name": "R 4.1.0",
   "language": "R",
   "name": "ir410"
  },
  "language_info": {
   "codemirror_mode": "r",
   "file_extension": ".r",
   "mimetype": "text/x-r-source",
   "name": "R",
   "pygments_lexer": "r",
   "version": "4.1.0"
  }
 },
 "nbformat": 4,
 "nbformat_minor": 5
}
