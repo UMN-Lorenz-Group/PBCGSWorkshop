{
 "cells": [
  {
   "cell_type": "markdown",
   "id": "cubic-shaft",
   "metadata": {},
   "source": [
    "---\n",
    "### **Data Bootcamp for Genomic Prediction in Plant Breeding** ###\n",
    "### **University of Minnesota Plant Breeding Center** ###\n",
    "#### **June 20 - 22, 2022** ####\n",
    "---"
   ]
  },
  {
   "cell_type": "markdown",
   "id": "becoming-arlington",
   "metadata": {},
   "source": [
    "### **Practical 5:  Modeling Genotype-Environment Interactions (GxE)** ###"
   ]
  },
  {
   "cell_type": "raw",
   "id": "proof-bulgarian",
   "metadata": {},
   "source": []
  },
  {
   "cell_type": "markdown",
   "id": "otherwise-beach",
   "metadata": {},
   "source": [
    "#### **Source Scripts and Load Data**\n"
   ]
  },
  {
   "cell_type": "code",
   "execution_count": null,
   "id": "subjective-aluminum",
   "metadata": {},
   "outputs": [],
   "source": [
    "WorkDir <- getwd()\n",
    "setwd(WorkDir)\n",
    "\n",
    "##Source in functions to be used\n",
    "source(\"R_Functions/GS_Pipeline_Jan_2022_FnsApp.R\")\n",
    "source(\"R_Functions/bootcamp_functions.R\")\n",
    "\n",
    "\n"
   ]
  },
  {
   "cell_type": "markdown",
   "id": "studied-mills",
   "metadata": {},
   "source": [
    "#### **Read Genotype File using vcfR** ####"
   ]
  },
  {
   "cell_type": "code",
   "execution_count": null,
   "id": "english-substitute",
   "metadata": {},
   "outputs": [],
   "source": [
    "\n",
    "##Load in genotype data. Use package vcfR to read in and work with vcf file.\n",
    "infileVCF <- \"Data/SoyNAM_Geno.vcf\"\n",
    "genotypes_VCF <- read.table(infileVCF)\n",
    "vcf <- read.vcfR(infileVCF, verbose = FALSE)\n",
    "vcf"
   ]
  },
  {
   "cell_type": "markdown",
   "id": "electrical-compiler",
   "metadata": {},
   "source": [
    "\n",
    "#### **Convert VCF file format to numerical matrix format.**\n",
    "#### Final genotype matrix is geno_num"
   ]
  },
  {
   "cell_type": "code",
   "execution_count": null,
   "id": "second-decade",
   "metadata": {},
   "outputs": [],
   "source": [
    "gt <- extract.gt(vcf, element = \"GT\", as.numeric = F)\n",
    "fix_T <- as_tibble(getFIX(vcf))\n",
    "gt2 <- matrix(0, ncol = ncol(gt), nrow = nrow(gt))\n",
    "colnames(gt2) <- colnames(gt)\n",
    "rownames(gt2) <- rownames(gt)\n",
    "gt2a <- apply(gt,2, function(x) gsub(\"1/1\",\"1\",x))\n",
    "gt2b <- gsub(\"0[/|]0\",\"0\",gt2a)\n",
    "gt2c <- gsub(\"[10][/|][10]\",\"0.5\",gt2b)\n",
    "gt2d <- gsub(\"\\\\.[/|]\\\\.\",\"NA\",gt2c)\n",
    "\n",
    "gt2d_num<- apply(gt2d,2,as.numeric)\n",
    "rownames(gt2d_num)<- rownames(gt2d)\n",
    "geno_num <- t(gt2d_num)\n",
    "dim(geno_num)\n",
    "rm(list=grep(\"gt2\",ls(),value=TRUE))\n"
   ]
  },
  {
   "cell_type": "markdown",
   "id": "right-norman",
   "metadata": {},
   "source": [
    "#### **Filter Genotypic Data**"
   ]
  },
  {
   "cell_type": "code",
   "execution_count": null,
   "id": "welsh-chess",
   "metadata": {},
   "outputs": [],
   "source": [
    "##Filter markers on % missing\n",
    "miss <- function(x){length(which(is.na(x)))}\n",
    "mrkNA <- (apply(geno_num, MARGIN=2, FUN=miss))/dim(geno_num)[1]\n",
    "ndx <- which(mrkNA > 0.2)\n",
    "\n",
    "if (length(ndx)>0) geno_num2 <- geno_num[, -ndx] else geno_num2 <- geno_num\n",
    "\n",
    "##Filter individuals on % missing\n",
    "indNA <- (apply(geno_num2, MARGIN=1, FUN=miss))/dim(geno_num2)[2]\n",
    "ndx2 <- which(indNA > 0.5)\n",
    "\n",
    " if(length(ndx2)>0) geno_num3 <- geno_num2[-ndx2, ] else geno_num3 <- geno_num2\n",
    "\n",
    "\n",
    "##Filter markers based on MAF\n",
    "maf <- apply(geno_num3, MARGIN=2, FUN=mean, na.rm=T)\n",
    "ndx3 <- which(maf<0.05 | maf>0.95) \n",
    "\n",
    "if (length(ndx3)>0) geno_num4 <- geno_num2[, -ndx3] else geno_num4 <- geno_num3\n",
    "  \n",
    "dim(geno_num4)"
   ]
  },
  {
   "cell_type": "markdown",
   "id": "exclusive-logic",
   "metadata": {},
   "source": [
    "#### **Import Phenotypic Data**"
   ]
  },
  {
   "cell_type": "code",
   "execution_count": null,
   "id": "moved-steps",
   "metadata": {},
   "outputs": [],
   "source": [
    "\n",
    "pheno <- read.csv(\"Data/SoyNAM_Pheno.csv\")\n",
    "geno_num4_x <- cbind(rownames(geno_num4),geno_num4)\n",
    "\n",
    "colnames(geno_num4_x)[1]<- \"strain\"\n",
    "\n",
    "## Merge Geno and Pheno Data\n",
    "Data <- merge(geno_num4_x,pheno,by=\"strain\",all=TRUE)\n",
    "\n",
    "## Remove with missing yiled_blup values \n",
    "\n",
    "YldNA_Indices <- which(is.na(Data$yield))\n",
    "Data_Sub <- Data[-YldNA_Indices,]\n",
    "\n",
    "\n",
    "genoStrain <- unique(geno_num4_x[,\"strain\"])\n",
    "genoStrainIndices <- which(Data_Sub[,\"strain\"] %in% genoStrain)\n",
    "\n",
    "genoIndices <- grep(\"ss\",colnames(geno_num4_x))\n",
    "initGenoIndx <- genoIndices[1]\n",
    "finalGenoIndx <- genoIndices[length(genoIndices)]\n",
    "phenoIndices <- c(1,c((finalGenoIndx+1):ncol(Data_Sub)))\n",
    "\n",
    "pheno_sub <- Data_Sub[genoStrainIndices,phenoIndices]\n",
    "geno_num4b <- Data_Sub[genoStrainIndices,c(1,genoIndices)]\n",
    "\n",
    "uniqueStrainIndices<- which(!duplicated(geno_num4b[,\"strain\"]))\n",
    "geno_num5 <- geno_num4b[uniqueStrainIndices,]\n",
    "\n",
    "\n",
    "### set 'yield' colname to 'Yield_blup'\n",
    "\n",
    "yldCol <- which(colnames(pheno_sub) %in% \"yield\")\n",
    "colnames(pheno_sub)[yldCol] <- \"Yield_blup\" \n",
    "\n",
    "dim(geno_num5)"
   ]
  },
  {
   "cell_type": "markdown",
   "id": "expressed-punishment",
   "metadata": {},
   "source": [
    "#### **Subset Environments** "
   ]
  },
  {
   "cell_type": "code",
   "execution_count": null,
   "id": "effective-diamond",
   "metadata": {},
   "outputs": [],
   "source": [
    "### Select 3 environs with largest number of evaluations (lines)  \n",
    "\n",
    "env_sub <-  names(which(table(pheno_sub[,\"environ\"])>5100)[1:3])\n",
    "\n",
    "env_sub_indices <- which(pheno_sub[,\"environ\"] %in% env_sub)\n",
    "\n",
    "## Subset Data and Geno tables \n",
    "DT <- pheno_sub[env_sub_indices,]\n",
    "\n",
    "DT$environ <- as.factor(DT$environ)\n",
    "\n",
    "dim(DT)"
   ]
  },
  {
   "cell_type": "markdown",
   "id": "musical-eating",
   "metadata": {},
   "source": [
    "#### **Impute Genotype Table** ###"
   ]
  },
  {
   "cell_type": "code",
   "execution_count": null,
   "id": "assured-documentary",
   "metadata": {},
   "outputs": [],
   "source": [
    "#### Impute genotable using markov function from 'NAM' package \n",
    "\n",
    "geno_imp <- markov(apply(geno_num5[,-1],2,as.numeric))\n",
    "rownames(geno_imp) <- geno_num5[,\"strain\"]\n",
    "dim(geno_imp)"
   ]
  },
  {
   "cell_type": "code",
   "execution_count": null,
   "id": "blessed-marble",
   "metadata": {},
   "outputs": [],
   "source": [
    "### \n",
    "env_geno_sub_indices <- which(rownames(geno_imp) %in% unique(DT[,\"strain\"]))\n",
    "geno_imp_sub <- geno_imp[env_geno_sub_indices,]\n",
    "\n",
    "dim(geno_imp_sub)"
   ]
  },
  {
   "cell_type": "markdown",
   "id": "neutral-transition",
   "metadata": {},
   "source": [
    "#### **Relationship Matrix Using A.mat** "
   ]
  },
  {
   "cell_type": "code",
   "execution_count": null,
   "id": "exempt-military",
   "metadata": {},
   "outputs": [],
   "source": [
    "K_rr <- A.mat(geno_imp_sub)\n",
    "colnames(K_rr) <-rownames(geno_imp_sub)\n",
    "rownames(K_rr) <- rownames(geno_imp_sub)\n",
    "A <- K_rr\n",
    "dim(A)\n",
    "\n"
   ]
  },
  {
   "cell_type": "markdown",
   "id": "relevant-walter",
   "metadata": {},
   "source": [
    "#### **Subset Genotypes for Computation Demo** "
   ]
  },
  {
   "cell_type": "code",
   "execution_count": null,
   "id": "mighty-analyst",
   "metadata": {},
   "outputs": [],
   "source": [
    "  \n",
    "A_Sub <- A[1:500,1:500]\n",
    "DT_Sub <- DT[which(DT[,\"strain\"] %in% rownames(A_Sub)),]\n",
    "\n",
    "E <- diag(length(unique(DT$environ)))\n",
    "rownames(E) <- colnames(E) <- unique(DT$environ)\n",
    "dim(E)\n",
    "\n",
    "### Same set of strains in each of the environments \n",
    "\n",
    "rmStrains <- names(which(table(DT_Sub[,\"strain\"]) <3))\n",
    "DT_Sub1 <- DT_Sub[-which(DT_Sub[,\"strain\"] %in% rmStrains),]\n",
    "\n",
    "A_Sub1 <- A_Sub[-which(rownames(A_Sub) %in% rmStrains),-which(rownames(A_Sub) %in% rmStrains)]\n",
    "dim(A_Sub1)"
   ]
  },
  {
   "cell_type": "raw",
   "id": "amended-footwear",
   "metadata": {},
   "source": []
  },
  {
   "cell_type": "markdown",
   "id": "mounted-passport",
   "metadata": {},
   "source": [
    "### **Exercise - Compare a few of the var-covar structures in SOMMER package**\n"
   ]
  },
  {
   "cell_type": "markdown",
   "id": "surgical-fence",
   "metadata": {},
   "source": [
    "#### **Model with Main Effect** #### \n",
    "##### Model environment as fixed effect (estimate population mean for each of the environments) and estimate random effects for genotypes \n"
   ]
  },
  {
   "cell_type": "code",
   "execution_count": null,
   "id": "wired-whale",
   "metadata": {},
   "outputs": [],
   "source": [
    "\n",
    "fitMain <- mmer(Yield_blup~environ-1,\n",
    "                random=~vs(strain,Gu=A_Sub1),\n",
    "                rcov=~units,\n",
    "                data=DT_Sub1,verbose=FALSE)\n",
    "summary(fitMain)\n"
   ]
  },
  {
   "cell_type": "code",
   "execution_count": null,
   "id": "automated-sending",
   "metadata": {},
   "outputs": [],
   "source": [
    "\n",
    "m <- model.matrix(~ environ-1 ,data=DT_Sub1)\n",
    "m_beta <- m %*% as.numeric(fitMain$Beta[,3]) \n",
    "PredMain <- m_beta+fitMain$U$`u:strain`$Yield_blup\n",
    "cor(PredMain,DT_Sub1[,\"Yield_blup\"]) "
   ]
  },
  {
   "cell_type": "markdown",
   "id": "corresponding-audio",
   "metadata": {},
   "source": [
    "#### **Model with Compound Symmetry var-covar structure** ####\n",
    "##### Compound symmetry assumes GxE effects and also assumes constant correlation among environments"
   ]
  },
  {
   "cell_type": "code",
   "execution_count": null,
   "id": "developing-inside",
   "metadata": {},
   "outputs": [],
   "source": [
    "\n",
    "E <- diag(length(unique(DT_Sub1$environ)))\n",
    "rownames(E) <- colnames(E) <- unique(DT_Sub1$environ)\n",
    "\n",
    "EA <- kronecker(E,A_Sub1, make.dimnames = TRUE)\n",
    "DT_Sub1$environ <- as.factor(DT_Sub1$environ)\n",
    "DT_Sub1$strain <- as.factor(DT_Sub1$strain)\n",
    "\n",
    "fitCS <- mmer(Yield_blup~environ-1,\n",
    "              random= ~ vs(strain, Gu=A_Sub1) + vs(environ:strain, Gu=EA),\n",
    "              rcov= ~ units,\n",
    "              data=DT_Sub1, verbose = FALSE)\n",
    "summary(fitCS)"
   ]
  },
  {
   "cell_type": "code",
   "execution_count": null,
   "id": "loose-jackson",
   "metadata": {},
   "outputs": [],
   "source": [
    "\n",
    "m <- model.matrix(~ environ-1 ,data=DT_Sub1)\n",
    "m_beta <- m %*% as.numeric(fitCS$Beta[,3]) \n",
    "PredCS <- m_beta+fitCS$U$`u:environ:strain`$Yield_blup\n",
    "cor(PredCS,DT_Sub1[,\"Yield_blup\"]) \n"
   ]
  },
  {
   "cell_type": "markdown",
   "id": "treated-neutral",
   "metadata": {},
   "source": [
    "#### **Model with Compound Symmetry + Diagonal Structure** ####\n",
    "##### Heterogeneous gxe variance among environmenta and constant genotic co-variance among environments "
   ]
  },
  {
   "cell_type": "code",
   "execution_count": null,
   "id": "nervous-recovery",
   "metadata": {},
   "outputs": [],
   "source": [
    "fitCSDG <- mmer(Yield_blup~environ-1,\n",
    "                random=~vs(strain,Gu=A_Sub1) +vs(ds(environ),strain,Gu=A_Sub1),\n",
    "                rcov=~units,\n",
    "                data=DT_Sub1,verbose=FALSE) \n",
    "\n",
    "summary(fitCSDG)"
   ]
  },
  {
   "cell_type": "code",
   "execution_count": null,
   "id": "virgin-violation",
   "metadata": {},
   "outputs": [],
   "source": [
    "\n",
    "m2 <- cbind(c(rep(1,nrow(DT_Sub1)/3),rep(0,2*nrow(DT_Sub1)/3)),c(rep(1,nrow(DT_Sub1)/3),rep(0,nrow(DT_Sub1)/3),rep(1,nrow(DT_Sub1)/3)),\n",
    "c(rep(1,nrow(DT_Sub1)/3),rep(1,nrow(DT_Sub1)/3),rep(0,nrow(DT_Sub1)/3)))\n",
    "\n",
    "m_beta <- m2 %*% as.numeric(fitCSDG$Beta[,3]) \n",
    "length(m_beta)\n",
    "m_env_strain <- do.call(cbind,lapply(fitCSDG$U,function(x) x$Yield_blup))\n",
    "dim(m_env_strain)\n",
    "envStrain_blup <-c(m_env_strain[,2:4])                              \n",
    "                  \n",
    "strain_blup <- rep(fitCSDG$U$`u:strain`$Yield_blup,3)\n",
    "length(strain_blup)"
   ]
  },
  {
   "cell_type": "code",
   "execution_count": null,
   "id": "forced-neutral",
   "metadata": {},
   "outputs": [],
   "source": [
    "PredCSDG <- m_beta+strain_blup+envStrain_blup\n",
    "\n",
    "indES <-  sort.int(as.numeric(DT_Sub1[,\"environ\"]),decreasing=FALSE,index.return=TRUE)[[2]]\n",
    "\n",
    "cor(PredCSDG,DT_Sub1[indES,\"Yield_blup\"]) \n"
   ]
  },
  {
   "cell_type": "markdown",
   "id": "bored-cache",
   "metadata": {},
   "source": [
    "#### **Model with US - Unstructured Variance-Covariance** ####"
   ]
  },
  {
   "cell_type": "code",
   "execution_count": null,
   "id": "distant-portfolio",
   "metadata": {},
   "outputs": [],
   "source": [
    "fitUS <- mmer(Yield_blup~environ-1,\n",
    "                random=~vs(us(environ),strain,Gu=A_Sub1),\n",
    "                rcov=~units,\n",
    "                data=DT_Sub1,verbose=FALSE) \n",
    "summary(fitUS)"
   ]
  },
  {
   "cell_type": "code",
   "execution_count": null,
   "id": "russian-glasgow",
   "metadata": {},
   "outputs": [],
   "source": [
    "envNames <- levels(factor(DT_Sub1$environ))\n",
    "env1Ind <- c(1,3,6)\n",
    "U_envStrain <- list()\n",
    "  for(i in 1:length(envNames)){\n",
    "       envInd <-  grep(envNames[i],names(fitUS$U))\n",
    "       U_envStrain[[i]] <-  as.numeric(fitUS$U[[env1Ind[i]]]$Yield_blup)\n",
    "     for(j  in 2:length(envInd)){ \n",
    "         indJ <- envInd[j]\n",
    "         b <- cbind(names(fitUS$U[[indJ]]$Yield_blup),fitUS$U[[indJ]]$Yield_blup)\n",
    "         colnames(b) <- c(\"strain\",\"Yield_blup\")\n",
    "         b_group <- as_tibble(b) %>% group_by(strain)\n",
    "         YldBlup_group <- b_group %>% summarise(Yield_blup = sum(as.numeric(Yield_blup)))\n",
    "         U_envStrain[[i]] <- U_envStrain[[i]] +YldBlup_group[,2] + fitUS$Beta[i,3]\n",
    "       } \n",
    "     }\n",
    "    \n",
    "PredUS <- c(unlist(U_envStrain))\n",
    "        \n",
    "indES <-  sort.int(as.numeric(DT_Sub1[,\"environ\"]),decreasing=FALSE,index.return=TRUE)[[2]]\n",
    "cor(PredUS[indES],DT_Sub1[indES,\"Yield_blup\"]) \n"
   ]
  },
  {
   "cell_type": "raw",
   "id": "remarkable-court",
   "metadata": {},
   "source": []
  },
  {
   "cell_type": "markdown",
   "id": "exposed-sullivan",
   "metadata": {},
   "source": [
    "### **Exercise - Predict performance of tested and untested genotypes in tested and untested environments** ###"
   ]
  },
  {
   "cell_type": "markdown",
   "id": "typical-microwave",
   "metadata": {},
   "source": [
    "#### **Tested Genotypes in Untested Environment**"
   ]
  },
  {
   "cell_type": "code",
   "execution_count": null,
   "id": "behavioral-london",
   "metadata": {},
   "outputs": [],
   "source": [
    "### Remove lines from IA2013 and train the model using IA2012 and IL2013 only and predict \n",
    "### performance of lines for IA2013 (untested environ) and compare accuracy with model \n",
    "### incorporating data from IA2013 in the training model \n",
    "\n",
    "tstIndices1 <- which(DT_Sub1[,\"environ\"] %in% \"IA_2013\") \n",
    "\n",
    "DT_Sub1A <- DT_Sub1\n",
    "DT_Sub1A[tstIndices1 ,\"Yeild_blup\"] <- NA\n",
    "#DT_Sub1A[tstIndices1 ,\"environ\"] <- NA\n",
    "\n",
    "dim(DT_Sub1A)"
   ]
  },
  {
   "cell_type": "code",
   "execution_count": null,
   "id": "brave-weapon",
   "metadata": {},
   "outputs": [],
   "source": [
    "\n",
    "E <- diag(length(unique(DT_Sub1A$environ)))\n",
    "rownames(E) <- colnames(E) <- unique(DT_Sub1A$environ)\n",
    "dim(E)\n",
    "\n",
    "EA <- kronecker(E,A_Sub1, make.dimnames = TRUE)\n",
    "DT_Sub1$Aenviron <- as.factor(DT_Sub1A$environ)\n",
    "DT_Sub1A$strain <- as.factor(DT_Sub1A$strain) \n",
    "\n",
    "dim(EA)"
   ]
  },
  {
   "cell_type": "code",
   "execution_count": null,
   "id": "painful-thesaurus",
   "metadata": {},
   "outputs": [],
   "source": [
    "fitCS1A <- mmer(Yield_blup~environ-1,\n",
    "              random= ~ vs(strain, Gu=A_Sub1) + vs(environ:strain, Gu=EA),\n",
    "              rcov= ~ units,\n",
    "              data=DT_Sub1A, verbose = FALSE)\n",
    "summary(fitCS1A)\n"
   ]
  },
  {
   "cell_type": "code",
   "execution_count": null,
   "id": "induced-antigua",
   "metadata": {},
   "outputs": [],
   "source": [
    "m <- model.matrix(~ environ-1 ,data=DT_Sub1)\n",
    "m_beta <- m %*% as.numeric(fitCS1A$Beta[,3]) \n",
    "tstPred1 <- (m_beta+fitCS1A$U$`u:environ:strain`$Yield_blup)[tstIndices1]\n",
    "length(tstPred1)\n",
    "cor(tstPred1,DT_Sub1[tstIndices1,\"Yield_blup\"])\n"
   ]
  },
  {
   "cell_type": "markdown",
   "id": "afraid-bottom",
   "metadata": {},
   "source": [
    "#### **Unstructured Var-Covar for Untested Environment**"
   ]
  },
  {
   "cell_type": "code",
   "execution_count": null,
   "id": "bigger-basement",
   "metadata": {},
   "outputs": [],
   "source": [
    "fitUS1A <- mmer(Yield_blup~environ-1,\n",
    "                random=~vs(us(environ),strain,Gu=A_Sub1),\n",
    "                rcov=~units,\n",
    "                data=DT_Sub1A,verbose=FALSE) \n",
    "summary(fitUS1A)"
   ]
  },
  {
   "cell_type": "code",
   "execution_count": null,
   "id": "administrative-declaration",
   "metadata": {},
   "outputs": [],
   "source": [
    "names(fitUS1A$U)\n",
    "envNames <- levels(factor(DT_Sub1A$environ))\n",
    "env1Ind <- c(1,3,6)\n",
    "U_envStrain <- list()\n",
    "  for(i in 1:length(envNames)){\n",
    "       envInd <-  grep(envNames[i],names(fitUS1A$U))\n",
    "       U_envStrain[[i]] <-  as.numeric(fitUS1A$U[[env1Ind[i]]]$Yield_blup)\n",
    "     for(j  in 2:length(envInd)){ \n",
    "         indJ <- envInd[j]\n",
    "         b <- cbind(names(fitUS1A$U[[indJ]]$Yield_blup),fitUS1A$U[[indJ]]$Yield_blup)\n",
    "         colnames(b) <- c(\"strain\",\"Yield_blup\")\n",
    "         b_group <- as_tibble(b) %>% group_by(strain)\n",
    "         YldBlup_group <- b_group %>% summarise(Yield_blup = sum(as.numeric(Yield_blup)))\n",
    "         U_envStrain[[i]] <- U_envStrain[[i]] +YldBlup_group[,2] + fitUS1A$Beta[i,3]\n",
    "       } \n",
    "     }\n",
    "    \n",
    "PredUS <- c(unlist(U_envStrain))\n",
    "        \n",
    "indES <-  sort.int(as.numeric(DT_Sub1A[,\"environ\"]),decreasing=FALSE,index.return=TRUE)[[2]]\n",
    "                        \n",
    "cor(PredUS[indES[tstIndices1]],DT_Sub1[indES[tstIndices1],\"Yield_blup\"]) "
   ]
  },
  {
   "cell_type": "markdown",
   "id": "forced-revolution",
   "metadata": {},
   "source": [
    "#### **Untested Genotypes in Tested Environments** ####"
   ]
  },
  {
   "cell_type": "code",
   "execution_count": null,
   "id": "tired-diary",
   "metadata": {},
   "outputs": [],
   "source": [
    "### Subset Data to generate untested genotypes \n",
    "\n",
    "set.seed(125)\n",
    "tstStrain <- sample(unique(DT_Sub1[,\"strain\"]),0.2*length(unique(DT_Sub1[,\"strain\"])))\n",
    "length(tstStrain)\n",
    "tstIndices2 <- which(DT_Sub1[,\"strain\"] %in% tstStrain)\n",
    "DT_Sub1B <- DT_Sub1\n",
    "DT_Sub1B[tstIndices2 ,\"Yeild_blup\"] <- NA\n",
    "dim(DT_Sub1B)"
   ]
  },
  {
   "cell_type": "code",
   "execution_count": null,
   "id": "engaging-shopping",
   "metadata": {},
   "outputs": [],
   "source": [
    "\n",
    "E <- diag(length(unique(DT_Sub1B$environ)))\n",
    "rownames(E) <- colnames(E) <- unique(DT_Sub1B$environ)\n",
    "dim(E)\n",
    "\n",
    "### Kronecker Product for EA\n",
    "\n",
    "EA <- kronecker(E,A_Sub1, make.dimnames = TRUE)\n",
    "DT_Sub1B$environ <- as.factor(DT_Sub1B$environ)\n",
    "DT_Sub1B$strain <- as.factor(DT_Sub1B$strain) \n",
    "\n",
    "dim(EA)"
   ]
  },
  {
   "cell_type": "markdown",
   "id": "fixed-operations",
   "metadata": {},
   "source": [
    "#### **Fit Compound Symmetry Var-Covar Structure for Tested Environments**"
   ]
  },
  {
   "cell_type": "code",
   "execution_count": null,
   "id": "regional-sunglasses",
   "metadata": {},
   "outputs": [],
   "source": [
    "fitCS1B <- mmer(Yield_blup~environ-1,\n",
    "              random= ~ vs(strain, Gu=A_Sub1) + vs(environ:strain, Gu=EA),\n",
    "              rcov= ~ units,\n",
    "              data=DT_Sub1B, verbose = FALSE)\n",
    "summary(fitCS1B)"
   ]
  },
  {
   "cell_type": "code",
   "execution_count": null,
   "id": "stupid-dragon",
   "metadata": {},
   "outputs": [],
   "source": [
    "m <- model.matrix(~ environ-1 ,data=DT_Sub1)\n",
    "m_beta <- m %*% as.numeric(fitCS1B$Beta[,3]) \n",
    "tstPred2 <- (m_beta+fitCS1B$U$`u:environ:strain`$Yield_blup)[tstIndices2]\n",
    "length(tstPred2)\n",
    "cor(tstPred2,DT_Sub1[tstIndices2,\"Yield_blup\"])\n"
   ]
  },
  {
   "cell_type": "markdown",
   "id": "recorded-shuttle",
   "metadata": {},
   "source": [
    "#### **Untested Genotypes in Untested Environment**"
   ]
  },
  {
   "cell_type": "code",
   "execution_count": null,
   "id": "atlantic-venice",
   "metadata": {},
   "outputs": [],
   "source": [
    "### Subset Data to generate untested genotypes in untested environments\n",
    "\n",
    "set.seed(125)\n",
    "tstStrain <- sample(unique(DT_Sub1[,\"strain\"]),0.2*length(unique(DT_Sub1[,\"strain\"])))\n",
    "length(tstStrain)\n",
    "tstIndices2 <- which(DT_Sub1[,\"strain\"] %in% tstStrain)\n",
    "DT_Sub1B <- DT_Sub1\n",
    "DT_Sub1B[tstIndices2 ,\"Yeild_blup\"] <- NA\n",
    "dim(DT_Sub1B) \n",
    "\n",
    "tstIndices1 <- which(DT_Sub1[,\"environ\"] %in% \"IA_2013\") \n",
    "\n",
    "tstIndices3 <- intersect(tstIndices2,tstIndices1)\n",
    "DT_Sub1C <- DT_Sub1B\n",
    "DT_Sub1C[tstIndices3 ,\"Yeild_blup\"] <- NA\n",
    "\n"
   ]
  },
  {
   "cell_type": "markdown",
   "id": "transsexual-activity",
   "metadata": {},
   "source": [
    "#### **Fit Model using Unstructured Var-Covar Matrix for Untested Environments**"
   ]
  },
  {
   "cell_type": "code",
   "execution_count": null,
   "id": "major-outdoors",
   "metadata": {},
   "outputs": [],
   "source": [
    "fitUS1C <- mmer(Yield_blup ~ environ-1,\n",
    "              random=~vs(us(environ),strain,Gu=A_Sub1),\n",
    "              rcov=~units,\n",
    "              data=DT_Sub1C,verbose=FALSE)\n",
    "\n",
    "summary(fitUS1C)"
   ]
  },
  {
   "cell_type": "code",
   "execution_count": null,
   "id": "educational-departure",
   "metadata": {},
   "outputs": [],
   "source": [
    "envNames <- levels(factor(DT_Sub1C$environ))\n",
    "env1Ind <- c(1,3,6)\n",
    "U_envStrain <- list()\n",
    "  for(i in 1:length(envNames)){\n",
    "    # envInd <- which(names(fitUS1C$U) %in% envNames[i])\n",
    "      envInd <-  grep(envNames[i],names(fitUS1C$U))\n",
    "       U_envStrain[[i]] <-  as.numeric(fitUS1C$U[[env1Ind[i]]]$Yield_blup)\n",
    "     for(j  in 2:length(envInd)){ \n",
    "         indJ <- envInd[j]\n",
    "         b <- cbind(names(fitUS1C$U[[indJ]]$Yield_blup),fitUS1C$U[[indJ]]$Yield_blup)\n",
    "         colnames(b) <- c(\"strain\",\"Yield_blup\")\n",
    "         b_group <- as_tibble(b) %>% group_by(strain)\n",
    "         YldBlup_group <- b_group %>% summarise(Yield_blup = sum(as.numeric(Yield_blup)))\n",
    "         U_envStrain[[i]] <- U_envStrain[[i]] +YldBlup_group[,2] + fitUS1C$Beta[i,3]\n",
    "       } \n",
    "     }\n",
    "    \n",
    "\n",
    " \n",
    "PredUS1C <- c(unlist(U_envStrain))\n",
    "        \n",
    "indES <-  sort.int(as.numeric(DT_Sub1C[,\"environ\"]),decreasing=FALSE,index.return=TRUE)[[2]]\n",
    " \n",
    "                                     \n",
    "cor(PredUS1C[indES[tstIndices3]],DT_Sub1[indES[tstIndices3],\"Yield_blup\"]) "
   ]
  },
  {
   "cell_type": "raw",
   "id": "helpful-atmosphere",
   "metadata": {},
   "source": []
  },
  {
   "cell_type": "markdown",
   "id": "sudden-tender",
   "metadata": {},
   "source": [
    "#### **Discuss other ways to model these scenarios and refine these models**"
   ]
  },
  {
   "cell_type": "code",
   "execution_count": null,
   "id": "naval-confirmation",
   "metadata": {},
   "outputs": [],
   "source": []
  }
 ],
 "metadata": {
  "kernelspec": {
   "display_name": "R 4.1.0",
   "language": "R",
   "name": "ir410"
  },
  "language_info": {
   "codemirror_mode": "r",
   "file_extension": ".r",
   "mimetype": "text/x-r-source",
   "name": "R",
   "pygments_lexer": "r",
   "version": "4.1.0"
  }
 },
 "nbformat": 4,
 "nbformat_minor": 5
}
