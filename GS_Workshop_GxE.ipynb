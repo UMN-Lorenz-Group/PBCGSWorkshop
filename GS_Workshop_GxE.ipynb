{
 "cells": [
  {
   "cell_type": "markdown",
   "id": "cubic-shaft",
   "metadata": {},
   "source": [
    "---\n",
    "### **Data Bootcamp for Genomic Prediction in Plant Breeding** ###\n",
    "### **University of Minnesota Plant Breeding Center** ###\n",
    "#### **June 20 - 22, 2022** ####\n",
    "---"
   ]
  },
  {
   "cell_type": "markdown",
   "id": "becoming-arlington",
   "metadata": {},
   "source": [
    "### **Practical 5:  Modeling Genotype-Environment Interactions (GxE)** ###"
   ]
  },
  {
   "cell_type": "raw",
   "id": "proof-bulgarian",
   "metadata": {},
   "source": []
  },
  {
   "cell_type": "markdown",
   "id": "otherwise-beach",
   "metadata": {},
   "source": [
    "#### **Source Scripts and Load Data**\n"
   ]
  },
  {
   "cell_type": "code",
   "execution_count": 1,
   "id": "subjective-aluminum",
   "metadata": {},
   "outputs": [
    {
     "name": "stderr",
     "output_type": "stream",
     "text": [
      "\n",
      "Attaching package: ‘dplyr’\n",
      "\n",
      "\n",
      "The following objects are masked from ‘package:stats’:\n",
      "\n",
      "    filter, lag\n",
      "\n",
      "\n",
      "The following objects are masked from ‘package:base’:\n",
      "\n",
      "    intersect, setdiff, setequal, union\n",
      "\n",
      "\n",
      "\n",
      "   *****       ***   vcfR   ***       *****\n",
      "   This is vcfR 1.12.0 \n",
      "     browseVignettes('vcfR') # Documentation\n",
      "     citation('vcfR') # Citation\n",
      "   *****       *****      *****       *****\n",
      "\n",
      "\n",
      "\n",
      "Attaching package: ‘bWGR’\n",
      "\n",
      "\n",
      "The following objects are masked from ‘package:NAM’:\n",
      "\n",
      "    CNT, emBA, emBB, emBC, emBL, emCV, emDE, emEN, emGWA, emML, emML2,\n",
      "    emRR, GAU, GRM, IMP, KMUP, KMUP2, markov, mkr, mkr2X, mrr, mrr2X,\n",
      "    SPC, SPM, wgr\n",
      "\n",
      "\n",
      "\n",
      "Attaching package: ‘emoa’\n",
      "\n",
      "\n",
      "The following object is masked from ‘package:dplyr’:\n",
      "\n",
      "    coalesce\n",
      "\n",
      "\n",
      "\n",
      "Attaching package: ‘MASS’\n",
      "\n",
      "\n",
      "The following object is masked from ‘package:dplyr’:\n",
      "\n",
      "    select\n",
      "\n",
      "\n",
      "\n",
      "Attaching package: ‘sommer’\n",
      "\n",
      "\n",
      "The following objects are masked from ‘package:rrBLUP’:\n",
      "\n",
      "    A.mat, GWAS\n",
      "\n",
      "\n",
      "Bioconductor version '3.14' is out-of-date; the current release version '3.15'\n",
      "  is available with R version '4.2'; see https://bioconductor.org/install\n",
      "\n",
      "'getOption(\"repos\")' replaces Bioconductor standard repositories, see\n",
      "'?repositories' for details\n",
      "\n",
      "replacement repositories:\n",
      "    CRAN: https://packagemanager.rstudio.com/all/__linux__/bionic/2022-05-01+Y3JhbjoyMDIyLTA0LTI5LDI6NDUyNjIxNTs2NUYyNkFDNQ\n",
      "\n",
      "\n",
      "Bioconductor version 3.14 (BiocManager 1.30.17), R 4.1.2 (2021-11-01)\n",
      "\n",
      "Old packages: 'brew', 'clipr', 'commonmark', 'desc', 'evaluate', 'gert',\n",
      "  'httpuv', 'IRdisplay', 'jsonlite', 'knitr', 'openssl', 'pbdZMQ', 'processx',\n",
      "  'ps', 'repr', 'rprojroot', 'sass', 'testthat', 'uuid', 'waldo', 'yaml'\n",
      "\n",
      "'getOption(\"repos\")' replaces Bioconductor standard repositories, see\n",
      "'?repositories' for details\n",
      "\n",
      "replacement repositories:\n",
      "    CRAN: https://packagemanager.rstudio.com/all/__linux__/bionic/2022-05-01+Y3JhbjoyMDIyLTA0LTI5LDI6NDUyNjIxNTs2NUYyNkFDNQ\n",
      "\n",
      "\n",
      "\n",
      "Attaching package: ‘devtools’\n",
      "\n",
      "\n",
      "The following object is masked from ‘package:BiocManager’:\n",
      "\n",
      "    install\n",
      "\n",
      "\n",
      "Welcome to rTASSEL (version 0.9.26)\n",
      " • Consider starting a TASSEL log file (see ?startLogger())\n",
      "\n",
      "\n"
     ]
    },
    {
     "data": {
      "text/html": [
       "<table class=\"dataframe\">\n",
       "<caption>A matrix: 2 × 6 of type dbl</caption>\n",
       "<thead>\n",
       "\t<tr><th></th><th scope=col>used</th><th scope=col>(Mb)</th><th scope=col>gc trigger</th><th scope=col>(Mb)</th><th scope=col>max used</th><th scope=col>(Mb)</th></tr>\n",
       "</thead>\n",
       "<tbody>\n",
       "\t<tr><th scope=row>Ncells</th><td> 5762761</td><td>307.8</td><td>10873277</td><td>580.7</td><td> 6393570</td><td>341.5</td></tr>\n",
       "\t<tr><th scope=row>Vcells</th><td>10019357</td><td> 76.5</td><td>17824054</td><td>136.0</td><td>12918021</td><td> 98.6</td></tr>\n",
       "</tbody>\n",
       "</table>\n"
      ],
      "text/latex": [
       "A matrix: 2 × 6 of type dbl\n",
       "\\begin{tabular}{r|llllll}\n",
       "  & used & (Mb) & gc trigger & (Mb) & max used & (Mb)\\\\\n",
       "\\hline\n",
       "\tNcells &  5762761 & 307.8 & 10873277 & 580.7 &  6393570 & 341.5\\\\\n",
       "\tVcells & 10019357 &  76.5 & 17824054 & 136.0 & 12918021 &  98.6\\\\\n",
       "\\end{tabular}\n"
      ],
      "text/markdown": [
       "\n",
       "A matrix: 2 × 6 of type dbl\n",
       "\n",
       "| <!--/--> | used | (Mb) | gc trigger | (Mb) | max used | (Mb) |\n",
       "|---|---|---|---|---|---|---|\n",
       "| Ncells |  5762761 | 307.8 | 10873277 | 580.7 |  6393570 | 341.5 |\n",
       "| Vcells | 10019357 |  76.5 | 17824054 | 136.0 | 12918021 |  98.6 |\n",
       "\n"
      ],
      "text/plain": [
       "       used     (Mb)  gc trigger (Mb)  max used (Mb) \n",
       "Ncells  5762761 307.8 10873277   580.7  6393570 341.5\n",
       "Vcells 10019357  76.5 17824054   136.0 12918021  98.6"
      ]
     },
     "metadata": {},
     "output_type": "display_data"
    }
   ],
   "source": [
    "WorkDir <- getwd()\n",
    "setwd(WorkDir)\n",
    "\n",
    "##Source in functions to be used\n",
    "source(\"R_Functions/GS_Pipeline_Jan_2022_FnsApp.R\")\n",
    "source(\"R_Functions/bootcamp_functions.R\")\n",
    "\n",
    "gc()\n"
   ]
  },
  {
   "cell_type": "markdown",
   "id": "studied-mills",
   "metadata": {},
   "source": [
    "#### **Read Genotype File using vcfR** ####"
   ]
  },
  {
   "cell_type": "code",
   "execution_count": 2,
   "id": "english-substitute",
   "metadata": {},
   "outputs": [
    {
     "data": {
      "text/plain": [
       "***** Object of Class vcfR *****\n",
       "5189 samples\n",
       "20 CHROMs\n",
       "4,292 variants\n",
       "Object size: 171.1 Mb\n",
       "25.41 percent missing data\n",
       "*****        *****         *****"
      ]
     },
     "metadata": {},
     "output_type": "display_data"
    }
   ],
   "source": [
    "\n",
    "##Load in genotype data. Use package vcfR to read in and work with vcf file.\n",
    "infileVCF <- \"Data/SoyNAM_Geno.vcf\"\n",
    "genotypes_VCF <- read.table(infileVCF)\n",
    "vcf <- read.vcfR(infileVCF, verbose = FALSE)\n",
    "vcf"
   ]
  },
  {
   "cell_type": "markdown",
   "id": "electrical-compiler",
   "metadata": {},
   "source": [
    "\n",
    "#### **Convert VCF file format to numerical matrix format.**\n",
    "#### Final genotype matrix is geno_num"
   ]
  },
  {
   "cell_type": "code",
   "execution_count": 3,
   "id": "second-decade",
   "metadata": {},
   "outputs": [
    {
     "data": {
      "text/html": [
       "<style>\n",
       ".list-inline {list-style: none; margin:0; padding: 0}\n",
       ".list-inline>li {display: inline-block}\n",
       ".list-inline>li:not(:last-child)::after {content: \"\\00b7\"; padding: 0 .5ex}\n",
       "</style>\n",
       "<ol class=list-inline><li>5189</li><li>4292</li></ol>\n"
      ],
      "text/latex": [
       "\\begin{enumerate*}\n",
       "\\item 5189\n",
       "\\item 4292\n",
       "\\end{enumerate*}\n"
      ],
      "text/markdown": [
       "1. 5189\n",
       "2. 4292\n",
       "\n",
       "\n"
      ],
      "text/plain": [
       "[1] 5189 4292"
      ]
     },
     "metadata": {},
     "output_type": "display_data"
    }
   ],
   "source": [
    "gt <- extract.gt(vcf, element = \"GT\", as.numeric = F)\n",
    "fix_T <- as_tibble(getFIX(vcf))\n",
    "gt2 <- matrix(0, ncol = ncol(gt), nrow = nrow(gt))\n",
    "colnames(gt2) <- colnames(gt)\n",
    "rownames(gt2) <- rownames(gt)\n",
    "gt2a <- apply(gt,2, function(x) gsub(\"1/1\",\"1\",x))\n",
    "gt2b <- gsub(\"0[/|]0\",\"0\",gt2a)\n",
    "gt2c <- gsub(\"[10][/|][10]\",\"0.5\",gt2b)\n",
    "gt2d <- gsub(\"\\\\.[/|]\\\\.\",\"NA\",gt2c)\n",
    "\n",
    "gt2d_num<- apply(gt2d,2,as.numeric)\n",
    "rownames(gt2d_num)<- rownames(gt2d)\n",
    "geno_num <- t(gt2d_num)\n",
    "dim(geno_num)\n",
    "rm(list=grep(\"gt2\",ls(),value=TRUE))\n"
   ]
  },
  {
   "cell_type": "markdown",
   "id": "right-norman",
   "metadata": {},
   "source": [
    "#### **Filter Genotypic Data**"
   ]
  },
  {
   "cell_type": "code",
   "execution_count": 4,
   "id": "welsh-chess",
   "metadata": {},
   "outputs": [
    {
     "data": {
      "text/html": [
       "<style>\n",
       ".list-inline {list-style: none; margin:0; padding: 0}\n",
       ".list-inline>li {display: inline-block}\n",
       ".list-inline>li:not(:last-child)::after {content: \"\\00b7\"; padding: 0 .5ex}\n",
       "</style>\n",
       "<ol class=list-inline><li>5189</li><li>1428</li></ol>\n"
      ],
      "text/latex": [
       "\\begin{enumerate*}\n",
       "\\item 5189\n",
       "\\item 1428\n",
       "\\end{enumerate*}\n"
      ],
      "text/markdown": [
       "1. 5189\n",
       "2. 1428\n",
       "\n",
       "\n"
      ],
      "text/plain": [
       "[1] 5189 1428"
      ]
     },
     "metadata": {},
     "output_type": "display_data"
    }
   ],
   "source": [
    "##Filter markers on % missing\n",
    "miss <- function(x){length(which(is.na(x)))}\n",
    "mrkNA <- (apply(geno_num, MARGIN=2, FUN=miss))/dim(geno_num)[1]\n",
    "ndx <- which(mrkNA > 0.2)\n",
    "\n",
    "if (length(ndx)>0) geno_num2 <- geno_num[, -ndx] else geno_num2 <- geno_num\n",
    "\n",
    "##Filter individuals on % missing\n",
    "indNA <- (apply(geno_num2, MARGIN=1, FUN=miss))/dim(geno_num2)[2]\n",
    "ndx2 <- which(indNA > 0.5)\n",
    "\n",
    " if(length(ndx2)>0) geno_num3 <- geno_num2[-ndx2, ] else geno_num3 <- geno_num2\n",
    "\n",
    "\n",
    "##Filter markers based on MAF\n",
    "maf <- apply(geno_num3, MARGIN=2, FUN=mean, na.rm=T)\n",
    "ndx3 <- which(maf<0.05 | maf>0.95) \n",
    "\n",
    "if (length(ndx3)>0) geno_num4 <- geno_num2[, -ndx3] else geno_num4 <- geno_num3\n",
    "  \n",
    "dim(geno_num4)"
   ]
  },
  {
   "cell_type": "markdown",
   "id": "exclusive-logic",
   "metadata": {},
   "source": [
    "#### **Import Phenotypic Data and Merge Geno-Pheno Data**"
   ]
  },
  {
   "cell_type": "code",
   "execution_count": 5,
   "id": "moved-steps",
   "metadata": {},
   "outputs": [
    {
     "data": {
      "text/html": [
       "55981"
      ],
      "text/latex": [
       "55981"
      ],
      "text/markdown": [
       "55981"
      ],
      "text/plain": [
       "[1] 55981"
      ]
     },
     "metadata": {},
     "output_type": "display_data"
    },
    {
     "data": {
      "text/html": [
       "<style>\n",
       ".list-inline {list-style: none; margin:0; padding: 0}\n",
       ".list-inline>li {display: inline-block}\n",
       ".list-inline>li:not(:last-child)::after {content: \"\\00b7\"; padding: 0 .5ex}\n",
       "</style>\n",
       "<ol class=list-inline><li>5148</li><li>1429</li></ol>\n"
      ],
      "text/latex": [
       "\\begin{enumerate*}\n",
       "\\item 5148\n",
       "\\item 1429\n",
       "\\end{enumerate*}\n"
      ],
      "text/markdown": [
       "1. 5148\n",
       "2. 1429\n",
       "\n",
       "\n"
      ],
      "text/plain": [
       "[1] 5148 1429"
      ]
     },
     "metadata": {},
     "output_type": "display_data"
    }
   ],
   "source": [
    "\n",
    "pheno <- read.csv(\"Data/SoyNAM_Pheno.csv\")\n",
    "\n",
    "geno_num4_x <- cbind(rownames(geno_num4),geno_num4)\n",
    "colnames(geno_num4_x)[1]<- \"strain\"\n",
    "\n",
    "### Check strain names have same format in pheno and geno \n",
    "pheno[,1] <- gsub(\"[-.]\",\"\",pheno[,1])\n",
    "geno_num4_x[,1] <- gsub(\"[-.]\",\"\",geno_num4_x[,1])\n",
    "\n",
    "## Merge Geno and Pheno Data\n",
    "Data <- merge(geno_num4_x,pheno,by=\"strain\",all=TRUE)\n",
    "\n",
    "## Remove with missing yiled_blup values \n",
    "\n",
    "YldNA_Indices <- which(is.na(Data$yield))\n",
    "if(length(YldNA_Indices) >0){Data_Sub <- Data[-YldNA_Indices,]}else{Data_Sub <- Data}\n",
    "\n",
    "\n",
    "genoStrain <- unique(as.character(geno_num4_x[,\"strain\"]))\n",
    "\n",
    "genoStrainIndices <- which(Data_Sub[,\"strain\"] %in% genoStrain)\n",
    "length(genoStrainIndices)\n",
    "genoIndices <- grep(\"ss\",colnames(geno_num4_x))\n",
    "initGenoIndx <- genoIndices[1]\n",
    "finalGenoIndx <- genoIndices[length(genoIndices)]\n",
    "phenoIndices <- c(1,c((finalGenoIndx+1):ncol(Data_Sub)))\n",
    "\n",
    "pheno_sub <- Data_Sub[genoStrainIndices,phenoIndices]\n",
    "geno_num4b <- Data_Sub[genoStrainIndices,c(1,genoIndices)]\n",
    "\n",
    "\n",
    "uniqueStrainIndices<- which(!duplicated(geno_num4b[,\"strain\"]))\n",
    "\n",
    "if(length(uniqueStrainIndices)>0) {geno_num5 <- geno_num4b[uniqueStrainIndices,]}else{geno_num5 <- geno_num4b}\n",
    "\n",
    "dim(geno_num5)\n",
    "\n",
    "rm(geno_num4b)\n",
    "rm(geno_num4)\n",
    "rm(geno_num3)\n",
    "rm(geno_num2)\n",
    "\n",
    "### set 'yield' colname to 'Yield_blup'\n",
    "\n",
    "yldCol <- which(colnames(pheno_sub) %in% \"yield\")\n",
    "colnames(pheno_sub)[yldCol] <- \"Yield_blup\" \n",
    "\n"
   ]
  },
  {
   "cell_type": "markdown",
   "id": "expressed-punishment",
   "metadata": {},
   "source": [
    "#### **Subset Environments** "
   ]
  },
  {
   "cell_type": "code",
   "execution_count": 6,
   "id": "effective-diamond",
   "metadata": {},
   "outputs": [
    {
     "data": {
      "text/html": [
       "<style>\n",
       ".list-inline {list-style: none; margin:0; padding: 0}\n",
       ".list-inline>li {display: inline-block}\n",
       ".list-inline>li:not(:last-child)::after {content: \"\\00b7\"; padding: 0 .5ex}\n",
       "</style>\n",
       "<ol class=list-inline><li>15355</li><li>16</li></ol>\n"
      ],
      "text/latex": [
       "\\begin{enumerate*}\n",
       "\\item 15355\n",
       "\\item 16\n",
       "\\end{enumerate*}\n"
      ],
      "text/markdown": [
       "1. 15355\n",
       "2. 16\n",
       "\n",
       "\n"
      ],
      "text/plain": [
       "[1] 15355    16"
      ]
     },
     "metadata": {},
     "output_type": "display_data"
    }
   ],
   "source": [
    "### Select 3 environs with largest number of evaluations (lines)  \n",
    "\n",
    "env_sub <-  names(which(table(pheno_sub[,\"environ\"])>5100)[1:3])\n",
    "\n",
    "env_sub_indices <- which(pheno_sub[,\"environ\"] %in% env_sub)\n",
    "\n",
    "## Subset Data and Geno tables \n",
    "DT <- pheno_sub[env_sub_indices,]\n",
    "\n",
    "DT$environ <- as.factor(DT$environ)\n",
    "\n",
    "dim(DT)"
   ]
  },
  {
   "cell_type": "markdown",
   "id": "musical-eating",
   "metadata": {},
   "source": [
    "#### **Impute Genotype Table** ###"
   ]
  },
  {
   "cell_type": "code",
   "execution_count": 7,
   "id": "assured-documentary",
   "metadata": {},
   "outputs": [
    {
     "data": {
      "text/html": [
       "<style>\n",
       ".list-inline {list-style: none; margin:0; padding: 0}\n",
       ".list-inline>li {display: inline-block}\n",
       ".list-inline>li:not(:last-child)::after {content: \"\\00b7\"; padding: 0 .5ex}\n",
       "</style>\n",
       "<ol class=list-inline><li>5148</li><li>1428</li></ol>\n"
      ],
      "text/latex": [
       "\\begin{enumerate*}\n",
       "\\item 5148\n",
       "\\item 1428\n",
       "\\end{enumerate*}\n"
      ],
      "text/markdown": [
       "1. 5148\n",
       "2. 1428\n",
       "\n",
       "\n"
      ],
      "text/plain": [
       "[1] 5148 1428"
      ]
     },
     "metadata": {},
     "output_type": "display_data"
    }
   ],
   "source": [
    "#### Impute genotable using markov function from 'NAM' package \n",
    "\n",
    "geno_imp <- markov(apply(geno_num5[,-1],2,as.numeric))\n",
    "rownames(geno_imp) <- geno_num5[,\"strain\"]\n",
    "dim(geno_imp)"
   ]
  },
  {
   "cell_type": "code",
   "execution_count": 8,
   "id": "blessed-marble",
   "metadata": {},
   "outputs": [
    {
     "data": {
      "text/html": [
       "<style>\n",
       ".list-inline {list-style: none; margin:0; padding: 0}\n",
       ".list-inline>li {display: inline-block}\n",
       ".list-inline>li:not(:last-child)::after {content: \"\\00b7\"; padding: 0 .5ex}\n",
       "</style>\n",
       "<ol class=list-inline><li>5145</li><li>1428</li></ol>\n"
      ],
      "text/latex": [
       "\\begin{enumerate*}\n",
       "\\item 5145\n",
       "\\item 1428\n",
       "\\end{enumerate*}\n"
      ],
      "text/markdown": [
       "1. 5145\n",
       "2. 1428\n",
       "\n",
       "\n"
      ],
      "text/plain": [
       "[1] 5145 1428"
      ]
     },
     "metadata": {},
     "output_type": "display_data"
    }
   ],
   "source": [
    "### \n",
    "env_geno_sub_indices <- which(rownames(geno_imp) %in% unique(DT[,\"strain\"]))\n",
    "geno_imp_sub <- geno_imp[env_geno_sub_indices,]\n",
    "\n",
    "dim(geno_imp_sub)"
   ]
  },
  {
   "cell_type": "markdown",
   "id": "neutral-transition",
   "metadata": {},
   "source": [
    "#### **Relationship Matrix Using A.mat** "
   ]
  },
  {
   "cell_type": "code",
   "execution_count": 9,
   "id": "exempt-military",
   "metadata": {},
   "outputs": [
    {
     "data": {
      "text/html": [
       "<style>\n",
       ".list-inline {list-style: none; margin:0; padding: 0}\n",
       ".list-inline>li {display: inline-block}\n",
       ".list-inline>li:not(:last-child)::after {content: \"\\00b7\"; padding: 0 .5ex}\n",
       "</style>\n",
       "<ol class=list-inline><li>5145</li><li>5145</li></ol>\n"
      ],
      "text/latex": [
       "\\begin{enumerate*}\n",
       "\\item 5145\n",
       "\\item 5145\n",
       "\\end{enumerate*}\n"
      ],
      "text/markdown": [
       "1. 5145\n",
       "2. 5145\n",
       "\n",
       "\n"
      ],
      "text/plain": [
       "[1] 5145 5145"
      ]
     },
     "metadata": {},
     "output_type": "display_data"
    }
   ],
   "source": [
    "K_rr <- A.mat(geno_imp_sub)\n",
    "colnames(K_rr) <-rownames(geno_imp_sub)\n",
    "rownames(K_rr) <- rownames(geno_imp_sub)\n",
    "A <- K_rr\n",
    "dim(A)\n",
    "\n"
   ]
  },
  {
   "cell_type": "markdown",
   "id": "relevant-walter",
   "metadata": {},
   "source": [
    "#### **Subset Genotypes for Computation Demo** "
   ]
  },
  {
   "cell_type": "code",
   "execution_count": 10,
   "id": "mighty-analyst",
   "metadata": {},
   "outputs": [
    {
     "data": {
      "text/html": [
       "<style>\n",
       ".list-inline {list-style: none; margin:0; padding: 0}\n",
       ".list-inline>li {display: inline-block}\n",
       ".list-inline>li:not(:last-child)::after {content: \"\\00b7\"; padding: 0 .5ex}\n",
       "</style>\n",
       "<ol class=list-inline><li>3</li><li>3</li></ol>\n"
      ],
      "text/latex": [
       "\\begin{enumerate*}\n",
       "\\item 3\n",
       "\\item 3\n",
       "\\end{enumerate*}\n"
      ],
      "text/markdown": [
       "1. 3\n",
       "2. 3\n",
       "\n",
       "\n"
      ],
      "text/plain": [
       "[1] 3 3"
      ]
     },
     "metadata": {},
     "output_type": "display_data"
    },
    {
     "data": {
      "text/html": [
       "<style>\n",
       ".list-inline {list-style: none; margin:0; padding: 0}\n",
       ".list-inline>li {display: inline-block}\n",
       ".list-inline>li:not(:last-child)::after {content: \"\\00b7\"; padding: 0 .5ex}\n",
       "</style>\n",
       "<ol class=list-inline><li>494</li><li>494</li></ol>\n"
      ],
      "text/latex": [
       "\\begin{enumerate*}\n",
       "\\item 494\n",
       "\\item 494\n",
       "\\end{enumerate*}\n"
      ],
      "text/markdown": [
       "1. 494\n",
       "2. 494\n",
       "\n",
       "\n"
      ],
      "text/plain": [
       "[1] 494 494"
      ]
     },
     "metadata": {},
     "output_type": "display_data"
    }
   ],
   "source": [
    "  \n",
    "A_Sub <- A[1:500,1:500]\n",
    "DT_Sub <- DT[which(DT[,\"strain\"] %in% rownames(A_Sub)),]\n",
    "\n",
    "E <- diag(length(unique(DT$environ)))\n",
    "rownames(E) <- colnames(E) <- unique(DT$environ)\n",
    "dim(E)\n",
    "\n",
    "### Same set of strains in each of the environments \n",
    "\n",
    "rmStrains <- names(which(table(DT_Sub[,\"strain\"]) <3))\n",
    "DT_Sub1 <- DT_Sub[-which(DT_Sub[,\"strain\"] %in% rmStrains),]\n",
    "\n",
    "A_Sub1 <- A_Sub[-which(rownames(A_Sub) %in% rmStrains),-which(rownames(A_Sub) %in% rmStrains)]\n",
    "dim(A_Sub1)"
   ]
  },
  {
   "cell_type": "raw",
   "id": "amended-footwear",
   "metadata": {},
   "source": []
  },
  {
   "cell_type": "markdown",
   "id": "mounted-passport",
   "metadata": {},
   "source": [
    "### **Exercise - Compare a few of the var-covar structures in SOMMER package**\n"
   ]
  },
  {
   "cell_type": "markdown",
   "id": "surgical-fence",
   "metadata": {},
   "source": [
    "#### **Model with Main Effect** #### \n",
    "##### Model environment as fixed effect (estimate population mean for each of the environments) and estimate random effects for genotypes \n"
   ]
  },
  {
   "cell_type": "code",
   "execution_count": 11,
   "id": "wired-whale",
   "metadata": {},
   "outputs": [
    {
     "data": {
      "text/html": [
       "<dl>\n",
       "\t<dt>$groups</dt>\n",
       "\t\t<dd><table class=\"dataframe\">\n",
       "<caption>A matrix: 1 × 1 of type int</caption>\n",
       "<thead>\n",
       "\t<tr><th></th><th scope=col>Yield_blup</th></tr>\n",
       "</thead>\n",
       "<tbody>\n",
       "\t<tr><th scope=row>u:strain</th><td>494</td></tr>\n",
       "</tbody>\n",
       "</table>\n",
       "</dd>\n",
       "\t<dt>$varcomp</dt>\n",
       "\t\t<dd><table class=\"dataframe\">\n",
       "<caption>A data.frame: 2 × 4</caption>\n",
       "<thead>\n",
       "\t<tr><th></th><th scope=col>VarComp</th><th scope=col>VarCompSE</th><th scope=col>Zratio</th><th scope=col>Constraint</th></tr>\n",
       "\t<tr><th></th><th scope=col>&lt;dbl&gt;</th><th scope=col>&lt;dbl&gt;</th><th scope=col>&lt;dbl&gt;</th><th scope=col>&lt;chr&gt;</th></tr>\n",
       "</thead>\n",
       "<tbody>\n",
       "\t<tr><th scope=row>u:strain.Yield_blup-Yield_blup</th><td>  8583.317</td><td> 5945.864</td><td> 1.443578</td><td>Positive</td></tr>\n",
       "\t<tr><th scope=row>units.Yield_blup-Yield_blup</th><td>375176.598</td><td>13971.321</td><td>26.853337</td><td>Positive</td></tr>\n",
       "</tbody>\n",
       "</table>\n",
       "</dd>\n",
       "\t<dt>$betas</dt>\n",
       "\t\t<dd><table class=\"dataframe\">\n",
       "<caption>A data.frame: 3 × 5</caption>\n",
       "<thead>\n",
       "\t<tr><th scope=col>Trait</th><th scope=col>Effect</th><th scope=col>Estimate</th><th scope=col>Std.Error</th><th scope=col>t.value</th></tr>\n",
       "\t<tr><th scope=col>&lt;fct&gt;</th><th scope=col>&lt;fct&gt;</th><th scope=col>&lt;dbl&gt;</th><th scope=col>&lt;dbl&gt;</th><th scope=col>&lt;dbl&gt;</th></tr>\n",
       "</thead>\n",
       "<tbody>\n",
       "\t<tr><td>Yield_blup</td><td>environIA_2012</td><td>3127.902</td><td>27.73914</td><td>112.7613</td></tr>\n",
       "\t<tr><td>Yield_blup</td><td>environIA_2013</td><td>2794.875</td><td>27.73914</td><td>100.7557</td></tr>\n",
       "\t<tr><td>Yield_blup</td><td>environIL_2012</td><td>3611.410</td><td>27.73914</td><td>130.1918</td></tr>\n",
       "</tbody>\n",
       "</table>\n",
       "</dd>\n",
       "\t<dt>$method</dt>\n",
       "\t\t<dd>'NR'</dd>\n",
       "\t<dt>$logo</dt>\n",
       "\t\t<dd><table class=\"dataframe\">\n",
       "<caption>A data.frame: 1 × 5</caption>\n",
       "<thead>\n",
       "\t<tr><th></th><th scope=col>logLik</th><th scope=col>AIC</th><th scope=col>BIC</th><th scope=col>Method</th><th scope=col>Converge</th></tr>\n",
       "\t<tr><th></th><th scope=col>&lt;dbl&gt;</th><th scope=col>&lt;dbl&gt;</th><th scope=col>&lt;dbl&gt;</th><th scope=col>&lt;chr&gt;</th><th scope=col>&lt;lgl&gt;</th></tr>\n",
       "</thead>\n",
       "<tbody>\n",
       "\t<tr><th scope=row>Value</th><td>-546.3708</td><td>1098.742</td><td>1114.645</td><td>NR</td><td>TRUE</td></tr>\n",
       "</tbody>\n",
       "</table>\n",
       "</dd>\n",
       "</dl>\n"
      ],
      "text/latex": [
       "\\begin{description}\n",
       "\\item[\\$groups] A matrix: 1 × 1 of type int\n",
       "\\begin{tabular}{r|l}\n",
       "  & Yield\\_blup\\\\\n",
       "\\hline\n",
       "\tu:strain & 494\\\\\n",
       "\\end{tabular}\n",
       "\n",
       "\\item[\\$varcomp] A data.frame: 2 × 4\n",
       "\\begin{tabular}{r|llll}\n",
       "  & VarComp & VarCompSE & Zratio & Constraint\\\\\n",
       "  & <dbl> & <dbl> & <dbl> & <chr>\\\\\n",
       "\\hline\n",
       "\tu:strain.Yield\\_blup-Yield\\_blup &   8583.317 &  5945.864 &  1.443578 & Positive\\\\\n",
       "\tunits.Yield\\_blup-Yield\\_blup & 375176.598 & 13971.321 & 26.853337 & Positive\\\\\n",
       "\\end{tabular}\n",
       "\n",
       "\\item[\\$betas] A data.frame: 3 × 5\n",
       "\\begin{tabular}{lllll}\n",
       " Trait & Effect & Estimate & Std.Error & t.value\\\\\n",
       " <fct> & <fct> & <dbl> & <dbl> & <dbl>\\\\\n",
       "\\hline\n",
       "\t Yield\\_blup & environIA\\_2012 & 3127.902 & 27.73914 & 112.7613\\\\\n",
       "\t Yield\\_blup & environIA\\_2013 & 2794.875 & 27.73914 & 100.7557\\\\\n",
       "\t Yield\\_blup & environIL\\_2012 & 3611.410 & 27.73914 & 130.1918\\\\\n",
       "\\end{tabular}\n",
       "\n",
       "\\item[\\$method] 'NR'\n",
       "\\item[\\$logo] A data.frame: 1 × 5\n",
       "\\begin{tabular}{r|lllll}\n",
       "  & logLik & AIC & BIC & Method & Converge\\\\\n",
       "  & <dbl> & <dbl> & <dbl> & <chr> & <lgl>\\\\\n",
       "\\hline\n",
       "\tValue & -546.3708 & 1098.742 & 1114.645 & NR & TRUE\\\\\n",
       "\\end{tabular}\n",
       "\n",
       "\\end{description}\n"
      ],
      "text/markdown": [
       "$groups\n",
       ":   \n",
       "A matrix: 1 × 1 of type int\n",
       "\n",
       "| <!--/--> | Yield_blup |\n",
       "|---|---|\n",
       "| u:strain | 494 |\n",
       "\n",
       "\n",
       "$varcomp\n",
       ":   \n",
       "A data.frame: 2 × 4\n",
       "\n",
       "| <!--/--> | VarComp &lt;dbl&gt; | VarCompSE &lt;dbl&gt; | Zratio &lt;dbl&gt; | Constraint &lt;chr&gt; |\n",
       "|---|---|---|---|---|\n",
       "| u:strain.Yield_blup-Yield_blup |   8583.317 |  5945.864 |  1.443578 | Positive |\n",
       "| units.Yield_blup-Yield_blup | 375176.598 | 13971.321 | 26.853337 | Positive |\n",
       "\n",
       "\n",
       "$betas\n",
       ":   \n",
       "A data.frame: 3 × 5\n",
       "\n",
       "| Trait &lt;fct&gt; | Effect &lt;fct&gt; | Estimate &lt;dbl&gt; | Std.Error &lt;dbl&gt; | t.value &lt;dbl&gt; |\n",
       "|---|---|---|---|---|\n",
       "| Yield_blup | environIA_2012 | 3127.902 | 27.73914 | 112.7613 |\n",
       "| Yield_blup | environIA_2013 | 2794.875 | 27.73914 | 100.7557 |\n",
       "| Yield_blup | environIL_2012 | 3611.410 | 27.73914 | 130.1918 |\n",
       "\n",
       "\n",
       "$method\n",
       ":   'NR'\n",
       "$logo\n",
       ":   \n",
       "A data.frame: 1 × 5\n",
       "\n",
       "| <!--/--> | logLik &lt;dbl&gt; | AIC &lt;dbl&gt; | BIC &lt;dbl&gt; | Method &lt;chr&gt; | Converge &lt;lgl&gt; |\n",
       "|---|---|---|---|---|---|\n",
       "| Value | -546.3708 | 1098.742 | 1114.645 | NR | TRUE |\n",
       "\n",
       "\n",
       "\n",
       "\n"
      ],
      "text/plain": [
       "================================================================\n",
       "           Multivariate Linear Mixed Model fit by REML           \n",
       "************************  sommer 4.1  ************************ \n",
       "================================================================\n",
       "         logLik      AIC      BIC Method Converge\n",
       "Value -546.3708 1098.742 1114.645     NR     TRUE\n",
       "================================================================\n",
       "Variance-Covariance components:\n",
       "                               VarComp VarCompSE Zratio Constraint\n",
       "u:strain.Yield_blup-Yield_blup    8583      5946  1.444   Positive\n",
       "units.Yield_blup-Yield_blup     375177     13971 26.853   Positive\n",
       "================================================================\n",
       "Fixed effects:\n",
       "       Trait         Effect Estimate Std.Error t.value\n",
       "1 Yield_blup environIA_2012     3128     27.74   112.8\n",
       "2 Yield_blup environIA_2013     2795     27.74   100.8\n",
       "3 Yield_blup environIL_2012     3611     27.74   130.2\n",
       "================================================================\n",
       "Groups and observations:\n",
       "         Yield_blup\n",
       "u:strain        494\n",
       "================================================================\n",
       "Use the '$' sign to access results and parameters"
      ]
     },
     "metadata": {},
     "output_type": "display_data"
    }
   ],
   "source": [
    "\n",
    "fitMain <- mmer(Yield_blup~environ-1,\n",
    "                random=~vs(strain,Gu=A_Sub1),\n",
    "                rcov=~units,\n",
    "                data=DT_Sub1,verbose=FALSE)\n",
    "summary(fitMain)\n"
   ]
  },
  {
   "cell_type": "code",
   "execution_count": 12,
   "id": "automated-sending",
   "metadata": {},
   "outputs": [
    {
     "data": {
      "text/html": [
       "<table class=\"dataframe\">\n",
       "<caption>A matrix: 1 × 1 of type dbl</caption>\n",
       "<tbody>\n",
       "\t<tr><td>0.4772414</td></tr>\n",
       "</tbody>\n",
       "</table>\n"
      ],
      "text/latex": [
       "A matrix: 1 × 1 of type dbl\n",
       "\\begin{tabular}{l}\n",
       "\t 0.4772414\\\\\n",
       "\\end{tabular}\n"
      ],
      "text/markdown": [
       "\n",
       "A matrix: 1 × 1 of type dbl\n",
       "\n",
       "| 0.4772414 |\n",
       "\n"
      ],
      "text/plain": [
       "     [,1]     \n",
       "[1,] 0.4772414"
      ]
     },
     "metadata": {},
     "output_type": "display_data"
    }
   ],
   "source": [
    "\n",
    "m <- model.matrix(~ environ-1 ,data=DT_Sub1)\n",
    "m_beta <- m %*% as.numeric(fitMain$Beta[,3]) \n",
    "PredMain <- m_beta+fitMain$U$`u:strain`$Yield_blup\n",
    "cor(PredMain,DT_Sub1[,\"Yield_blup\"]) "
   ]
  },
  {
   "cell_type": "markdown",
   "id": "corresponding-audio",
   "metadata": {},
   "source": [
    "#### **Model with Compound Symmetry var-covar structure** ####\n",
    "##### Compound symmetry assumes GxE effects and also assumes constant correlation among environments"
   ]
  },
  {
   "cell_type": "code",
   "execution_count": null,
   "id": "developing-inside",
   "metadata": {},
   "outputs": [],
   "source": [
    "\n",
    "E <- diag(length(unique(DT_Sub1$environ)))\n",
    "rownames(E) <- colnames(E) <- unique(DT_Sub1$environ)\n",
    "\n",
    "EA <- kronecker(E,A_Sub1, make.dimnames = TRUE)\n",
    "DT_Sub1$environ <- as.factor(DT_Sub1$environ)\n",
    "DT_Sub1$strain <- as.factor(DT_Sub1$strain)\n",
    "\n",
    "fitCS <- mmer(Yield_blup~environ-1,\n",
    "              random= ~ vs(strain, Gu=A_Sub1) + vs(environ:strain, Gu=EA),\n",
    "              rcov= ~ units,\n",
    "              data=DT_Sub1, verbose = FALSE)\n",
    "summary(fitCS)"
   ]
  },
  {
   "cell_type": "code",
   "execution_count": null,
   "id": "loose-jackson",
   "metadata": {},
   "outputs": [],
   "source": [
    "\n",
    "m <- model.matrix(~ environ-1 ,data=DT_Sub1)\n",
    "m_beta <- m %*% as.numeric(fitCS$Beta[,3]) \n",
    "PredCS <- m_beta+fitCS$U$`u:environ:strain`$Yield_blup\n",
    "cor(PredCS,DT_Sub1[,\"Yield_blup\"]) \n"
   ]
  },
  {
   "cell_type": "markdown",
   "id": "treated-neutral",
   "metadata": {},
   "source": [
    "#### **Model with Compound Symmetry + Diagonal Structure** ####\n",
    "##### Heterogeneous gxe variance among environmenta and constant genotic co-variance among environments "
   ]
  },
  {
   "cell_type": "code",
   "execution_count": null,
   "id": "nervous-recovery",
   "metadata": {},
   "outputs": [],
   "source": [
    "fitCSDG <- mmer(Yield_blup~environ-1,\n",
    "                random=~vs(strain,Gu=A_Sub1) +vs(ds(environ),strain,Gu=A_Sub1),\n",
    "                rcov=~units,\n",
    "                data=DT_Sub1,verbose=FALSE) \n",
    "\n",
    "summary(fitCSDG)"
   ]
  },
  {
   "cell_type": "code",
   "execution_count": null,
   "id": "virgin-violation",
   "metadata": {},
   "outputs": [],
   "source": [
    "\n",
    "m2 <- cbind(c(rep(1,nrow(DT_Sub1)/3),rep(0,2*nrow(DT_Sub1)/3)),c(rep(1,nrow(DT_Sub1)/3),rep(0,nrow(DT_Sub1)/3),rep(1,nrow(DT_Sub1)/3)),\n",
    "c(rep(1,nrow(DT_Sub1)/3),rep(1,nrow(DT_Sub1)/3),rep(0,nrow(DT_Sub1)/3)))\n",
    "\n",
    "m_beta <- m2 %*% as.numeric(fitCSDG$Beta[,3]) \n",
    "length(m_beta)\n",
    "m_env_strain <- do.call(cbind,lapply(fitCSDG$U,function(x) x$Yield_blup))\n",
    "dim(m_env_strain)\n",
    "envStrain_blup <-c(m_env_strain[,2:4])                              \n",
    "                  \n",
    "strain_blup <- rep(fitCSDG$U$`u:strain`$Yield_blup,3)\n",
    "length(strain_blup)"
   ]
  },
  {
   "cell_type": "code",
   "execution_count": null,
   "id": "forced-neutral",
   "metadata": {},
   "outputs": [],
   "source": [
    "PredCSDG <- m_beta+strain_blup+envStrain_blup\n",
    "\n",
    "indES <-  sort.int(as.numeric(DT_Sub1[,\"environ\"]),decreasing=FALSE,index.return=TRUE)[[2]]\n",
    "\n",
    "cor(PredCSDG,DT_Sub1[indES,\"Yield_blup\"]) \n"
   ]
  },
  {
   "cell_type": "markdown",
   "id": "bored-cache",
   "metadata": {},
   "source": [
    "#### **Model with US - Unstructured Variance-Covariance** ####"
   ]
  },
  {
   "cell_type": "code",
   "execution_count": null,
   "id": "distant-portfolio",
   "metadata": {},
   "outputs": [],
   "source": [
    "fitUS <- mmer(Yield_blup~environ-1,\n",
    "                random=~vs(us(environ),strain,Gu=A_Sub1),\n",
    "                rcov=~units,\n",
    "                data=DT_Sub1,verbose=FALSE) \n",
    "summary(fitUS)"
   ]
  },
  {
   "cell_type": "code",
   "execution_count": null,
   "id": "russian-glasgow",
   "metadata": {},
   "outputs": [],
   "source": [
    "envNames <- levels(factor(DT_Sub1$environ))\n",
    "env1Ind <- c(1,3,6)\n",
    "U_envStrain <- list()\n",
    "  for(i in 1:length(envNames)){\n",
    "       envInd <-  grep(envNames[i],names(fitUS$U))\n",
    "       U_envStrain[[i]] <-  as.numeric(fitUS$U[[env1Ind[i]]]$Yield_blup)\n",
    "     for(j  in 2:length(envInd)){ \n",
    "         indJ <- envInd[j]\n",
    "         b <- cbind(names(fitUS$U[[indJ]]$Yield_blup),fitUS$U[[indJ]]$Yield_blup)\n",
    "         colnames(b) <- c(\"strain\",\"Yield_blup\")\n",
    "         b_group <- as_tibble(b) %>% group_by(strain)\n",
    "         YldBlup_group <- b_group %>% summarise(Yield_blup = sum(as.numeric(Yield_blup)))\n",
    "         U_envStrain[[i]] <- U_envStrain[[i]] +YldBlup_group[,2] + fitUS$Beta[i,3]\n",
    "       } \n",
    "     }\n",
    "    \n",
    "PredUS <- c(unlist(U_envStrain))\n",
    "        \n",
    "indES <-  sort.int(as.numeric(DT_Sub1[,\"environ\"]),decreasing=FALSE,index.return=TRUE)[[2]]\n",
    "cor(PredUS[indES],DT_Sub1[indES,\"Yield_blup\"]) \n"
   ]
  },
  {
   "cell_type": "raw",
   "id": "remarkable-court",
   "metadata": {},
   "source": []
  },
  {
   "cell_type": "markdown",
   "id": "exposed-sullivan",
   "metadata": {},
   "source": [
    "### **Exercise - Predict performance of tested and untested genotypes in tested and untested environments** ###"
   ]
  },
  {
   "cell_type": "markdown",
   "id": "typical-microwave",
   "metadata": {},
   "source": [
    "#### **Tested Genotypes in Untested Environment**"
   ]
  },
  {
   "cell_type": "code",
   "execution_count": null,
   "id": "behavioral-london",
   "metadata": {},
   "outputs": [],
   "source": [
    "### Remove lines from IA2013 and train the model using IA2012 and IL2013 only and predict \n",
    "### performance of lines for IA2013 (untested environ) and compare accuracy with model \n",
    "### incorporating data from IA2013 in the training model \n",
    "\n",
    "tstIndices1 <- which(DT_Sub1[,\"environ\"] %in% \"IA_2013\") \n",
    "\n",
    "DT_Sub1A <- DT_Sub1\n",
    "DT_Sub1A[tstIndices1 ,\"Yeild_blup\"] <- NA\n",
    "#DT_Sub1A[tstIndices1 ,\"environ\"] <- NA\n",
    "\n",
    "dim(DT_Sub1A)"
   ]
  },
  {
   "cell_type": "code",
   "execution_count": null,
   "id": "brave-weapon",
   "metadata": {},
   "outputs": [],
   "source": [
    "\n",
    "E <- diag(length(unique(DT_Sub1A$environ)))\n",
    "rownames(E) <- colnames(E) <- unique(DT_Sub1A$environ)\n",
    "dim(E)\n",
    "\n",
    "EA <- kronecker(E,A_Sub1, make.dimnames = TRUE)\n",
    "DT_Sub1$Aenviron <- as.factor(DT_Sub1A$environ)\n",
    "DT_Sub1A$strain <- as.factor(DT_Sub1A$strain) \n",
    "\n",
    "dim(EA)"
   ]
  },
  {
   "cell_type": "code",
   "execution_count": null,
   "id": "painful-thesaurus",
   "metadata": {},
   "outputs": [],
   "source": [
    "fitCS1A <- mmer(Yield_blup~environ-1,\n",
    "              random= ~ vs(strain, Gu=A_Sub1) + vs(environ:strain, Gu=EA),\n",
    "              rcov= ~ units,\n",
    "              data=DT_Sub1A, verbose = FALSE)\n",
    "summary(fitCS1A)\n"
   ]
  },
  {
   "cell_type": "code",
   "execution_count": null,
   "id": "induced-antigua",
   "metadata": {},
   "outputs": [],
   "source": [
    "m <- model.matrix(~ environ-1 ,data=DT_Sub1)\n",
    "m_beta <- m %*% as.numeric(fitCS1A$Beta[,3]) \n",
    "tstPred1 <- (m_beta+fitCS1A$U$`u:environ:strain`$Yield_blup)[tstIndices1]\n",
    "length(tstPred1)\n",
    "cor(tstPred1,DT_Sub1[tstIndices1,\"Yield_blup\"])\n"
   ]
  },
  {
   "cell_type": "markdown",
   "id": "afraid-bottom",
   "metadata": {},
   "source": [
    "#### **Unstructured Var-Covar for Untested Environment**"
   ]
  },
  {
   "cell_type": "code",
   "execution_count": null,
   "id": "bigger-basement",
   "metadata": {},
   "outputs": [],
   "source": [
    "fitUS1A <- mmer(Yield_blup~environ-1,\n",
    "                random=~vs(us(environ),strain,Gu=A_Sub1),\n",
    "                rcov=~units,\n",
    "                data=DT_Sub1A,verbose=FALSE) \n",
    "summary(fitUS1A)"
   ]
  },
  {
   "cell_type": "code",
   "execution_count": null,
   "id": "administrative-declaration",
   "metadata": {},
   "outputs": [],
   "source": [
    "names(fitUS1A$U)\n",
    "envNames <- levels(factor(DT_Sub1A$environ))\n",
    "env1Ind <- c(1,3,6)\n",
    "U_envStrain <- list()\n",
    "  for(i in 1:length(envNames)){\n",
    "       envInd <-  grep(envNames[i],names(fitUS1A$U))\n",
    "       U_envStrain[[i]] <-  as.numeric(fitUS1A$U[[env1Ind[i]]]$Yield_blup)\n",
    "     for(j  in 2:length(envInd)){ \n",
    "         indJ <- envInd[j]\n",
    "         b <- cbind(names(fitUS1A$U[[indJ]]$Yield_blup),fitUS1A$U[[indJ]]$Yield_blup)\n",
    "         colnames(b) <- c(\"strain\",\"Yield_blup\")\n",
    "         b_group <- as_tibble(b) %>% group_by(strain)\n",
    "         YldBlup_group <- b_group %>% summarise(Yield_blup = sum(as.numeric(Yield_blup)))\n",
    "         U_envStrain[[i]] <- U_envStrain[[i]] +YldBlup_group[,2] + fitUS1A$Beta[i,3]\n",
    "       } \n",
    "     }\n",
    "    \n",
    "PredUS <- c(unlist(U_envStrain))\n",
    "        \n",
    "indES <-  sort.int(as.numeric(DT_Sub1A[,\"environ\"]),decreasing=FALSE,index.return=TRUE)[[2]]\n",
    "                        \n",
    "cor(PredUS[indES[tstIndices1]],DT_Sub1[indES[tstIndices1],\"Yield_blup\"]) "
   ]
  },
  {
   "cell_type": "markdown",
   "id": "forced-revolution",
   "metadata": {},
   "source": [
    "#### **Untested Genotypes in Tested Environments** ####"
   ]
  },
  {
   "cell_type": "code",
   "execution_count": null,
   "id": "tired-diary",
   "metadata": {},
   "outputs": [],
   "source": [
    "### Subset Data to generate untested genotypes \n",
    "\n",
    "set.seed(125)\n",
    "tstStrain <- sample(unique(DT_Sub1[,\"strain\"]),0.2*length(unique(DT_Sub1[,\"strain\"])))\n",
    "length(tstStrain)\n",
    "tstIndices2 <- which(DT_Sub1[,\"strain\"] %in% tstStrain)\n",
    "DT_Sub1B <- DT_Sub1\n",
    "DT_Sub1B[tstIndices2 ,\"Yeild_blup\"] <- NA\n",
    "dim(DT_Sub1B)"
   ]
  },
  {
   "cell_type": "code",
   "execution_count": null,
   "id": "engaging-shopping",
   "metadata": {},
   "outputs": [],
   "source": [
    "\n",
    "E <- diag(length(unique(DT_Sub1B$environ)))\n",
    "rownames(E) <- colnames(E) <- unique(DT_Sub1B$environ)\n",
    "dim(E)\n",
    "\n",
    "### Kronecker Product for EA\n",
    "\n",
    "EA <- kronecker(E,A_Sub1, make.dimnames = TRUE)\n",
    "DT_Sub1B$environ <- as.factor(DT_Sub1B$environ)\n",
    "DT_Sub1B$strain <- as.factor(DT_Sub1B$strain) \n",
    "\n",
    "dim(EA)"
   ]
  },
  {
   "cell_type": "markdown",
   "id": "fixed-operations",
   "metadata": {},
   "source": [
    "#### **Fit Compound Symmetry Var-Covar Structure for Tested Environments**"
   ]
  },
  {
   "cell_type": "code",
   "execution_count": null,
   "id": "regional-sunglasses",
   "metadata": {},
   "outputs": [],
   "source": [
    "fitCS1B <- mmer(Yield_blup~environ-1,\n",
    "              random= ~ vs(strain, Gu=A_Sub1) + vs(environ:strain, Gu=EA),\n",
    "              rcov= ~ units,\n",
    "              data=DT_Sub1B, verbose = FALSE)\n",
    "summary(fitCS1B)"
   ]
  },
  {
   "cell_type": "code",
   "execution_count": null,
   "id": "stupid-dragon",
   "metadata": {},
   "outputs": [],
   "source": [
    "m <- model.matrix(~ environ-1 ,data=DT_Sub1)\n",
    "m_beta <- m %*% as.numeric(fitCS1B$Beta[,3]) \n",
    "tstPred2 <- (m_beta+fitCS1B$U$`u:environ:strain`$Yield_blup)[tstIndices2]\n",
    "length(tstPred2)\n",
    "cor(tstPred2,DT_Sub1[tstIndices2,\"Yield_blup\"])\n"
   ]
  },
  {
   "cell_type": "markdown",
   "id": "recorded-shuttle",
   "metadata": {},
   "source": [
    "#### **Untested Genotypes in Untested Environment**"
   ]
  },
  {
   "cell_type": "code",
   "execution_count": null,
   "id": "atlantic-venice",
   "metadata": {},
   "outputs": [],
   "source": [
    "### Subset Data to generate untested genotypes in untested environments\n",
    "\n",
    "set.seed(125)\n",
    "tstStrain <- sample(unique(DT_Sub1[,\"strain\"]),0.2*length(unique(DT_Sub1[,\"strain\"])))\n",
    "length(tstStrain)\n",
    "tstIndices2 <- which(DT_Sub1[,\"strain\"] %in% tstStrain)\n",
    "DT_Sub1B <- DT_Sub1\n",
    "DT_Sub1B[tstIndices2 ,\"Yeild_blup\"] <- NA\n",
    "dim(DT_Sub1B) \n",
    "\n",
    "tstIndices1 <- which(DT_Sub1[,\"environ\"] %in% \"IA_2013\") \n",
    "\n",
    "tstIndices3 <- intersect(tstIndices2,tstIndices1)\n",
    "DT_Sub1C <- DT_Sub1B\n",
    "DT_Sub1C[tstIndices3 ,\"Yeild_blup\"] <- NA\n",
    "\n"
   ]
  },
  {
   "cell_type": "markdown",
   "id": "transsexual-activity",
   "metadata": {},
   "source": [
    "#### **Fit Model using Unstructured Var-Covar Matrix for Untested Environments**"
   ]
  },
  {
   "cell_type": "code",
   "execution_count": null,
   "id": "major-outdoors",
   "metadata": {},
   "outputs": [],
   "source": [
    "fitUS1C <- mmer(Yield_blup ~ environ-1,\n",
    "              random=~vs(us(environ),strain,Gu=A_Sub1),\n",
    "              rcov=~units,\n",
    "              data=DT_Sub1C,verbose=FALSE)\n",
    "\n",
    "summary(fitUS1C)"
   ]
  },
  {
   "cell_type": "code",
   "execution_count": null,
   "id": "educational-departure",
   "metadata": {},
   "outputs": [],
   "source": [
    "envNames <- levels(factor(DT_Sub1C$environ))\n",
    "env1Ind <- c(1,3,6)\n",
    "U_envStrain <- list()\n",
    "  for(i in 1:length(envNames)){\n",
    "    # envInd <- which(names(fitUS1C$U) %in% envNames[i])\n",
    "      envInd <-  grep(envNames[i],names(fitUS1C$U))\n",
    "       U_envStrain[[i]] <-  as.numeric(fitUS1C$U[[env1Ind[i]]]$Yield_blup)\n",
    "     for(j  in 2:length(envInd)){ \n",
    "         indJ <- envInd[j]\n",
    "         b <- cbind(names(fitUS1C$U[[indJ]]$Yield_blup),fitUS1C$U[[indJ]]$Yield_blup)\n",
    "         colnames(b) <- c(\"strain\",\"Yield_blup\")\n",
    "         b_group <- as_tibble(b) %>% group_by(strain)\n",
    "         YldBlup_group <- b_group %>% summarise(Yield_blup = sum(as.numeric(Yield_blup)))\n",
    "         U_envStrain[[i]] <- U_envStrain[[i]] +YldBlup_group[,2] + fitUS1C$Beta[i,3]\n",
    "       } \n",
    "     }\n",
    "    \n",
    "\n",
    " \n",
    "PredUS1C <- c(unlist(U_envStrain))\n",
    "        \n",
    "indES <-  sort.int(as.numeric(DT_Sub1C[,\"environ\"]),decreasing=FALSE,index.return=TRUE)[[2]]\n",
    " \n",
    "                                     \n",
    "cor(PredUS1C[indES[tstIndices3]],DT_Sub1[indES[tstIndices3],\"Yield_blup\"]) "
   ]
  },
  {
   "cell_type": "raw",
   "id": "helpful-atmosphere",
   "metadata": {},
   "source": []
  },
  {
   "cell_type": "markdown",
   "id": "sudden-tender",
   "metadata": {},
   "source": [
    "#### **Discuss other ways to model these scenarios and refine these models**"
   ]
  },
  {
   "cell_type": "code",
   "execution_count": null,
   "id": "naval-confirmation",
   "metadata": {},
   "outputs": [],
   "source": []
  }
 ],
 "metadata": {
  "kernelspec": {
   "display_name": "R",
   "language": "R",
   "name": "ir"
  },
  "language_info": {
   "codemirror_mode": "r",
   "file_extension": ".r",
   "mimetype": "text/x-r-source",
   "name": "R",
   "pygments_lexer": "r",
   "version": "4.1.2"
  }
 },
 "nbformat": 4,
 "nbformat_minor": 5
}
