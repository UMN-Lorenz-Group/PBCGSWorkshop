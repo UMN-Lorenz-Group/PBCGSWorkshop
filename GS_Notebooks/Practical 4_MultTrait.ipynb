{
 "cells": [
  {
   "cell_type": "markdown",
   "id": "comparative-overall",
   "metadata": {},
   "source": [
    "---\n",
    "### **Data Bootcamp for Genomic Prediction in Plant Breeding** ###\n",
    "### **University of Minnesota Plant Breeding Center** ###\n",
    "#### **June 20 - 22, 2022** ####\n",
    "---"
   ]
  },
  {
   "cell_type": "markdown",
   "id": "desperate-pillow",
   "metadata": {},
   "source": [
    "### **Practical 4: Multitrait Genomic Prediction** ###"
   ]
  },
  {
   "cell_type": "markdown",
   "id": "according-movie",
   "metadata": {},
   "source": [
    "<br />\n",
    "<br />"
   ]
  },
  {
   "cell_type": "markdown",
   "id": "fourth-attempt",
   "metadata": {},
   "source": [
    "#### **Source Scripts and Load Data**\n"
   ]
  },
  {
   "cell_type": "code",
   "execution_count": 6,
   "id": "substantial-hungarian",
   "metadata": {},
   "outputs": [
    {
     "name": "stderr",
     "output_type": "stream",
     "text": [
      "\n",
      "Attaching package: 'dplyr'\n",
      "\n",
      "\n",
      "The following objects are masked from 'package:stats':\n",
      "\n",
      "    filter, lag\n",
      "\n",
      "\n",
      "The following objects are masked from 'package:base':\n",
      "\n",
      "    intersect, setdiff, setequal, union\n",
      "\n",
      "\n",
      "\n",
      "   *****       ***   vcfR   ***       *****\n",
      "   This is vcfR 1.12.0 \n",
      "     browseVignettes('vcfR') # Documentation\n",
      "     citation('vcfR') # Citation\n",
      "   *****       *****      *****       *****\n",
      "\n",
      "\n",
      "\n",
      "Attaching package: 'bWGR'\n",
      "\n",
      "\n",
      "The following objects are masked from 'package:NAM':\n",
      "\n",
      "    CNT, GAU, GRM, IMP, KMUP, KMUP2, SPC, SPM, emBA, emBB, emBC, emBL,\n",
      "    emCV, emDE, emEN, emGWA, emML, emML2, emRR, markov, mkr, mkr2X,\n",
      "    mrr, mrr2X, mrrFast, wgr\n",
      "\n",
      "\n",
      "\n",
      "Attaching package: 'emoa'\n",
      "\n",
      "\n",
      "The following object is masked from 'package:dplyr':\n",
      "\n",
      "    coalesce\n",
      "\n",
      "\n",
      "\n",
      "Attaching package: 'MASS'\n",
      "\n",
      "\n",
      "The following object is masked from 'package:dplyr':\n",
      "\n",
      "    select\n",
      "\n",
      "\n",
      "\n",
      "Attaching package: 'sommer'\n",
      "\n",
      "\n",
      "The following objects are masked from 'package:rrBLUP':\n",
      "\n",
      "    A.mat, GWAS\n",
      "\n",
      "\n",
      "Welcome to rTASSEL (version 0.9.26)\n",
      " <U+2022> Consider starting a TASSEL log file (see ?startLogger())\n",
      "\n",
      "\n"
     ]
    },
    {
     "data": {
      "text/html": [
       "<table class=\"dataframe\">\n",
       "<caption>A matrix: 2 × 6 of type dbl</caption>\n",
       "<thead>\n",
       "\t<tr><th></th><th scope=col>used</th><th scope=col>(Mb)</th><th scope=col>gc trigger</th><th scope=col>(Mb)</th><th scope=col>max used</th><th scope=col>(Mb)</th></tr>\n",
       "</thead>\n",
       "<tbody>\n",
       "\t<tr><th scope=row>Ncells</th><td> 5804502</td><td>310.0</td><td> 8802824</td><td>470.2</td><td> 6426122</td><td>343.2</td></tr>\n",
       "\t<tr><th scope=row>Vcells</th><td>10019363</td><td> 76.5</td><td>15504737</td><td>118.3</td><td>12851603</td><td> 98.1</td></tr>\n",
       "</tbody>\n",
       "</table>\n"
      ],
      "text/latex": [
       "A matrix: 2 × 6 of type dbl\n",
       "\\begin{tabular}{r|llllll}\n",
       "  & used & (Mb) & gc trigger & (Mb) & max used & (Mb)\\\\\n",
       "\\hline\n",
       "\tNcells &  5804502 & 310.0 &  8802824 & 470.2 &  6426122 & 343.2\\\\\n",
       "\tVcells & 10019363 &  76.5 & 15504737 & 118.3 & 12851603 &  98.1\\\\\n",
       "\\end{tabular}\n"
      ],
      "text/markdown": [
       "\n",
       "A matrix: 2 × 6 of type dbl\n",
       "\n",
       "| <!--/--> | used | (Mb) | gc trigger | (Mb) | max used | (Mb) |\n",
       "|---|---|---|---|---|---|---|\n",
       "| Ncells |  5804502 | 310.0 |  8802824 | 470.2 |  6426122 | 343.2 |\n",
       "| Vcells | 10019363 |  76.5 | 15504737 | 118.3 | 12851603 |  98.1 |\n",
       "\n"
      ],
      "text/plain": [
       "       used     (Mb)  gc trigger (Mb)  max used (Mb) \n",
       "Ncells  5804502 310.0  8802824   470.2  6426122 343.2\n",
       "Vcells 10019363  76.5 15504737   118.3 12851603  98.1"
      ]
     },
     "metadata": {},
     "output_type": "display_data"
    }
   ],
   "source": [
    "WorkDir <- getwd()\n",
    "setwd(WorkDir)\n",
    "\n",
    "##Source in functions to be used\n",
    "source(\"R_Functions/GS_Pipeline_Jan_2022_FnsApp.R\")\n",
    "source(\"R_Functions/bootcamp_functions.R\")\n",
    "gc()\n"
   ]
  },
  {
   "cell_type": "markdown",
   "id": "grand-mainstream",
   "metadata": {},
   "source": [
    "#### **Read Genotype File using vcfR** ####"
   ]
  },
  {
   "cell_type": "code",
   "execution_count": 7,
   "id": "single-graphic",
   "metadata": {},
   "outputs": [
    {
     "data": {
      "text/plain": [
       "***** Object of Class vcfR *****\n",
       "5189 samples\n",
       "20 CHROMs\n",
       "4,292 variants\n",
       "Object size: 171.1 Mb\n",
       "25.41 percent missing data\n",
       "*****        *****         *****"
      ]
     },
     "metadata": {},
     "output_type": "display_data"
    }
   ],
   "source": [
    "\n",
    "##Load in genotype data. Use package vcfR to read in and work with vcf file.\n",
    "infileVCF <- \"Data/SoyNAM_Geno.vcf\"\n",
    "genotypes_VCF <- read.table(infileVCF)\n",
    "vcf <- read.vcfR(infileVCF, verbose = FALSE)\n",
    "vcf"
   ]
  },
  {
   "cell_type": "markdown",
   "id": "flush-evening",
   "metadata": {},
   "source": [
    "\n",
    "#### **Convert VCF file format to numerical matrix format.**\n",
    "#### Final genotype matrix is geno_num"
   ]
  },
  {
   "cell_type": "code",
   "execution_count": 6,
   "id": "progressive-teens",
   "metadata": {},
   "outputs": [
    {
     "data": {
      "text/html": [
       "<style>\n",
       ".list-inline {list-style: none; margin:0; padding: 0}\n",
       ".list-inline>li {display: inline-block}\n",
       ".list-inline>li:not(:last-child)::after {content: \"\\00b7\"; padding: 0 .5ex}\n",
       "</style>\n",
       "<ol class=list-inline><li>5189</li><li>4292</li></ol>\n"
      ],
      "text/latex": [
       "\\begin{enumerate*}\n",
       "\\item 5189\n",
       "\\item 4292\n",
       "\\end{enumerate*}\n"
      ],
      "text/markdown": [
       "1. 5189\n",
       "2. 4292\n",
       "\n",
       "\n"
      ],
      "text/plain": [
       "[1] 5189 4292"
      ]
     },
     "metadata": {},
     "output_type": "display_data"
    }
   ],
   "source": [
    "gt <- extract.gt(vcf, element = \"GT\", as.numeric = F)\n",
    "fix_T <- as_tibble(getFIX(vcf))\n",
    "gt2 <- matrix(0, ncol = ncol(gt), nrow = nrow(gt))\n",
    "colnames(gt2) <- colnames(gt)\n",
    "rownames(gt2) <- rownames(gt)\n",
    "gt2a <- apply(gt,2, function(x) gsub(\"1/1\",\"1\",x))\n",
    "gt2b <- gsub(\"0[/|]0\",\"0\",gt2a)\n",
    "gt2c <- gsub(\"[10][/|][10]\",\"0.5\",gt2b)\n",
    "gt2d <- gsub(\"\\\\.[/|]\\\\.\",\"NA\",gt2c)\n",
    "\n",
    "gt2d_num<- apply(gt2d,2,as.numeric)\n",
    "rownames(gt2d_num)<- rownames(gt2d)\n",
    "geno_num <- t(gt2d_num)\n",
    "dim(geno_num)\n",
    "rm(list=grep(\"gt2\",ls(),value=TRUE))\n"
   ]
  },
  {
   "cell_type": "markdown",
   "id": "conditional-retro",
   "metadata": {},
   "source": [
    "#### **Filter Genotypic Data**"
   ]
  },
  {
   "cell_type": "code",
   "execution_count": 4,
   "id": "peaceful-assist",
   "metadata": {},
   "outputs": [
    {
     "data": {
      "text/html": [
       "<style>\n",
       ".list-inline {list-style: none; margin:0; padding: 0}\n",
       ".list-inline>li {display: inline-block}\n",
       ".list-inline>li:not(:last-child)::after {content: \"\\00b7\"; padding: 0 .5ex}\n",
       "</style>\n",
       "<ol class=list-inline><li>5189</li><li>1428</li></ol>\n"
      ],
      "text/latex": [
       "\\begin{enumerate*}\n",
       "\\item 5189\n",
       "\\item 1428\n",
       "\\end{enumerate*}\n"
      ],
      "text/markdown": [
       "1. 5189\n",
       "2. 1428\n",
       "\n",
       "\n"
      ],
      "text/plain": [
       "[1] 5189 1428"
      ]
     },
     "metadata": {},
     "output_type": "display_data"
    }
   ],
   "source": [
    "##Filter markers on % missing\n",
    "miss <- function(x){length(which(is.na(x)))}\n",
    "mrkNA <- (apply(geno_num, MARGIN=2, FUN=miss))/dim(geno_num)[1]\n",
    "ndx <- which(mrkNA > 0.2)\n",
    "\n",
    "if (length(ndx)>0) geno_num2 <- geno_num[, -ndx] else geno_num2 <- geno_num\n",
    "\n",
    "##Filter individuals on % missing\n",
    "indNA <- (apply(geno_num2, MARGIN=1, FUN=miss))/dim(geno_num2)[2]\n",
    "ndx2 <- which(indNA > 0.5)\n",
    "\n",
    " if(length(ndx2)>0) geno_num3 <- geno_num2[-ndx2, ] else geno_num3 <- geno_num2\n",
    "\n",
    "\n",
    "##Filter markers based on MAF\n",
    "maf <- apply(geno_num3, MARGIN=2, FUN=mean, na.rm=T)\n",
    "ndx3 <- which(maf<0.05 | maf>0.95) \n",
    "\n",
    "if (length(ndx3)>0) geno_num4 <- geno_num2[, -ndx3] else geno_num4 <- geno_num3\n",
    "  \n",
    "dim(geno_num4)"
   ]
  },
  {
   "cell_type": "markdown",
   "id": "electoral-refrigerator",
   "metadata": {},
   "source": [
    "#### **Import Phenotypic Data and Merge Geno-Pheno Data**"
   ]
  },
  {
   "cell_type": "code",
   "execution_count": 5,
   "id": "whole-thing",
   "metadata": {},
   "outputs": [
    {
     "data": {
      "text/html": [
       "55981"
      ],
      "text/latex": [
       "55981"
      ],
      "text/markdown": [
       "55981"
      ],
      "text/plain": [
       "[1] 55981"
      ]
     },
     "metadata": {},
     "output_type": "display_data"
    },
    {
     "data": {
      "text/html": [
       "<style>\n",
       ".list-inline {list-style: none; margin:0; padding: 0}\n",
       ".list-inline>li {display: inline-block}\n",
       ".list-inline>li:not(:last-child)::after {content: \"\\00b7\"; padding: 0 .5ex}\n",
       "</style>\n",
       "<ol class=list-inline><li>5148</li><li>1429</li></ol>\n"
      ],
      "text/latex": [
       "\\begin{enumerate*}\n",
       "\\item 5148\n",
       "\\item 1429\n",
       "\\end{enumerate*}\n"
      ],
      "text/markdown": [
       "1. 5148\n",
       "2. 1429\n",
       "\n",
       "\n"
      ],
      "text/plain": [
       "[1] 5148 1429"
      ]
     },
     "metadata": {},
     "output_type": "display_data"
    }
   ],
   "source": [
    "\n",
    "#pheno <- read.csv(\"Data/SoyNAM_Pheno.csv\")\n",
    "\n",
    "pheno <- read.csv(\"Data/SoyNAM_simPheno.csv\")\n",
    "\n",
    "geno_num4_x <- cbind(rownames(geno_num4),geno_num4)\n",
    "colnames(geno_num4_x)[1]<- \"strain\"\n",
    "\n",
    "### Check strain names have same format in pheno and geno \n",
    "pheno[,1] <- gsub(\"[-.]\",\"\",pheno[,1])\n",
    "geno_num4_x[,1] <- gsub(\"[-.]\",\"\",geno_num4_x[,1])\n",
    "\n",
    "## Merge Geno and Pheno Data\n",
    "Data <- merge(geno_num4_x,pheno,by=\"strain\",all=TRUE)\n",
    "\n",
    "## Remove with missing yiled_blup values \n",
    "\n",
    "YldNA_Indices <- which(is.na(Data$yield))\n",
    "if(length(YldNA_Indices) >0){Data_Sub <- Data[-YldNA_Indices,]}else{Data_Sub <- Data}\n",
    "\n",
    "\n",
    "genoStrain <- unique(as.character(geno_num4_x[,\"strain\"]))\n",
    "\n",
    "genoStrainIndices <- which(Data_Sub[,\"strain\"] %in% genoStrain)\n",
    "length(genoStrainIndices)\n",
    "genoIndices <- grep(\"ss\",colnames(geno_num4_x))\n",
    "initGenoIndx <- genoIndices[1]\n",
    "finalGenoIndx <- genoIndices[length(genoIndices)]\n",
    "phenoIndices <- c(1,c((finalGenoIndx+1):ncol(Data_Sub)))\n",
    "\n",
    "pheno_sub <- Data_Sub[genoStrainIndices,phenoIndices]\n",
    "geno_num4b <- Data_Sub[genoStrainIndices,c(1,genoIndices)]\n",
    "\n",
    "\n",
    "uniqueStrainIndices<- which(!duplicated(geno_num4b[,\"strain\"]))\n",
    "\n",
    "if(length(uniqueStrainIndices)>0) {geno_num5 <- geno_num4b[uniqueStrainIndices,]}else{geno_num5 <- geno_num4b}\n",
    "\n",
    "dim(geno_num5)\n",
    "\n",
    "rm(geno_num4b)\n",
    "rm(geno_num4)\n",
    "rm(geno_num3)\n",
    "rm(geno_num2)\n",
    "\n",
    "### set 'yield' colname to 'Yield_blup'\n",
    "\n",
    "yldCol <- which(colnames(pheno_sub) %in% \"yield\")\n",
    "colnames(pheno_sub)[yldCol] <- \"Yield_blup\" \n",
    "\n"
   ]
  },
  {
   "cell_type": "markdown",
   "id": "institutional-judge",
   "metadata": {},
   "source": [
    "#### **Impute Genotype Table** ###"
   ]
  },
  {
   "cell_type": "code",
   "execution_count": 7,
   "id": "assisted-medicare",
   "metadata": {},
   "outputs": [
    {
     "data": {
      "text/html": [
       "<style>\n",
       ".list-inline {list-style: none; margin:0; padding: 0}\n",
       ".list-inline>li {display: inline-block}\n",
       ".list-inline>li:not(:last-child)::after {content: \"\\00b7\"; padding: 0 .5ex}\n",
       "</style>\n",
       "<ol class=list-inline><li>5148</li><li>1428</li></ol>\n"
      ],
      "text/latex": [
       "\\begin{enumerate*}\n",
       "\\item 5148\n",
       "\\item 1428\n",
       "\\end{enumerate*}\n"
      ],
      "text/markdown": [
       "1. 5148\n",
       "2. 1428\n",
       "\n",
       "\n"
      ],
      "text/plain": [
       "[1] 5148 1428"
      ]
     },
     "metadata": {},
     "output_type": "display_data"
    }
   ],
   "source": [
    "#### Impute genotable using markov function from 'NAM' package \n",
    "\n",
    "geno_imp <- markov(apply(geno_num5[,-1],2,as.numeric))\n",
    "rownames(geno_imp) <- geno_num5[,\"strain\"]\n",
    "dim(geno_imp)"
   ]
  },
  {
   "cell_type": "code",
   "execution_count": 9,
   "id": "irish-healing",
   "metadata": {},
   "outputs": [
    {
     "data": {
      "text/html": [
       "<style>\n",
       ".list-inline {list-style: none; margin:0; padding: 0}\n",
       ".list-inline>li {display: inline-block}\n",
       ".list-inline>li:not(:last-child)::after {content: \"\\00b7\"; padding: 0 .5ex}\n",
       "</style>\n",
       "<ol class=list-inline><li>5145</li><li>5145</li></ol>\n"
      ],
      "text/latex": [
       "\\begin{enumerate*}\n",
       "\\item 5145\n",
       "\\item 5145\n",
       "\\end{enumerate*}\n"
      ],
      "text/markdown": [
       "1. 5145\n",
       "2. 5145\n",
       "\n",
       "\n"
      ],
      "text/plain": [
       "[1] 5145 5145"
      ]
     },
     "metadata": {},
     "output_type": "display_data"
    }
   ],
   "source": [
    "\n",
    "# Reduce the number of RILs in the dataset simply for the sake of saving time in computation for demonstration (we don't want to spend all of our time watching our computer work!)\n",
    "\n",
    "ssNdx <- sample.int(n=dim(pheno2)[1], size=5000)\n",
    "geno_imp_sub <- geno_imp[ssNdx, ]\n",
    "pheno2_sub <- pheno2[ssNdx, ]\n",
    "\n",
    "\n",
    "\n",
    "\n"
   ]
  },
  {
   "cell_type": "markdown",
   "id": "accepted-machine",
   "metadata": {},
   "source": [
    "### **Implement multi-trait genomic prediction models**\n"
   ]
  },
  {
   "cell_type": "markdown",
   "id": "mature-latitude",
   "metadata": {},
   "source": [
    "### **Use the BGLR package to implement a multi-trait prediction model**"
   ]
  },
  {
   "cell_type": "code",
   "execution_count": null,
   "id": "regular-coverage",
   "metadata": {},
   "outputs": [],
   "source": [
    "\n",
    "\n",
    "\n",
    "ETA_MT_BRR <- list(list(X=geno_imp_sub, model='BRR', probIn=.10))\n",
    "model_MT_BRR <- Multitrait(y=as.matrix(pheno2_sub[, 2:3]), ETA=ETA_MT_BRR, burnIn=1000, nIter=2000, verbose=FALSE)\n",
    "\n",
    "gebvs_MT_BRR <- model_MT_BRR$ETAHat\n",
    "\n",
    "\n",
    "\n",
    "# Multi-trait predictions, SpikeSlab in =BGLR\n",
    "\n",
    "ETA_MT_SS <- list(list(X=geno_imp_sub, model='SpikeSlab', probIn=.10))\n",
    "model_MT_SS <- Multitrait(y=as.matrix(pheno2_sub[, 2:3]), ETA=ETA_MT_SS, burnIn=1000, nIter=2000, verbose=FALSE)\n",
    "\n",
    "gebvs_MT_SS <- model_MT_SS$ETAHat\n",
    "\n",
    "\n",
    "cor(gebvs_MT_BRR[, 1], pheno2_sub$Trait1)\n",
    "cor(gebvs_MT_BRR[, 2], pheno2_sub$Trait2)\n",
    "\n",
    "\n",
    "# Single trait predictions\n",
    "\n",
    "ETA_BB <- list(list(X=geno_imp_sub, model='BRR', probIn=.10))\n",
    "modelBB <- BGLR(y=pheno2_sub$Trait1, ETA=ETA_BB, burnIn=500, nIter=2000, verbose=FALSE)\n",
    "bb_gebvs <- modelBB$yHat\n",
    "\n",
    "cor(bb_gebvs, pheno2_sub$Trait1)\n",
    "\n"
   ]
  },
  {
   "cell_type": "code",
   "execution_count": null,
   "id": "married-institute",
   "metadata": {},
   "outputs": [],
   "source": []
  },
  {
   "cell_type": "markdown",
   "id": "regular-attribute",
   "metadata": {},
   "source": [
    "### **Multi-trait prediction using the G-BLUP model execuated in SOMMER**"
   ]
  },
  {
   "cell_type": "code",
   "execution_count": null,
   "id": "scheduled-limit",
   "metadata": {},
   "outputs": [],
   "source": [
    "\n",
    "\n",
    "\n",
    "\n",
    "A.Tot <- A.mat(geno_imp_sub)\n",
    "\n",
    "rownames(A.Tot) <- rownames(geno_imp_sub) \n",
    "colnames(A.Tot) <- rownames(geno_imp_sub) \n",
    "\n",
    "trait <- c(\"Yield_blup\", \"Pro_blup\")\n",
    "\n",
    "fm3 <- mmer(as.formula(paste(\"cbind(\",paste(trait,collapse=\",\"),\")~1\",sep=\"\")),\n",
    "            random=~vs(RIL,Gu=A.Tot),\n",
    "            rcov=~units,\n",
    "            data=pheno2_sub, verbose = TRUE)\n",
    "\n",
    "fm3 <- mmer(cbind(Yield_blup, Pro_blup)~1,\n",
    "            random=~vs(RIL,Gu=A.Tot),\n",
    "            rcov=~units,\n",
    "            data=pheno2_sub, verbose = TRUE)\n",
    "\n",
    "\n"
   ]
  },
  {
   "cell_type": "markdown",
   "id": "mounted-wrapping",
   "metadata": {},
   "source": [
    "#### **Perform 10-fold cross-validation analysis and test predictive ability** "
   ]
  },
  {
   "cell_type": "code",
   "execution_count": 10,
   "id": "surprised-railway",
   "metadata": {},
   "outputs": [
    {
     "data": {
      "text/html": [
       "<style>\n",
       ".list-inline {list-style: none; margin:0; padding: 0}\n",
       ".list-inline>li {display: inline-block}\n",
       ".list-inline>li:not(:last-child)::after {content: \"\\00b7\"; padding: 0 .5ex}\n",
       "</style>\n",
       "<ol class=list-inline><li>3</li><li>3</li></ol>\n"
      ],
      "text/latex": [
       "\\begin{enumerate*}\n",
       "\\item 3\n",
       "\\item 3\n",
       "\\end{enumerate*}\n"
      ],
      "text/markdown": [
       "1. 3\n",
       "2. 3\n",
       "\n",
       "\n"
      ],
      "text/plain": [
       "[1] 3 3"
      ]
     },
     "metadata": {},
     "output_type": "display_data"
    },
    {
     "data": {
      "text/html": [
       "<style>\n",
       ".list-inline {list-style: none; margin:0; padding: 0}\n",
       ".list-inline>li {display: inline-block}\n",
       ".list-inline>li:not(:last-child)::after {content: \"\\00b7\"; padding: 0 .5ex}\n",
       "</style>\n",
       "<ol class=list-inline><li>494</li><li>494</li></ol>\n"
      ],
      "text/latex": [
       "\\begin{enumerate*}\n",
       "\\item 494\n",
       "\\item 494\n",
       "\\end{enumerate*}\n"
      ],
      "text/markdown": [
       "1. 494\n",
       "2. 494\n",
       "\n",
       "\n"
      ],
      "text/plain": [
       "[1] 494 494"
      ]
     },
     "metadata": {},
     "output_type": "display_data"
    }
   ],
   "source": [
    "\n",
    "# This works if total sample size is divisible by 10. If not, need to subset so it is.\n",
    "ndxShuf <- sample(1:dim(geno_imp_sub)[1], dim(geno_imp_sub)[1])\n",
    "\n",
    "\n",
    "pheno_shuf <- pheno2_sub[ndxShuf, ]\n",
    "geno_imp_sub_shuf <- geno_imp_sub[ndxShuf, ]\n",
    "\n",
    "cnt <- 1:floor(length(ndxShuf)/10)\n",
    "\n",
    "##Testing multi-trait model with cross-validation\n",
    "pred_mt_stor <- vector(length=length(ndxShuf))\n",
    "\n",
    "start_time <- Sys.time()\n",
    "\n",
    "for (i in 1:10){\n",
    "  pheno_trn <- pheno_shuf\n",
    "  pheno_trn[cnt, 2] <- NA\n",
    "  \n",
    "\n",
    "  ETA_MT_BRR <- list(list(X=geno_imp_sub_shuf, model='BRR', probIn=.10))\n",
    "  model_MT_BRR <- Multitrait(y=as.matrix(pheno_trn[, 2:3]), ETA=ETA_MT_BRR, burnIn=1000, nIter=2000, verbose=FALSE)\n",
    "  \n",
    "  \n",
    "  gebvs_MT_BRR <- model_MT_BRR$ETAHat\n",
    "  \n",
    "  pred_mt_stor[cnt] <- gebvs_MT_BRR[cnt, 2]\n",
    "  \n",
    "  cnt <- cnt + floor(length(ndxShuf)/10)\n",
    "}\n",
    "\n",
    "end_time <- Sys.time()\n",
    "end_time - start_time\n",
    "\n",
    "\n",
    "\n",
    "# Test single-trait predictions for point of comparison\n",
    "\n",
    "pred_st_stor <- vector(length=length(ndxShuf))\n",
    "cnt <- 1:floor(length(ndxShuf)/10)\n",
    "\n",
    "start_time <- Sys.time()\n",
    "\n",
    "for (i in 1:10){\n",
    "  pheno_trn <- pheno_shuf\n",
    "  pheno_trn[cnt, 2] <- NA\n",
    "  \n",
    "  \n",
    "  ETA_ST_BRR <- list(list(X=geno_imp_sub_shuf, model='BRR', probIn=.10))\n",
    "  model_ST_BRR <- BGLR(y=pheno_trn[, 2], ETA=ETA_ST_BRR, burnIn=1000, nIter=2000, verbose=FALSE)\n",
    "  \n",
    "  \n",
    "  gebvs_ST_BRR <- model_ST_BRR$yHat\n",
    "  \n",
    "  pred_st_stor[cnt] <- gebvs_ST_BRR[cnt]\n",
    "  \n",
    "  cnt <- cnt + floor(length(ndxShuf)/10)\n",
    "}\n",
    "\n",
    "end_time <- Sys.time()\n",
    "end_time - start_time\n",
    "\n",
    "\n",
    "# Estimate correlation between observed yield phenotypes and predicted yield from cross-validation\n",
    "\n",
    "cor(pred_stor, pheno_shuf[, 3])\n",
    "plot(pred_stor, pheno_shuf[, 3])\n",
    "\n"
   ]
  }
 ],
 "metadata": {
  "kernelspec": {
   "display_name": "R 4.1.0",
   "language": "R",
   "name": "ir410"
  },
  "language_info": {
   "codemirror_mode": "r",
   "file_extension": ".r",
   "mimetype": "text/x-r-source",
   "name": "R",
   "pygments_lexer": "r",
   "version": "4.1.0"
  }
 },
 "nbformat": 4,
 "nbformat_minor": 5
}
