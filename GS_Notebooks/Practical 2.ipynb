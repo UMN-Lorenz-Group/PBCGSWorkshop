{
 "cells": [
  {
   "cell_type": "markdown",
   "id": "correct-nebraska",
   "metadata": {},
   "source": [
    "---\n",
    "### **Data Bootcamp for Genomic Prediction in Plant Breeding** ###\n",
    "### **University of Minnesota Plant Breeding Center** ###\n",
    "#### **June 20 - 22, 2022** ####\n",
    "---"
   ]
  },
  {
   "cell_type": "markdown",
   "id": "laughing-formula",
   "metadata": {},
   "source": [
    "### **Practical 2: Genomic Prediction using Bayesian Models in BGLR** ###"
   ]
  },
  {
   "cell_type": "markdown",
   "id": "improved-updating",
   "metadata": {},
   "source": [
    "<br />\n",
    "<br />"
   ]
  },
  {
   "cell_type": "markdown",
   "id": "heavy-belfast",
   "metadata": {},
   "source": [
    "#### **Source Scripts and Load Data**\n"
   ]
  },
  {
   "cell_type": "code",
   "execution_count": 6,
   "id": "australian-vampire",
   "metadata": {},
   "outputs": [
    {
     "name": "stderr",
     "output_type": "stream",
     "text": [
      "\n",
      "Attaching package: 'dplyr'\n",
      "\n",
      "\n",
      "The following objects are masked from 'package:stats':\n",
      "\n",
      "    filter, lag\n",
      "\n",
      "\n",
      "The following objects are masked from 'package:base':\n",
      "\n",
      "    intersect, setdiff, setequal, union\n",
      "\n",
      "\n",
      "\n",
      "   *****       ***   vcfR   ***       *****\n",
      "   This is vcfR 1.12.0 \n",
      "     browseVignettes('vcfR') # Documentation\n",
      "     citation('vcfR') # Citation\n",
      "   *****       *****      *****       *****\n",
      "\n",
      "\n",
      "\n",
      "Attaching package: 'bWGR'\n",
      "\n",
      "\n",
      "The following objects are masked from 'package:NAM':\n",
      "\n",
      "    CNT, GAU, GRM, IMP, KMUP, KMUP2, SPC, SPM, emBA, emBB, emBC, emBL,\n",
      "    emCV, emDE, emEN, emGWA, emML, emML2, emRR, markov, mkr, mkr2X,\n",
      "    mrr, mrr2X, mrrFast, wgr\n",
      "\n",
      "\n",
      "\n",
      "Attaching package: 'emoa'\n",
      "\n",
      "\n",
      "The following object is masked from 'package:dplyr':\n",
      "\n",
      "    coalesce\n",
      "\n",
      "\n",
      "\n",
      "Attaching package: 'MASS'\n",
      "\n",
      "\n",
      "The following object is masked from 'package:dplyr':\n",
      "\n",
      "    select\n",
      "\n",
      "\n",
      "\n",
      "Attaching package: 'sommer'\n",
      "\n",
      "\n",
      "The following objects are masked from 'package:rrBLUP':\n",
      "\n",
      "    A.mat, GWAS\n",
      "\n",
      "\n",
      "Welcome to rTASSEL (version 0.9.26)\n",
      " <U+2022> Consider starting a TASSEL log file (see ?startLogger())\n",
      "\n",
      "\n"
     ]
    },
    {
     "data": {
      "text/html": [
       "<table class=\"dataframe\">\n",
       "<caption>A matrix: 2 × 6 of type dbl</caption>\n",
       "<thead>\n",
       "\t<tr><th></th><th scope=col>used</th><th scope=col>(Mb)</th><th scope=col>gc trigger</th><th scope=col>(Mb)</th><th scope=col>max used</th><th scope=col>(Mb)</th></tr>\n",
       "</thead>\n",
       "<tbody>\n",
       "\t<tr><th scope=row>Ncells</th><td> 5804502</td><td>310.0</td><td> 8802824</td><td>470.2</td><td> 6426122</td><td>343.2</td></tr>\n",
       "\t<tr><th scope=row>Vcells</th><td>10019363</td><td> 76.5</td><td>15504737</td><td>118.3</td><td>12851603</td><td> 98.1</td></tr>\n",
       "</tbody>\n",
       "</table>\n"
      ],
      "text/latex": [
       "A matrix: 2 × 6 of type dbl\n",
       "\\begin{tabular}{r|llllll}\n",
       "  & used & (Mb) & gc trigger & (Mb) & max used & (Mb)\\\\\n",
       "\\hline\n",
       "\tNcells &  5804502 & 310.0 &  8802824 & 470.2 &  6426122 & 343.2\\\\\n",
       "\tVcells & 10019363 &  76.5 & 15504737 & 118.3 & 12851603 &  98.1\\\\\n",
       "\\end{tabular}\n"
      ],
      "text/markdown": [
       "\n",
       "A matrix: 2 × 6 of type dbl\n",
       "\n",
       "| <!--/--> | used | (Mb) | gc trigger | (Mb) | max used | (Mb) |\n",
       "|---|---|---|---|---|---|---|\n",
       "| Ncells |  5804502 | 310.0 |  8802824 | 470.2 |  6426122 | 343.2 |\n",
       "| Vcells | 10019363 |  76.5 | 15504737 | 118.3 | 12851603 |  98.1 |\n",
       "\n"
      ],
      "text/plain": [
       "       used     (Mb)  gc trigger (Mb)  max used (Mb) \n",
       "Ncells  5804502 310.0  8802824   470.2  6426122 343.2\n",
       "Vcells 10019363  76.5 15504737   118.3 12851603  98.1"
      ]
     },
     "metadata": {},
     "output_type": "display_data"
    }
   ],
   "source": [
    "WorkDir <- getwd()\n",
    "setwd(WorkDir)\n",
    "\n",
    "##Source in functions to be used\n",
    "source(\"R_Functions/GS_Pipeline_Jan_2022_FnsApp.R\")\n",
    "source(\"R_Functions/bootcamp_functions.R\")\n",
    "gc()\n"
   ]
  },
  {
   "cell_type": "markdown",
   "id": "accurate-trace",
   "metadata": {},
   "source": [
    "#### **Read Genotype File using vcfR** ####"
   ]
  },
  {
   "cell_type": "code",
   "execution_count": 7,
   "id": "round-worker",
   "metadata": {},
   "outputs": [
    {
     "data": {
      "text/plain": [
       "***** Object of Class vcfR *****\n",
       "5189 samples\n",
       "20 CHROMs\n",
       "4,292 variants\n",
       "Object size: 171.1 Mb\n",
       "25.41 percent missing data\n",
       "*****        *****         *****"
      ]
     },
     "metadata": {},
     "output_type": "display_data"
    }
   ],
   "source": [
    "\n",
    "##Load in genotype data. Use package vcfR to read in and work with vcf file.\n",
    "infileVCF <- \"Data/SoyNAM_Geno.vcf\"\n",
    "genotypes_VCF <- read.table(infileVCF)\n",
    "vcf <- read.vcfR(infileVCF, verbose = FALSE)\n",
    "vcf"
   ]
  },
  {
   "cell_type": "markdown",
   "id": "worthy-madagascar",
   "metadata": {},
   "source": [
    "\n",
    "#### **Convert VCF file format to numerical matrix format.**\n",
    "#### Final genotype matrix is geno_num"
   ]
  },
  {
   "cell_type": "code",
   "execution_count": 6,
   "id": "historical-update",
   "metadata": {},
   "outputs": [
    {
     "data": {
      "text/html": [
       "<style>\n",
       ".list-inline {list-style: none; margin:0; padding: 0}\n",
       ".list-inline>li {display: inline-block}\n",
       ".list-inline>li:not(:last-child)::after {content: \"\\00b7\"; padding: 0 .5ex}\n",
       "</style>\n",
       "<ol class=list-inline><li>5189</li><li>4292</li></ol>\n"
      ],
      "text/latex": [
       "\\begin{enumerate*}\n",
       "\\item 5189\n",
       "\\item 4292\n",
       "\\end{enumerate*}\n"
      ],
      "text/markdown": [
       "1. 5189\n",
       "2. 4292\n",
       "\n",
       "\n"
      ],
      "text/plain": [
       "[1] 5189 4292"
      ]
     },
     "metadata": {},
     "output_type": "display_data"
    }
   ],
   "source": [
    "gt <- extract.gt(vcf, element = \"GT\", as.numeric = F)\n",
    "fix_T <- as_tibble(getFIX(vcf))\n",
    "gt2 <- matrix(0, ncol = ncol(gt), nrow = nrow(gt))\n",
    "colnames(gt2) <- colnames(gt)\n",
    "rownames(gt2) <- rownames(gt)\n",
    "gt2a <- apply(gt,2, function(x) gsub(\"1/1\",\"1\",x))\n",
    "gt2b <- gsub(\"0[/|]0\",\"0\",gt2a)\n",
    "gt2c <- gsub(\"[10][/|][10]\",\"0.5\",gt2b)\n",
    "gt2d <- gsub(\"\\\\.[/|]\\\\.\",\"NA\",gt2c)\n",
    "\n",
    "gt2d_num<- apply(gt2d,2,as.numeric)\n",
    "rownames(gt2d_num)<- rownames(gt2d)\n",
    "geno_num <- t(gt2d_num)\n",
    "dim(geno_num)\n",
    "rm(list=grep(\"gt2\",ls(),value=TRUE))\n"
   ]
  },
  {
   "cell_type": "markdown",
   "id": "premier-attempt",
   "metadata": {},
   "source": [
    "#### **Filter Genotypic Data**"
   ]
  },
  {
   "cell_type": "code",
   "execution_count": 4,
   "id": "devoted-elizabeth",
   "metadata": {},
   "outputs": [
    {
     "data": {
      "text/html": [
       "<style>\n",
       ".list-inline {list-style: none; margin:0; padding: 0}\n",
       ".list-inline>li {display: inline-block}\n",
       ".list-inline>li:not(:last-child)::after {content: \"\\00b7\"; padding: 0 .5ex}\n",
       "</style>\n",
       "<ol class=list-inline><li>5189</li><li>1428</li></ol>\n"
      ],
      "text/latex": [
       "\\begin{enumerate*}\n",
       "\\item 5189\n",
       "\\item 1428\n",
       "\\end{enumerate*}\n"
      ],
      "text/markdown": [
       "1. 5189\n",
       "2. 1428\n",
       "\n",
       "\n"
      ],
      "text/plain": [
       "[1] 5189 1428"
      ]
     },
     "metadata": {},
     "output_type": "display_data"
    }
   ],
   "source": [
    "##Filter markers on % missing\n",
    "miss <- function(x){length(which(is.na(x)))}\n",
    "mrkNA <- (apply(geno_num, MARGIN=2, FUN=miss))/dim(geno_num)[1]\n",
    "ndx <- which(mrkNA > 0.2)\n",
    "\n",
    "if (length(ndx)>0) geno_num2 <- geno_num[, -ndx] else geno_num2 <- geno_num\n",
    "\n",
    "##Filter individuals on % missing\n",
    "indNA <- (apply(geno_num2, MARGIN=1, FUN=miss))/dim(geno_num2)[2]\n",
    "ndx2 <- which(indNA > 0.5)\n",
    "\n",
    " if(length(ndx2)>0) geno_num3 <- geno_num2[-ndx2, ] else geno_num3 <- geno_num2\n",
    "\n",
    "\n",
    "##Filter markers based on MAF\n",
    "maf <- apply(geno_num3, MARGIN=2, FUN=mean, na.rm=T)\n",
    "ndx3 <- which(maf<0.05 | maf>0.95) \n",
    "\n",
    "if (length(ndx3)>0) geno_num4 <- geno_num2[, -ndx3] else geno_num4 <- geno_num3\n",
    "  \n",
    "dim(geno_num4)"
   ]
  },
  {
   "cell_type": "markdown",
   "id": "trained-halifax",
   "metadata": {},
   "source": [
    "#### **Import Phenotypic Data and Merge Geno-Pheno Data**"
   ]
  },
  {
   "cell_type": "code",
   "execution_count": 5,
   "id": "standing-clock",
   "metadata": {},
   "outputs": [
    {
     "data": {
      "text/html": [
       "55981"
      ],
      "text/latex": [
       "55981"
      ],
      "text/markdown": [
       "55981"
      ],
      "text/plain": [
       "[1] 55981"
      ]
     },
     "metadata": {},
     "output_type": "display_data"
    },
    {
     "data": {
      "text/html": [
       "<style>\n",
       ".list-inline {list-style: none; margin:0; padding: 0}\n",
       ".list-inline>li {display: inline-block}\n",
       ".list-inline>li:not(:last-child)::after {content: \"\\00b7\"; padding: 0 .5ex}\n",
       "</style>\n",
       "<ol class=list-inline><li>5148</li><li>1429</li></ol>\n"
      ],
      "text/latex": [
       "\\begin{enumerate*}\n",
       "\\item 5148\n",
       "\\item 1429\n",
       "\\end{enumerate*}\n"
      ],
      "text/markdown": [
       "1. 5148\n",
       "2. 1429\n",
       "\n",
       "\n"
      ],
      "text/plain": [
       "[1] 5148 1429"
      ]
     },
     "metadata": {},
     "output_type": "display_data"
    }
   ],
   "source": [
    "\n",
    "pheno <- read.csv(\"Data/SoyNAM_Pheno.csv\")\n",
    "\n",
    "geno_num4_x <- cbind(rownames(geno_num4),geno_num4)\n",
    "colnames(geno_num4_x)[1]<- \"strain\"\n",
    "\n",
    "### Check strain names have same format in pheno and geno \n",
    "pheno[,1] <- gsub(\"[-.]\",\"\",pheno[,1])\n",
    "geno_num4_x[,1] <- gsub(\"[-.]\",\"\",geno_num4_x[,1])\n",
    "\n",
    "## Merge Geno and Pheno Data\n",
    "Data <- merge(geno_num4_x,pheno,by=\"strain\",all=TRUE)\n",
    "\n",
    "## Remove with missing yiled_blup values \n",
    "\n",
    "YldNA_Indices <- which(is.na(Data$yield))\n",
    "if(length(YldNA_Indices) >0){Data_Sub <- Data[-YldNA_Indices,]}else{Data_Sub <- Data}\n",
    "\n",
    "\n",
    "genoStrain <- unique(as.character(geno_num4_x[,\"strain\"]))\n",
    "\n",
    "genoStrainIndices <- which(Data_Sub[,\"strain\"] %in% genoStrain)\n",
    "length(genoStrainIndices)\n",
    "genoIndices <- grep(\"ss\",colnames(geno_num4_x))\n",
    "initGenoIndx <- genoIndices[1]\n",
    "finalGenoIndx <- genoIndices[length(genoIndices)]\n",
    "phenoIndices <- c(1,c((finalGenoIndx+1):ncol(Data_Sub)))\n",
    "\n",
    "pheno_sub <- Data_Sub[genoStrainIndices,phenoIndices]\n",
    "geno_num4b <- Data_Sub[genoStrainIndices,c(1,genoIndices)]\n",
    "\n",
    "\n",
    "uniqueStrainIndices<- which(!duplicated(geno_num4b[,\"strain\"]))\n",
    "\n",
    "if(length(uniqueStrainIndices)>0) {geno_num5 <- geno_num4b[uniqueStrainIndices,]}else{geno_num5 <- geno_num4b}\n",
    "\n",
    "dim(geno_num5)\n",
    "\n",
    "rm(geno_num4b)\n",
    "rm(geno_num4)\n",
    "rm(geno_num3)\n",
    "rm(geno_num2)\n",
    "\n",
    "### set 'yield' colname to 'Yield_blup'\n",
    "\n",
    "yldCol <- which(colnames(pheno_sub) %in% \"yield\")\n",
    "colnames(pheno_sub)[yldCol] <- \"Yield_blup\" \n",
    "\n"
   ]
  },
  {
   "cell_type": "markdown",
   "id": "dependent-monthly",
   "metadata": {},
   "source": [
    "#### **Subset Environments** "
   ]
  },
  {
   "cell_type": "code",
   "execution_count": 6,
   "id": "straight-hearts",
   "metadata": {},
   "outputs": [
    {
     "data": {
      "text/html": [
       "<style>\n",
       ".list-inline {list-style: none; margin:0; padding: 0}\n",
       ".list-inline>li {display: inline-block}\n",
       ".list-inline>li:not(:last-child)::after {content: \"\\00b7\"; padding: 0 .5ex}\n",
       "</style>\n",
       "<ol class=list-inline><li>15355</li><li>16</li></ol>\n"
      ],
      "text/latex": [
       "\\begin{enumerate*}\n",
       "\\item 15355\n",
       "\\item 16\n",
       "\\end{enumerate*}\n"
      ],
      "text/markdown": [
       "1. 15355\n",
       "2. 16\n",
       "\n",
       "\n"
      ],
      "text/plain": [
       "[1] 15355    16"
      ]
     },
     "metadata": {},
     "output_type": "display_data"
    }
   ],
   "source": [
    "### Select 3 environs with largest number of evaluations (lines)  \n",
    "\n",
    "env_sub <-  names(which(table(pheno_sub[,\"environ\"])>5100)[1:3])\n",
    "\n",
    "env_sub_indices <- which(pheno_sub[,\"environ\"] %in% env_sub)\n",
    "\n",
    "## Subset Data and Geno tables \n",
    "DT <- pheno_sub[env_sub_indices,]\n",
    "\n",
    "DT$environ <- as.factor(DT$environ)\n",
    "\n",
    "dim(DT)"
   ]
  },
  {
   "cell_type": "markdown",
   "id": "covered-distinction",
   "metadata": {},
   "source": [
    "#### **Impute Genotype Table** ###"
   ]
  },
  {
   "cell_type": "code",
   "execution_count": 7,
   "id": "suburban-duncan",
   "metadata": {},
   "outputs": [
    {
     "data": {
      "text/html": [
       "<style>\n",
       ".list-inline {list-style: none; margin:0; padding: 0}\n",
       ".list-inline>li {display: inline-block}\n",
       ".list-inline>li:not(:last-child)::after {content: \"\\00b7\"; padding: 0 .5ex}\n",
       "</style>\n",
       "<ol class=list-inline><li>5148</li><li>1428</li></ol>\n"
      ],
      "text/latex": [
       "\\begin{enumerate*}\n",
       "\\item 5148\n",
       "\\item 1428\n",
       "\\end{enumerate*}\n"
      ],
      "text/markdown": [
       "1. 5148\n",
       "2. 1428\n",
       "\n",
       "\n"
      ],
      "text/plain": [
       "[1] 5148 1428"
      ]
     },
     "metadata": {},
     "output_type": "display_data"
    }
   ],
   "source": [
    "#### Impute genotable using markov function from 'NAM' package \n",
    "\n",
    "geno_imp <- markov(apply(geno_num5[,-1],2,as.numeric))\n",
    "rownames(geno_imp) <- geno_num5[,\"strain\"]\n",
    "dim(geno_imp)"
   ]
  },
  {
   "cell_type": "code",
   "execution_count": null,
   "id": "vietnamese-sleeve",
   "metadata": {},
   "outputs": [],
   "source": [
    "# Reduce the number of RILs in the dataset simply for the sake of saving time in computation for demonstration (we don't want to spend all of our time watching our computer work!)\n",
    "\n",
    "ssNdx <- sample.int(n=dim(pheno2)[1], size=5000)\n",
    "geno_imp_sub <- geno_imp[ssNdx, ]\n",
    "pheno2_sub <- pheno2[ssNdx, ]\n"
   ]
  },
  {
   "cell_type": "code",
   "execution_count": null,
   "id": "undefined-munich",
   "metadata": {},
   "outputs": [],
   "source": [
    "### BGLR model fitting ----\n",
    "# Use the BGLR package to fit various types of models. BRR = Bayesian ridge regression, BL = Bayes LASSO, BayesA, BayesB, BayesC \n"
   ]
  },
  {
   "cell_type": "code",
   "execution_count": 8,
   "id": "suspected-bread",
   "metadata": {},
   "outputs": [
    {
     "data": {
      "text/html": [
       "<style>\n",
       ".list-inline {list-style: none; margin:0; padding: 0}\n",
       ".list-inline>li {display: inline-block}\n",
       ".list-inline>li:not(:last-child)::after {content: \"\\00b7\"; padding: 0 .5ex}\n",
       "</style>\n",
       "<ol class=list-inline><li>5145</li><li>1428</li></ol>\n"
      ],
      "text/latex": [
       "\\begin{enumerate*}\n",
       "\\item 5145\n",
       "\\item 1428\n",
       "\\end{enumerate*}\n"
      ],
      "text/markdown": [
       "1. 5145\n",
       "2. 1428\n",
       "\n",
       "\n"
      ],
      "text/plain": [
       "[1] 5145 1428"
      ]
     },
     "metadata": {},
     "output_type": "display_data"
    }
   ],
   "source": [
    "# Remove some data to perform a validation analysis\n",
    "# Use line coding to identify RILs by family. \n",
    "fam <- gsub(\"...$\", \"\", rownames(geno_imp_sub))\n",
    "ndxFam <- which(fam==\"DS11-64\")\n",
    "\n",
    "pheno2_sub_trn <- pheno2_sub\n",
    "\n",
    "pheno2_sub_trn$Seedsize[ndxFam] <- NA\n",
    "\n",
    "G <- A.mat(geno_imp_sub)\n",
    "\n",
    "ETA <- list(list(K=NULL, X=geno_imp_sub, model='BayesB', probIn=.10))\n",
    "\n",
    "model_bglr <- BGLR(y=pheno2_sub_trn$Seedsize, ETA=ETA, burnIn=500, nIter=2000, verbose=FALSE)\n",
    "gebv_bglr <- model_bglr$yHat\n",
    "\n",
    "# Extract marker effect predictions from model object. Try different models, changing the name of the object storing the effect (e.g,, \"bhat_brr\") and plot them against one another on a scatter plot.\n",
    "\n",
    "bhat <- model_bglr$ETA[[1]]$b\n",
    "\n",
    "# Here is a way to make a trace plot\n",
    "plot(bhat_brr^2, ylab='Estimated squared marker effect', type='o')\n",
    "\n",
    "\n",
    "##Correlate predictions of RILs left out of the analysis, with predictions\n",
    "cor(pheno2_sub$Seedsize[ndxFam],  gebv_bglr[ndxFam])\n",
    "plot(pheno2_sub$Seedsize[ndxFam],  gebv_bglr[ndxFam])\n",
    "\n",
    "# Fit a multi-kernel model using BGLR to treat some large-effect QTL as fixed effects, and remaining QTL as random effects. QTL here were previously declared significant using a GWAS analysis. SNP positions of QTL were 1926, 829, 683, 678.\n",
    "qtl <- c(1926, 829, 683, 678)\n",
    "\n",
    "ETA_mk <- list(list(X=geno_imp_sub[, qtl], model='FIXED', probIn=.10), list(K=G, X=geno_imp_sub[, -qtl], model='RKHS', probIn=.10))\n",
    "\n",
    "model_bglr_mk <- BGLR(y=pheno2_sub_trn$Seedsize, ETA=ETA_mk, burnIn=500, nIter=2000, verbose=FALSE)\n",
    "\n",
    "gebv_bglr_mk <- model_bglr_mk$yHat\n",
    "\n",
    "cor(pheno2_sub$Seedsize[ndxFam],  gebv_bglr_mk[ndxFam])\n",
    "plot(pheno2_sub$Seedsize[ndxFam],  gebv_bglr_mk[ndxFam])\n",
    "\n",
    "\n",
    "\n",
    "\n",
    "\n"
   ]
  },
  {
   "cell_type": "raw",
   "id": "supposed-chocolate",
   "metadata": {},
   "source": []
  },
  {
   "cell_type": "markdown",
   "id": "together-fashion",
   "metadata": {},
   "source": [
    "#### **Discuss other ways to model these scenarios and refine these models**"
   ]
  }
 ],
 "metadata": {
  "kernelspec": {
   "display_name": "R 4.1.0",
   "language": "R",
   "name": "ir410"
  },
  "language_info": {
   "codemirror_mode": "r",
   "file_extension": ".r",
   "mimetype": "text/x-r-source",
   "name": "R",
   "pygments_lexer": "r",
   "version": "4.1.0"
  }
 },
 "nbformat": 4,
 "nbformat_minor": 5
}
