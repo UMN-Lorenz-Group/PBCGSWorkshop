{
 "cells": [
  {
   "cell_type": "markdown",
   "id": "unusual-gauge",
   "metadata": {},
   "source": [
    "---\n",
    "### **Data Bootcamp for Genomic Prediction in Plant Breeding** ###\n",
    "### **University of Minnesota Plant Breeding Center** ###\n",
    "#### **June 20 - 22, 2022** ####\n",
    "---"
   ]
  },
  {
   "cell_type": "markdown",
   "id": "horizontal-subscription",
   "metadata": {},
   "source": [
    "### **Practical 1:  Filtering & Imputation** ###"
   ]
  },
  {
   "cell_type": "markdown",
   "id": "absent-johns",
   "metadata": {},
   "source": [
    "<br />\n",
    "<br />"
   ]
  },
  {
   "cell_type": "markdown",
   "id": "north-filter",
   "metadata": {},
   "source": [
    "#### **Source Scripts and Load Data**\n"
   ]
  },
  {
   "cell_type": "code",
   "execution_count": null,
   "id": "constant-fighter",
   "metadata": {},
   "outputs": [],
   "source": [
    "WorkDir <- getwd()\n",
    "setwd(WorkDir)\n",
    "\n",
    "##Source in functions to be used\n",
    "source(\"R_Functions/GS_Pipeline_Jan_2022_FnsApp.R\")\n",
    "source(\"R_Functions/bootcamp_functions.R\")\n",
    "gc()\n"
   ]
  },
  {
   "cell_type": "markdown",
   "id": "meaningful-cleanup",
   "metadata": {},
   "source": [
    "#### **Read Genotype File using vcfR** ####"
   ]
  },
  {
   "cell_type": "code",
   "execution_count": null,
   "id": "colonial-funds",
   "metadata": {},
   "outputs": [],
   "source": [
    "\n",
    "##Load in genotype data. Use package vcfR to read in and work with vcf file.\n",
    "infileVCF <- \"Data/SoyNAM_Geno.vcf\"\n",
    "genotypes_VCF <- read.table(infileVCF)\n",
    "vcf <- read.vcfR(infileVCF, verbose = FALSE)\n",
    "vcf"
   ]
  },
  {
   "cell_type": "markdown",
   "id": "polished-witness",
   "metadata": {},
   "source": [
    "\n",
    "#### **Convert VCF file format to numerical matrix format.**\n",
    "#### Final genotype matrix is geno_num"
   ]
  },
  {
   "cell_type": "code",
   "execution_count": null,
   "id": "several-winner",
   "metadata": {},
   "outputs": [],
   "source": [
    "gt <- extract.gt(vcf, element = \"GT\", as.numeric = F)\n",
    "fix_T <- as_tibble(getFIX(vcf))\n",
    "gt2 <- matrix(0, ncol = ncol(gt), nrow = nrow(gt))\n",
    "colnames(gt2) <- colnames(gt)\n",
    "rownames(gt2) <- rownames(gt)\n",
    "gt2a <- apply(gt,2, function(x) gsub(\"1/1\",\"1\",x))\n",
    "gt2b <- gsub(\"0[/|]0\",\"0\",gt2a)\n",
    "gt2c <- gsub(\"[10][/|][10]\",\"0.5\",gt2b)\n",
    "gt2d <- gsub(\"\\\\.[/|]\\\\.\",\"NA\",gt2c)\n",
    "\n",
    "gt2d_num<- apply(gt2d,2,as.numeric)\n",
    "rownames(gt2d_num)<- rownames(gt2d)\n",
    "geno_num <- t(gt2d_num)\n",
    "dim(geno_num)\n",
    "rm(list=grep(\"gt2\",ls(),value=TRUE))\n"
   ]
  },
  {
   "cell_type": "markdown",
   "id": "trying-lodge",
   "metadata": {},
   "source": [
    "#### **Filter Genotypic Data**"
   ]
  },
  {
   "cell_type": "code",
   "execution_count": null,
   "id": "straight-pitch",
   "metadata": {},
   "outputs": [],
   "source": [
    "##Filter markers on % missing\n",
    "miss <- function(x){length(which(is.na(x)))}\n",
    "mrkNA <- (apply(geno_num, MARGIN=2, FUN=miss))/dim(geno_num)[1]\n",
    "ndx <- which(mrkNA > 0.2)\n",
    "\n",
    "if (length(ndx)>0) geno_num2 <- geno_num[, -ndx] else geno_num2 <- geno_num\n",
    "\n",
    "##Filter individuals on % missing\n",
    "indNA <- (apply(geno_num2, MARGIN=1, FUN=miss))/dim(geno_num2)[2]\n",
    "ndx2 <- which(indNA > 0.5)\n",
    "\n",
    " if(length(ndx2)>0) geno_num3 <- geno_num2[-ndx2, ] else geno_num3 <- geno_num2\n",
    "\n",
    "\n",
    "##Filter markers based on MAF\n",
    "maf <- apply(geno_num3, MARGIN=2, FUN=mean, na.rm=T)\n",
    "ndx3 <- which(maf<0.05 | maf>0.95) \n",
    "\n",
    "if (length(ndx3)>0) geno_num4 <- geno_num2[, -ndx3] else geno_num4 <- geno_num3\n",
    "  \n",
    "dim(geno_num4)"
   ]
  },
  {
   "cell_type": "markdown",
   "id": "consistent-league",
   "metadata": {},
   "source": [
    "#### **Import Phenotypic Data and Merge Geno-Pheno Data**"
   ]
  },
  {
   "cell_type": "code",
   "execution_count": null,
   "id": "convenient-treasure",
   "metadata": {},
   "outputs": [],
   "source": [
    "\n",
    "pheno <- read.csv(\"Data/SoyNAM_Pheno.csv\")\n",
    "\n",
    "geno_num4_x <- cbind(rownames(geno_num4),geno_num4)\n",
    "colnames(geno_num4_x)[1]<- \"strain\"\n",
    "\n",
    "### Check strain names have same format in pheno and geno \n",
    "pheno[,1] <- gsub(\"[-.]\",\"\",pheno[,1])\n",
    "geno_num4_x[,1] <- gsub(\"[-.]\",\"\",geno_num4_x[,1])\n",
    "\n",
    "## Merge Geno and Pheno Data\n",
    "Data <- merge(geno_num4_x,pheno,by=\"strain\",all=TRUE)\n",
    "\n",
    "## Remove with missing yiled_blup values \n",
    "\n",
    "YldNA_Indices <- which(is.na(Data$yield))\n",
    "if(length(YldNA_Indices) >0){Data_Sub <- Data[-YldNA_Indices,]}else{Data_Sub <- Data}\n",
    "\n",
    "\n",
    "genoStrain <- unique(as.character(geno_num4_x[,\"strain\"]))\n",
    "\n",
    "genoStrainIndices <- which(Data_Sub[,\"strain\"] %in% genoStrain)\n",
    "length(genoStrainIndices)\n",
    "genoIndices <- grep(\"ss\",colnames(geno_num4_x))\n",
    "initGenoIndx <- genoIndices[1]\n",
    "finalGenoIndx <- genoIndices[length(genoIndices)]\n",
    "phenoIndices <- c(1,c((finalGenoIndx+1):ncol(Data_Sub)))\n",
    "\n",
    "pheno_sub <- Data_Sub[genoStrainIndices,phenoIndices]\n",
    "geno_num4b <- Data_Sub[genoStrainIndices,c(1,genoIndices)]\n",
    "\n",
    "\n",
    "uniqueStrainIndices<- which(!duplicated(geno_num4b[,\"strain\"]))\n",
    "\n",
    "if(length(uniqueStrainIndices)>0) {geno_num5 <- geno_num4b[uniqueStrainIndices,]}else{geno_num5 <- geno_num4b}\n",
    "\n",
    "dim(geno_num5)\n",
    "\n",
    "rm(geno_num4b)\n",
    "rm(geno_num4)\n",
    "rm(geno_num3)\n",
    "rm(geno_num2)\n",
    "\n",
    "### set 'yield' colname to 'Yield_blup'\n",
    "\n",
    "yldCol <- which(colnames(pheno_sub) %in% \"yield\")\n",
    "colnames(pheno_sub)[yldCol] <- \"Yield_blup\" \n",
    "\n"
   ]
  },
  {
   "cell_type": "markdown",
   "id": "guilty-seven",
   "metadata": {},
   "source": [
    "#### **Impute Genotype Table** ###"
   ]
  },
  {
   "cell_type": "code",
   "execution_count": null,
   "id": "raised-member",
   "metadata": {},
   "outputs": [],
   "source": [
    "\n",
    "# Impute genotype data using either naive imputation or Markov chain implemented in the NAM package\n",
    "if (impMethod == \"naive\") geno_imp <- replaceNAwithMean(geno_num5)\n",
    "if (impMethod == \"markov\") geno_imp <- markov(apply(geno_num5[, -1], 2, as.numeric))\n",
    "if (impMethod == \"markov\") rownames(geno_imp_tst) <- rownames(geno_num5)\n"
   ]
  },
  {
   "cell_type": "code",
   "execution_count": null,
   "id": "handed-sheffield",
   "metadata": {},
   "outputs": [],
   "source": [
    "\n",
    "# Reduce the number of RILs in the dataset simply for the sake of saving time in computation for demonstration (we don't want to spend all of our time watching our computer work!)\n",
    "\n",
    "ssNdx <- sample.int(n=dim(pheno2)[1], size=1000)\n",
    "geno_imp_sub <- geno_imp[ssNdx, ]\n",
    "pheno2_sub <- pheno2[ssNdx, ]\n"
   ]
  },
  {
   "cell_type": "markdown",
   "id": "unknown-fighter",
   "metadata": {},
   "source": [
    "### **Fit some genomic prediction models to the data** \n",
    "\n"
   ]
  },
  {
   "cell_type": "code",
   "execution_count": null,
   "id": "unusual-encounter",
   "metadata": {},
   "outputs": [],
   "source": [
    "# Fit an RR-BLUP model using the rrBLUP package\n",
    "rrModel <- mixed.solve(y=pheno2_sub$Seedsize, Z=geno_imp_sub)\n",
    "mrk_effs_RR <- rrModel$u\n",
    "\n",
    "# Use marker effects to calculate genomic estimated breeding values of individuals in training set by using . Here we are extracting the intercept and adding it back on.\n",
    "int <- as.numeric(rrModel$beta)\n",
    "gebv_rr <- int + geno_imp_sub%*%mrk_effs_RR\n",
    "\n",
    "\n",
    "\n"
   ]
  },
  {
   "cell_type": "markdown",
   "id": "boxed-pattern",
   "metadata": {},
   "source": [
    "#### **GBLUP** "
   ]
  },
  {
   "cell_type": "code",
   "execution_count": null,
   "id": "imposed-evidence",
   "metadata": {},
   "outputs": [],
   "source": [
    "\n",
    "# Calculating a genomic relationship matrix using rrBLUP and fitting a G-BLUP model\n",
    "G <- A.mat(geno_imp_sub)\n",
    "\n",
    "gblupModel <- kin.blup(data=pheno2_sub, geno='RIL', pheno='Yield', K=G)\n",
    "gblupGebv <- gblupModel$g\n",
    "\n",
    "\n",
    "cor(gebv_rr, pheno2_sub$Seedsize)\n"
   ]
  },
  {
   "cell_type": "markdown",
   "id": "other-identifier",
   "metadata": {},
   "source": [
    "### **Compare GEBVs from ridge regression BLUP to G-BLUP**"
   ]
  },
  {
   "cell_type": "code",
   "execution_count": null,
   "id": "confirmed-nomination",
   "metadata": {},
   "outputs": [],
   "source": [
    "\n",
    "cor(rrGebv, gblupGebv)\n",
    "plot(rrGebv, gblupGebv)\n"
   ]
  },
  {
   "cell_type": "markdown",
   "id": "floral-volume",
   "metadata": {},
   "source": [
    "#### **Cross-validation analysis**\n",
    "#### Now extend this to perform a 10-fold cross-validation analysis\n",
    "#### This works if my total sample size is divisible by 10. If not, need to subset so it is.\n"
   ]
  },
  {
   "cell_type": "code",
   "execution_count": null,
   "id": "approximate-pound",
   "metadata": {},
   "outputs": [],
   "source": [
    "  \n",
    "ndxShuf <- sample(1:dim(geno_imp_sub)[1], dim(geno_imp_sub)[1])\n",
    "\n",
    "pheno_shuf <- pheno2_sub[ndxShuf, ]\n",
    "geno_imp_sub_shuf <- geno_imp_sub[ndxShuf, ]\n",
    "\n",
    "cnt <- 1:floor(length(ndxShuf)/10)\n",
    "\n",
    "pred_stor <- vector(length=length(ndxShuf))\n",
    "\n",
    "for (i in 1:10){\n",
    "  pheno_trn <- pheno_shuf\n",
    "  pheno_trn$Seedsize[cnt] <- NA\n",
    "  \n",
    "  rrModel <- mixed.solve(y=pheno_trn$Seedsize, Z=geno_imp_sub_shuf)\n",
    "  mrkEffsRR <- rrModel$u\n",
    "  \n",
    "  # Use marker effects to calculate genomic estimated breeding values of individuals in training set by using . Here we are extracting the intercept and adding it back on.\n",
    "  int <- as.numeric(rrModel$beta)\n",
    "  gebv_rr <- int + geno_imp_sub_shuf%*%mrkEffsRR\n",
    "  \n",
    "  \n",
    "  pred_stor[cnt] <- gebv_rr[cnt]\n",
    "  \n",
    "  cnt <- cnt + floor(length(ndxShuf)/10)\n",
    "}\n",
    "\n",
    "cor(pred_stor, pheno_shuf$Seedsize)\n",
    "\n",
    "\n",
    "\n",
    "plot(pred_stor, pheno_shuf$Yield)\n"
   ]
  },
  {
   "cell_type": "raw",
   "id": "perfect-cleanup",
   "metadata": {},
   "source": []
  },
  {
   "cell_type": "markdown",
   "id": "accredited-dayton",
   "metadata": {},
   "source": [
    "#### **Discuss other ways to model these scenarios and refine these models**"
   ]
  }
 ],
 "metadata": {
  "kernelspec": {
   "display_name": "R 4.1.0",
   "language": "R",
   "name": "ir410"
  },
  "language_info": {
   "codemirror_mode": "r",
   "file_extension": ".r",
   "mimetype": "text/x-r-source",
   "name": "R",
   "pygments_lexer": "r",
   "version": "4.1.0"
  }
 },
 "nbformat": 4,
 "nbformat_minor": 5
}
