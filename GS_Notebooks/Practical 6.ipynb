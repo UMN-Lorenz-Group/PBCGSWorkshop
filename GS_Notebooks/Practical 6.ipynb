{
 "cells": [
  {
   "cell_type": "markdown",
   "id": "theoretical-ridge",
   "metadata": {},
   "source": [
    "---\n",
    "### **Data Bootcamp for Genomic Prediction in Plant Breeding** ###\n",
    "### **University of Minnesota Plant Breeding Center** ###\n",
    "#### **June 20 - 22, 2022** ####\n",
    "---"
   ]
  },
  {
   "cell_type": "markdown",
   "id": "elementary-lounge",
   "metadata": {},
   "source": [
    "### **Practical 6: Cross Selection** ###"
   ]
  },
  {
   "cell_type": "markdown",
   "id": "wicked-mission",
   "metadata": {},
   "source": [
    "<br />\n",
    "<br />"
   ]
  },
  {
   "cell_type": "markdown",
   "id": "assigned-integral",
   "metadata": {},
   "source": [
    "#### **Source Scripts and Load Data**\n"
   ]
  },
  {
   "cell_type": "code",
   "execution_count": 6,
   "id": "aggregate-intellectual",
   "metadata": {},
   "outputs": [
    {
     "name": "stderr",
     "output_type": "stream",
     "text": [
      "\n",
      "Attaching package: 'dplyr'\n",
      "\n",
      "\n",
      "The following objects are masked from 'package:stats':\n",
      "\n",
      "    filter, lag\n",
      "\n",
      "\n",
      "The following objects are masked from 'package:base':\n",
      "\n",
      "    intersect, setdiff, setequal, union\n",
      "\n",
      "\n",
      "\n",
      "   *****       ***   vcfR   ***       *****\n",
      "   This is vcfR 1.12.0 \n",
      "     browseVignettes('vcfR') # Documentation\n",
      "     citation('vcfR') # Citation\n",
      "   *****       *****      *****       *****\n",
      "\n",
      "\n",
      "\n",
      "Attaching package: 'bWGR'\n",
      "\n",
      "\n",
      "The following objects are masked from 'package:NAM':\n",
      "\n",
      "    CNT, GAU, GRM, IMP, KMUP, KMUP2, SPC, SPM, emBA, emBB, emBC, emBL,\n",
      "    emCV, emDE, emEN, emGWA, emML, emML2, emRR, markov, mkr, mkr2X,\n",
      "    mrr, mrr2X, mrrFast, wgr\n",
      "\n",
      "\n",
      "\n",
      "Attaching package: 'emoa'\n",
      "\n",
      "\n",
      "The following object is masked from 'package:dplyr':\n",
      "\n",
      "    coalesce\n",
      "\n",
      "\n",
      "\n",
      "Attaching package: 'MASS'\n",
      "\n",
      "\n",
      "The following object is masked from 'package:dplyr':\n",
      "\n",
      "    select\n",
      "\n",
      "\n",
      "\n",
      "Attaching package: 'sommer'\n",
      "\n",
      "\n",
      "The following objects are masked from 'package:rrBLUP':\n",
      "\n",
      "    A.mat, GWAS\n",
      "\n",
      "\n",
      "Welcome to rTASSEL (version 0.9.26)\n",
      " <U+2022> Consider starting a TASSEL log file (see ?startLogger())\n",
      "\n",
      "\n"
     ]
    },
    {
     "data": {
      "text/html": [
       "<table class=\"dataframe\">\n",
       "<caption>A matrix: 2 × 6 of type dbl</caption>\n",
       "<thead>\n",
       "\t<tr><th></th><th scope=col>used</th><th scope=col>(Mb)</th><th scope=col>gc trigger</th><th scope=col>(Mb)</th><th scope=col>max used</th><th scope=col>(Mb)</th></tr>\n",
       "</thead>\n",
       "<tbody>\n",
       "\t<tr><th scope=row>Ncells</th><td> 5804502</td><td>310.0</td><td> 8802824</td><td>470.2</td><td> 6426122</td><td>343.2</td></tr>\n",
       "\t<tr><th scope=row>Vcells</th><td>10019363</td><td> 76.5</td><td>15504737</td><td>118.3</td><td>12851603</td><td> 98.1</td></tr>\n",
       "</tbody>\n",
       "</table>\n"
      ],
      "text/latex": [
       "A matrix: 2 × 6 of type dbl\n",
       "\\begin{tabular}{r|llllll}\n",
       "  & used & (Mb) & gc trigger & (Mb) & max used & (Mb)\\\\\n",
       "\\hline\n",
       "\tNcells &  5804502 & 310.0 &  8802824 & 470.2 &  6426122 & 343.2\\\\\n",
       "\tVcells & 10019363 &  76.5 & 15504737 & 118.3 & 12851603 &  98.1\\\\\n",
       "\\end{tabular}\n"
      ],
      "text/markdown": [
       "\n",
       "A matrix: 2 × 6 of type dbl\n",
       "\n",
       "| <!--/--> | used | (Mb) | gc trigger | (Mb) | max used | (Mb) |\n",
       "|---|---|---|---|---|---|---|\n",
       "| Ncells |  5804502 | 310.0 |  8802824 | 470.2 |  6426122 | 343.2 |\n",
       "| Vcells | 10019363 |  76.5 | 15504737 | 118.3 | 12851603 |  98.1 |\n",
       "\n"
      ],
      "text/plain": [
       "       used     (Mb)  gc trigger (Mb)  max used (Mb) \n",
       "Ncells  5804502 310.0  8802824   470.2  6426122 343.2\n",
       "Vcells 10019363  76.5 15504737   118.3 12851603  98.1"
      ]
     },
     "metadata": {},
     "output_type": "display_data"
    }
   ],
   "source": [
    "WorkDir <- getwd()\n",
    "setwd(WorkDir)\n",
    "\n",
    "##Source in functions to be used\n",
    "source(\"R_Functions/GS_Pipeline_Jan_2022_FnsApp.R\")\n",
    "source(\"R_Functions/bootcamp_functions.R\")\n",
    "gc()\n"
   ]
  },
  {
   "cell_type": "code",
   "execution_count": null,
   "id": "illegal-specialist",
   "metadata": {},
   "outputs": [],
   "source": [
    "\n",
    "# Import phenotypes\n",
    "pheno <- read.csv(\"barley_cross_pred_pheno.csv\")\n",
    "\n",
    "\n",
    "# Load marker data\n",
    "geno <- read.csv('barley_cross_pred_geno.csv', row.names=1)\n",
    "mrk_names <- scan(\"barley_cross_pred_geno.csv\", what='character', sep=',', nlines=1)[-1]\n",
    "colnames(geno) <- mrk_names\n",
    "\n",
    "# Load genetic map for variance prediction below\n",
    "map <- read.csv(file = \"genoForMap2.csv\", na.strings = c(\"NA\", \"#N/A\"))\n",
    "\n"
   ]
  },
  {
   "cell_type": "markdown",
   "id": "precise-grove",
   "metadata": {},
   "source": [
    "### **Manipulate, format, and impute data**"
   ]
  },
  {
   "cell_type": "code",
   "execution_count": null,
   "id": "included-definition",
   "metadata": {},
   "outputs": [],
   "source": [
    "\n",
    "# Randomly select 1000 markers to make computations faster\n",
    "ranNum <- sample.int(dim(geno)[2], 1000)\n",
    "geno2 <- geno[, ranNum]\n",
    "\n",
    "\n",
    "# Impute missing data using naive imputation\n",
    "geno_imp <- replaceNAwithMean(geno2)\n",
    "geno_imp <- round(geno_imp, 0)\n",
    "geno_imp[which(geno_imp==0)] <- -1\n",
    "\n",
    "\n",
    "# Write file back out, and read it back in, setting header as F so that column names end up being first row. \n",
    "write.csv(geno_imp, 'geno_imp.csv')\n",
    "geno_imp2 <- read.csv('geno_imp.csv', header=F)\n",
    "\n",
    "\n",
    "# Match up markers in map with marker data file\n",
    "mrkname <- geno_imp2[1, ][-1]\n",
    "ndx <- match(map$mrk, mrkname)\n",
    "ndxNa <- which(is.na(ndx))\n",
    "map2 <- map[-ndxNa, ]\n",
    "ndxNa2 <- match(mrkname, map2$mrk)\n",
    "geno_imp3 <- geno_imp2[, -(which(is.na(ndxNa2))+1)]\n",
    "map3 <- map2[order(map2$chr, map2$pos), -1]\n",
    "ndxOrd <- match(map3$mrk, geno_imp3[1, ])\n",
    "geno_imp4 <- geno_imp3[, c(1, ndxOrd)]\n"
   ]
  },
  {
   "cell_type": "markdown",
   "id": "racial-allergy",
   "metadata": {},
   "source": [
    "#### **Identify parents execute PopVar function** ####"
   ]
  },
  {
   "cell_type": "code",
   "execution_count": 6,
   "id": "contrary-mobile",
   "metadata": {},
   "outputs": [
    {
     "data": {
      "text/html": [
       "<style>\n",
       ".list-inline {list-style: none; margin:0; padding: 0}\n",
       ".list-inline>li {display: inline-block}\n",
       ".list-inline>li:not(:last-child)::after {content: \"\\00b7\"; padding: 0 .5ex}\n",
       "</style>\n",
       "<ol class=list-inline><li>5189</li><li>4292</li></ol>\n"
      ],
      "text/latex": [
       "\\begin{enumerate*}\n",
       "\\item 5189\n",
       "\\item 4292\n",
       "\\end{enumerate*}\n"
      ],
      "text/markdown": [
       "1. 5189\n",
       "2. 4292\n",
       "\n",
       "\n"
      ],
      "text/plain": [
       "[1] 5189 4292"
      ]
     },
     "metadata": {},
     "output_type": "display_data"
    }
   ],
   "source": [
    "# Identify a set of parents to predict cross combinations for. Use set of 100 arbitrarily from the middle of the set to save computation time and easier data handling.\n",
    "\n",
    "parents <- pheno$line_name[101:200]\n",
    "\n",
    "cross_table <- t(combn(parents, 2))\n",
    "colnames(cross_table) <- c(\"Par1\", \"Par2\")\n",
    "\n",
    "cross_table <- as.data.frame(cross_table)\n",
    "\n"
   ]
  },
  {
   "cell_type": "markdown",
   "id": "animal-karma",
   "metadata": {},
   "source": [
    "#### **Filter Genotypic Data**"
   ]
  },
  {
   "cell_type": "code",
   "execution_count": 4,
   "id": "environmental-vocabulary",
   "metadata": {},
   "outputs": [
    {
     "data": {
      "text/html": [
       "<style>\n",
       ".list-inline {list-style: none; margin:0; padding: 0}\n",
       ".list-inline>li {display: inline-block}\n",
       ".list-inline>li:not(:last-child)::after {content: \"\\00b7\"; padding: 0 .5ex}\n",
       "</style>\n",
       "<ol class=list-inline><li>5189</li><li>1428</li></ol>\n"
      ],
      "text/latex": [
       "\\begin{enumerate*}\n",
       "\\item 5189\n",
       "\\item 1428\n",
       "\\end{enumerate*}\n"
      ],
      "text/markdown": [
       "1. 5189\n",
       "2. 1428\n",
       "\n",
       "\n"
      ],
      "text/plain": [
       "[1] 5189 1428"
      ]
     },
     "metadata": {},
     "output_type": "display_data"
    }
   ],
   "source": [
    "\n",
    "# Call PopVar function, deterministic version\n",
    "\n",
    "pop_predict_out <- pop.predict2(G.in = geno_imp4, y.in = pheno, map.in = map3, crossing.table = cross_table)\n",
    "\n",
    "write.csv(pop_predict_out, \"pop_predict_out.csv\")\n"
   ]
  }
 ],
 "metadata": {
  "kernelspec": {
   "display_name": "R 4.1.0",
   "language": "R",
   "name": "ir410"
  },
  "language_info": {
   "codemirror_mode": "r",
   "file_extension": ".r",
   "mimetype": "text/x-r-source",
   "name": "R",
   "pygments_lexer": "r",
   "version": "4.1.0"
  }
 },
 "nbformat": 4,
 "nbformat_minor": 5
}
