{
 "cells": [
  {
   "cell_type": "markdown",
   "id": "abandoned-death",
   "metadata": {},
   "source": [
    "---\n",
    "### **Data Bootcamp for Genomic Prediction in Plant Breeding** ###\n",
    "### **University of Minnesota Plant Breeding Center** ###\n",
    "#### **June 20 - 22, 2022** ####\n",
    "---"
   ]
  },
  {
   "cell_type": "markdown",
   "id": "disturbed-simon",
   "metadata": {},
   "source": [
    "### **Practical 3:  Training Set Optimization** ###"
   ]
  },
  {
   "cell_type": "markdown",
   "id": "sublime-embassy",
   "metadata": {},
   "source": [
    "<br />\n",
    "<br />"
   ]
  },
  {
   "cell_type": "markdown",
   "id": "applicable-kansas",
   "metadata": {},
   "source": [
    "#### **Source Scripts and Load Data**\n"
   ]
  },
  {
   "cell_type": "code",
   "execution_count": 6,
   "id": "global-director",
   "metadata": {},
   "outputs": [
    {
     "name": "stderr",
     "output_type": "stream",
     "text": [
      "\n",
      "Attaching package: 'dplyr'\n",
      "\n",
      "\n",
      "The following objects are masked from 'package:stats':\n",
      "\n",
      "    filter, lag\n",
      "\n",
      "\n",
      "The following objects are masked from 'package:base':\n",
      "\n",
      "    intersect, setdiff, setequal, union\n",
      "\n",
      "\n",
      "\n",
      "   *****       ***   vcfR   ***       *****\n",
      "   This is vcfR 1.12.0 \n",
      "     browseVignettes('vcfR') # Documentation\n",
      "     citation('vcfR') # Citation\n",
      "   *****       *****      *****       *****\n",
      "\n",
      "\n",
      "\n",
      "Attaching package: 'bWGR'\n",
      "\n",
      "\n",
      "The following objects are masked from 'package:NAM':\n",
      "\n",
      "    CNT, GAU, GRM, IMP, KMUP, KMUP2, SPC, SPM, emBA, emBB, emBC, emBL,\n",
      "    emCV, emDE, emEN, emGWA, emML, emML2, emRR, markov, mkr, mkr2X,\n",
      "    mrr, mrr2X, mrrFast, wgr\n",
      "\n",
      "\n",
      "\n",
      "Attaching package: 'emoa'\n",
      "\n",
      "\n",
      "The following object is masked from 'package:dplyr':\n",
      "\n",
      "    coalesce\n",
      "\n",
      "\n",
      "\n",
      "Attaching package: 'MASS'\n",
      "\n",
      "\n",
      "The following object is masked from 'package:dplyr':\n",
      "\n",
      "    select\n",
      "\n",
      "\n",
      "\n",
      "Attaching package: 'sommer'\n",
      "\n",
      "\n",
      "The following objects are masked from 'package:rrBLUP':\n",
      "\n",
      "    A.mat, GWAS\n",
      "\n",
      "\n",
      "Welcome to rTASSEL (version 0.9.26)\n",
      " <U+2022> Consider starting a TASSEL log file (see ?startLogger())\n",
      "\n",
      "\n"
     ]
    },
    {
     "data": {
      "text/html": [
       "<table class=\"dataframe\">\n",
       "<caption>A matrix: 2 × 6 of type dbl</caption>\n",
       "<thead>\n",
       "\t<tr><th></th><th scope=col>used</th><th scope=col>(Mb)</th><th scope=col>gc trigger</th><th scope=col>(Mb)</th><th scope=col>max used</th><th scope=col>(Mb)</th></tr>\n",
       "</thead>\n",
       "<tbody>\n",
       "\t<tr><th scope=row>Ncells</th><td> 5804502</td><td>310.0</td><td> 8802824</td><td>470.2</td><td> 6426122</td><td>343.2</td></tr>\n",
       "\t<tr><th scope=row>Vcells</th><td>10019363</td><td> 76.5</td><td>15504737</td><td>118.3</td><td>12851603</td><td> 98.1</td></tr>\n",
       "</tbody>\n",
       "</table>\n"
      ],
      "text/latex": [
       "A matrix: 2 × 6 of type dbl\n",
       "\\begin{tabular}{r|llllll}\n",
       "  & used & (Mb) & gc trigger & (Mb) & max used & (Mb)\\\\\n",
       "\\hline\n",
       "\tNcells &  5804502 & 310.0 &  8802824 & 470.2 &  6426122 & 343.2\\\\\n",
       "\tVcells & 10019363 &  76.5 & 15504737 & 118.3 & 12851603 &  98.1\\\\\n",
       "\\end{tabular}\n"
      ],
      "text/markdown": [
       "\n",
       "A matrix: 2 × 6 of type dbl\n",
       "\n",
       "| <!--/--> | used | (Mb) | gc trigger | (Mb) | max used | (Mb) |\n",
       "|---|---|---|---|---|---|---|\n",
       "| Ncells |  5804502 | 310.0 |  8802824 | 470.2 |  6426122 | 343.2 |\n",
       "| Vcells | 10019363 |  76.5 | 15504737 | 118.3 | 12851603 |  98.1 |\n",
       "\n"
      ],
      "text/plain": [
       "       used     (Mb)  gc trigger (Mb)  max used (Mb) \n",
       "Ncells  5804502 310.0  8802824   470.2  6426122 343.2\n",
       "Vcells 10019363  76.5 15504737   118.3 12851603  98.1"
      ]
     },
     "metadata": {},
     "output_type": "display_data"
    }
   ],
   "source": [
    "WorkDir <- getwd()\n",
    "setwd(WorkDir)\n",
    "\n",
    "##Source in functions to be used\n",
    "source(\"R_Functions/GS_Pipeline_Jan_2022_FnsApp.R\")\n",
    "source(\"R_Functions/bootcamp_functions.R\")\n",
    "gc()\n"
   ]
  },
  {
   "cell_type": "markdown",
   "id": "employed-affiliation",
   "metadata": {},
   "source": [
    "#### **Read Genotype File using vcfR** ####"
   ]
  },
  {
   "cell_type": "code",
   "execution_count": 7,
   "id": "chronic-cruise",
   "metadata": {},
   "outputs": [
    {
     "data": {
      "text/plain": [
       "***** Object of Class vcfR *****\n",
       "5189 samples\n",
       "20 CHROMs\n",
       "4,292 variants\n",
       "Object size: 171.1 Mb\n",
       "25.41 percent missing data\n",
       "*****        *****         *****"
      ]
     },
     "metadata": {},
     "output_type": "display_data"
    }
   ],
   "source": [
    "\n",
    "# Import phenotypes from wheat dataset included as example in BGLR package\n",
    "data(wheat)\n",
    "pheno <- wheat.Y\n",
    "geno <- wheat.X\n",
    "\n",
    "pheno_means <- rowMeans(pheno)\n",
    "pheno2 <- cbind(pheno,  pheno_means)\n",
    "colnames(pheno2) <- c(\"Env1\", \"Env2\", \"Env3\", \"Env4\", \"Mean\")\n",
    "\n",
    "\n",
    "rownames(geno) <- rownames(pheno2)\n",
    "\n",
    "\n"
   ]
  },
  {
   "cell_type": "markdown",
   "id": "cognitive-leisure",
   "metadata": {},
   "source": [
    "#### **Set number of principal components for dimension reduction to select TP**"
   ]
  },
  {
   "cell_type": "code",
   "execution_count": 7,
   "id": "committed-matthew",
   "metadata": {},
   "outputs": [
    {
     "data": {
      "text/html": [
       "<style>\n",
       ".list-inline {list-style: none; margin:0; padding: 0}\n",
       ".list-inline>li {display: inline-block}\n",
       ".list-inline>li:not(:last-child)::after {content: \"\\00b7\"; padding: 0 .5ex}\n",
       "</style>\n",
       "<ol class=list-inline><li>5148</li><li>1428</li></ol>\n"
      ],
      "text/latex": [
       "\\begin{enumerate*}\n",
       "\\item 5148\n",
       "\\item 1428\n",
       "\\end{enumerate*}\n"
      ],
      "text/markdown": [
       "1. 5148\n",
       "2. 1428\n",
       "\n",
       "\n"
      ],
      "text/plain": [
       "[1] 5148 1428"
      ]
     },
     "metadata": {},
     "output_type": "display_data"
    }
   ],
   "source": [
    "#\n",
    "pcNum <- 25\n",
    "\n",
    "G <- wheat.A\n",
    "\n",
    "##Perform eigenvalue decomposition for clustering\n",
    "svdSoyNam <- svd(G, nu=pcNum, nv=pcNum)\n",
    "PCSoyNam <- G%*%svdSoyNam$v\n",
    "rownames(PCSoyNam)<-rownames(G)\n",
    "\n",
    "\n",
    "DistMaize <- dist(PCSoyNam)\n",
    "TreeMaize <- cutree(hclust(DistMaize), k=6)\n",
    "plot(PCSoyNam[,1], PCSoyNam[,2], col=TreeMaize, pch=as.character(TreeMaize), xlab=\"pc1\", ylab=\"pc2\")\n",
    "\n",
    "##Select cluster #5 as target set\n",
    "TrgtPop <- rownames(PCSoyNam)[TreeMaize==5]\n",
    "length(TrgtPop)\n",
    "\n",
    "##Define candidates as all others not in target set\n",
    "Candidates <- setdiff(rownames(PCSoyNam), TrgtPop)\n",
    "\n",
    "\n",
    "phenoTrgt <- pheno2[match(TrgtPop, rownames(pheno2)), ]\n",
    "genoTrgt <- geno[match(TrgtPop, rownames(geno)), ]\n",
    "\n",
    "phenoCand <- pheno2[match(Candidates, rownames(pheno2)), ]\n",
    "genoCand <- geno[match(Candidates, rownames(geno)), ]\n",
    "\n",
    "\n",
    "############################################\n",
    "\n"
   ]
  },
  {
   "cell_type": "code",
   "execution_count": 8,
   "id": "conservative-public",
   "metadata": {},
   "outputs": [
    {
     "data": {
      "text/html": [
       "<style>\n",
       ".list-inline {list-style: none; margin:0; padding: 0}\n",
       ".list-inline>li {display: inline-block}\n",
       ".list-inline>li:not(:last-child)::after {content: \"\\00b7\"; padding: 0 .5ex}\n",
       "</style>\n",
       "<ol class=list-inline><li>5145</li><li>1428</li></ol>\n"
      ],
      "text/latex": [
       "\\begin{enumerate*}\n",
       "\\item 5145\n",
       "\\item 1428\n",
       "\\end{enumerate*}\n"
      ],
      "text/markdown": [
       "1. 5145\n",
       "2. 1428\n",
       "\n",
       "\n"
      ],
      "text/plain": [
       "[1] 5145 1428"
      ]
     },
     "metadata": {},
     "output_type": "display_data"
    }
   ],
   "source": [
    "\n",
    "##Randomly select a population of size N from candidate set to predict target population. Use this loop to repeat this 10 times\n",
    "N <- 250\n",
    "\n",
    "\n",
    "paRandStor <- vector(length=10)\n",
    "\n",
    "for (i in 1:10){\n",
    "  \n",
    "  rnd <- sample(1:dim(phenoCand)[1], N)\n",
    "  phenoCandRnd <- phenoCand[rnd, ]\n",
    "  genoCandRnd <- genoCand[rnd, ]\n",
    "  \n",
    "  ##Train RR-BLUP model using randomly selected training set and predict target population.\n",
    "  rrModelRnd <- mixed.solve(y=phenoCandRnd[, 1], Z=genoCandRnd)\n",
    "  \n",
    "  mrkEffsRR_rnd <- rrModelRnd$u\n",
    "  \n",
    "  ##Use marker effects to calculate genomic estimated breeding values of individuals in training set. Here we are extracting the intercept and adding it back on.\n",
    "  int <- as.numeric(rrModelRnd$beta)\n",
    "  rrGebvTrgt_Rnd <- int + genoTrgt%*%mrkEffsRR_rnd\n",
    "  \n",
    "  paRandStor[i] <- cor(rrGebvTrgt_Rnd, phenoTrgt[, 1])\n",
    "  \n",
    "}\n",
    "\n",
    "\n",
    "\n",
    "##Now, use an optimization algorithm to select the most informative training set\n",
    "paOptStor <- vector(length=10)\n",
    "\n",
    "start_time <- Sys.time()\n",
    "\n",
    "\n",
    "for (i in 1:10){\n",
    "  trainOpt <- GenAlgForSubsetSelection(P=PCSoyNam, Candidates=rownames(genoCand), Test=rownames(genoTrgt), ntoselect=N, mc.cores=4, niterations=50, errorstat=\"CDMEAN\")\n",
    "  \n",
    "  \n",
    "  ndx <- match(trainOpt$'Solution with rank 1', rownames(phenoCand))\n",
    "  \n",
    "  phenoOpt <- phenoCand[ndx, ]\n",
    "  genoOpt <- genoCand[ndx, ]\n",
    "  \n",
    "  \n",
    "  ##Now estimate marker effects using rrBLUP package and make predictions in test set\n",
    "  rrModelOpt <- mixed.solve(y=phenoOpt[, 1], Z=genoOpt)\n",
    "  \n",
    "  mrkEffsRR_opt <- rrModelOpt$u\n",
    "  \n",
    "  ##Use marker effects to calculate genomic estimated breeding values of individuals in training set. Here we are extracting the intercept and adding it back on.\n",
    "  int <- as.numeric(rrModelOpt$beta)\n",
    "  rrGebvOpt <- int + genoTrgt%*%mrkEffsRR_opt\n",
    "  \n",
    "  paOptStor[i] <- cor(rrGebvOpt, phenoTrgt[, 1])\n",
    "  print(paste(\"completed repetition\", i, sep=\" \"))\n",
    "}\n",
    "\n",
    "end_time <- Sys.time()\n",
    "\n",
    "end_time - start_time\n",
    "\n",
    "\n",
    "mean(paRandStor)\n",
    "mean(paOptStor)\n",
    "\n",
    "paMat <- cbind(paRandStor, paOptStor)\n",
    "colnames(paMat) <- c(\"Rand TP Pred Acc\", \"Opt TP Pred Acc\")\n",
    "\n",
    "boxplot(paMat)\n"
   ]
  },
  {
   "cell_type": "raw",
   "id": "differential-athletics",
   "metadata": {},
   "source": []
  },
  {
   "cell_type": "raw",
   "id": "dominican-services",
   "metadata": {},
   "source": []
  },
  {
   "cell_type": "markdown",
   "id": "controlling-trance",
   "metadata": {},
   "source": []
  }
 ],
 "metadata": {
  "kernelspec": {
   "display_name": "R 4.1.0",
   "language": "R",
   "name": "ir410"
  },
  "language_info": {
   "codemirror_mode": "r",
   "file_extension": ".r",
   "mimetype": "text/x-r-source",
   "name": "R",
   "pygments_lexer": "r",
   "version": "4.1.0"
  }
 },
 "nbformat": 4,
 "nbformat_minor": 5
}
